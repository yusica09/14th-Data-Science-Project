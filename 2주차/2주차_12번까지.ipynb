{
  "cells": [
    {
      "cell_type": "markdown",
      "id": "7d54864f",
      "metadata": {
        "id": "7d54864f"
      },
      "source": [
        "## Exploratory Data Analysis"
      ]
    },
    {
      "cell_type": "markdown",
      "id": "b2c112da",
      "metadata": {
        "id": "b2c112da"
      },
      "source": [
        "## 피마인디언 당뇨병 데이터\n",
        "\n",
        "* 캐글에서 제공하는 피마인디언 당뇨병 데이터 사용"
      ]
    },
    {
      "cell_type": "markdown",
      "id": "d7c8fb20",
      "metadata": {
        "id": "d7c8fb20"
      },
      "source": [
        "### 당뇨셋 데이터 구성\n",
        "\n",
        "* Pregnancies : 임신 횟수\n",
        "* Glucose : 2시간 동안의 경구 포도당 내성 검사에서 혈장 포도당 농도\n",
        "* BloodPressure : 이완기 혈압 (mm Hg)\n",
        "* SkinThickness : 삼두근 피부 주름 두께 (mm), 체지방을 추정하는데 사용되는 값\n",
        "* Insulin : 2시간 혈청 인슐린 (mu U / ml)\n",
        "* BMI : 체질량 지수 (체중kg / 키(m)^2)\n",
        "* DiabetesPedigreeFunction : 당뇨병 혈통 기능\n",
        "* Age : 나이\n",
        "* Outcome : 768개 중에 268개의 결과 클래스 변수(0 또는 1)는 1이고 나머지는 0입니다."
      ]
    },
    {
      "cell_type": "markdown",
      "id": "dd4f8237",
      "metadata": {
        "id": "dd4f8237"
      },
      "source": [
        "## 라이브러리 로드"
      ]
    },
    {
      "cell_type": "code",
      "execution_count": null,
      "id": "7375f7e3",
      "metadata": {
        "id": "7375f7e3"
      },
      "outputs": [],
      "source": [
        "import pandas as pd\n",
        "import numpy as np\n",
        "import seaborn as sns\n",
        "import matplotlib.pyplot as plt\n",
        "\n",
        "%matplotlib inline"
      ]
    },
    {
      "cell_type": "markdown",
      "id": "7d1d1200",
      "metadata": {
        "id": "7d1d1200"
      },
      "source": [
        "## 데이터 로드"
      ]
    },
    {
      "cell_type": "code",
      "execution_count": null,
      "id": "727c6cea",
      "metadata": {
        "id": "727c6cea",
        "outputId": "260c7f24-cd32-47a2-a407-eab322af0798"
      },
      "outputs": [
        {
          "data": {
            "text/plain": [
              "(768, 9)"
            ]
          },
          "execution_count": 3,
          "metadata": {},
          "output_type": "execute_result"
        }
      ],
      "source": [
        "df = pd.read_csv(\"data/diabetes.csv\")\n",
        "df.shape"
      ]
    },
    {
      "cell_type": "code",
      "execution_count": null,
      "id": "36b3b2e3",
      "metadata": {
        "id": "36b3b2e3",
        "outputId": "d3a6a57d-bac1-4d0e-b722-1832a7cf4516"
      },
      "outputs": [
        {
          "data": {
            "text/html": [
              "<div>\n",
              "<style scoped>\n",
              "    .dataframe tbody tr th:only-of-type {\n",
              "        vertical-align: middle;\n",
              "    }\n",
              "\n",
              "    .dataframe tbody tr th {\n",
              "        vertical-align: top;\n",
              "    }\n",
              "\n",
              "    .dataframe thead th {\n",
              "        text-align: right;\n",
              "    }\n",
              "</style>\n",
              "<table border=\"1\" class=\"dataframe\">\n",
              "  <thead>\n",
              "    <tr style=\"text-align: right;\">\n",
              "      <th></th>\n",
              "      <th>Pregnancies</th>\n",
              "      <th>Glucose</th>\n",
              "      <th>BloodPressure</th>\n",
              "      <th>SkinThickness</th>\n",
              "      <th>Insulin</th>\n",
              "      <th>BMI</th>\n",
              "      <th>DiabetesPedigreeFunction</th>\n",
              "      <th>Age</th>\n",
              "      <th>Outcome</th>\n",
              "    </tr>\n",
              "  </thead>\n",
              "  <tbody>\n",
              "    <tr>\n",
              "      <th>0</th>\n",
              "      <td>6</td>\n",
              "      <td>148</td>\n",
              "      <td>72</td>\n",
              "      <td>35</td>\n",
              "      <td>0</td>\n",
              "      <td>33.6</td>\n",
              "      <td>0.627</td>\n",
              "      <td>50</td>\n",
              "      <td>1</td>\n",
              "    </tr>\n",
              "    <tr>\n",
              "      <th>1</th>\n",
              "      <td>1</td>\n",
              "      <td>85</td>\n",
              "      <td>66</td>\n",
              "      <td>29</td>\n",
              "      <td>0</td>\n",
              "      <td>26.6</td>\n",
              "      <td>0.351</td>\n",
              "      <td>31</td>\n",
              "      <td>0</td>\n",
              "    </tr>\n",
              "    <tr>\n",
              "      <th>2</th>\n",
              "      <td>8</td>\n",
              "      <td>183</td>\n",
              "      <td>64</td>\n",
              "      <td>0</td>\n",
              "      <td>0</td>\n",
              "      <td>23.3</td>\n",
              "      <td>0.672</td>\n",
              "      <td>32</td>\n",
              "      <td>1</td>\n",
              "    </tr>\n",
              "    <tr>\n",
              "      <th>3</th>\n",
              "      <td>1</td>\n",
              "      <td>89</td>\n",
              "      <td>66</td>\n",
              "      <td>23</td>\n",
              "      <td>94</td>\n",
              "      <td>28.1</td>\n",
              "      <td>0.167</td>\n",
              "      <td>21</td>\n",
              "      <td>0</td>\n",
              "    </tr>\n",
              "    <tr>\n",
              "      <th>4</th>\n",
              "      <td>0</td>\n",
              "      <td>137</td>\n",
              "      <td>40</td>\n",
              "      <td>35</td>\n",
              "      <td>168</td>\n",
              "      <td>43.1</td>\n",
              "      <td>2.288</td>\n",
              "      <td>33</td>\n",
              "      <td>1</td>\n",
              "    </tr>\n",
              "  </tbody>\n",
              "</table>\n",
              "</div>"
            ],
            "text/plain": [
              "   Pregnancies  Glucose  BloodPressure  SkinThickness  Insulin   BMI  \\\n",
              "0            6      148             72             35        0  33.6   \n",
              "1            1       85             66             29        0  26.6   \n",
              "2            8      183             64              0        0  23.3   \n",
              "3            1       89             66             23       94  28.1   \n",
              "4            0      137             40             35      168  43.1   \n",
              "\n",
              "   DiabetesPedigreeFunction  Age  Outcome  \n",
              "0                     0.627   50        1  \n",
              "1                     0.351   31        0  \n",
              "2                     0.672   32        1  \n",
              "3                     0.167   21        0  \n",
              "4                     2.288   33        1  "
            ]
          },
          "execution_count": 4,
          "metadata": {},
          "output_type": "execute_result"
        }
      ],
      "source": [
        "df.head()"
      ]
    },
    {
      "cell_type": "code",
      "execution_count": null,
      "id": "e6d928b3",
      "metadata": {
        "id": "e6d928b3",
        "outputId": "bbd4c8b0-3dc1-408e-be9a-c2f8a7f54725"
      },
      "outputs": [
        {
          "name": "stdout",
          "output_type": "stream",
          "text": [
            "<class 'pandas.core.frame.DataFrame'>\n",
            "RangeIndex: 768 entries, 0 to 767\n",
            "Data columns (total 9 columns):\n",
            " #   Column                    Non-Null Count  Dtype  \n",
            "---  ------                    --------------  -----  \n",
            " 0   Pregnancies               768 non-null    int64  \n",
            " 1   Glucose                   768 non-null    int64  \n",
            " 2   BloodPressure             768 non-null    int64  \n",
            " 3   SkinThickness             768 non-null    int64  \n",
            " 4   Insulin                   768 non-null    int64  \n",
            " 5   BMI                       768 non-null    float64\n",
            " 6   DiabetesPedigreeFunction  768 non-null    float64\n",
            " 7   Age                       768 non-null    int64  \n",
            " 8   Outcome                   768 non-null    int64  \n",
            "dtypes: float64(2), int64(7)\n",
            "memory usage: 54.1 KB\n"
          ]
        }
      ],
      "source": [
        "# info로 데이터타입, 결측치, 메모리 사용량 등의 정보 보기\n",
        "df.info()"
      ]
    },
    {
      "cell_type": "code",
      "execution_count": null,
      "id": "668a1770",
      "metadata": {
        "id": "668a1770",
        "outputId": "f48a7f8d-71d6-4a90-fac3-dec500c55dca"
      },
      "outputs": [
        {
          "data": {
            "text/html": [
              "<div>\n",
              "<style scoped>\n",
              "    .dataframe tbody tr th:only-of-type {\n",
              "        vertical-align: middle;\n",
              "    }\n",
              "\n",
              "    .dataframe tbody tr th {\n",
              "        vertical-align: top;\n",
              "    }\n",
              "\n",
              "    .dataframe thead th {\n",
              "        text-align: right;\n",
              "    }\n",
              "</style>\n",
              "<table border=\"1\" class=\"dataframe\">\n",
              "  <thead>\n",
              "    <tr style=\"text-align: right;\">\n",
              "      <th></th>\n",
              "      <th>Pregnancies</th>\n",
              "      <th>Glucose</th>\n",
              "      <th>BloodPressure</th>\n",
              "      <th>SkinThickness</th>\n",
              "      <th>Insulin</th>\n",
              "      <th>BMI</th>\n",
              "      <th>DiabetesPedigreeFunction</th>\n",
              "      <th>Age</th>\n",
              "      <th>Outcome</th>\n",
              "    </tr>\n",
              "  </thead>\n",
              "  <tbody>\n",
              "    <tr>\n",
              "      <th>0</th>\n",
              "      <td>False</td>\n",
              "      <td>False</td>\n",
              "      <td>False</td>\n",
              "      <td>False</td>\n",
              "      <td>False</td>\n",
              "      <td>False</td>\n",
              "      <td>False</td>\n",
              "      <td>False</td>\n",
              "      <td>False</td>\n",
              "    </tr>\n",
              "    <tr>\n",
              "      <th>1</th>\n",
              "      <td>False</td>\n",
              "      <td>False</td>\n",
              "      <td>False</td>\n",
              "      <td>False</td>\n",
              "      <td>False</td>\n",
              "      <td>False</td>\n",
              "      <td>False</td>\n",
              "      <td>False</td>\n",
              "      <td>False</td>\n",
              "    </tr>\n",
              "    <tr>\n",
              "      <th>2</th>\n",
              "      <td>False</td>\n",
              "      <td>False</td>\n",
              "      <td>False</td>\n",
              "      <td>False</td>\n",
              "      <td>False</td>\n",
              "      <td>False</td>\n",
              "      <td>False</td>\n",
              "      <td>False</td>\n",
              "      <td>False</td>\n",
              "    </tr>\n",
              "    <tr>\n",
              "      <th>3</th>\n",
              "      <td>False</td>\n",
              "      <td>False</td>\n",
              "      <td>False</td>\n",
              "      <td>False</td>\n",
              "      <td>False</td>\n",
              "      <td>False</td>\n",
              "      <td>False</td>\n",
              "      <td>False</td>\n",
              "      <td>False</td>\n",
              "    </tr>\n",
              "    <tr>\n",
              "      <th>4</th>\n",
              "      <td>False</td>\n",
              "      <td>False</td>\n",
              "      <td>False</td>\n",
              "      <td>False</td>\n",
              "      <td>False</td>\n",
              "      <td>False</td>\n",
              "      <td>False</td>\n",
              "      <td>False</td>\n",
              "      <td>False</td>\n",
              "    </tr>\n",
              "  </tbody>\n",
              "</table>\n",
              "</div>"
            ],
            "text/plain": [
              "   Pregnancies  Glucose  BloodPressure  SkinThickness  Insulin    BMI  \\\n",
              "0        False    False          False          False    False  False   \n",
              "1        False    False          False          False    False  False   \n",
              "2        False    False          False          False    False  False   \n",
              "3        False    False          False          False    False  False   \n",
              "4        False    False          False          False    False  False   \n",
              "\n",
              "   DiabetesPedigreeFunction    Age  Outcome  \n",
              "0                     False  False    False  \n",
              "1                     False  False    False  \n",
              "2                     False  False    False  \n",
              "3                     False  False    False  \n",
              "4                     False  False    False  "
            ]
          },
          "execution_count": 8,
          "metadata": {},
          "output_type": "execute_result"
        }
      ],
      "source": [
        "# 결측치 보기\n",
        "df_null = df.isnull()\n",
        "df_null.head()"
      ]
    },
    {
      "cell_type": "code",
      "execution_count": null,
      "id": "740be142",
      "metadata": {
        "id": "740be142",
        "outputId": "33f5973a-69cf-4e3c-cbad-bdff888e55d7"
      },
      "outputs": [
        {
          "data": {
            "text/plain": [
              "Pregnancies                 0\n",
              "Glucose                     0\n",
              "BloodPressure               0\n",
              "SkinThickness               0\n",
              "Insulin                     0\n",
              "BMI                         0\n",
              "DiabetesPedigreeFunction    0\n",
              "Age                         0\n",
              "Outcome                     0\n",
              "dtype: int64"
            ]
          },
          "execution_count": 9,
          "metadata": {},
          "output_type": "execute_result"
        }
      ],
      "source": [
        "# 결측치 총 수 보기\n",
        "df_null.sum()"
      ]
    },
    {
      "cell_type": "markdown",
      "id": "a33bde3b",
      "metadata": {
        "id": "a33bde3b"
      },
      "source": [
        "* 결측치가 없어서 위의 df_null.head() 에서 False만 나오며,\n",
        "\n",
        "    df_null.sum() 은 0이 나온다."
      ]
    },
    {
      "cell_type": "code",
      "execution_count": null,
      "id": "014324d7",
      "metadata": {
        "id": "014324d7",
        "outputId": "35135ea3-954c-4226-cdb5-c80fdd017e05"
      },
      "outputs": [
        {
          "data": {
            "text/html": [
              "<div>\n",
              "<style scoped>\n",
              "    .dataframe tbody tr th:only-of-type {\n",
              "        vertical-align: middle;\n",
              "    }\n",
              "\n",
              "    .dataframe tbody tr th {\n",
              "        vertical-align: top;\n",
              "    }\n",
              "\n",
              "    .dataframe thead th {\n",
              "        text-align: right;\n",
              "    }\n",
              "</style>\n",
              "<table border=\"1\" class=\"dataframe\">\n",
              "  <thead>\n",
              "    <tr style=\"text-align: right;\">\n",
              "      <th></th>\n",
              "      <th>Pregnancies</th>\n",
              "      <th>Glucose</th>\n",
              "      <th>BloodPressure</th>\n",
              "      <th>SkinThickness</th>\n",
              "      <th>Insulin</th>\n",
              "      <th>BMI</th>\n",
              "      <th>DiabetesPedigreeFunction</th>\n",
              "      <th>Age</th>\n",
              "      <th>Outcome</th>\n",
              "    </tr>\n",
              "  </thead>\n",
              "  <tbody>\n",
              "    <tr>\n",
              "      <th>count</th>\n",
              "      <td>768.000000</td>\n",
              "      <td>768.000000</td>\n",
              "      <td>768.000000</td>\n",
              "      <td>768.000000</td>\n",
              "      <td>768.000000</td>\n",
              "      <td>768.000000</td>\n",
              "      <td>768.000000</td>\n",
              "      <td>768.000000</td>\n",
              "      <td>768.000000</td>\n",
              "    </tr>\n",
              "    <tr>\n",
              "      <th>mean</th>\n",
              "      <td>3.845052</td>\n",
              "      <td>120.894531</td>\n",
              "      <td>69.105469</td>\n",
              "      <td>20.536458</td>\n",
              "      <td>79.799479</td>\n",
              "      <td>31.992578</td>\n",
              "      <td>0.471876</td>\n",
              "      <td>33.240885</td>\n",
              "      <td>0.348958</td>\n",
              "    </tr>\n",
              "    <tr>\n",
              "      <th>std</th>\n",
              "      <td>3.369578</td>\n",
              "      <td>31.972618</td>\n",
              "      <td>19.355807</td>\n",
              "      <td>15.952218</td>\n",
              "      <td>115.244002</td>\n",
              "      <td>7.884160</td>\n",
              "      <td>0.331329</td>\n",
              "      <td>11.760232</td>\n",
              "      <td>0.476951</td>\n",
              "    </tr>\n",
              "    <tr>\n",
              "      <th>min</th>\n",
              "      <td>0.000000</td>\n",
              "      <td>0.000000</td>\n",
              "      <td>0.000000</td>\n",
              "      <td>0.000000</td>\n",
              "      <td>0.000000</td>\n",
              "      <td>0.000000</td>\n",
              "      <td>0.078000</td>\n",
              "      <td>21.000000</td>\n",
              "      <td>0.000000</td>\n",
              "    </tr>\n",
              "    <tr>\n",
              "      <th>25%</th>\n",
              "      <td>1.000000</td>\n",
              "      <td>99.000000</td>\n",
              "      <td>62.000000</td>\n",
              "      <td>0.000000</td>\n",
              "      <td>0.000000</td>\n",
              "      <td>27.300000</td>\n",
              "      <td>0.243750</td>\n",
              "      <td>24.000000</td>\n",
              "      <td>0.000000</td>\n",
              "    </tr>\n",
              "    <tr>\n",
              "      <th>50%</th>\n",
              "      <td>3.000000</td>\n",
              "      <td>117.000000</td>\n",
              "      <td>72.000000</td>\n",
              "      <td>23.000000</td>\n",
              "      <td>30.500000</td>\n",
              "      <td>32.000000</td>\n",
              "      <td>0.372500</td>\n",
              "      <td>29.000000</td>\n",
              "      <td>0.000000</td>\n",
              "    </tr>\n",
              "    <tr>\n",
              "      <th>75%</th>\n",
              "      <td>6.000000</td>\n",
              "      <td>140.250000</td>\n",
              "      <td>80.000000</td>\n",
              "      <td>32.000000</td>\n",
              "      <td>127.250000</td>\n",
              "      <td>36.600000</td>\n",
              "      <td>0.626250</td>\n",
              "      <td>41.000000</td>\n",
              "      <td>1.000000</td>\n",
              "    </tr>\n",
              "    <tr>\n",
              "      <th>max</th>\n",
              "      <td>17.000000</td>\n",
              "      <td>199.000000</td>\n",
              "      <td>122.000000</td>\n",
              "      <td>99.000000</td>\n",
              "      <td>846.000000</td>\n",
              "      <td>67.100000</td>\n",
              "      <td>2.420000</td>\n",
              "      <td>81.000000</td>\n",
              "      <td>1.000000</td>\n",
              "    </tr>\n",
              "  </tbody>\n",
              "</table>\n",
              "</div>"
            ],
            "text/plain": [
              "       Pregnancies     Glucose  BloodPressure  SkinThickness     Insulin  \\\n",
              "count   768.000000  768.000000     768.000000     768.000000  768.000000   \n",
              "mean      3.845052  120.894531      69.105469      20.536458   79.799479   \n",
              "std       3.369578   31.972618      19.355807      15.952218  115.244002   \n",
              "min       0.000000    0.000000       0.000000       0.000000    0.000000   \n",
              "25%       1.000000   99.000000      62.000000       0.000000    0.000000   \n",
              "50%       3.000000  117.000000      72.000000      23.000000   30.500000   \n",
              "75%       6.000000  140.250000      80.000000      32.000000  127.250000   \n",
              "max      17.000000  199.000000     122.000000      99.000000  846.000000   \n",
              "\n",
              "              BMI  DiabetesPedigreeFunction         Age     Outcome  \n",
              "count  768.000000                768.000000  768.000000  768.000000  \n",
              "mean    31.992578                  0.471876   33.240885    0.348958  \n",
              "std      7.884160                  0.331329   11.760232    0.476951  \n",
              "min      0.000000                  0.078000   21.000000    0.000000  \n",
              "25%     27.300000                  0.243750   24.000000    0.000000  \n",
              "50%     32.000000                  0.372500   29.000000    0.000000  \n",
              "75%     36.600000                  0.626250   41.000000    1.000000  \n",
              "max     67.100000                  2.420000   81.000000    1.000000  "
            ]
          },
          "execution_count": 10,
          "metadata": {},
          "output_type": "execute_result"
        }
      ],
      "source": [
        "# 수치데이터에 대한 요약 보기\n",
        "\n",
        "df.describe()"
      ]
    },
    {
      "cell_type": "code",
      "execution_count": null,
      "id": "8dc1c43b",
      "metadata": {
        "id": "8dc1c43b",
        "outputId": "f48f9251-a784-4c9a-9916-b7838d707d02"
      },
      "outputs": [
        {
          "data": {
            "text/html": [
              "<div>\n",
              "<style scoped>\n",
              "    .dataframe tbody tr th:only-of-type {\n",
              "        vertical-align: middle;\n",
              "    }\n",
              "\n",
              "    .dataframe tbody tr th {\n",
              "        vertical-align: top;\n",
              "    }\n",
              "\n",
              "    .dataframe thead th {\n",
              "        text-align: right;\n",
              "    }\n",
              "</style>\n",
              "<table border=\"1\" class=\"dataframe\">\n",
              "  <thead>\n",
              "    <tr style=\"text-align: right;\">\n",
              "      <th></th>\n",
              "      <th>Pregnancies</th>\n",
              "      <th>Glucose</th>\n",
              "      <th>BloodPressure</th>\n",
              "      <th>SkinThickness</th>\n",
              "      <th>Insulin</th>\n",
              "      <th>BMI</th>\n",
              "      <th>DiabetesPedigreeFunction</th>\n",
              "      <th>Age</th>\n",
              "      <th>Outcome</th>\n",
              "    </tr>\n",
              "  </thead>\n",
              "  <tbody>\n",
              "    <tr>\n",
              "      <th>count</th>\n",
              "      <td>768.000000</td>\n",
              "      <td>768.000000</td>\n",
              "      <td>768.000000</td>\n",
              "      <td>768.000000</td>\n",
              "      <td>768.000000</td>\n",
              "      <td>768.000000</td>\n",
              "      <td>768.000000</td>\n",
              "      <td>768.000000</td>\n",
              "      <td>768.000000</td>\n",
              "    </tr>\n",
              "    <tr>\n",
              "      <th>mean</th>\n",
              "      <td>3.845052</td>\n",
              "      <td>120.894531</td>\n",
              "      <td>69.105469</td>\n",
              "      <td>20.536458</td>\n",
              "      <td>79.799479</td>\n",
              "      <td>31.992578</td>\n",
              "      <td>0.471876</td>\n",
              "      <td>33.240885</td>\n",
              "      <td>0.348958</td>\n",
              "    </tr>\n",
              "    <tr>\n",
              "      <th>std</th>\n",
              "      <td>3.369578</td>\n",
              "      <td>31.972618</td>\n",
              "      <td>19.355807</td>\n",
              "      <td>15.952218</td>\n",
              "      <td>115.244002</td>\n",
              "      <td>7.884160</td>\n",
              "      <td>0.331329</td>\n",
              "      <td>11.760232</td>\n",
              "      <td>0.476951</td>\n",
              "    </tr>\n",
              "    <tr>\n",
              "      <th>min</th>\n",
              "      <td>0.000000</td>\n",
              "      <td>0.000000</td>\n",
              "      <td>0.000000</td>\n",
              "      <td>0.000000</td>\n",
              "      <td>0.000000</td>\n",
              "      <td>0.000000</td>\n",
              "      <td>0.078000</td>\n",
              "      <td>21.000000</td>\n",
              "      <td>0.000000</td>\n",
              "    </tr>\n",
              "    <tr>\n",
              "      <th>25%</th>\n",
              "      <td>1.000000</td>\n",
              "      <td>99.000000</td>\n",
              "      <td>62.000000</td>\n",
              "      <td>0.000000</td>\n",
              "      <td>0.000000</td>\n",
              "      <td>27.300000</td>\n",
              "      <td>0.243750</td>\n",
              "      <td>24.000000</td>\n",
              "      <td>0.000000</td>\n",
              "    </tr>\n",
              "    <tr>\n",
              "      <th>50%</th>\n",
              "      <td>3.000000</td>\n",
              "      <td>117.000000</td>\n",
              "      <td>72.000000</td>\n",
              "      <td>23.000000</td>\n",
              "      <td>30.500000</td>\n",
              "      <td>32.000000</td>\n",
              "      <td>0.372500</td>\n",
              "      <td>29.000000</td>\n",
              "      <td>0.000000</td>\n",
              "    </tr>\n",
              "    <tr>\n",
              "      <th>75%</th>\n",
              "      <td>6.000000</td>\n",
              "      <td>140.250000</td>\n",
              "      <td>80.000000</td>\n",
              "      <td>32.000000</td>\n",
              "      <td>127.250000</td>\n",
              "      <td>36.600000</td>\n",
              "      <td>0.626250</td>\n",
              "      <td>41.000000</td>\n",
              "      <td>1.000000</td>\n",
              "    </tr>\n",
              "    <tr>\n",
              "      <th>max</th>\n",
              "      <td>17.000000</td>\n",
              "      <td>199.000000</td>\n",
              "      <td>122.000000</td>\n",
              "      <td>99.000000</td>\n",
              "      <td>846.000000</td>\n",
              "      <td>67.100000</td>\n",
              "      <td>2.420000</td>\n",
              "      <td>81.000000</td>\n",
              "      <td>1.000000</td>\n",
              "    </tr>\n",
              "  </tbody>\n",
              "</table>\n",
              "</div>"
            ],
            "text/plain": [
              "       Pregnancies     Glucose  BloodPressure  SkinThickness     Insulin  \\\n",
              "count   768.000000  768.000000     768.000000     768.000000  768.000000   \n",
              "mean      3.845052  120.894531      69.105469      20.536458   79.799479   \n",
              "std       3.369578   31.972618      19.355807      15.952218  115.244002   \n",
              "min       0.000000    0.000000       0.000000       0.000000    0.000000   \n",
              "25%       1.000000   99.000000      62.000000       0.000000    0.000000   \n",
              "50%       3.000000  117.000000      72.000000      23.000000   30.500000   \n",
              "75%       6.000000  140.250000      80.000000      32.000000  127.250000   \n",
              "max      17.000000  199.000000     122.000000      99.000000  846.000000   \n",
              "\n",
              "              BMI  DiabetesPedigreeFunction         Age     Outcome  \n",
              "count  768.000000                768.000000  768.000000  768.000000  \n",
              "mean    31.992578                  0.471876   33.240885    0.348958  \n",
              "std      7.884160                  0.331329   11.760232    0.476951  \n",
              "min      0.000000                  0.078000   21.000000    0.000000  \n",
              "25%     27.300000                  0.243750   24.000000    0.000000  \n",
              "50%     32.000000                  0.372500   29.000000    0.000000  \n",
              "75%     36.600000                  0.626250   41.000000    1.000000  \n",
              "max     67.100000                  2.420000   81.000000    1.000000  "
            ]
          },
          "execution_count": 12,
          "metadata": {},
          "output_type": "execute_result"
        }
      ],
      "source": [
        "df.describe(include='number')"
      ]
    },
    {
      "cell_type": "code",
      "execution_count": null,
      "id": "3e0525d2",
      "metadata": {
        "id": "3e0525d2",
        "outputId": "92a7cb24-95f7-456d-e4bc-bfb4769b9302"
      },
      "outputs": [
        {
          "data": {
            "text/plain": [
              "['Pregnancies',\n",
              " 'Glucose',\n",
              " 'BloodPressure',\n",
              " 'SkinThickness',\n",
              " 'Insulin',\n",
              " 'BMI',\n",
              " 'DiabetesPedigreeFunction',\n",
              " 'Age']"
            ]
          },
          "execution_count": 16,
          "metadata": {},
          "output_type": "execute_result"
        }
      ],
      "source": [
        "# 마지막의 Outcome 은 label 값임에 유의하고\n",
        "# 학습과 예측에 사용할 컬럼 만들기\n",
        "# feature_columns 라는 변수에 담기\n",
        "\n",
        "feature_columns = df.columns[:-1].tolist()\n",
        "feature_columns"
      ]
    },
    {
      "cell_type": "markdown",
      "id": "94735815",
      "metadata": {
        "id": "94735815"
      },
      "source": [
        "## 결측치 시각화\n",
        "\n",
        "- 값을 요약해보면 최솟값이 0으로 나오는 값들 존재\n",
        "\n",
        "  ex) 인슐린, 혈압 등의 경우 결측치 의심\n",
        "  \n",
        "  -> 결측치로 처리하고 시각화해보기!"
      ]
    },
    {
      "cell_type": "code",
      "execution_count": null,
      "id": "a0f78d14",
      "metadata": {
        "id": "a0f78d14",
        "outputId": "1f08d035-c788-445f-f271-611a292429c8"
      },
      "outputs": [
        {
          "data": {
            "text/plain": [
              "['Glucose',\n",
              " 'BloodPressure',\n",
              " 'SkinThickness',\n",
              " 'Insulin',\n",
              " 'BMI',\n",
              " 'DiabetesPedigreeFunction',\n",
              " 'Age']"
            ]
          },
          "execution_count": 17,
          "metadata": {},
          "output_type": "execute_result"
        }
      ],
      "source": [
        "cols = feature_columns[1:]\n",
        "cols"
      ]
    },
    {
      "cell_type": "code",
      "execution_count": null,
      "id": "ba64e271",
      "metadata": {
        "id": "ba64e271",
        "outputId": "d63243c6-d48e-46fd-d150-2f0b4c995cbc"
      },
      "outputs": [
        {
          "data": {
            "text/plain": [
              "Glucose                       5\n",
              "BloodPressure                35\n",
              "SkinThickness               227\n",
              "Insulin                     374\n",
              "BMI                          11\n",
              "DiabetesPedigreeFunction      0\n",
              "Age                           0\n",
              "dtype: int64"
            ]
          },
          "execution_count": 21,
          "metadata": {},
          "output_type": "execute_result"
        }
      ],
      "source": [
        "# 결측치 여부를 나타내는 데이터프레임\n",
        "# 0 -> NaN\n",
        "df_null = df[cols].replace(0, np.nan)\n",
        "df_null = df_null.isnull()\n",
        "df_null.sum()"
      ]
    },
    {
      "cell_type": "code",
      "execution_count": null,
      "id": "90efebc1",
      "metadata": {
        "id": "90efebc1",
        "outputId": "effe87c3-51ed-43ba-d754-f6355919aa4a"
      },
      "outputs": [
        {
          "data": {
            "text/plain": [
              "Glucose                      0.651042\n",
              "BloodPressure                4.557292\n",
              "SkinThickness               29.557292\n",
              "Insulin                     48.697917\n",
              "BMI                          1.432292\n",
              "DiabetesPedigreeFunction     0.000000\n",
              "Age                          0.000000\n",
              "dtype: float64"
            ]
          },
          "execution_count": 24,
          "metadata": {},
          "output_type": "execute_result"
        }
      ],
      "source": [
        "df_null.mean() * 100"
      ]
    },
    {
      "cell_type": "code",
      "execution_count": null,
      "id": "92662485",
      "metadata": {
        "id": "92662485",
        "outputId": "918301f4-8088-46ca-8d54-da8b8bf0ca0d"
      },
      "outputs": [
        {
          "data": {
            "text/plain": [
              "<AxesSubplot:>"
            ]
          },
          "execution_count": 22,
          "metadata": {},
          "output_type": "execute_result"
        },
        {
          "data": {
            "image/png": "[encoded data removed]",
            "text/plain": [
              "<Figure size 432x288 with 1 Axes>"
            ]
          },
          "metadata": {
            "needs_background": "light"
          },
          "output_type": "display_data"
        }
      ],
      "source": [
        "# 결측치의 갯수를 막대 그래프로 시각화\n",
        "df_null.sum().plot.barh()"
      ]
    },
    {
      "cell_type": "code",
      "execution_count": null,
      "id": "ac06c3c1",
      "metadata": {
        "id": "ac06c3c1",
        "outputId": "d3a6f443-ed96-4a1d-e945-7a4b8f046c3e"
      },
      "outputs": [
        {
          "data": {
            "text/plain": [
              "<AxesSubplot:>"
            ]
          },
          "execution_count": 26,
          "metadata": {},
          "output_type": "execute_result"
        },
        {
          "data": {
            "image/png": "[encoded data removed]",
            "text/plain": [
              "<Figure size 1080x288 with 2 Axes>"
            ]
          },
          "metadata": {
            "needs_background": "light"
          },
          "output_type": "display_data"
        }
      ],
      "source": [
        "# 결측치를 heatmap 으로 시각화\n",
        "plt.figure(figsize=(15,4))\n",
        "# cmap=\"Greys\" 으로 인해 결측치만 흑색으로 나타남\n",
        "# 결측치만 하얗게 보고싶다면 cmap=\"Greys_r\"\n",
        "sns.heatmap(df_null, cmap=\"Greys\")"
      ]
    },
    {
      "cell_type": "markdown",
      "id": "64e188a9",
      "metadata": {
        "id": "64e188a9"
      },
      "source": [
        "## 정답값\n",
        "- = target , label"
      ]
    },
    {
      "cell_type": "code",
      "execution_count": null,
      "id": "4165e0bb",
      "metadata": {
        "id": "4165e0bb",
        "outputId": "ba2b8d48-3ad4-4265-b5b6-427e4161359b"
      },
      "outputs": [
        {
          "data": {
            "text/plain": [
              "0    500\n",
              "1    268\n",
              "Name: Outcome, dtype: int64"
            ]
          },
          "execution_count": 28,
          "metadata": {},
          "output_type": "execute_result"
        }
      ],
      "source": [
        "# 정답값인 Outcome의 개수 확인\n",
        "# 1이 발병\n",
        "df[\"Outcome\"].value_counts()"
      ]
    },
    {
      "cell_type": "code",
      "execution_count": null,
      "id": "635df7be",
      "metadata": {
        "id": "635df7be",
        "outputId": "4a331702-a32d-412b-ea5b-bd71e73cceeb"
      },
      "outputs": [
        {
          "data": {
            "text/plain": [
              "0    0.651042\n",
              "1    0.348958\n",
              "Name: Outcome, dtype: float64"
            ]
          },
          "execution_count": 29,
          "metadata": {},
          "output_type": "execute_result"
        }
      ],
      "source": [
        "# Outcome 의 비율 확인\n",
        "df[\"Outcome\"].value_counts(normalize=True)"
      ]
    },
    {
      "cell_type": "code",
      "execution_count": null,
      "id": "cfbe7dd5",
      "metadata": {
        "id": "cfbe7dd5",
        "outputId": "cd114f3e-c2e6-40c3-ecb4-d8a816361f48"
      },
      "outputs": [
        {
          "data": {
            "text/plain": [
              "Pregnancies\n",
              "0     0.342342\n",
              "1     0.214815\n",
              "2     0.184466\n",
              "3     0.360000\n",
              "4     0.338235\n",
              "5     0.368421\n",
              "6     0.320000\n",
              "7     0.555556\n",
              "8     0.578947\n",
              "9     0.642857\n",
              "10    0.416667\n",
              "11    0.636364\n",
              "12    0.444444\n",
              "13    0.500000\n",
              "14    1.000000\n",
              "15    1.000000\n",
              "17    1.000000\n",
              "Name: Outcome, dtype: float64"
            ]
          },
          "execution_count": 30,
          "metadata": {},
          "output_type": "execute_result"
        }
      ],
      "source": [
        "# 다른 변수와 함께 보기\n",
        "# 임신횟수와 정답값을 비교해보기\n",
        "# \"Pregnancies\"를 groupby 로 그룹화해서 Outcome 비율 구하기\n",
        "\n",
        "# df.groupby([\"index\"])[\"value\"]\n",
        "\n",
        "df.groupby([\"Pregnancies\"])[\"Outcome\"].mean()"
      ]
    },
    {
      "cell_type": "code",
      "execution_count": null,
      "id": "55888dc4",
      "metadata": {
        "id": "55888dc4",
        "outputId": "1d0a113c-e0c9-48c0-fef5-6d18b441ead9"
      },
      "outputs": [
        {
          "data": {
            "text/html": [
              "<div>\n",
              "<style scoped>\n",
              "    .dataframe tbody tr th:only-of-type {\n",
              "        vertical-align: middle;\n",
              "    }\n",
              "\n",
              "    .dataframe tbody tr th {\n",
              "        vertical-align: top;\n",
              "    }\n",
              "\n",
              "    .dataframe thead th {\n",
              "        text-align: right;\n",
              "    }\n",
              "</style>\n",
              "<table border=\"1\" class=\"dataframe\">\n",
              "  <thead>\n",
              "    <tr style=\"text-align: right;\">\n",
              "      <th></th>\n",
              "      <th>mean</th>\n",
              "      <th>count</th>\n",
              "    </tr>\n",
              "    <tr>\n",
              "      <th>Pregnancies</th>\n",
              "      <th></th>\n",
              "      <th></th>\n",
              "    </tr>\n",
              "  </thead>\n",
              "  <tbody>\n",
              "    <tr>\n",
              "      <th>0</th>\n",
              "      <td>0.342342</td>\n",
              "      <td>111</td>\n",
              "    </tr>\n",
              "    <tr>\n",
              "      <th>1</th>\n",
              "      <td>0.214815</td>\n",
              "      <td>135</td>\n",
              "    </tr>\n",
              "    <tr>\n",
              "      <th>2</th>\n",
              "      <td>0.184466</td>\n",
              "      <td>103</td>\n",
              "    </tr>\n",
              "    <tr>\n",
              "      <th>3</th>\n",
              "      <td>0.360000</td>\n",
              "      <td>75</td>\n",
              "    </tr>\n",
              "    <tr>\n",
              "      <th>4</th>\n",
              "      <td>0.338235</td>\n",
              "      <td>68</td>\n",
              "    </tr>\n",
              "    <tr>\n",
              "      <th>5</th>\n",
              "      <td>0.368421</td>\n",
              "      <td>57</td>\n",
              "    </tr>\n",
              "    <tr>\n",
              "      <th>6</th>\n",
              "      <td>0.320000</td>\n",
              "      <td>50</td>\n",
              "    </tr>\n",
              "    <tr>\n",
              "      <th>7</th>\n",
              "      <td>0.555556</td>\n",
              "      <td>45</td>\n",
              "    </tr>\n",
              "    <tr>\n",
              "      <th>8</th>\n",
              "      <td>0.578947</td>\n",
              "      <td>38</td>\n",
              "    </tr>\n",
              "    <tr>\n",
              "      <th>9</th>\n",
              "      <td>0.642857</td>\n",
              "      <td>28</td>\n",
              "    </tr>\n",
              "    <tr>\n",
              "      <th>10</th>\n",
              "      <td>0.416667</td>\n",
              "      <td>24</td>\n",
              "    </tr>\n",
              "    <tr>\n",
              "      <th>11</th>\n",
              "      <td>0.636364</td>\n",
              "      <td>11</td>\n",
              "    </tr>\n",
              "    <tr>\n",
              "      <th>12</th>\n",
              "      <td>0.444444</td>\n",
              "      <td>9</td>\n",
              "    </tr>\n",
              "    <tr>\n",
              "      <th>13</th>\n",
              "      <td>0.500000</td>\n",
              "      <td>10</td>\n",
              "    </tr>\n",
              "    <tr>\n",
              "      <th>14</th>\n",
              "      <td>1.000000</td>\n",
              "      <td>2</td>\n",
              "    </tr>\n",
              "    <tr>\n",
              "      <th>15</th>\n",
              "      <td>1.000000</td>\n",
              "      <td>1</td>\n",
              "    </tr>\n",
              "    <tr>\n",
              "      <th>17</th>\n",
              "      <td>1.000000</td>\n",
              "      <td>1</td>\n",
              "    </tr>\n",
              "  </tbody>\n",
              "</table>\n",
              "</div>"
            ],
            "text/plain": [
              "                 mean  count\n",
              "Pregnancies                 \n",
              "0            0.342342    111\n",
              "1            0.214815    135\n",
              "2            0.184466    103\n",
              "3            0.360000     75\n",
              "4            0.338235     68\n",
              "5            0.368421     57\n",
              "6            0.320000     50\n",
              "7            0.555556     45\n",
              "8            0.578947     38\n",
              "9            0.642857     28\n",
              "10           0.416667     24\n",
              "11           0.636364     11\n",
              "12           0.444444      9\n",
              "13           0.500000     10\n",
              "14           1.000000      2\n",
              "15           1.000000      1\n",
              "17           1.000000      1"
            ]
          },
          "execution_count": 31,
          "metadata": {},
          "output_type": "execute_result"
        }
      ],
      "source": [
        "# 평균값과 함께 count 값 같이 보기\n",
        "df.groupby([\"Pregnancies\"])[\"Outcome\"].agg([\"mean\",\"count\"])"
      ]
    },
    {
      "cell_type": "code",
      "execution_count": null,
      "id": "b88a1441",
      "metadata": {
        "id": "b88a1441",
        "outputId": "42183579-6667-438e-90eb-fdb3b8e4f766"
      },
      "outputs": [
        {
          "data": {
            "text/html": [
              "<div>\n",
              "<style scoped>\n",
              "    .dataframe tbody tr th:only-of-type {\n",
              "        vertical-align: middle;\n",
              "    }\n",
              "\n",
              "    .dataframe tbody tr th {\n",
              "        vertical-align: top;\n",
              "    }\n",
              "\n",
              "    .dataframe thead th {\n",
              "        text-align: right;\n",
              "    }\n",
              "</style>\n",
              "<table border=\"1\" class=\"dataframe\">\n",
              "  <thead>\n",
              "    <tr style=\"text-align: right;\">\n",
              "      <th></th>\n",
              "      <th>Pregnancies</th>\n",
              "      <th>mean</th>\n",
              "      <th>count</th>\n",
              "    </tr>\n",
              "  </thead>\n",
              "  <tbody>\n",
              "    <tr>\n",
              "      <th>0</th>\n",
              "      <td>0</td>\n",
              "      <td>0.342342</td>\n",
              "      <td>111</td>\n",
              "    </tr>\n",
              "    <tr>\n",
              "      <th>1</th>\n",
              "      <td>1</td>\n",
              "      <td>0.214815</td>\n",
              "      <td>135</td>\n",
              "    </tr>\n",
              "    <tr>\n",
              "      <th>2</th>\n",
              "      <td>2</td>\n",
              "      <td>0.184466</td>\n",
              "      <td>103</td>\n",
              "    </tr>\n",
              "    <tr>\n",
              "      <th>3</th>\n",
              "      <td>3</td>\n",
              "      <td>0.360000</td>\n",
              "      <td>75</td>\n",
              "    </tr>\n",
              "    <tr>\n",
              "      <th>4</th>\n",
              "      <td>4</td>\n",
              "      <td>0.338235</td>\n",
              "      <td>68</td>\n",
              "    </tr>\n",
              "    <tr>\n",
              "      <th>5</th>\n",
              "      <td>5</td>\n",
              "      <td>0.368421</td>\n",
              "      <td>57</td>\n",
              "    </tr>\n",
              "    <tr>\n",
              "      <th>6</th>\n",
              "      <td>6</td>\n",
              "      <td>0.320000</td>\n",
              "      <td>50</td>\n",
              "    </tr>\n",
              "    <tr>\n",
              "      <th>7</th>\n",
              "      <td>7</td>\n",
              "      <td>0.555556</td>\n",
              "      <td>45</td>\n",
              "    </tr>\n",
              "    <tr>\n",
              "      <th>8</th>\n",
              "      <td>8</td>\n",
              "      <td>0.578947</td>\n",
              "      <td>38</td>\n",
              "    </tr>\n",
              "    <tr>\n",
              "      <th>9</th>\n",
              "      <td>9</td>\n",
              "      <td>0.642857</td>\n",
              "      <td>28</td>\n",
              "    </tr>\n",
              "    <tr>\n",
              "      <th>10</th>\n",
              "      <td>10</td>\n",
              "      <td>0.416667</td>\n",
              "      <td>24</td>\n",
              "    </tr>\n",
              "    <tr>\n",
              "      <th>11</th>\n",
              "      <td>11</td>\n",
              "      <td>0.636364</td>\n",
              "      <td>11</td>\n",
              "    </tr>\n",
              "    <tr>\n",
              "      <th>12</th>\n",
              "      <td>12</td>\n",
              "      <td>0.444444</td>\n",
              "      <td>9</td>\n",
              "    </tr>\n",
              "    <tr>\n",
              "      <th>13</th>\n",
              "      <td>13</td>\n",
              "      <td>0.500000</td>\n",
              "      <td>10</td>\n",
              "    </tr>\n",
              "    <tr>\n",
              "      <th>14</th>\n",
              "      <td>14</td>\n",
              "      <td>1.000000</td>\n",
              "      <td>2</td>\n",
              "    </tr>\n",
              "    <tr>\n",
              "      <th>15</th>\n",
              "      <td>15</td>\n",
              "      <td>1.000000</td>\n",
              "      <td>1</td>\n",
              "    </tr>\n",
              "    <tr>\n",
              "      <th>16</th>\n",
              "      <td>17</td>\n",
              "      <td>1.000000</td>\n",
              "      <td>1</td>\n",
              "    </tr>\n",
              "  </tbody>\n",
              "</table>\n",
              "</div>"
            ],
            "text/plain": [
              "    Pregnancies      mean  count\n",
              "0             0  0.342342    111\n",
              "1             1  0.214815    135\n",
              "2             2  0.184466    103\n",
              "3             3  0.360000     75\n",
              "4             4  0.338235     68\n",
              "5             5  0.368421     57\n",
              "6             6  0.320000     50\n",
              "7             7  0.555556     45\n",
              "8             8  0.578947     38\n",
              "9             9  0.642857     28\n",
              "10           10  0.416667     24\n",
              "11           11  0.636364     11\n",
              "12           12  0.444444      9\n",
              "13           13  0.500000     10\n",
              "14           14  1.000000      2\n",
              "15           15  1.000000      1\n",
              "16           17  1.000000      1"
            ]
          },
          "execution_count": 33,
          "metadata": {},
          "output_type": "execute_result"
        }
      ],
      "source": [
        "# 위의 결과에서 Pregnancies를 컬럼값으로 추가하고 싶은 경우, .reset_index() 이용\n",
        "\n",
        "df_po = df.groupby([\"Pregnancies\"])[\"Outcome\"].agg([\"mean\",\"count\"]).reset_index()\n",
        "df_po"
      ]
    },
    {
      "cell_type": "code",
      "execution_count": null,
      "id": "96cee41a",
      "metadata": {
        "id": "96cee41a",
        "outputId": "81752e47-c56a-421f-b018-fc58ad01087a"
      },
      "outputs": [
        {
          "data": {
            "text/plain": [
              "<AxesSubplot:>"
            ]
          },
          "execution_count": 34,
          "metadata": {},
          "output_type": "execute_result"
        },
        {
          "data": {
            "image/png": "[encoded data removed]",
            "text/plain": [
              "<Figure size 432x288 with 1 Axes>"
            ]
          },
          "metadata": {
            "needs_background": "light"
          },
          "output_type": "display_data"
        }
      ],
      "source": [
        "# 임신횟수에 따른 당뇨병 발병 비율\n",
        "df_po.plot()"
      ]
    },
    {
      "cell_type": "code",
      "execution_count": null,
      "id": "f81a5207",
      "metadata": {
        "id": "f81a5207",
        "outputId": "8093159e-7a7a-48d8-daa4-742083fe4fa2"
      },
      "outputs": [
        {
          "data": {
            "text/plain": [
              "<AxesSubplot:>"
            ]
          },
          "execution_count": 38,
          "metadata": {},
          "output_type": "execute_result"
        },
        {
          "data": {
            "image/png": "[encoded data removed]",
            "text/plain": [
              "<Figure size 432x288 with 1 Axes>"
            ]
          },
          "metadata": {
            "needs_background": "light"
          },
          "output_type": "display_data"
        }
      ],
      "source": [
        "df_po[\"mean\"].plot.bar(rot=0)"
      ]
    },
    {
      "cell_type": "markdown",
      "id": "95b44f9e",
      "metadata": {
        "id": "95b44f9e"
      },
      "source": [
        "## count plot"
      ]
    },
    {
      "cell_type": "code",
      "execution_count": null,
      "id": "b1030ba7",
      "metadata": {
        "id": "b1030ba7",
        "outputId": "e49795db-50da-4cad-b268-45058d3f5e27"
      },
      "outputs": [
        {
          "data": {
            "text/plain": [
              "<AxesSubplot:xlabel='Outcome', ylabel='count'>"
            ]
          },
          "execution_count": 39,
          "metadata": {},
          "output_type": "execute_result"
        },
        {
          "data": {
            "image/png": "[encoded data removed]",
            "text/plain": [
              "<Figure size 432x288 with 1 Axes>"
            ]
          },
          "metadata": {
            "needs_background": "light"
          },
          "output_type": "display_data"
        }
      ],
      "source": [
        "# 당뇨병 발병 빈도수 비교\n",
        "sns.countplot(data=df, x=\"Outcome\")"
      ]
    },
    {
      "cell_type": "code",
      "execution_count": null,
      "id": "97ee0e05",
      "metadata": {
        "id": "97ee0e05",
        "outputId": "87c7326f-fb9e-4fae-a653-73bd78c4db93"
      },
      "outputs": [
        {
          "data": {
            "text/plain": [
              "<AxesSubplot:xlabel='Pregnancies', ylabel='count'>"
            ]
          },
          "execution_count": 40,
          "metadata": {},
          "output_type": "execute_result"
        },
        {
          "data": {
            "image/png": "[encoded data removed]",
            "text/plain": [
              "<Figure size 432x288 with 1 Axes>"
            ]
          },
          "metadata": {
            "needs_background": "light"
          },
          "output_type": "display_data"
        }
      ],
      "source": [
        "# 임신횟수에 따른 당뇨병 발병 빈도수\n",
        "sns.countplot(data=df, x=\"Pregnancies\")"
      ]
    },
    {
      "cell_type": "code",
      "execution_count": null,
      "id": "8a283bc6",
      "metadata": {
        "id": "8a283bc6",
        "outputId": "11be7e74-5a78-4a1e-f8be-10702a0372b2"
      },
      "outputs": [
        {
          "data": {
            "text/plain": [
              "<AxesSubplot:xlabel='Pregnancies', ylabel='count'>"
            ]
          },
          "execution_count": 41,
          "metadata": {},
          "output_type": "execute_result"
        },
        {
          "data": {
            "image/png": "[encoded data removed]",
            "text/plain": [
              "<Figure size 432x288 with 1 Axes>"
            ]
          },
          "metadata": {
            "needs_background": "light"
          },
          "output_type": "display_data"
        }
      ],
      "source": [
        "sns.countplot(data=df, x=\"Pregnancies\", hue=\"Outcome\")"
      ]
    },
    {
      "cell_type": "markdown",
      "id": "4d8b0e85",
      "metadata": {
        "id": "4d8b0e85"
      },
      "source": [
        "* 위의 plot에서 봤을 때 11회 이상부터는 표본이 적어 overfitting 가능성이 크다\n",
        "\n",
        "    => 따라서 '범주화' 해서 표현하기도 함"
      ]
    },
    {
      "cell_type": "code",
      "execution_count": null,
      "id": "455be1ad",
      "metadata": {
        "id": "455be1ad",
        "outputId": "d68e63f0-5780-474d-a652-211b5cffa4f0"
      },
      "outputs": [
        {
          "data": {
            "text/html": [
              "<div>\n",
              "<style scoped>\n",
              "    .dataframe tbody tr th:only-of-type {\n",
              "        vertical-align: middle;\n",
              "    }\n",
              "\n",
              "    .dataframe tbody tr th {\n",
              "        vertical-align: top;\n",
              "    }\n",
              "\n",
              "    .dataframe thead th {\n",
              "        text-align: right;\n",
              "    }\n",
              "</style>\n",
              "<table border=\"1\" class=\"dataframe\">\n",
              "  <thead>\n",
              "    <tr style=\"text-align: right;\">\n",
              "      <th></th>\n",
              "      <th>Pregnancies</th>\n",
              "      <th>Pregnancies_high</th>\n",
              "    </tr>\n",
              "  </thead>\n",
              "  <tbody>\n",
              "    <tr>\n",
              "      <th>0</th>\n",
              "      <td>6</td>\n",
              "      <td>False</td>\n",
              "    </tr>\n",
              "    <tr>\n",
              "      <th>1</th>\n",
              "      <td>1</td>\n",
              "      <td>False</td>\n",
              "    </tr>\n",
              "    <tr>\n",
              "      <th>2</th>\n",
              "      <td>8</td>\n",
              "      <td>True</td>\n",
              "    </tr>\n",
              "    <tr>\n",
              "      <th>3</th>\n",
              "      <td>1</td>\n",
              "      <td>False</td>\n",
              "    </tr>\n",
              "    <tr>\n",
              "      <th>4</th>\n",
              "      <td>0</td>\n",
              "      <td>False</td>\n",
              "    </tr>\n",
              "  </tbody>\n",
              "</table>\n",
              "</div>"
            ],
            "text/plain": [
              "   Pregnancies  Pregnancies_high\n",
              "0            6             False\n",
              "1            1             False\n",
              "2            8              True\n",
              "3            1             False\n",
              "4            0             False"
            ]
          },
          "execution_count": 44,
          "metadata": {},
          "output_type": "execute_result"
        }
      ],
      "source": [
        "# 임신횟수의 많고 적음에 따라 Pregnancies_high 변수\n",
        "df[\"Pregnancies_high\"] = df[\"Pregnancies\"] > 6\n",
        "\n",
        "# 여러개의 df를 같이 보고 싶을 땐, list를 이용하기\n",
        "df[[\"Pregnancies\",\"Pregnancies_high\"]].head()"
      ]
    },
    {
      "cell_type": "code",
      "execution_count": null,
      "id": "6f024ffe",
      "metadata": {
        "id": "6f024ffe",
        "outputId": "7d4bb84c-6b2c-455c-f24b-0248ab0245be"
      },
      "outputs": [
        {
          "data": {
            "text/plain": [
              "<AxesSubplot:xlabel='Pregnancies_high', ylabel='count'>"
            ]
          },
          "execution_count": 46,
          "metadata": {},
          "output_type": "execute_result"
        },
        {
          "data": {
            "image/png": "[encoded data removed]",
            "text/plain": [
              "<Figure size 432x288 with 1 Axes>"
            ]
          },
          "metadata": {
            "needs_background": "light"
          },
          "output_type": "display_data"
        }
      ],
      "source": [
        "# Pregnancies_high 변수의 빈도수를 countplot 으로 그리고\n",
        "# Outcome 값에 따라 다른 색상으로 표현\n",
        "\n",
        "sns.countplot(data=df, x=\"Pregnancies_high\", hue=\"Outcome\")"
      ]
    },
    {
      "cell_type": "markdown",
      "id": "4845c070",
      "metadata": {
        "id": "4845c070"
      },
      "source": [
        "* 위처럼 연속된 수치데이터는 범주화해서 표현하기도 하는데,\n",
        "\n",
        "    이것을 '원핫 인코딩' 이라고 한다."
      ]
    },
    {
      "cell_type": "markdown",
      "id": "5894905b",
      "metadata": {
        "id": "5894905b"
      },
      "source": [
        "## bar plot\n",
        "\n",
        "- 기본 설정으로 시각화하면 y축에는 평균을 추정해서 그린다."
      ]
    },
    {
      "cell_type": "code",
      "execution_count": null,
      "id": "bec828f5",
      "metadata": {
        "id": "bec828f5",
        "outputId": "63904ddb-252c-4963-cc24-67ab284f8a0d"
      },
      "outputs": [
        {
          "data": {
            "text/plain": [
              "<AxesSubplot:xlabel='Outcome', ylabel='BMI'>"
            ]
          },
          "execution_count": 47,
          "metadata": {},
          "output_type": "execute_result"
        },
        {
          "data": {
            "image/png": "[encoded data removed]",
            "text/plain": [
              "<Figure size 432x288 with 1 Axes>"
            ]
          },
          "metadata": {
            "needs_background": "light"
          },
          "output_type": "display_data"
        }
      ],
      "source": [
        "# 당뇨병 발병에 따른 BMI 수치 비교\n",
        "\n",
        "sns.barplot(data=df, x=\"Outcome\", y=\"BMI\")"
      ]
    },
    {
      "cell_type": "code",
      "execution_count": null,
      "id": "a0aee41b",
      "metadata": {
        "id": "a0aee41b",
        "outputId": "b807a76c-acad-4725-dac8-e592e8db06a3"
      },
      "outputs": [
        {
          "data": {
            "text/plain": [
              "<AxesSubplot:xlabel='Outcome', ylabel='Glucose'>"
            ]
          },
          "execution_count": 48,
          "metadata": {},
          "output_type": "execute_result"
        },
        {
          "data": {
            "image/png": "[encoded data removed]",
            "text/plain": [
              "<Figure size 432x288 with 1 Axes>"
            ]
          },
          "metadata": {
            "needs_background": "light"
          },
          "output_type": "display_data"
        }
      ],
      "source": [
        "# 당뇨병 발병에 따른 포도당수치 비교\n",
        "\n",
        "sns.barplot(data=df, x=\"Outcome\", y=\"Glucose\")"
      ]
    },
    {
      "cell_type": "code",
      "execution_count": null,
      "id": "807e866e",
      "metadata": {
        "id": "807e866e",
        "outputId": "55d1d309-89ea-4e52-ce13-9a4faa8ec92f"
      },
      "outputs": [
        {
          "data": {
            "text/plain": [
              "<AxesSubplot:xlabel='Outcome', ylabel='Insulin'>"
            ]
          },
          "execution_count": 49,
          "metadata": {},
          "output_type": "execute_result"
        },
        {
          "data": {
            "image/png": "[encoded data removed]",
            "text/plain": [
              "<Figure size 432x288 with 1 Axes>"
            ]
          },
          "metadata": {
            "needs_background": "light"
          },
          "output_type": "display_data"
        }
      ],
      "source": [
        "# Insulin 수치가 0 이상인 관측치에 대해 당뇨병 발병 비교\n",
        "\n",
        "sns.barplot(data=df, x=\"Outcome\", y=\"Insulin\")"
      ]
    },
    {
      "cell_type": "markdown",
      "id": "75a90b65",
      "metadata": {
        "id": "75a90b65"
      },
      "source": [
        "* 위에서 검정색 막대는 신뢰구간을 의미 (파라미터: ci, 기본값 95)"
      ]
    },
    {
      "cell_type": "code",
      "execution_count": null,
      "id": "fa78457e",
      "metadata": {
        "id": "fa78457e",
        "outputId": "f16d90ab-98a3-43c3-b7be-257c88d329c0"
      },
      "outputs": [
        {
          "data": {
            "text/plain": [
              "<AxesSubplot:xlabel='Pregnancies', ylabel='Outcome'>"
            ]
          },
          "execution_count": 51,
          "metadata": {},
          "output_type": "execute_result"
        },
        {
          "data": {
            "image/png": "[encoded data removed]",
            "text/plain": [
              "<Figure size 432x288 with 1 Axes>"
            ]
          },
          "metadata": {
            "needs_background": "light"
          },
          "output_type": "display_data"
        }
      ],
      "source": [
        "# 임신횟수에 대해서 당뇨병 발병 비율 비교\n",
        "\n",
        "sns.barplot(data=df, x=\"Pregnancies\", y=\"Outcome\")"
      ]
    },
    {
      "cell_type": "code",
      "execution_count": null,
      "id": "1fa2fbc5",
      "metadata": {
        "id": "1fa2fbc5",
        "outputId": "05b50269-b949-4b3c-f755-dfc4a64fabf2"
      },
      "outputs": [
        {
          "data": {
            "text/plain": [
              "<AxesSubplot:xlabel='Pregnancies', ylabel='Glucose'>"
            ]
          },
          "execution_count": 53,
          "metadata": {},
          "output_type": "execute_result"
        },
        {
          "data": {
            "image/png": "[encoded data removed]",
            "text/plain": [
              "<Figure size 432x288 with 1 Axes>"
            ]
          },
          "metadata": {
            "needs_background": "light"
          },
          "output_type": "display_data"
        }
      ],
      "source": [
        "# 임신횟수에 따른 포도당 수치를 당뇨병 발병여부에 따라 시각화\n",
        "\n",
        "sns.barplot(data=df, x=\"Pregnancies\", y=\"Glucose\", hue=\"Outcome\")"
      ]
    },
    {
      "cell_type": "code",
      "execution_count": null,
      "id": "972520a7",
      "metadata": {
        "id": "972520a7",
        "outputId": "166ded9e-53eb-475e-ce38-ca1480e16660"
      },
      "outputs": [
        {
          "data": {
            "text/plain": [
              "<AxesSubplot:xlabel='Pregnancies', ylabel='BMI'>"
            ]
          },
          "execution_count": 54,
          "metadata": {},
          "output_type": "execute_result"
        },
        {
          "data": {
            "image/png": "[encoded data removed]",
            "text/plain": [
              "<Figure size 432x288 with 1 Axes>"
            ]
          },
          "metadata": {
            "needs_background": "light"
          },
          "output_type": "display_data"
        }
      ],
      "source": [
        "# 임신횟수에 따른 BMI를 당뇨병 발병여부에 따라 시각화\n",
        "\n",
        "sns.barplot(data=df, x=\"Pregnancies\", y=\"BMI\", hue=\"Outcome\")"
      ]
    },
    {
      "cell_type": "code",
      "execution_count": null,
      "id": "e43a59e9",
      "metadata": {
        "id": "e43a59e9",
        "outputId": "dcc3d3c5-04ce-4ad4-909f-68e328940703"
      },
      "outputs": [
        {
          "data": {
            "text/plain": [
              "<AxesSubplot:xlabel='Pregnancies', ylabel='Insulin'>"
            ]
          },
          "execution_count": 60,
          "metadata": {},
          "output_type": "execute_result"
        },
        {
          "data": {
            "image/png": "[encoded data removed]",
            "text/plain": [
              "<Figure size 432x288 with 1 Axes>"
            ]
          },
          "metadata": {
            "needs_background": "light"
          },
          "output_type": "display_data"
        }
      ],
      "source": [
        "# 임신횟수에 따른 인슐린 수치를 당뇨병 발병여부에 따라 시각화\n",
        "\n",
        "sns.barplot(data=df, x=\"Pregnancies\", y=\"Insulin\", hue=\"Outcome\")"
      ]
    },
    {
      "cell_type": "markdown",
      "id": "650d0a4d",
      "metadata": {
        "id": "650d0a4d"
      },
      "source": [
        "## box plot"
      ]
    },
    {
      "cell_type": "code",
      "execution_count": null,
      "id": "2d3091f3",
      "metadata": {
        "id": "2d3091f3",
        "outputId": "04fc572e-06f1-4581-ff13-3614dc1e48e1"
      },
      "outputs": [
        {
          "data": {
            "text/plain": [
              "<AxesSubplot:xlabel='Pregnancies', ylabel='Insulin'>"
            ]
          },
          "execution_count": 61,
          "metadata": {},
          "output_type": "execute_result"
        },
        {
          "data": {
            "image/png": "[encoded data removed]",
            "text/plain": [
              "<Figure size 432x288 with 1 Axes>"
            ]
          },
          "metadata": {
            "needs_background": "light"
          },
          "output_type": "display_data"
        }
      ],
      "source": [
        "# 임신횟수에 따른 인슐린 수치를 당뇨병 발병여부에 따라 시각화\n",
        "# 인슐린 수치에는 결측치가 많이 때문에 0보다 큰 값에 대해서만\n",
        "\n",
        "sns.boxplot(data=df[df[\"Insulin\"]>0],\n",
        "            x=\"Pregnancies\", y=\"Insulin\", hue=\"Outcome\")"
      ]
    },
    {
      "cell_type": "markdown",
      "id": "f3fff635",
      "metadata": {
        "id": "f3fff635"
      },
      "source": [
        "## violin plot"
      ]
    },
    {
      "cell_type": "code",
      "execution_count": null,
      "id": "46e454aa",
      "metadata": {
        "id": "46e454aa",
        "outputId": "37522269-5a65-47e8-e017-104f9278837b"
      },
      "outputs": [
        {
          "data": {
            "text/plain": [
              "<AxesSubplot:xlabel='Pregnancies', ylabel='Insulin'>"
            ]
          },
          "execution_count": 65,
          "metadata": {},
          "output_type": "execute_result"
        },
        {
          "data": {
            "image/png": "[encoded data removed]",
            "text/plain": [
              "<Figure size 1080x288 with 1 Axes>"
            ]
          },
          "metadata": {
            "needs_background": "light"
          },
          "output_type": "display_data"
        }
      ],
      "source": [
        "# 위의 그래프를 violin plot으로 시각화\n",
        "plt.figure(figsize=(15,4))\n",
        "sns.violinplot(data=df[df[\"Insulin\"]>0],\n",
        "            x=\"Pregnancies\", y=\"Insulin\",\n",
        "            hue=\"Outcome\", split=True)"
      ]
    },
    {
      "cell_type": "markdown",
      "id": "dae47160",
      "metadata": {
        "id": "dae47160"
      },
      "source": [
        "## swarm plot"
      ]
    },
    {
      "cell_type": "code",
      "execution_count": null,
      "id": "5b6b973c",
      "metadata": {
        "id": "5b6b973c",
        "outputId": "5d804d8f-7a43-4211-ae82-4bf1ae5a159c"
      },
      "outputs": [
        {
          "data": {
            "text/plain": [
              "<AxesSubplot:xlabel='Pregnancies', ylabel='Insulin'>"
            ]
          },
          "execution_count": 77,
          "metadata": {},
          "output_type": "execute_result"
        },
        {
          "data": {
            "image/png": "[encoded data removed]",
            "text/plain": [
              "<Figure size 1080x288 with 1 Axes>"
            ]
          },
          "metadata": {
            "needs_background": "light"
          },
          "output_type": "display_data"
        }
      ],
      "source": [
        "# 위의 그래프를 swarm plot으로 시각화\n",
        "\n",
        "plt.figure(figsize=(15,4))\n",
        "sns.swarmplot(data=df[df[\"Insulin\"]>0],\n",
        "            x=\"Pregnancies\", y=\"Insulin\",\n",
        "            hue=\"Outcome\", size=3)"
      ]
    },
    {
      "cell_type": "markdown",
      "id": "fae2b4f2",
      "metadata": {
        "id": "fae2b4f2"
      },
      "source": [
        "## dist plot"
      ]
    },
    {
      "cell_type": "code",
      "execution_count": null,
      "id": "a1f7017b",
      "metadata": {
        "id": "a1f7017b",
        "outputId": "cb84381b-db05-4b4a-832c-9a55054493f6"
      },
      "outputs": [
        {
          "data": {
            "text/plain": [
              "((500, 10), (268, 10))"
            ]
          },
          "execution_count": 81,
          "metadata": {},
          "output_type": "execute_result"
        }
      ],
      "source": [
        "df_0 = df[df[\"Outcome\"] == 0]\n",
        "df_1 = df[df[\"Outcome\"] == 1]\n",
        "df_0.shape, df_1.shape"
      ]
    },
    {
      "cell_type": "code",
      "execution_count": null,
      "id": "462d60b7",
      "metadata": {
        "id": "462d60b7",
        "outputId": "b06f4b83-4bbd-4361-bcff-6233c055da08"
      },
      "outputs": [
        {
          "data": {
            "text/plain": [
              "<AxesSubplot:xlabel='Pregnancies', ylabel='Density'>"
            ]
          },
          "execution_count": 97,
          "metadata": {},
          "output_type": "execute_result"
        },
        {
          "data": {
            "image/png": "[encoded data removed]",
            "text/plain": [
              "<Figure size 432x288 with 1 Axes>"
            ]
          },
          "metadata": {
            "needs_background": "light"
          },
          "output_type": "display_data"
        }
      ],
      "source": [
        "# 임신횟수에 따른 당뇨병 발병 여부 시각화\n",
        "\n",
        "#import warnings\n",
        "#warnings.filterwarnings(\"ignore\", category=FutureWarning)\n",
        "\n",
        "sns.distplot(df_0[\"Pregnancies\"]) # 파랑\n",
        "sns.distplot(df_1[\"Pregnancies\"]) # 주황"
      ]
    },
    {
      "cell_type": "code",
      "execution_count": null,
      "id": "ee042987",
      "metadata": {
        "scrolled": false,
        "id": "ee042987",
        "outputId": "20c62bd3-558d-4457-8ecc-92c50d736aef"
      },
      "outputs": [
        {
          "data": {
            "text/plain": [
              "<matplotlib.legend.Legend at 0x7fedc1bb4fd0>"
            ]
          },
          "execution_count": 99,
          "metadata": {},
          "output_type": "execute_result"
        },
        {
          "data": {
            "image/png": "[encoded data removed]",
            "text/plain": [
              "<Figure size 432x288 with 1 Axes>"
            ]
          },
          "metadata": {
            "needs_background": "light"
          },
          "output_type": "display_data"
        }
      ],
      "source": [
        "# 나이에 따른 당뇨병 발병 여부 시각화\n",
        "\n",
        "sns.distplot(df_0[\"Age\"], hist=False, rug=True, label=0)\n",
        "sns.distplot(df_1[\"Age\"], hist=False, rug=True, label=1)\n",
        "\n",
        "plt.legend()"
      ]
    }
  ],
  "metadata": {
    "kernelspec": {
      "display_name": "Python 3",
      "language": "python",
      "name": "python3"
    },
    "language_info": {
      "codemirror_mode": {
        "name": "ipython",
        "version": 3
      },
      "file_extension": ".py",
      "mimetype": "text/x-python",
      "name": "python",
      "nbconvert_exporter": "python",
      "pygments_lexer": "ipython3",
      "version": "3.8.2"
    },
    "toc": {
      "base_numbering": 1,
      "nav_menu": {},
      "number_sections": true,
      "sideBar": true,
      "skip_h1_title": false,
      "title_cell": "Table of Contents",
      "title_sidebar": "Contents",
      "toc_cell": false,
      "toc_position": {},
      "toc_section_display": true,
      "toc_window_display": false
    },
    "colab": {
      "provenance": []
    }
  },
  "nbformat": 4,
  "nbformat_minor": 5
}