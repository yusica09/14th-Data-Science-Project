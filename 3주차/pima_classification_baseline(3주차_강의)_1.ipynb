{
  "cells": [
    {
      "cell_type": "markdown",
      "id": "a49c9a9c",
      "metadata": {
        "id": "a49c9a9c"
      },
      "source": [
        "## 피마인디언 당뇨병 데이터"
      ]
    },
    {
      "cell_type": "markdown",
      "id": "575c8ac5",
      "metadata": {
        "id": "575c8ac5"
      },
      "source": [
        "* 캐글에서 제공하는 피마인디언 당뇨병 데이터 사용"
      ]
    },
    {
      "cell_type": "markdown",
      "id": "9370866e",
      "metadata": {
        "id": "9370866e"
      },
      "source": [
        "### 데이터 구성"
      ]
    },
    {
      "cell_type": "markdown",
      "id": "edff71d9",
      "metadata": {
        "id": "edff71d9"
      },
      "source": [
        "* Pregnancies : 임신 횟수\n",
        "* Glucose : 2시간 동안의 경구 포도당 내성 검사에서 혈장 포도당 농도\n",
        "* BloodPressure : 이완기 혈압 (mm Hg)\n",
        "* SkinThickness : 삼두근 피부 주름 두께 (mm), 체지방을 추정하는데 사용되는 값\n",
        "* Insulin : 2시간 혈청 인슐린 (mu U / ml)\n",
        "* BMI : 체질량 지수 (체중kg / 키(m)^2)\n",
        "* DiabetesPedigreeFunction : 당뇨병 혈통 기능\n",
        "* Age : 나이\n",
        "* Outcome : 768개 중에 268개의 결과 클래스 변수(0 또는 1)는 1이고 나머지는 0입니다."
      ]
    },
    {
      "cell_type": "markdown",
      "id": "841babdb",
      "metadata": {
        "id": "841babdb"
      },
      "source": [
        "### 분류와 회귀 이용"
      ]
    },
    {
      "cell_type": "markdown",
      "id": "b3d474ac",
      "metadata": {
        "id": "b3d474ac"
      },
      "source": [
        "* 당뇨병 진단 여부 분류\n",
        "* 인슐린 수치를 회귀를 통해 예측"
      ]
    },
    {
      "cell_type": "markdown",
      "id": "0654a9ae",
      "metadata": {
        "id": "0654a9ae"
      },
      "source": [
        "## 라이브러리 로드"
      ]
    },
    {
      "cell_type": "code",
      "execution_count": null,
      "id": "c94e5005",
      "metadata": {
        "id": "c94e5005"
      },
      "outputs": [],
      "source": [
        "# 시각화를 위한 seaborn, matplotlib.pyplot\n",
        "\n",
        "import pandas as pd\n",
        "import numpy as np\n",
        "import seaborn as sns\n",
        "import matplotlib.pyplot as plt"
      ]
    },
    {
      "cell_type": "markdown",
      "id": "8c0dfb1d",
      "metadata": {
        "id": "8c0dfb1d"
      },
      "source": [
        "## 데이터셋 로드"
      ]
    },
    {
      "cell_type": "code",
      "execution_count": null,
      "id": "2252a7b8",
      "metadata": {
        "id": "2252a7b8",
        "outputId": "e8b78d69-cafb-4f88-ec6a-125ab053e379"
      },
      "outputs": [
        {
          "data": {
            "text/plain": [
              "(768, 9)"
            ]
          },
          "execution_count": 2,
          "metadata": {},
          "output_type": "execute_result"
        }
      ],
      "source": [
        "df = pd.read_csv(\"data/diabetes.csv\")\n",
        "df.shape"
      ]
    },
    {
      "cell_type": "code",
      "execution_count": null,
      "id": "d9637d57",
      "metadata": {
        "id": "d9637d57",
        "outputId": "17f9f86e-b30e-4b58-c2a7-7bb6d50590cc"
      },
      "outputs": [
        {
          "data": {
            "text/html": [
              "<div>\n",
              "<style scoped>\n",
              "    .dataframe tbody tr th:only-of-type {\n",
              "        vertical-align: middle;\n",
              "    }\n",
              "\n",
              "    .dataframe tbody tr th {\n",
              "        vertical-align: top;\n",
              "    }\n",
              "\n",
              "    .dataframe thead th {\n",
              "        text-align: right;\n",
              "    }\n",
              "</style>\n",
              "<table border=\"1\" class=\"dataframe\">\n",
              "  <thead>\n",
              "    <tr style=\"text-align: right;\">\n",
              "      <th></th>\n",
              "      <th>Pregnancies</th>\n",
              "      <th>Glucose</th>\n",
              "      <th>BloodPressure</th>\n",
              "      <th>SkinThickness</th>\n",
              "      <th>Insulin</th>\n",
              "      <th>BMI</th>\n",
              "      <th>DiabetesPedigreeFunction</th>\n",
              "      <th>Age</th>\n",
              "      <th>Outcome</th>\n",
              "    </tr>\n",
              "  </thead>\n",
              "  <tbody>\n",
              "    <tr>\n",
              "      <th>0</th>\n",
              "      <td>6</td>\n",
              "      <td>148</td>\n",
              "      <td>72</td>\n",
              "      <td>35</td>\n",
              "      <td>0</td>\n",
              "      <td>33.6</td>\n",
              "      <td>0.627</td>\n",
              "      <td>50</td>\n",
              "      <td>1</td>\n",
              "    </tr>\n",
              "    <tr>\n",
              "      <th>1</th>\n",
              "      <td>1</td>\n",
              "      <td>85</td>\n",
              "      <td>66</td>\n",
              "      <td>29</td>\n",
              "      <td>0</td>\n",
              "      <td>26.6</td>\n",
              "      <td>0.351</td>\n",
              "      <td>31</td>\n",
              "      <td>0</td>\n",
              "    </tr>\n",
              "    <tr>\n",
              "      <th>2</th>\n",
              "      <td>8</td>\n",
              "      <td>183</td>\n",
              "      <td>64</td>\n",
              "      <td>0</td>\n",
              "      <td>0</td>\n",
              "      <td>23.3</td>\n",
              "      <td>0.672</td>\n",
              "      <td>32</td>\n",
              "      <td>1</td>\n",
              "    </tr>\n",
              "    <tr>\n",
              "      <th>3</th>\n",
              "      <td>1</td>\n",
              "      <td>89</td>\n",
              "      <td>66</td>\n",
              "      <td>23</td>\n",
              "      <td>94</td>\n",
              "      <td>28.1</td>\n",
              "      <td>0.167</td>\n",
              "      <td>21</td>\n",
              "      <td>0</td>\n",
              "    </tr>\n",
              "    <tr>\n",
              "      <th>4</th>\n",
              "      <td>0</td>\n",
              "      <td>137</td>\n",
              "      <td>40</td>\n",
              "      <td>35</td>\n",
              "      <td>168</td>\n",
              "      <td>43.1</td>\n",
              "      <td>2.288</td>\n",
              "      <td>33</td>\n",
              "      <td>1</td>\n",
              "    </tr>\n",
              "  </tbody>\n",
              "</table>\n",
              "</div>"
            ],
            "text/plain": [
              "   Pregnancies  Glucose  BloodPressure  SkinThickness  Insulin   BMI  \\\n",
              "0            6      148             72             35        0  33.6   \n",
              "1            1       85             66             29        0  26.6   \n",
              "2            8      183             64              0        0  23.3   \n",
              "3            1       89             66             23       94  28.1   \n",
              "4            0      137             40             35      168  43.1   \n",
              "\n",
              "   DiabetesPedigreeFunction  Age  Outcome  \n",
              "0                     0.627   50        1  \n",
              "1                     0.351   31        0  \n",
              "2                     0.672   32        1  \n",
              "3                     0.167   21        0  \n",
              "4                     2.288   33        1  "
            ]
          },
          "execution_count": 3,
          "metadata": {},
          "output_type": "execute_result"
        }
      ],
      "source": [
        "df.head()"
      ]
    },
    {
      "cell_type": "markdown",
      "id": "2dc02f10",
      "metadata": {
        "id": "2dc02f10"
      },
      "source": [
        "` 데이터가 다 숫자로 되어있기 때문에 따로 전처리 과정 없이 진행! `"
      ]
    },
    {
      "cell_type": "markdown",
      "id": "acbe1b2d",
      "metadata": {
        "id": "acbe1b2d"
      },
      "source": [
        "## 수치형 변수를 범주형 변수로 만들기"
      ]
    },
    {
      "cell_type": "code",
      "execution_count": null,
      "id": "225ba333",
      "metadata": {
        "scrolled": true,
        "id": "225ba333",
        "outputId": "ace499f3-be57-44fe-c1d9-7104586f7fd4"
      },
      "outputs": [
        {
          "data": {
            "text/html": [
              "<div>\n",
              "<style scoped>\n",
              "    .dataframe tbody tr th:only-of-type {\n",
              "        vertical-align: middle;\n",
              "    }\n",
              "\n",
              "    .dataframe tbody tr th {\n",
              "        vertical-align: top;\n",
              "    }\n",
              "\n",
              "    .dataframe thead th {\n",
              "        text-align: right;\n",
              "    }\n",
              "</style>\n",
              "<table border=\"1\" class=\"dataframe\">\n",
              "  <thead>\n",
              "    <tr style=\"text-align: right;\">\n",
              "      <th></th>\n",
              "      <th>Pregnancies</th>\n",
              "      <th>Pregnancies_high</th>\n",
              "    </tr>\n",
              "  </thead>\n",
              "  <tbody>\n",
              "    <tr>\n",
              "      <th>0</th>\n",
              "      <td>6</td>\n",
              "      <td>False</td>\n",
              "    </tr>\n",
              "    <tr>\n",
              "      <th>1</th>\n",
              "      <td>1</td>\n",
              "      <td>False</td>\n",
              "    </tr>\n",
              "    <tr>\n",
              "      <th>2</th>\n",
              "      <td>8</td>\n",
              "      <td>True</td>\n",
              "    </tr>\n",
              "    <tr>\n",
              "      <th>3</th>\n",
              "      <td>1</td>\n",
              "      <td>False</td>\n",
              "    </tr>\n",
              "    <tr>\n",
              "      <th>4</th>\n",
              "      <td>0</td>\n",
              "      <td>False</td>\n",
              "    </tr>\n",
              "  </tbody>\n",
              "</table>\n",
              "</div>"
            ],
            "text/plain": [
              "   Pregnancies  Pregnancies_high\n",
              "0            6             False\n",
              "1            1             False\n",
              "2            8              True\n",
              "3            1             False\n",
              "4            0             False"
            ]
          },
          "execution_count": 30,
          "metadata": {},
          "output_type": "execute_result"
        }
      ],
      "source": [
        "df[\"Pregnancies_high\"] = df[\"Pregnancies\"] > 6\n",
        "df[[\"Pregnancies\",\"Pregnancies_high\"]].head()"
      ]
    },
    {
      "cell_type": "markdown",
      "id": "dc169ef5",
      "metadata": {
        "id": "dc169ef5"
      },
      "source": [
        "* 아래의 코드에서 'and'가 아닌 '&'을 사용해야 함!"
      ]
    },
    {
      "cell_type": "code",
      "execution_count": null,
      "id": "96f21f12",
      "metadata": {
        "id": "96f21f12",
        "outputId": "f4861168-698f-49c1-de98-f6b2277d671f"
      },
      "outputs": [
        {
          "data": {
            "text/html": [
              "<div>\n",
              "<style scoped>\n",
              "    .dataframe tbody tr th:only-of-type {\n",
              "        vertical-align: middle;\n",
              "    }\n",
              "\n",
              "    .dataframe tbody tr th {\n",
              "        vertical-align: top;\n",
              "    }\n",
              "\n",
              "    .dataframe thead th {\n",
              "        text-align: right;\n",
              "    }\n",
              "</style>\n",
              "<table border=\"1\" class=\"dataframe\">\n",
              "  <thead>\n",
              "    <tr style=\"text-align: right;\">\n",
              "      <th></th>\n",
              "      <th>Age</th>\n",
              "      <th>Age_low</th>\n",
              "      <th>Age_middle</th>\n",
              "      <th>Age_high</th>\n",
              "    </tr>\n",
              "  </thead>\n",
              "  <tbody>\n",
              "    <tr>\n",
              "      <th>0</th>\n",
              "      <td>50</td>\n",
              "      <td>False</td>\n",
              "      <td>True</td>\n",
              "      <td>False</td>\n",
              "    </tr>\n",
              "    <tr>\n",
              "      <th>1</th>\n",
              "      <td>31</td>\n",
              "      <td>False</td>\n",
              "      <td>True</td>\n",
              "      <td>False</td>\n",
              "    </tr>\n",
              "    <tr>\n",
              "      <th>2</th>\n",
              "      <td>32</td>\n",
              "      <td>False</td>\n",
              "      <td>True</td>\n",
              "      <td>False</td>\n",
              "    </tr>\n",
              "    <tr>\n",
              "      <th>3</th>\n",
              "      <td>21</td>\n",
              "      <td>True</td>\n",
              "      <td>False</td>\n",
              "      <td>False</td>\n",
              "    </tr>\n",
              "    <tr>\n",
              "      <th>4</th>\n",
              "      <td>33</td>\n",
              "      <td>False</td>\n",
              "      <td>True</td>\n",
              "      <td>False</td>\n",
              "    </tr>\n",
              "  </tbody>\n",
              "</table>\n",
              "</div>"
            ],
            "text/plain": [
              "   Age  Age_low  Age_middle  Age_high\n",
              "0   50    False        True     False\n",
              "1   31    False        True     False\n",
              "2   32    False        True     False\n",
              "3   21     True       False     False\n",
              "4   33    False        True     False"
            ]
          },
          "execution_count": 60,
          "metadata": {},
          "output_type": "execute_result"
        }
      ],
      "source": [
        "# One-hot-Encoding\n",
        "# 수치 => 범주 => 수치\n",
        "df[\"Age_low\"] = df[\"Age\"] < 25\n",
        "df[\"Age_middle\"] = (df[\"Age\"] >= 25) & (df[\"Age\"] <= 60)\n",
        "df[\"Age_high\"] = df[\"Age\"] > 60\n",
        "df[[\"Age\",\"Age_low\",\"Age_middle\",\"Age_high\"]].head()"
      ]
    },
    {
      "cell_type": "code",
      "execution_count": null,
      "id": "92ea2b2b",
      "metadata": {
        "id": "92ea2b2b",
        "outputId": "a1cd0b81-ad39-43cb-c1a7-b6245e11fc1e"
      },
      "outputs": [
        {
          "data": {
            "text/plain": [
              "<AxesSubplot:xlabel='Age_low', ylabel='count'>"
            ]
          },
          "execution_count": 61,
          "metadata": {},
          "output_type": "execute_result"
        },
        {
          "data": {
            "image/png": "[encoded data removed]",
            "text/plain": [
              "<Figure size 432x288 with 1 Axes>"
            ]
          },
          "metadata": {
            "needs_background": "light"
          },
          "output_type": "display_data"
        }
      ],
      "source": [
        "sns.countplot(data=df, x=\"Age_low\", hue=\"Outcome\")"
      ]
    },
    {
      "cell_type": "markdown",
      "id": "31c97a5f",
      "metadata": {
        "id": "31c97a5f"
      },
      "source": [
        "## 결측치 다루기"
      ]
    },
    {
      "cell_type": "code",
      "execution_count": null,
      "id": "53c29e90",
      "metadata": {
        "id": "53c29e90",
        "outputId": "6cc1681d-afd5-4033-8b74-4c9f14735cab"
      },
      "outputs": [
        {
          "data": {
            "text/plain": [
              "Pregnancies                 0\n",
              "Glucose                     0\n",
              "BloodPressure               0\n",
              "SkinThickness               0\n",
              "Insulin                     0\n",
              "BMI                         0\n",
              "DiabetesPedigreeFunction    0\n",
              "Age                         0\n",
              "Outcome                     0\n",
              "Pregnancies_high            0\n",
              "Age_low                     0\n",
              "Age_middle                  0\n",
              "Age_high                    0\n",
              "dtype: int64"
            ]
          },
          "execution_count": 90,
          "metadata": {},
          "output_type": "execute_result"
        }
      ],
      "source": [
        "df.isnull().sum()"
      ]
    },
    {
      "cell_type": "code",
      "execution_count": null,
      "id": "839c0177",
      "metadata": {
        "id": "839c0177",
        "outputId": "d51f9b0a-8fd4-4f90-bbba-37ef0079de66"
      },
      "outputs": [
        {
          "data": {
            "text/html": [
              "<div>\n",
              "<style scoped>\n",
              "    .dataframe tbody tr th:only-of-type {\n",
              "        vertical-align: middle;\n",
              "    }\n",
              "\n",
              "    .dataframe tbody tr th {\n",
              "        vertical-align: top;\n",
              "    }\n",
              "\n",
              "    .dataframe thead th {\n",
              "        text-align: right;\n",
              "    }\n",
              "</style>\n",
              "<table border=\"1\" class=\"dataframe\">\n",
              "  <thead>\n",
              "    <tr style=\"text-align: right;\">\n",
              "      <th></th>\n",
              "      <th>Pregnancies</th>\n",
              "      <th>Glucose</th>\n",
              "      <th>BloodPressure</th>\n",
              "      <th>SkinThickness</th>\n",
              "      <th>Insulin</th>\n",
              "      <th>BMI</th>\n",
              "      <th>DiabetesPedigreeFunction</th>\n",
              "      <th>Age</th>\n",
              "      <th>Outcome</th>\n",
              "    </tr>\n",
              "  </thead>\n",
              "  <tbody>\n",
              "    <tr>\n",
              "      <th>count</th>\n",
              "      <td>768.000000</td>\n",
              "      <td>768.000000</td>\n",
              "      <td>768.000000</td>\n",
              "      <td>768.000000</td>\n",
              "      <td>768.000000</td>\n",
              "      <td>768.000000</td>\n",
              "      <td>768.000000</td>\n",
              "      <td>768.000000</td>\n",
              "      <td>768.000000</td>\n",
              "    </tr>\n",
              "    <tr>\n",
              "      <th>mean</th>\n",
              "      <td>3.845052</td>\n",
              "      <td>120.894531</td>\n",
              "      <td>69.105469</td>\n",
              "      <td>20.536458</td>\n",
              "      <td>79.799479</td>\n",
              "      <td>31.992578</td>\n",
              "      <td>0.471876</td>\n",
              "      <td>33.240885</td>\n",
              "      <td>0.348958</td>\n",
              "    </tr>\n",
              "    <tr>\n",
              "      <th>std</th>\n",
              "      <td>3.369578</td>\n",
              "      <td>31.972618</td>\n",
              "      <td>19.355807</td>\n",
              "      <td>15.952218</td>\n",
              "      <td>115.244002</td>\n",
              "      <td>7.884160</td>\n",
              "      <td>0.331329</td>\n",
              "      <td>11.760232</td>\n",
              "      <td>0.476951</td>\n",
              "    </tr>\n",
              "    <tr>\n",
              "      <th>min</th>\n",
              "      <td>0.000000</td>\n",
              "      <td>0.000000</td>\n",
              "      <td>0.000000</td>\n",
              "      <td>0.000000</td>\n",
              "      <td>0.000000</td>\n",
              "      <td>0.000000</td>\n",
              "      <td>0.078000</td>\n",
              "      <td>21.000000</td>\n",
              "      <td>0.000000</td>\n",
              "    </tr>\n",
              "    <tr>\n",
              "      <th>25%</th>\n",
              "      <td>1.000000</td>\n",
              "      <td>99.000000</td>\n",
              "      <td>62.000000</td>\n",
              "      <td>0.000000</td>\n",
              "      <td>0.000000</td>\n",
              "      <td>27.300000</td>\n",
              "      <td>0.243750</td>\n",
              "      <td>24.000000</td>\n",
              "      <td>0.000000</td>\n",
              "    </tr>\n",
              "    <tr>\n",
              "      <th>50%</th>\n",
              "      <td>3.000000</td>\n",
              "      <td>117.000000</td>\n",
              "      <td>72.000000</td>\n",
              "      <td>23.000000</td>\n",
              "      <td>30.500000</td>\n",
              "      <td>32.000000</td>\n",
              "      <td>0.372500</td>\n",
              "      <td>29.000000</td>\n",
              "      <td>0.000000</td>\n",
              "    </tr>\n",
              "    <tr>\n",
              "      <th>75%</th>\n",
              "      <td>6.000000</td>\n",
              "      <td>140.250000</td>\n",
              "      <td>80.000000</td>\n",
              "      <td>32.000000</td>\n",
              "      <td>127.250000</td>\n",
              "      <td>36.600000</td>\n",
              "      <td>0.626250</td>\n",
              "      <td>41.000000</td>\n",
              "      <td>1.000000</td>\n",
              "    </tr>\n",
              "    <tr>\n",
              "      <th>max</th>\n",
              "      <td>17.000000</td>\n",
              "      <td>199.000000</td>\n",
              "      <td>122.000000</td>\n",
              "      <td>99.000000</td>\n",
              "      <td>846.000000</td>\n",
              "      <td>67.100000</td>\n",
              "      <td>2.420000</td>\n",
              "      <td>81.000000</td>\n",
              "      <td>1.000000</td>\n",
              "    </tr>\n",
              "  </tbody>\n",
              "</table>\n",
              "</div>"
            ],
            "text/plain": [
              "       Pregnancies     Glucose  BloodPressure  SkinThickness     Insulin  \\\n",
              "count   768.000000  768.000000     768.000000     768.000000  768.000000   \n",
              "mean      3.845052  120.894531      69.105469      20.536458   79.799479   \n",
              "std       3.369578   31.972618      19.355807      15.952218  115.244002   \n",
              "min       0.000000    0.000000       0.000000       0.000000    0.000000   \n",
              "25%       1.000000   99.000000      62.000000       0.000000    0.000000   \n",
              "50%       3.000000  117.000000      72.000000      23.000000   30.500000   \n",
              "75%       6.000000  140.250000      80.000000      32.000000  127.250000   \n",
              "max      17.000000  199.000000     122.000000      99.000000  846.000000   \n",
              "\n",
              "              BMI  DiabetesPedigreeFunction         Age     Outcome  \n",
              "count  768.000000                768.000000  768.000000  768.000000  \n",
              "mean    31.992578                  0.471876   33.240885    0.348958  \n",
              "std      7.884160                  0.331329   11.760232    0.476951  \n",
              "min      0.000000                  0.078000   21.000000    0.000000  \n",
              "25%     27.300000                  0.243750   24.000000    0.000000  \n",
              "50%     32.000000                  0.372500   29.000000    0.000000  \n",
              "75%     36.600000                  0.626250   41.000000    1.000000  \n",
              "max     67.100000                  2.420000   81.000000    1.000000  "
            ]
          },
          "execution_count": 91,
          "metadata": {},
          "output_type": "execute_result"
        }
      ],
      "source": [
        "df.describe()"
      ]
    },
    {
      "cell_type": "code",
      "execution_count": null,
      "id": "37da8417",
      "metadata": {
        "id": "37da8417",
        "outputId": "ba1456fb-dd94-4662-aacc-c160653fd527"
      },
      "outputs": [
        {
          "data": {
            "text/html": [
              "<div>\n",
              "<style scoped>\n",
              "    .dataframe tbody tr th:only-of-type {\n",
              "        vertical-align: middle;\n",
              "    }\n",
              "\n",
              "    .dataframe tbody tr th {\n",
              "        vertical-align: top;\n",
              "    }\n",
              "\n",
              "    .dataframe thead th {\n",
              "        text-align: right;\n",
              "    }\n",
              "</style>\n",
              "<table border=\"1\" class=\"dataframe\">\n",
              "  <thead>\n",
              "    <tr style=\"text-align: right;\">\n",
              "      <th></th>\n",
              "      <th>Insulin</th>\n",
              "      <th>Insulin_nan</th>\n",
              "    </tr>\n",
              "  </thead>\n",
              "  <tbody>\n",
              "    <tr>\n",
              "      <th>0</th>\n",
              "      <td>0</td>\n",
              "      <td>NaN</td>\n",
              "    </tr>\n",
              "    <tr>\n",
              "      <th>1</th>\n",
              "      <td>0</td>\n",
              "      <td>NaN</td>\n",
              "    </tr>\n",
              "    <tr>\n",
              "      <th>2</th>\n",
              "      <td>0</td>\n",
              "      <td>NaN</td>\n",
              "    </tr>\n",
              "    <tr>\n",
              "      <th>3</th>\n",
              "      <td>94</td>\n",
              "      <td>94.0</td>\n",
              "    </tr>\n",
              "    <tr>\n",
              "      <th>4</th>\n",
              "      <td>168</td>\n",
              "      <td>168.0</td>\n",
              "    </tr>\n",
              "  </tbody>\n",
              "</table>\n",
              "</div>"
            ],
            "text/plain": [
              "   Insulin  Insulin_nan\n",
              "0        0          NaN\n",
              "1        0          NaN\n",
              "2        0          NaN\n",
              "3       94         94.0\n",
              "4      168        168.0"
            ]
          },
          "execution_count": 92,
          "metadata": {},
          "output_type": "execute_result"
        }
      ],
      "source": [
        "df[\"Insulin_nan\"] = df[\"Insulin\"].replace(0, np.nan)\n",
        "df[[\"Insulin\",\"Insulin_nan\"]].head()"
      ]
    },
    {
      "cell_type": "code",
      "execution_count": null,
      "id": "89a33613",
      "metadata": {
        "id": "89a33613",
        "outputId": "bd5757e0-5751-405a-e657-1de8ae79dd99"
      },
      "outputs": [
        {
          "data": {
            "text/plain": [
              "374"
            ]
          },
          "execution_count": 93,
          "metadata": {},
          "output_type": "execute_result"
        }
      ],
      "source": [
        "df[\"Insulin_nan\"].isnull().sum()"
      ]
    },
    {
      "cell_type": "markdown",
      "id": "caffb2ab",
      "metadata": {
        "id": "caffb2ab"
      },
      "source": [
        "* 결측치의 값들을 없애기엔 너무 많은 양이기 때문에 결측치를 채워보자!"
      ]
    },
    {
      "cell_type": "code",
      "execution_count": null,
      "id": "43545f72",
      "metadata": {
        "id": "43545f72",
        "outputId": "3832a59a-70da-4dba-88fa-bd37fa47a525"
      },
      "outputs": [
        {
          "data": {
            "text/plain": [
              "0.4869791666666667"
            ]
          },
          "execution_count": 94,
          "metadata": {},
          "output_type": "execute_result"
        }
      ],
      "source": [
        "# 결측치 비율\n",
        "df[\"Insulin_nan\"].isnull().mean()"
      ]
    },
    {
      "cell_type": "code",
      "execution_count": null,
      "id": "a6874312",
      "metadata": {
        "id": "a6874312",
        "outputId": "216cf840-a8cc-400a-dba5-416702086d86"
      },
      "outputs": [
        {
          "data": {
            "text/html": [
              "<div>\n",
              "<style scoped>\n",
              "    .dataframe tbody tr th:only-of-type {\n",
              "        vertical-align: middle;\n",
              "    }\n",
              "\n",
              "    .dataframe tbody tr th {\n",
              "        vertical-align: top;\n",
              "    }\n",
              "\n",
              "    .dataframe thead th {\n",
              "        text-align: right;\n",
              "    }\n",
              "</style>\n",
              "<table border=\"1\" class=\"dataframe\">\n",
              "  <thead>\n",
              "    <tr style=\"text-align: right;\">\n",
              "      <th></th>\n",
              "      <th>Insulin</th>\n",
              "      <th>Insulin_nan</th>\n",
              "    </tr>\n",
              "    <tr>\n",
              "      <th>Outcome</th>\n",
              "      <th></th>\n",
              "      <th></th>\n",
              "    </tr>\n",
              "  </thead>\n",
              "  <tbody>\n",
              "    <tr>\n",
              "      <th>0</th>\n",
              "      <td>68.792000</td>\n",
              "      <td>130.287879</td>\n",
              "    </tr>\n",
              "    <tr>\n",
              "      <th>1</th>\n",
              "      <td>100.335821</td>\n",
              "      <td>206.846154</td>\n",
              "    </tr>\n",
              "  </tbody>\n",
              "</table>\n",
              "</div>"
            ],
            "text/plain": [
              "            Insulin  Insulin_nan\n",
              "Outcome                         \n",
              "0         68.792000   130.287879\n",
              "1        100.335821   206.846154"
            ]
          },
          "execution_count": 113,
          "metadata": {},
          "output_type": "execute_result"
        }
      ],
      "source": [
        "df.groupby([\"Outcome\"])[[\"Insulin\",\"Insulin_nan\"]].mean()"
      ]
    },
    {
      "cell_type": "code",
      "execution_count": null,
      "id": "a08521ed",
      "metadata": {
        "id": "a08521ed",
        "outputId": "0ec8a860-f014-4366-b983-93423742ec89"
      },
      "outputs": [
        {
          "data": {
            "text/html": [
              "<div>\n",
              "<style scoped>\n",
              "    .dataframe tbody tr th:only-of-type {\n",
              "        vertical-align: middle;\n",
              "    }\n",
              "\n",
              "    .dataframe tbody tr th {\n",
              "        vertical-align: top;\n",
              "    }\n",
              "\n",
              "    .dataframe thead tr th {\n",
              "        text-align: left;\n",
              "    }\n",
              "\n",
              "    .dataframe thead tr:last-of-type th {\n",
              "        text-align: right;\n",
              "    }\n",
              "</style>\n",
              "<table border=\"1\" class=\"dataframe\">\n",
              "  <thead>\n",
              "    <tr>\n",
              "      <th></th>\n",
              "      <th colspan=\"8\" halign=\"left\">Insulin</th>\n",
              "      <th colspan=\"8\" halign=\"left\">Insulin_nan</th>\n",
              "    </tr>\n",
              "    <tr>\n",
              "      <th></th>\n",
              "      <th>count</th>\n",
              "      <th>mean</th>\n",
              "      <th>std</th>\n",
              "      <th>min</th>\n",
              "      <th>25%</th>\n",
              "      <th>50%</th>\n",
              "      <th>75%</th>\n",
              "      <th>max</th>\n",
              "      <th>count</th>\n",
              "      <th>mean</th>\n",
              "      <th>std</th>\n",
              "      <th>min</th>\n",
              "      <th>25%</th>\n",
              "      <th>50%</th>\n",
              "      <th>75%</th>\n",
              "      <th>max</th>\n",
              "    </tr>\n",
              "    <tr>\n",
              "      <th>Outcome</th>\n",
              "      <th></th>\n",
              "      <th></th>\n",
              "      <th></th>\n",
              "      <th></th>\n",
              "      <th></th>\n",
              "      <th></th>\n",
              "      <th></th>\n",
              "      <th></th>\n",
              "      <th></th>\n",
              "      <th></th>\n",
              "      <th></th>\n",
              "      <th></th>\n",
              "      <th></th>\n",
              "      <th></th>\n",
              "      <th></th>\n",
              "      <th></th>\n",
              "    </tr>\n",
              "  </thead>\n",
              "  <tbody>\n",
              "    <tr>\n",
              "      <th>0</th>\n",
              "      <td>500.0</td>\n",
              "      <td>68.792000</td>\n",
              "      <td>98.865289</td>\n",
              "      <td>0.0</td>\n",
              "      <td>0.0</td>\n",
              "      <td>39.0</td>\n",
              "      <td>105.00</td>\n",
              "      <td>744.0</td>\n",
              "      <td>264.0</td>\n",
              "      <td>130.287879</td>\n",
              "      <td>102.482237</td>\n",
              "      <td>15.0</td>\n",
              "      <td>66.0</td>\n",
              "      <td>102.5</td>\n",
              "      <td>161.25</td>\n",
              "      <td>744.0</td>\n",
              "    </tr>\n",
              "    <tr>\n",
              "      <th>1</th>\n",
              "      <td>268.0</td>\n",
              "      <td>100.335821</td>\n",
              "      <td>138.689125</td>\n",
              "      <td>0.0</td>\n",
              "      <td>0.0</td>\n",
              "      <td>0.0</td>\n",
              "      <td>167.25</td>\n",
              "      <td>846.0</td>\n",
              "      <td>130.0</td>\n",
              "      <td>206.846154</td>\n",
              "      <td>132.699898</td>\n",
              "      <td>14.0</td>\n",
              "      <td>127.5</td>\n",
              "      <td>169.5</td>\n",
              "      <td>239.25</td>\n",
              "      <td>846.0</td>\n",
              "    </tr>\n",
              "  </tbody>\n",
              "</table>\n",
              "</div>"
            ],
            "text/plain": [
              "        Insulin                                                         \\\n",
              "          count        mean         std  min  25%   50%     75%    max   \n",
              "Outcome                                                                  \n",
              "0         500.0   68.792000   98.865289  0.0  0.0  39.0  105.00  744.0   \n",
              "1         268.0  100.335821  138.689125  0.0  0.0   0.0  167.25  846.0   \n",
              "\n",
              "        Insulin_nan                                                             \n",
              "              count        mean         std   min    25%    50%     75%    max  \n",
              "Outcome                                                                         \n",
              "0             264.0  130.287879  102.482237  15.0   66.0  102.5  161.25  744.0  \n",
              "1             130.0  206.846154  132.699898  14.0  127.5  169.5  239.25  846.0  "
            ]
          },
          "execution_count": 112,
          "metadata": {},
          "output_type": "execute_result"
        }
      ],
      "source": [
        "df.groupby([\"Outcome\"])[[\"Insulin\",\"Insulin_nan\"]].describe()"
      ]
    },
    {
      "cell_type": "code",
      "execution_count": null,
      "id": "5c4839d4",
      "metadata": {
        "id": "5c4839d4",
        "outputId": "01e197bd-664a-412a-98ff-97105e7f197d"
      },
      "outputs": [
        {
          "data": {
            "text/html": [
              "<div>\n",
              "<style scoped>\n",
              "    .dataframe tbody tr th:only-of-type {\n",
              "        vertical-align: middle;\n",
              "    }\n",
              "\n",
              "    .dataframe tbody tr th {\n",
              "        vertical-align: top;\n",
              "    }\n",
              "\n",
              "    .dataframe thead tr th {\n",
              "        text-align: left;\n",
              "    }\n",
              "\n",
              "    .dataframe thead tr:last-of-type th {\n",
              "        text-align: right;\n",
              "    }\n",
              "</style>\n",
              "<table border=\"1\" class=\"dataframe\">\n",
              "  <thead>\n",
              "    <tr>\n",
              "      <th></th>\n",
              "      <th colspan=\"2\" halign=\"left\">Insulin</th>\n",
              "      <th colspan=\"2\" halign=\"left\">Insulin_nan</th>\n",
              "    </tr>\n",
              "    <tr>\n",
              "      <th></th>\n",
              "      <th>mean</th>\n",
              "      <th>median</th>\n",
              "      <th>mean</th>\n",
              "      <th>median</th>\n",
              "    </tr>\n",
              "    <tr>\n",
              "      <th>Outcome</th>\n",
              "      <th></th>\n",
              "      <th></th>\n",
              "      <th></th>\n",
              "      <th></th>\n",
              "    </tr>\n",
              "  </thead>\n",
              "  <tbody>\n",
              "    <tr>\n",
              "      <th>0</th>\n",
              "      <td>68.792000</td>\n",
              "      <td>39</td>\n",
              "      <td>130.287879</td>\n",
              "      <td>102.5</td>\n",
              "    </tr>\n",
              "    <tr>\n",
              "      <th>1</th>\n",
              "      <td>100.335821</td>\n",
              "      <td>0</td>\n",
              "      <td>206.846154</td>\n",
              "      <td>169.5</td>\n",
              "    </tr>\n",
              "  </tbody>\n",
              "</table>\n",
              "</div>"
            ],
            "text/plain": [
              "            Insulin        Insulin_nan       \n",
              "               mean median        mean median\n",
              "Outcome                                      \n",
              "0         68.792000     39  130.287879  102.5\n",
              "1        100.335821      0  206.846154  169.5"
            ]
          },
          "execution_count": 111,
          "metadata": {},
          "output_type": "execute_result"
        }
      ],
      "source": [
        "df.groupby([\"Outcome\"])[[\"Insulin\",\"Insulin_nan\"]].agg([\"mean\",\"median\"])"
      ]
    },
    {
      "cell_type": "code",
      "execution_count": null,
      "id": "04d040c9",
      "metadata": {
        "id": "04d040c9"
      },
      "outputs": [],
      "source": [
        "# 결측치 채우기\n",
        "df.loc[(df[\"Outcome\"] == 0) & (df[\"Insulin_nan\"].isnull()), \"Insulin_nan\"] = 102.5\n",
        "df.loc[(df[\"Outcome\"] == 1) & (df[\"Insulin_nan\"].isnull()), \"Insulin_nan\"] = 169.5"
      ]
    },
    {
      "cell_type": "markdown",
      "id": "81ec23a4",
      "metadata": {
        "id": "81ec23a4"
      },
      "source": [
        "## 왜도, 첨도"
      ]
    },
    {
      "cell_type": "code",
      "execution_count": null,
      "id": "359555b6",
      "metadata": {
        "id": "359555b6",
        "outputId": "6d4f2d98-ff82-4b09-aa2e-5001bd59b3ca"
      },
      "outputs": [
        {
          "data": {
            "text/plain": [
              "<AxesSubplot:xlabel='Insulin', ylabel='Density'>"
            ]
          },
          "execution_count": 194,
          "metadata": {},
          "output_type": "execute_result"
        },
        {
          "data": {
            "image/png": "[encoded data removed]",
            "text/plain": [
              "<Figure size 432x288 with 1 Axes>"
            ]
          },
          "metadata": {
            "needs_background": "light"
          },
          "output_type": "display_data"
        }
      ],
      "source": [
        "import warnings\n",
        "warnings.filterwarnings(\"ignore\", category=FutureWarning)\n",
        "sns.distplot(df.loc[df[\"Insulin\"] > 0, \"Insulin\"])"
      ]
    },
    {
      "cell_type": "code",
      "execution_count": null,
      "id": "5a05a952",
      "metadata": {
        "id": "5a05a952",
        "outputId": "f8480961-ef66-43cb-9590-fc395601ff8c"
      },
      "outputs": [
        {
          "data": {
            "text/plain": [
              "<AxesSubplot:xlabel='Insulin', ylabel='Density'>"
            ]
          },
          "execution_count": 196,
          "metadata": {},
          "output_type": "execute_result"
        },
        {
          "data": {
            "image/png": "[encoded data removed]",
            "text/plain": [
              "<Figure size 432x288 with 1 Axes>"
            ]
          },
          "metadata": {
            "needs_background": "light"
          },
          "output_type": "display_data"
        }
      ],
      "source": [
        "# 정규 분포 형태\n",
        "sns.distplot(np.log(df.loc[df[\"Insulin\"] > 0, \"Insulin\"] + 1))"
      ]
    },
    {
      "cell_type": "code",
      "execution_count": null,
      "id": "f044f480",
      "metadata": {
        "id": "f044f480",
        "outputId": "8c333d2e-bcae-45fe-8898-e2da23cd6e1f"
      },
      "outputs": [
        {
          "data": {
            "text/plain": [
              "<AxesSubplot:xlabel='Insulin_nan', ylabel='Density'>"
            ]
          },
          "execution_count": 197,
          "metadata": {},
          "output_type": "execute_result"
        },
        {
          "data": {
            "image/png": "[encoded data removed]",
            "text/plain": [
              "<Figure size 432x288 with 1 Axes>"
            ]
          },
          "metadata": {
            "needs_background": "light"
          },
          "output_type": "display_data"
        }
      ],
      "source": [
        "sns.distplot(df[\"Insulin_nan\"])"
      ]
    },
    {
      "cell_type": "code",
      "execution_count": null,
      "id": "edd2f5f0",
      "metadata": {
        "id": "edd2f5f0",
        "outputId": "fd6e68b7-494d-44b1-8e88-5e2f8a354c5f"
      },
      "outputs": [
        {
          "data": {
            "text/plain": [
              "<AxesSubplot:xlabel='Insulin_log', ylabel='Density'>"
            ]
          },
          "execution_count": 199,
          "metadata": {},
          "output_type": "execute_result"
        },
        {
          "data": {
            "image/png": "[encoded data removed]",
            "text/plain": [
              "<Figure size 432x288 with 1 Axes>"
            ]
          },
          "metadata": {
            "needs_background": "light"
          },
          "output_type": "display_data"
        }
      ],
      "source": [
        "# -inf 수렴 방지 위해 +1 해주기\n",
        "df[\"Insulin_log\"] = np.log(df[\"Insulin_nan\"] + 1)\n",
        "sns.distplot(df[\"Insulin_log\"])"
      ]
    },
    {
      "cell_type": "code",
      "execution_count": null,
      "id": "b3e75793",
      "metadata": {
        "id": "b3e75793",
        "outputId": "20c86dfe-64e5-4f4d-b315-4cac6313ea20"
      },
      "outputs": [
        {
          "data": {
            "text/plain": [
              "<seaborn.axisgrid.FacetGrid at 0x7fd5e02d3970>"
            ]
          },
          "execution_count": 222,
          "metadata": {},
          "output_type": "execute_result"
        },
        {
          "data": {
            "image/png": "[encoded data removed]",
            "text/plain": [
              "<Figure size 413.25x360 with 1 Axes>"
            ]
          },
          "metadata": {
            "needs_background": "light"
          },
          "output_type": "display_data"
        }
      ],
      "source": [
        "sns.lmplot(data=df, x=\"Insulin_nan\", y=\"Glucose\", hue=\"Outcome\")"
      ]
    },
    {
      "cell_type": "markdown",
      "id": "02875a1e",
      "metadata": {
        "id": "02875a1e"
      },
      "source": [
        "* 위의 그래프에서 보이는 일자 점선은 우리가 결측치를 채워준 값이다"
      ]
    },
    {
      "cell_type": "code",
      "execution_count": null,
      "id": "e54b3785",
      "metadata": {
        "id": "e54b3785",
        "outputId": "31a750ec-5880-4b39-8cbb-173bbeba3893"
      },
      "outputs": [
        {
          "data": {
            "text/plain": [
              "0    False\n",
              "1    False\n",
              "2    False\n",
              "3     True\n",
              "4    False\n",
              "Name: low_glu_insulin, dtype: bool"
            ]
          },
          "execution_count": 225,
          "metadata": {},
          "output_type": "execute_result"
        }
      ],
      "source": [
        "df[\"low_glu_insulin\"] = (df[\"Glucose\"] < 100) & (df[\"Insulin_nan\"] <= 102.5)\n",
        "df[\"low_glu_insulin\"].head()"
      ]
    },
    {
      "cell_type": "code",
      "execution_count": null,
      "id": "db6c8d97",
      "metadata": {
        "id": "db6c8d97",
        "outputId": "ae3e8113-bc1f-4b10-8584-5695060ae85b"
      },
      "outputs": [
        {
          "data": {
            "text/html": [
              "<div>\n",
              "<style scoped>\n",
              "    .dataframe tbody tr th:only-of-type {\n",
              "        vertical-align: middle;\n",
              "    }\n",
              "\n",
              "    .dataframe tbody tr th {\n",
              "        vertical-align: top;\n",
              "    }\n",
              "\n",
              "    .dataframe thead th {\n",
              "        text-align: right;\n",
              "    }\n",
              "</style>\n",
              "<table border=\"1\" class=\"dataframe\">\n",
              "  <thead>\n",
              "    <tr style=\"text-align: right;\">\n",
              "      <th>low_glu_insulin</th>\n",
              "      <th>False</th>\n",
              "      <th>True</th>\n",
              "    </tr>\n",
              "    <tr>\n",
              "      <th>Outcome</th>\n",
              "      <th></th>\n",
              "      <th></th>\n",
              "    </tr>\n",
              "  </thead>\n",
              "  <tbody>\n",
              "    <tr>\n",
              "      <th>0</th>\n",
              "      <td>418</td>\n",
              "      <td>82</td>\n",
              "    </tr>\n",
              "    <tr>\n",
              "      <th>1</th>\n",
              "      <td>263</td>\n",
              "      <td>5</td>\n",
              "    </tr>\n",
              "  </tbody>\n",
              "</table>\n",
              "</div>"
            ],
            "text/plain": [
              "low_glu_insulin  False  True \n",
              "Outcome                      \n",
              "0                  418     82\n",
              "1                  263      5"
            ]
          },
          "execution_count": 228,
          "metadata": {},
          "output_type": "execute_result"
        }
      ],
      "source": [
        "pd.crosstab(df[\"Outcome\"], df[\"low_glu_insulin\"])"
      ]
    },
    {
      "cell_type": "markdown",
      "id": "6c728f49",
      "metadata": {
        "id": "6c728f49"
      },
      "source": [
        "* \"low_glu_insulin\" : 인슐린 & 글루코스 상관계수로 파생변수 생성"
      ]
    },
    {
      "cell_type": "markdown",
      "id": "d39f4ff2",
      "metadata": {
        "id": "d39f4ff2"
      },
      "source": [
        "## 학습, 예측 데이터셋 나누기"
      ]
    },
    {
      "cell_type": "code",
      "execution_count": null,
      "id": "8cc85cd7",
      "metadata": {
        "id": "8cc85cd7",
        "outputId": "c019b4fb-5b1b-44de-c6d8-13a62c98767e"
      },
      "outputs": [
        {
          "data": {
            "text/plain": [
              "614"
            ]
          },
          "execution_count": 229,
          "metadata": {},
          "output_type": "execute_result"
        }
      ],
      "source": [
        "split_count = int(df.shape[0] * 0.8)\n",
        "split_count"
      ]
    },
    {
      "cell_type": "code",
      "execution_count": null,
      "id": "22cd3ebc",
      "metadata": {
        "id": "22cd3ebc",
        "outputId": "a5c5bfd7-f6e7-4967-98be-194873a13d8c"
      },
      "outputs": [
        {
          "data": {
            "text/plain": [
              "(614, 16)"
            ]
          },
          "execution_count": 230,
          "metadata": {},
          "output_type": "execute_result"
        }
      ],
      "source": [
        "train = df[:split_count].copy()\n",
        "train.shape"
      ]
    },
    {
      "cell_type": "code",
      "execution_count": null,
      "id": "e88718c1",
      "metadata": {
        "id": "e88718c1",
        "outputId": "37d560bd-b60a-4819-a5bf-c4a22a46a770"
      },
      "outputs": [
        {
          "data": {
            "text/plain": [
              "(154, 16)"
            ]
          },
          "execution_count": 231,
          "metadata": {},
          "output_type": "execute_result"
        }
      ],
      "source": [
        "test = df[split_count:].copy()\n",
        "test.shape"
      ]
    },
    {
      "cell_type": "markdown",
      "id": "394971b4",
      "metadata": {
        "id": "394971b4"
      },
      "source": [
        "## 학습, 예측에 사용할 컬럼"
      ]
    },
    {
      "cell_type": "code",
      "execution_count": null,
      "id": "3c50a74a",
      "metadata": {
        "id": "3c50a74a",
        "outputId": "94074fc4-d154-4031-8bb3-b767f4217f4a"
      },
      "outputs": [
        {
          "data": {
            "text/plain": [
              "['Glucose',\n",
              " 'BloodPressure',\n",
              " 'SkinThickness',\n",
              " 'BMI',\n",
              " 'DiabetesPedigreeFunction',\n",
              " 'Age',\n",
              " 'Pregnancies_high',\n",
              " 'Insulin_log',\n",
              " 'low_glu_insulin']"
            ]
          },
          "execution_count": 232,
          "metadata": {},
          "output_type": "execute_result"
        }
      ],
      "source": [
        "# feature_names 라는 변수에 학습과 예측에 사용할 컬럼명을 가져오기\n",
        "feature_names = train.columns.tolist()\n",
        "feature_names.remove(\"Pregnancies\")\n",
        "feature_names.remove(\"Outcome\")\n",
        "feature_names.remove(\"Age_low\")\n",
        "feature_names.remove(\"Age_middle\")\n",
        "feature_names.remove(\"Age_high\")\n",
        "feature_names.remove(\"Insulin\")\n",
        "feature_names.remove(\"Insulin_nan\")\n",
        "feature_names"
      ]
    },
    {
      "cell_type": "markdown",
      "id": "98703884",
      "metadata": {
        "id": "98703884"
      },
      "source": [
        "## 정답값이자 예측해야 될 값"
      ]
    },
    {
      "cell_type": "code",
      "execution_count": null,
      "id": "d56f8be7",
      "metadata": {
        "id": "d56f8be7",
        "outputId": "520bbcc5-e62b-46ae-93cd-390513dd9286"
      },
      "outputs": [
        {
          "data": {
            "text/plain": [
              "'Outcome'"
            ]
          },
          "execution_count": 233,
          "metadata": {},
          "output_type": "execute_result"
        }
      ],
      "source": [
        "# label_name 이라는 변수에 예측할 컬럼의 이름을 담습니다.\n",
        "label_name = \"Outcome\"\n",
        "label_name"
      ]
    },
    {
      "cell_type": "markdown",
      "id": "f0919b9b",
      "metadata": {
        "id": "f0919b9b"
      },
      "source": [
        "## 학습, 예측 데이터셋 만들기"
      ]
    },
    {
      "cell_type": "code",
      "execution_count": null,
      "id": "754aa4c9",
      "metadata": {
        "id": "754aa4c9",
        "outputId": "49cfdadb-06bf-44af-de4d-bac6c4ff8d79"
      },
      "outputs": [
        {
          "name": "stdout",
          "output_type": "stream",
          "text": [
            "(614, 9)\n"
          ]
        },
        {
          "data": {
            "text/html": [
              "<div>\n",
              "<style scoped>\n",
              "    .dataframe tbody tr th:only-of-type {\n",
              "        vertical-align: middle;\n",
              "    }\n",
              "\n",
              "    .dataframe tbody tr th {\n",
              "        vertical-align: top;\n",
              "    }\n",
              "\n",
              "    .dataframe thead th {\n",
              "        text-align: right;\n",
              "    }\n",
              "</style>\n",
              "<table border=\"1\" class=\"dataframe\">\n",
              "  <thead>\n",
              "    <tr style=\"text-align: right;\">\n",
              "      <th></th>\n",
              "      <th>Glucose</th>\n",
              "      <th>BloodPressure</th>\n",
              "      <th>SkinThickness</th>\n",
              "      <th>BMI</th>\n",
              "      <th>DiabetesPedigreeFunction</th>\n",
              "      <th>Age</th>\n",
              "      <th>Pregnancies_high</th>\n",
              "      <th>Insulin_log</th>\n",
              "      <th>low_glu_insulin</th>\n",
              "    </tr>\n",
              "  </thead>\n",
              "  <tbody>\n",
              "    <tr>\n",
              "      <th>0</th>\n",
              "      <td>148</td>\n",
              "      <td>72</td>\n",
              "      <td>35</td>\n",
              "      <td>33.6</td>\n",
              "      <td>0.627</td>\n",
              "      <td>50</td>\n",
              "      <td>False</td>\n",
              "      <td>5.332719</td>\n",
              "      <td>False</td>\n",
              "    </tr>\n",
              "    <tr>\n",
              "      <th>1</th>\n",
              "      <td>85</td>\n",
              "      <td>66</td>\n",
              "      <td>29</td>\n",
              "      <td>26.6</td>\n",
              "      <td>0.351</td>\n",
              "      <td>31</td>\n",
              "      <td>False</td>\n",
              "      <td>4.875197</td>\n",
              "      <td>False</td>\n",
              "    </tr>\n",
              "    <tr>\n",
              "      <th>2</th>\n",
              "      <td>183</td>\n",
              "      <td>64</td>\n",
              "      <td>0</td>\n",
              "      <td>23.3</td>\n",
              "      <td>0.672</td>\n",
              "      <td>32</td>\n",
              "      <td>True</td>\n",
              "      <td>5.332719</td>\n",
              "      <td>False</td>\n",
              "    </tr>\n",
              "    <tr>\n",
              "      <th>3</th>\n",
              "      <td>89</td>\n",
              "      <td>66</td>\n",
              "      <td>23</td>\n",
              "      <td>28.1</td>\n",
              "      <td>0.167</td>\n",
              "      <td>21</td>\n",
              "      <td>False</td>\n",
              "      <td>4.553877</td>\n",
              "      <td>True</td>\n",
              "    </tr>\n",
              "    <tr>\n",
              "      <th>4</th>\n",
              "      <td>137</td>\n",
              "      <td>40</td>\n",
              "      <td>35</td>\n",
              "      <td>43.1</td>\n",
              "      <td>2.288</td>\n",
              "      <td>33</td>\n",
              "      <td>False</td>\n",
              "      <td>5.129899</td>\n",
              "      <td>False</td>\n",
              "    </tr>\n",
              "  </tbody>\n",
              "</table>\n",
              "</div>"
            ],
            "text/plain": [
              "   Glucose  BloodPressure  SkinThickness   BMI  DiabetesPedigreeFunction  Age  \\\n",
              "0      148             72             35  33.6                     0.627   50   \n",
              "1       85             66             29  26.6                     0.351   31   \n",
              "2      183             64              0  23.3                     0.672   32   \n",
              "3       89             66             23  28.1                     0.167   21   \n",
              "4      137             40             35  43.1                     2.288   33   \n",
              "\n",
              "   Pregnancies_high  Insulin_log  low_glu_insulin  \n",
              "0             False     5.332719            False  \n",
              "1             False     4.875197            False  \n",
              "2              True     5.332719            False  \n",
              "3             False     4.553877             True  \n",
              "4             False     5.129899            False  "
            ]
          },
          "execution_count": 234,
          "metadata": {},
          "output_type": "execute_result"
        }
      ],
      "source": [
        "# 학습 세트 만들기 ex.시험의 기출문제\n",
        "X_train = train[feature_names]\n",
        "print(X_train.shape)\n",
        "X_train.head()"
      ]
    },
    {
      "cell_type": "code",
      "execution_count": null,
      "id": "86408c42",
      "metadata": {
        "id": "86408c42",
        "outputId": "1806055f-adbe-4dca-9a0f-53183d7fb4b9"
      },
      "outputs": [
        {
          "name": "stdout",
          "output_type": "stream",
          "text": [
            "(614,)\n"
          ]
        },
        {
          "data": {
            "text/plain": [
              "0    1\n",
              "1    0\n",
              "2    1\n",
              "3    0\n",
              "4    1\n",
              "Name: Outcome, dtype: int64"
            ]
          },
          "execution_count": 235,
          "metadata": {},
          "output_type": "execute_result"
        }
      ],
      "source": [
        "# 정답 값 ex.기출문제의 정답\n",
        "y_train = train[label_name]\n",
        "print(y_train.shape)\n",
        "y_train.head()"
      ]
    },
    {
      "cell_type": "code",
      "execution_count": null,
      "id": "1ef69062",
      "metadata": {
        "id": "1ef69062",
        "outputId": "55d1c920-4c89-4fbe-f2af-fc153cb1966e"
      },
      "outputs": [
        {
          "name": "stdout",
          "output_type": "stream",
          "text": [
            "(154, 9)\n"
          ]
        },
        {
          "data": {
            "text/html": [
              "<div>\n",
              "<style scoped>\n",
              "    .dataframe tbody tr th:only-of-type {\n",
              "        vertical-align: middle;\n",
              "    }\n",
              "\n",
              "    .dataframe tbody tr th {\n",
              "        vertical-align: top;\n",
              "    }\n",
              "\n",
              "    .dataframe thead th {\n",
              "        text-align: right;\n",
              "    }\n",
              "</style>\n",
              "<table border=\"1\" class=\"dataframe\">\n",
              "  <thead>\n",
              "    <tr style=\"text-align: right;\">\n",
              "      <th></th>\n",
              "      <th>Glucose</th>\n",
              "      <th>BloodPressure</th>\n",
              "      <th>SkinThickness</th>\n",
              "      <th>BMI</th>\n",
              "      <th>DiabetesPedigreeFunction</th>\n",
              "      <th>Age</th>\n",
              "      <th>Pregnancies_high</th>\n",
              "      <th>Insulin_log</th>\n",
              "      <th>low_glu_insulin</th>\n",
              "    </tr>\n",
              "  </thead>\n",
              "  <tbody>\n",
              "    <tr>\n",
              "      <th>614</th>\n",
              "      <td>138</td>\n",
              "      <td>74</td>\n",
              "      <td>26</td>\n",
              "      <td>36.1</td>\n",
              "      <td>0.557</td>\n",
              "      <td>50</td>\n",
              "      <td>True</td>\n",
              "      <td>4.976734</td>\n",
              "      <td>False</td>\n",
              "    </tr>\n",
              "    <tr>\n",
              "      <th>615</th>\n",
              "      <td>106</td>\n",
              "      <td>72</td>\n",
              "      <td>0</td>\n",
              "      <td>25.8</td>\n",
              "      <td>0.207</td>\n",
              "      <td>27</td>\n",
              "      <td>False</td>\n",
              "      <td>4.875197</td>\n",
              "      <td>False</td>\n",
              "    </tr>\n",
              "    <tr>\n",
              "      <th>616</th>\n",
              "      <td>117</td>\n",
              "      <td>96</td>\n",
              "      <td>0</td>\n",
              "      <td>28.7</td>\n",
              "      <td>0.157</td>\n",
              "      <td>30</td>\n",
              "      <td>False</td>\n",
              "      <td>4.875197</td>\n",
              "      <td>False</td>\n",
              "    </tr>\n",
              "    <tr>\n",
              "      <th>617</th>\n",
              "      <td>68</td>\n",
              "      <td>62</td>\n",
              "      <td>13</td>\n",
              "      <td>20.1</td>\n",
              "      <td>0.257</td>\n",
              "      <td>23</td>\n",
              "      <td>False</td>\n",
              "      <td>2.772589</td>\n",
              "      <td>True</td>\n",
              "    </tr>\n",
              "    <tr>\n",
              "      <th>618</th>\n",
              "      <td>112</td>\n",
              "      <td>82</td>\n",
              "      <td>24</td>\n",
              "      <td>28.2</td>\n",
              "      <td>1.282</td>\n",
              "      <td>50</td>\n",
              "      <td>True</td>\n",
              "      <td>5.332719</td>\n",
              "      <td>False</td>\n",
              "    </tr>\n",
              "  </tbody>\n",
              "</table>\n",
              "</div>"
            ],
            "text/plain": [
              "     Glucose  BloodPressure  SkinThickness   BMI  DiabetesPedigreeFunction  \\\n",
              "614      138             74             26  36.1                     0.557   \n",
              "615      106             72              0  25.8                     0.207   \n",
              "616      117             96              0  28.7                     0.157   \n",
              "617       68             62             13  20.1                     0.257   \n",
              "618      112             82             24  28.2                     1.282   \n",
              "\n",
              "     Age  Pregnancies_high  Insulin_log  low_glu_insulin  \n",
              "614   50              True     4.976734            False  \n",
              "615   27             False     4.875197            False  \n",
              "616   30             False     4.875197            False  \n",
              "617   23             False     2.772589             True  \n",
              "618   50              True     5.332719            False  "
            ]
          },
          "execution_count": 236,
          "metadata": {},
          "output_type": "execute_result"
        }
      ],
      "source": [
        "# 예측에 사용할 데이터셋 만들기 ex.실전 시험 문제\n",
        "X_test = test[feature_names]\n",
        "print(X_test.shape)\n",
        "X_test.head()"
      ]
    },
    {
      "cell_type": "code",
      "execution_count": null,
      "id": "ca3c7d2a",
      "metadata": {
        "id": "ca3c7d2a",
        "outputId": "9e9ec5e7-6679-4ec0-8560-f7ebe8ee8872"
      },
      "outputs": [
        {
          "name": "stdout",
          "output_type": "stream",
          "text": [
            "(154,)\n"
          ]
        },
        {
          "data": {
            "text/plain": [
              "614    1\n",
              "615    0\n",
              "616    0\n",
              "617    0\n",
              "618    1\n",
              "Name: Outcome, dtype: int64"
            ]
          },
          "execution_count": 237,
          "metadata": {},
          "output_type": "execute_result"
        }
      ],
      "source": [
        "# 예측의 정답값 ex.실전 시험 문제의 정답\n",
        "y_test = test[label_name]\n",
        "print(y_test.shape)\n",
        "y_test.head()"
      ]
    },
    {
      "cell_type": "markdown",
      "id": "f50c3106",
      "metadata": {
        "id": "f50c3106"
      },
      "source": [
        "## 머신러닝 알고리즘 가져오기"
      ]
    },
    {
      "cell_type": "code",
      "execution_count": null,
      "id": "7fd23208",
      "metadata": {
        "id": "7fd23208",
        "outputId": "fb09a6fa-070f-4589-dbcd-07021590e277"
      },
      "outputs": [
        {
          "data": {
            "text/plain": [
              "DecisionTreeClassifier()"
            ]
          },
          "execution_count": 238,
          "metadata": {},
          "output_type": "execute_result"
        }
      ],
      "source": [
        "from sklearn.tree import DecisionTreeClassifier\n",
        "\n",
        "model = DecisionTreeClassifier()\n",
        "model"
      ]
    },
    {
      "cell_type": "markdown",
      "id": "c68f1704",
      "metadata": {
        "id": "c68f1704"
      },
      "source": [
        "## 학습(훈련)"
      ]
    },
    {
      "cell_type": "markdown",
      "id": "32edc937",
      "metadata": {
        "id": "32edc937"
      },
      "source": [
        "* 시험을 볼 때 기출문제와 정답을 보고 공부하는 과정과 유사\n",
        "- 기출문제 : X_train\n",
        "- 정답 : y_train"
      ]
    },
    {
      "cell_type": "code",
      "execution_count": null,
      "id": "b47550db",
      "metadata": {
        "id": "b47550db",
        "outputId": "5dfbe3ac-2a73-4d38-8d65-871279efed56"
      },
      "outputs": [
        {
          "data": {
            "text/plain": [
              "DecisionTreeClassifier()"
            ]
          },
          "execution_count": 239,
          "metadata": {},
          "output_type": "execute_result"
        }
      ],
      "source": [
        "model.fit(X_train, y_train)"
      ]
    },
    {
      "cell_type": "markdown",
      "id": "6a6a1d66",
      "metadata": {
        "id": "6a6a1d66"
      },
      "source": [
        "## 예측"
      ]
    },
    {
      "cell_type": "markdown",
      "id": "e84f302d",
      "metadata": {
        "id": "e84f302d"
      },
      "source": [
        "- 실전 시험문제(X_test)를 가지고 정답을 직접 예측"
      ]
    },
    {
      "cell_type": "code",
      "execution_count": null,
      "id": "ec23eb5f",
      "metadata": {
        "id": "ec23eb5f",
        "outputId": "a7bf3af2-cc25-4808-d887-1055eca42667"
      },
      "outputs": [
        {
          "data": {
            "text/plain": [
              "array([1, 0, 0, 0, 1])"
            ]
          },
          "execution_count": 240,
          "metadata": {},
          "output_type": "execute_result"
        }
      ],
      "source": [
        "y_predict = model.predict(X_test)\n",
        "y_predict[:5]"
      ]
    },
    {
      "cell_type": "markdown",
      "id": "04f6d5d8",
      "metadata": {
        "id": "04f6d5d8"
      },
      "source": [
        "## 트리 알고리즘 분석하기"
      ]
    },
    {
      "cell_type": "markdown",
      "id": "be1ce17a",
      "metadata": {
        "id": "be1ce17a"
      },
      "source": [
        "* 의사결정나무를 시각화"
      ]
    },
    {
      "cell_type": "code",
      "execution_count": null,
      "id": "aa393012",
      "metadata": {
        "id": "aa393012",
        "outputId": "0eaed264-fec3-46d2-e023-d6d106cc1d02"
      },
      "outputs": [
        {
          "data": {
            "image/png": "[encoded data removed]",
            "text/plain": [
              "<Figure size 1440x1440 with 1 Axes>"
            ]
          },
          "metadata": {
            "needs_background": "light"
          },
          "output_type": "display_data"
        }
      ],
      "source": [
        "from sklearn.tree import plot_tree\n",
        "\n",
        "plt.figure(figsize=(20,20))\n",
        "tree = plot_tree(model,\n",
        "                 feature_names=feature_names,\n",
        "                 filled=True,\n",
        "                 fontsize=10)"
      ]
    },
    {
      "cell_type": "code",
      "execution_count": null,
      "id": "d206f354",
      "metadata": {
        "id": "d206f354",
        "outputId": "b4beed41-ff27-4d9d-fe0b-7c7baae389f9"
      },
      "outputs": [
        {
          "data": {
            "image/svg+xml": [
              "<?xml version=\"1.0\" encoding=\"UTF-8\" standalone=\"no\"?>\n",
              "<!DOCTYPE svg PUBLIC \"-//W3C//DTD SVG 1.1//EN\"\n",
              " \"http://www.w3.org/Graphics/SVG/1.1/DTD/svg11.dtd\">\n",
              "<!-- Generated by graphviz version 2.40.1 (20161225.0304)\n",
              " -->\n",
              "<!-- Title: Tree Pages: 1 -->\n",
              "<svg width=\"3209pt\" height=\"1517pt\"\n",
              " viewBox=\"0.00 0.00 3208.50 1517.00\" xmlns=\"http://www.w3.org/2000/svg\" xmlns:xlink=\"http://www.w3.org/1999/xlink\">\n",
              "<g id=\"graph0\" class=\"graph\" transform=\"scale(1 1) rotate(0) translate(4 1513)\">\n",
              "<title>Tree</title>\n",
              "<polygon fill=\"#ffffff\" stroke=\"transparent\" points=\"-4,4 -4,-1513 3204.5,-1513 3204.5,4 -4,4\"/>\n",
              "<!-- 0 -->\n",
              "<g id=\"node1\" class=\"node\">\n",
              "<title>0</title>\n",
              "<polygon fill=\"#f3c4a2\" stroke=\"#000000\" points=\"2013,-1509 1878,-1509 1878,-1441 2013,-1441 2013,-1509\"/>\n",
              "<text text-anchor=\"middle\" x=\"1945.5\" y=\"-1493.8\" font-family=\"Times,serif\" font-size=\"14.00\" fill=\"#000000\">Insulin_log &lt;= 4.973</text>\n",
              "<text text-anchor=\"middle\" x=\"1945.5\" y=\"-1478.8\" font-family=\"Times,serif\" font-size=\"14.00\" fill=\"#000000\">gini = 0.453</text>\n",
              "<text text-anchor=\"middle\" x=\"1945.5\" y=\"-1463.8\" font-family=\"Times,serif\" font-size=\"14.00\" fill=\"#000000\">samples = 614</text>\n",
              "<text text-anchor=\"middle\" x=\"1945.5\" y=\"-1448.8\" font-family=\"Times,serif\" font-size=\"14.00\" fill=\"#000000\">value = [401, 213]</text>\n",
              "</g>\n",
              "<!-- 1 -->\n",
              "<g id=\"node2\" class=\"node\">\n",
              "<title>1</title>\n",
              "<polygon fill=\"#e88d4c\" stroke=\"#000000\" points=\"1935,-1405 1822,-1405 1822,-1337 1935,-1337 1935,-1405\"/>\n",
              "<text text-anchor=\"middle\" x=\"1878.5\" y=\"-1389.8\" font-family=\"Times,serif\" font-size=\"14.00\" fill=\"#000000\">BMI &lt;= 50.0</text>\n",
              "<text text-anchor=\"middle\" x=\"1878.5\" y=\"-1374.8\" font-family=\"Times,serif\" font-size=\"14.00\" fill=\"#000000\">gini = 0.163</text>\n",
              "<text text-anchor=\"middle\" x=\"1878.5\" y=\"-1359.8\" font-family=\"Times,serif\" font-size=\"14.00\" fill=\"#000000\">samples = 380</text>\n",
              "<text text-anchor=\"middle\" x=\"1878.5\" y=\"-1344.8\" font-family=\"Times,serif\" font-size=\"14.00\" fill=\"#000000\">value = [346, 34]</text>\n",
              "</g>\n",
              "<!-- 0&#45;&gt;1 -->\n",
              "<g id=\"edge1\" class=\"edge\">\n",
              "<title>0&#45;&gt;1</title>\n",
              "<path fill=\"none\" stroke=\"#000000\" d=\"M1923.5617,-1440.9465C1917.951,-1432.2373 1911.8471,-1422.7626 1905.9958,-1413.6801\"/>\n",
              "<polygon fill=\"#000000\" stroke=\"#000000\" points=\"1908.8457,-1411.641 1900.4876,-1405.13 1902.9611,-1415.4321 1908.8457,-1411.641\"/>\n",
              "<text text-anchor=\"middle\" x=\"1895.2006\" y=\"-1425.8646\" font-family=\"Times,serif\" font-size=\"14.00\" fill=\"#000000\">True</text>\n",
              "</g>\n",
              "<!-- 64 -->\n",
              "<g id=\"node65\" class=\"node\">\n",
              "<title>64</title>\n",
              "<polygon fill=\"#76bbed\" stroke=\"#000000\" points=\"2272,-1405 2159,-1405 2159,-1337 2272,-1337 2272,-1405\"/>\n",
              "<text text-anchor=\"middle\" x=\"2215.5\" y=\"-1389.8\" font-family=\"Times,serif\" font-size=\"14.00\" fill=\"#000000\">Age &lt;= 27.5</text>\n",
              "<text text-anchor=\"middle\" x=\"2215.5\" y=\"-1374.8\" font-family=\"Times,serif\" font-size=\"14.00\" fill=\"#000000\">gini = 0.36</text>\n",
              "<text text-anchor=\"middle\" x=\"2215.5\" y=\"-1359.8\" font-family=\"Times,serif\" font-size=\"14.00\" fill=\"#000000\">samples = 234</text>\n",
              "<text text-anchor=\"middle\" x=\"2215.5\" y=\"-1344.8\" font-family=\"Times,serif\" font-size=\"14.00\" fill=\"#000000\">value = [55, 179]</text>\n",
              "</g>\n",
              "<!-- 0&#45;&gt;64 -->\n",
              "<g id=\"edge64\" class=\"edge\">\n",
              "<title>0&#45;&gt;64</title>\n",
              "<path fill=\"none\" stroke=\"#000000\" d=\"M2013.2839,-1448.8906C2054.8762,-1432.8699 2107.8966,-1412.4472 2149.2108,-1396.5336\"/>\n",
              "<polygon fill=\"#000000\" stroke=\"#000000\" points=\"2150.5677,-1399.7617 2158.6413,-1392.9011 2148.0516,-1393.2295 2150.5677,-1399.7617\"/>\n",
              "<text text-anchor=\"middle\" x=\"2148.4992\" y=\"-1412.0515\" font-family=\"Times,serif\" font-size=\"14.00\" fill=\"#000000\">False</text>\n",
              "</g>\n",
              "<!-- 2 -->\n",
              "<g id=\"node3\" class=\"node\">\n",
              "<title>2</title>\n",
              "<polygon fill=\"#e78c4a\" stroke=\"#000000\" points=\"1474,-1301 1357,-1301 1357,-1233 1474,-1233 1474,-1301\"/>\n",
              "<text text-anchor=\"middle\" x=\"1415.5\" y=\"-1285.8\" font-family=\"Times,serif\" font-size=\"14.00\" fill=\"#000000\">Glucose &lt;= 124.5</text>\n",
              "<text text-anchor=\"middle\" x=\"1415.5\" y=\"-1270.8\" font-family=\"Times,serif\" font-size=\"14.00\" fill=\"#000000\">gini = 0.147</text>\n",
              "<text text-anchor=\"middle\" x=\"1415.5\" y=\"-1255.8\" font-family=\"Times,serif\" font-size=\"14.00\" fill=\"#000000\">samples = 376</text>\n",
              "<text text-anchor=\"middle\" x=\"1415.5\" y=\"-1240.8\" font-family=\"Times,serif\" font-size=\"14.00\" fill=\"#000000\">value = [346, 30]</text>\n",
              "</g>\n",
              "<!-- 1&#45;&gt;2 -->\n",
              "<g id=\"edge2\" class=\"edge\">\n",
              "<title>1&#45;&gt;2</title>\n",
              "<path fill=\"none\" stroke=\"#000000\" d=\"M1821.7271,-1358.2476C1736.5413,-1339.1129 1575.8914,-1303.0274 1484.2102,-1282.4338\"/>\n",
              "<polygon fill=\"#000000\" stroke=\"#000000\" points=\"1484.722,-1278.9616 1474.198,-1280.1849 1483.1878,-1285.7915 1484.722,-1278.9616\"/>\n",
              "</g>\n",
              "<!-- 63 -->\n",
              "<g id=\"node64\" class=\"node\">\n",
              "<title>63</title>\n",
              "<polygon fill=\"#399de5\" stroke=\"#000000\" points=\"1924.5,-1293.5 1832.5,-1293.5 1832.5,-1240.5 1924.5,-1240.5 1924.5,-1293.5\"/>\n",
              "<text text-anchor=\"middle\" x=\"1878.5\" y=\"-1278.3\" font-family=\"Times,serif\" font-size=\"14.00\" fill=\"#000000\">gini = 0.0</text>\n",
              "<text text-anchor=\"middle\" x=\"1878.5\" y=\"-1263.3\" font-family=\"Times,serif\" font-size=\"14.00\" fill=\"#000000\">samples = 4</text>\n",
              "<text text-anchor=\"middle\" x=\"1878.5\" y=\"-1248.3\" font-family=\"Times,serif\" font-size=\"14.00\" fill=\"#000000\">value = [0, 4]</text>\n",
              "</g>\n",
              "<!-- 1&#45;&gt;63 -->\n",
              "<g id=\"edge63\" class=\"edge\">\n",
              "<title>1&#45;&gt;63</title>\n",
              "<path fill=\"none\" stroke=\"#000000\" d=\"M1878.5,-1336.9465C1878.5,-1326.2621 1878.5,-1314.4254 1878.5,-1303.5742\"/>\n",
              "<polygon fill=\"#000000\" stroke=\"#000000\" points=\"1882.0001,-1303.5421 1878.5,-1293.5422 1875.0001,-1303.5422 1882.0001,-1303.5421\"/>\n",
              "</g>\n",
              "<!-- 3 -->\n",
              "<g id=\"node4\" class=\"node\">\n",
              "<title>3</title>\n",
              "<polygon fill=\"#e68641\" stroke=\"#000000\" points=\"1185,-1197 1050,-1197 1050,-1129 1185,-1129 1185,-1197\"/>\n",
              "<text text-anchor=\"middle\" x=\"1117.5\" y=\"-1181.8\" font-family=\"Times,serif\" font-size=\"14.00\" fill=\"#000000\">Insulin_log &lt;= 4.871</text>\n",
              "<text text-anchor=\"middle\" x=\"1117.5\" y=\"-1166.8\" font-family=\"Times,serif\" font-size=\"14.00\" fill=\"#000000\">gini = 0.073</text>\n",
              "<text text-anchor=\"middle\" x=\"1117.5\" y=\"-1151.8\" font-family=\"Times,serif\" font-size=\"14.00\" fill=\"#000000\">samples = 290</text>\n",
              "<text text-anchor=\"middle\" x=\"1117.5\" y=\"-1136.8\" font-family=\"Times,serif\" font-size=\"14.00\" fill=\"#000000\">value = [279, 11]</text>\n",
              "</g>\n",
              "<!-- 2&#45;&gt;3 -->\n",
              "<g id=\"edge3\" class=\"edge\">\n",
              "<title>2&#45;&gt;3</title>\n",
              "<path fill=\"none\" stroke=\"#000000\" d=\"M1356.9804,-1246.577C1310.5619,-1230.3773 1245.288,-1207.5972 1194.6084,-1189.9103\"/>\n",
              "<polygon fill=\"#000000\" stroke=\"#000000\" points=\"1195.5953,-1186.5478 1185.0004,-1186.5572 1193.2887,-1193.1568 1195.5953,-1186.5478\"/>\n",
              "</g>\n",
              "<!-- 30 -->\n",
              "<g id=\"node31\" class=\"node\">\n",
              "<title>30</title>\n",
              "<polygon fill=\"#eca571\" stroke=\"#000000\" points=\"1488.5,-1197 1342.5,-1197 1342.5,-1129 1488.5,-1129 1488.5,-1197\"/>\n",
              "<text text-anchor=\"middle\" x=\"1415.5\" y=\"-1181.8\" font-family=\"Times,serif\" font-size=\"14.00\" fill=\"#000000\">SkinThickness &lt;= 16.0</text>\n",
              "<text text-anchor=\"middle\" x=\"1415.5\" y=\"-1166.8\" font-family=\"Times,serif\" font-size=\"14.00\" fill=\"#000000\">gini = 0.344</text>\n",
              "<text text-anchor=\"middle\" x=\"1415.5\" y=\"-1151.8\" font-family=\"Times,serif\" font-size=\"14.00\" fill=\"#000000\">samples = 86</text>\n",
              "<text text-anchor=\"middle\" x=\"1415.5\" y=\"-1136.8\" font-family=\"Times,serif\" font-size=\"14.00\" fill=\"#000000\">value = [67, 19]</text>\n",
              "</g>\n",
              "<!-- 2&#45;&gt;30 -->\n",
              "<g id=\"edge30\" class=\"edge\">\n",
              "<title>2&#45;&gt;30</title>\n",
              "<path fill=\"none\" stroke=\"#000000\" d=\"M1415.5,-1232.9465C1415.5,-1224.776 1415.5,-1215.9318 1415.5,-1207.3697\"/>\n",
              "<polygon fill=\"#000000\" stroke=\"#000000\" points=\"1419.0001,-1207.13 1415.5,-1197.13 1412.0001,-1207.13 1419.0001,-1207.13\"/>\n",
              "</g>\n",
              "<!-- 4 -->\n",
              "<g id=\"node5\" class=\"node\">\n",
              "<title>4</title>\n",
              "<polygon fill=\"#e78c4a\" stroke=\"#000000\" points=\"988,-1093 853,-1093 853,-1025 988,-1025 988,-1093\"/>\n",
              "<text text-anchor=\"middle\" x=\"920.5\" y=\"-1077.8\" font-family=\"Times,serif\" font-size=\"14.00\" fill=\"#000000\">Insulin_log &lt;= 4.856</text>\n",
              "<text text-anchor=\"middle\" x=\"920.5\" y=\"-1062.8\" font-family=\"Times,serif\" font-size=\"14.00\" fill=\"#000000\">gini = 0.148</text>\n",
              "<text text-anchor=\"middle\" x=\"920.5\" y=\"-1047.8\" font-family=\"Times,serif\" font-size=\"14.00\" fill=\"#000000\">samples = 137</text>\n",
              "<text text-anchor=\"middle\" x=\"920.5\" y=\"-1032.8\" font-family=\"Times,serif\" font-size=\"14.00\" fill=\"#000000\">value = [126, 11]</text>\n",
              "</g>\n",
              "<!-- 3&#45;&gt;4 -->\n",
              "<g id=\"edge4\" class=\"edge\">\n",
              "<title>3&#45;&gt;4</title>\n",
              "<path fill=\"none\" stroke=\"#000000\" d=\"M1052.9948,-1128.9465C1034.2016,-1119.0252 1013.5266,-1108.1105 994.2117,-1097.9138\"/>\n",
              "<polygon fill=\"#000000\" stroke=\"#000000\" points=\"995.6274,-1094.7034 985.1501,-1093.13 992.3594,-1100.8938 995.6274,-1094.7034\"/>\n",
              "</g>\n",
              "<!-- 29 -->\n",
              "<g id=\"node30\" class=\"node\">\n",
              "<title>29</title>\n",
              "<polygon fill=\"#e58139\" stroke=\"#000000\" points=\"1170.5,-1085.5 1064.5,-1085.5 1064.5,-1032.5 1170.5,-1032.5 1170.5,-1085.5\"/>\n",
              "<text text-anchor=\"middle\" x=\"1117.5\" y=\"-1070.3\" font-family=\"Times,serif\" font-size=\"14.00\" fill=\"#000000\">gini = 0.0</text>\n",
              "<text text-anchor=\"middle\" x=\"1117.5\" y=\"-1055.3\" font-family=\"Times,serif\" font-size=\"14.00\" fill=\"#000000\">samples = 153</text>\n",
              "<text text-anchor=\"middle\" x=\"1117.5\" y=\"-1040.3\" font-family=\"Times,serif\" font-size=\"14.00\" fill=\"#000000\">value = [153, 0]</text>\n",
              "</g>\n",
              "<!-- 3&#45;&gt;29 -->\n",
              "<g id=\"edge29\" class=\"edge\">\n",
              "<title>3&#45;&gt;29</title>\n",
              "<path fill=\"none\" stroke=\"#000000\" d=\"M1117.5,-1128.9465C1117.5,-1118.2621 1117.5,-1106.4254 1117.5,-1095.5742\"/>\n",
              "<polygon fill=\"#000000\" stroke=\"#000000\" points=\"1121.0001,-1095.5421 1117.5,-1085.5422 1114.0001,-1095.5422 1121.0001,-1095.5421\"/>\n",
              "</g>\n",
              "<!-- 5 -->\n",
              "<g id=\"node6\" class=\"node\">\n",
              "<title>5</title>\n",
              "<polygon fill=\"#e78b49\" stroke=\"#000000\" points=\"609,-989 496,-989 496,-921 609,-921 609,-989\"/>\n",
              "<text text-anchor=\"middle\" x=\"552.5\" y=\"-973.8\" font-family=\"Times,serif\" font-size=\"14.00\" fill=\"#000000\">Glucose &lt;= 99.5</text>\n",
              "<text text-anchor=\"middle\" x=\"552.5\" y=\"-958.8\" font-family=\"Times,serif\" font-size=\"14.00\" fill=\"#000000\">gini = 0.136</text>\n",
              "<text text-anchor=\"middle\" x=\"552.5\" y=\"-943.8\" font-family=\"Times,serif\" font-size=\"14.00\" fill=\"#000000\">samples = 136</text>\n",
              "<text text-anchor=\"middle\" x=\"552.5\" y=\"-928.8\" font-family=\"Times,serif\" font-size=\"14.00\" fill=\"#000000\">value = [126, 10]</text>\n",
              "</g>\n",
              "<!-- 4&#45;&gt;5 -->\n",
              "<g id=\"edge5\" class=\"edge\">\n",
              "<title>4&#45;&gt;5</title>\n",
              "<path fill=\"none\" stroke=\"#000000\" d=\"M852.5743,-1039.8036C786.0039,-1020.9902 685.1721,-992.4943 619.0713,-973.8136\"/>\n",
              "<polygon fill=\"#000000\" stroke=\"#000000\" points=\"619.7504,-970.3685 609.1755,-971.017 617.8467,-977.1047 619.7504,-970.3685\"/>\n",
              "</g>\n",
              "<!-- 28 -->\n",
              "<g id=\"node29\" class=\"node\">\n",
              "<title>28</title>\n",
              "<polygon fill=\"#399de5\" stroke=\"#000000\" points=\"966.5,-981.5 874.5,-981.5 874.5,-928.5 966.5,-928.5 966.5,-981.5\"/>\n",
              "<text text-anchor=\"middle\" x=\"920.5\" y=\"-966.3\" font-family=\"Times,serif\" font-size=\"14.00\" fill=\"#000000\">gini = 0.0</text>\n",
              "<text text-anchor=\"middle\" x=\"920.5\" y=\"-951.3\" font-family=\"Times,serif\" font-size=\"14.00\" fill=\"#000000\">samples = 1</text>\n",
              "<text text-anchor=\"middle\" x=\"920.5\" y=\"-936.3\" font-family=\"Times,serif\" font-size=\"14.00\" fill=\"#000000\">value = [0, 1]</text>\n",
              "</g>\n",
              "<!-- 4&#45;&gt;28 -->\n",
              "<g id=\"edge28\" class=\"edge\">\n",
              "<title>4&#45;&gt;28</title>\n",
              "<path fill=\"none\" stroke=\"#000000\" d=\"M920.5,-1024.9465C920.5,-1014.2621 920.5,-1002.4254 920.5,-991.5742\"/>\n",
              "<polygon fill=\"#000000\" stroke=\"#000000\" points=\"924.0001,-991.5421 920.5,-981.5422 917.0001,-991.5422 924.0001,-991.5421\"/>\n",
              "</g>\n",
              "<!-- 6 -->\n",
              "<g id=\"node7\" class=\"node\">\n",
              "<title>6</title>\n",
              "<polygon fill=\"#e6843e\" stroke=\"#000000\" points=\"417,-885 198,-885 198,-817 417,-817 417,-885\"/>\n",
              "<text text-anchor=\"middle\" x=\"307.5\" y=\"-869.8\" font-family=\"Times,serif\" font-size=\"14.00\" fill=\"#000000\">DiabetesPedigreeFunction &lt;= 0.248</text>\n",
              "<text text-anchor=\"middle\" x=\"307.5\" y=\"-854.8\" font-family=\"Times,serif\" font-size=\"14.00\" fill=\"#000000\">gini = 0.047</text>\n",
              "<text text-anchor=\"middle\" x=\"307.5\" y=\"-839.8\" font-family=\"Times,serif\" font-size=\"14.00\" fill=\"#000000\">samples = 83</text>\n",
              "<text text-anchor=\"middle\" x=\"307.5\" y=\"-824.8\" font-family=\"Times,serif\" font-size=\"14.00\" fill=\"#000000\">value = [81, 2]</text>\n",
              "</g>\n",
              "<!-- 5&#45;&gt;6 -->\n",
              "<g id=\"edge6\" class=\"edge\">\n",
              "<title>5&#45;&gt;6</title>\n",
              "<path fill=\"none\" stroke=\"#000000\" d=\"M495.9844,-931.0097C466.6622,-918.5627 430.1505,-903.0639 397.0923,-889.031\"/>\n",
              "<polygon fill=\"#000000\" stroke=\"#000000\" points=\"398.4412,-885.8014 387.8686,-885.1156 395.706,-892.2449 398.4412,-885.8014\"/>\n",
              "</g>\n",
              "<!-- 11 -->\n",
              "<g id=\"node12\" class=\"node\">\n",
              "<title>11</title>\n",
              "<polygon fill=\"#ea975c\" stroke=\"#000000\" points=\"662,-885 443,-885 443,-817 662,-817 662,-885\"/>\n",
              "<text text-anchor=\"middle\" x=\"552.5\" y=\"-869.8\" font-family=\"Times,serif\" font-size=\"14.00\" fill=\"#000000\">DiabetesPedigreeFunction &lt;= 0.504</text>\n",
              "<text text-anchor=\"middle\" x=\"552.5\" y=\"-854.8\" font-family=\"Times,serif\" font-size=\"14.00\" fill=\"#000000\">gini = 0.256</text>\n",
              "<text text-anchor=\"middle\" x=\"552.5\" y=\"-839.8\" font-family=\"Times,serif\" font-size=\"14.00\" fill=\"#000000\">samples = 53</text>\n",
              "<text text-anchor=\"middle\" x=\"552.5\" y=\"-824.8\" font-family=\"Times,serif\" font-size=\"14.00\" fill=\"#000000\">value = [45, 8]</text>\n",
              "</g>\n",
              "<!-- 5&#45;&gt;11 -->\n",
              "<g id=\"edge11\" class=\"edge\">\n",
              "<title>5&#45;&gt;11</title>\n",
              "<path fill=\"none\" stroke=\"#000000\" d=\"M552.5,-920.9465C552.5,-912.776 552.5,-903.9318 552.5,-895.3697\"/>\n",
              "<polygon fill=\"#000000\" stroke=\"#000000\" points=\"556.0001,-895.13 552.5,-885.13 549.0001,-895.13 556.0001,-895.13\"/>\n",
              "</g>\n",
              "<!-- 7 -->\n",
              "<g id=\"node8\" class=\"node\">\n",
              "<title>7</title>\n",
              "<polygon fill=\"#e99355\" stroke=\"#000000\" points=\"240,-781 21,-781 21,-713 240,-713 240,-781\"/>\n",
              "<text text-anchor=\"middle\" x=\"130.5\" y=\"-765.8\" font-family=\"Times,serif\" font-size=\"14.00\" fill=\"#000000\">DiabetesPedigreeFunction &lt;= 0.241</text>\n",
              "<text text-anchor=\"middle\" x=\"130.5\" y=\"-750.8\" font-family=\"Times,serif\" font-size=\"14.00\" fill=\"#000000\">gini = 0.219</text>\n",
              "<text text-anchor=\"middle\" x=\"130.5\" y=\"-735.8\" font-family=\"Times,serif\" font-size=\"14.00\" fill=\"#000000\">samples = 16</text>\n",
              "<text text-anchor=\"middle\" x=\"130.5\" y=\"-720.8\" font-family=\"Times,serif\" font-size=\"14.00\" fill=\"#000000\">value = [14, 2]</text>\n",
              "</g>\n",
              "<!-- 6&#45;&gt;7 -->\n",
              "<g id=\"edge7\" class=\"edge\">\n",
              "<title>6&#45;&gt;7</title>\n",
              "<path fill=\"none\" stroke=\"#000000\" d=\"M249.5436,-816.9465C232.8875,-807.1599 214.5863,-796.4066 197.4356,-786.3294\"/>\n",
              "<polygon fill=\"#000000\" stroke=\"#000000\" points=\"198.9816,-783.1783 188.5866,-781.13 195.4354,-789.2136 198.9816,-783.1783\"/>\n",
              "</g>\n",
              "<!-- 10 -->\n",
              "<g id=\"node11\" class=\"node\">\n",
              "<title>10</title>\n",
              "<polygon fill=\"#e58139\" stroke=\"#000000\" points=\"357,-773.5 258,-773.5 258,-720.5 357,-720.5 357,-773.5\"/>\n",
              "<text text-anchor=\"middle\" x=\"307.5\" y=\"-758.3\" font-family=\"Times,serif\" font-size=\"14.00\" fill=\"#000000\">gini = 0.0</text>\n",
              "<text text-anchor=\"middle\" x=\"307.5\" y=\"-743.3\" font-family=\"Times,serif\" font-size=\"14.00\" fill=\"#000000\">samples = 67</text>\n",
              "<text text-anchor=\"middle\" x=\"307.5\" y=\"-728.3\" font-family=\"Times,serif\" font-size=\"14.00\" fill=\"#000000\">value = [67, 0]</text>\n",
              "</g>\n",
              "<!-- 6&#45;&gt;10 -->\n",
              "<g id=\"edge10\" class=\"edge\">\n",
              "<title>6&#45;&gt;10</title>\n",
              "<path fill=\"none\" stroke=\"#000000\" d=\"M307.5,-816.9465C307.5,-806.2621 307.5,-794.4254 307.5,-783.5742\"/>\n",
              "<polygon fill=\"#000000\" stroke=\"#000000\" points=\"311.0001,-783.5421 307.5,-773.5422 304.0001,-783.5422 311.0001,-783.5421\"/>\n",
              "</g>\n",
              "<!-- 8 -->\n",
              "<g id=\"node9\" class=\"node\">\n",
              "<title>8</title>\n",
              "<polygon fill=\"#e58139\" stroke=\"#000000\" points=\"99,-669.5 0,-669.5 0,-616.5 99,-616.5 99,-669.5\"/>\n",
              "<text text-anchor=\"middle\" x=\"49.5\" y=\"-654.3\" font-family=\"Times,serif\" font-size=\"14.00\" fill=\"#000000\">gini = 0.0</text>\n",
              "<text text-anchor=\"middle\" x=\"49.5\" y=\"-639.3\" font-family=\"Times,serif\" font-size=\"14.00\" fill=\"#000000\">samples = 14</text>\n",
              "<text text-anchor=\"middle\" x=\"49.5\" y=\"-624.3\" font-family=\"Times,serif\" font-size=\"14.00\" fill=\"#000000\">value = [14, 0]</text>\n",
              "</g>\n",
              "<!-- 7&#45;&gt;8 -->\n",
              "<g id=\"edge8\" class=\"edge\">\n",
              "<title>7&#45;&gt;8</title>\n",
              "<path fill=\"none\" stroke=\"#000000\" d=\"M103.9776,-712.9465C95.1413,-701.6012 85.2932,-688.9567 76.4266,-677.5724\"/>\n",
              "<polygon fill=\"#000000\" stroke=\"#000000\" points=\"79.0783,-675.281 70.1723,-669.5422 73.5556,-679.5823 79.0783,-675.281\"/>\n",
              "</g>\n",
              "<!-- 9 -->\n",
              "<g id=\"node10\" class=\"node\">\n",
              "<title>9</title>\n",
              "<polygon fill=\"#399de5\" stroke=\"#000000\" points=\"209.5,-669.5 117.5,-669.5 117.5,-616.5 209.5,-616.5 209.5,-669.5\"/>\n",
              "<text text-anchor=\"middle\" x=\"163.5\" y=\"-654.3\" font-family=\"Times,serif\" font-size=\"14.00\" fill=\"#000000\">gini = 0.0</text>\n",
              "<text text-anchor=\"middle\" x=\"163.5\" y=\"-639.3\" font-family=\"Times,serif\" font-size=\"14.00\" fill=\"#000000\">samples = 2</text>\n",
              "<text text-anchor=\"middle\" x=\"163.5\" y=\"-624.3\" font-family=\"Times,serif\" font-size=\"14.00\" fill=\"#000000\">value = [0, 2]</text>\n",
              "</g>\n",
              "<!-- 7&#45;&gt;9 -->\n",
              "<g id=\"edge9\" class=\"edge\">\n",
              "<title>7&#45;&gt;9</title>\n",
              "<path fill=\"none\" stroke=\"#000000\" d=\"M141.3054,-712.9465C144.7306,-702.1519 148.529,-690.1813 152.0011,-679.2389\"/>\n",
              "<polygon fill=\"#000000\" stroke=\"#000000\" points=\"155.3895,-680.1324 155.078,-669.5422 148.7173,-678.0152 155.3895,-680.1324\"/>\n",
              "</g>\n",
              "<!-- 12 -->\n",
              "<g id=\"node13\" class=\"node\">\n",
              "<title>12</title>\n",
              "<polygon fill=\"#e68540\" stroke=\"#000000\" points=\"474,-781 375,-781 375,-713 474,-713 474,-781\"/>\n",
              "<text text-anchor=\"middle\" x=\"424.5\" y=\"-765.8\" font-family=\"Times,serif\" font-size=\"14.00\" fill=\"#000000\">BMI &lt;= 45.35</text>\n",
              "<text text-anchor=\"middle\" x=\"424.5\" y=\"-750.8\" font-family=\"Times,serif\" font-size=\"14.00\" fill=\"#000000\">gini = 0.062</text>\n",
              "<text text-anchor=\"middle\" x=\"424.5\" y=\"-735.8\" font-family=\"Times,serif\" font-size=\"14.00\" fill=\"#000000\">samples = 31</text>\n",
              "<text text-anchor=\"middle\" x=\"424.5\" y=\"-720.8\" font-family=\"Times,serif\" font-size=\"14.00\" fill=\"#000000\">value = [30, 1]</text>\n",
              "</g>\n",
              "<!-- 11&#45;&gt;12 -->\n",
              "<g id=\"edge12\" class=\"edge\">\n",
              "<title>11&#45;&gt;12</title>\n",
              "<path fill=\"none\" stroke=\"#000000\" d=\"M510.588,-816.9465C498.985,-807.519 486.2779,-797.1946 474.2741,-787.4415\"/>\n",
              "<polygon fill=\"#000000\" stroke=\"#000000\" points=\"476.4744,-784.7196 466.5061,-781.13 472.0602,-790.1524 476.4744,-784.7196\"/>\n",
              "</g>\n",
              "<!-- 15 -->\n",
              "<g id=\"node16\" class=\"node\">\n",
              "<title>15</title>\n",
              "<polygon fill=\"#f1bc95\" stroke=\"#000000\" points=\"606,-781 507,-781 507,-713 606,-713 606,-781\"/>\n",
              "<text text-anchor=\"middle\" x=\"556.5\" y=\"-765.8\" font-family=\"Times,serif\" font-size=\"14.00\" fill=\"#000000\">BMI &lt;= 32.65</text>\n",
              "<text text-anchor=\"middle\" x=\"556.5\" y=\"-750.8\" font-family=\"Times,serif\" font-size=\"14.00\" fill=\"#000000\">gini = 0.434</text>\n",
              "<text text-anchor=\"middle\" x=\"556.5\" y=\"-735.8\" font-family=\"Times,serif\" font-size=\"14.00\" fill=\"#000000\">samples = 22</text>\n",
              "<text text-anchor=\"middle\" x=\"556.5\" y=\"-720.8\" font-family=\"Times,serif\" font-size=\"14.00\" fill=\"#000000\">value = [15, 7]</text>\n",
              "</g>\n",
              "<!-- 11&#45;&gt;15 -->\n",
              "<g id=\"edge15\" class=\"edge\">\n",
              "<title>11&#45;&gt;15</title>\n",
              "<path fill=\"none\" stroke=\"#000000\" d=\"M553.8097,-816.9465C554.124,-808.776 554.4642,-799.9318 554.7935,-791.3697\"/>\n",
              "<polygon fill=\"#000000\" stroke=\"#000000\" points=\"558.3003,-791.2572 555.1873,-781.13 551.3055,-790.9881 558.3003,-791.2572\"/>\n",
              "</g>\n",
              "<!-- 13 -->\n",
              "<g id=\"node14\" class=\"node\">\n",
              "<title>13</title>\n",
              "<polygon fill=\"#e58139\" stroke=\"#000000\" points=\"355,-669.5 256,-669.5 256,-616.5 355,-616.5 355,-669.5\"/>\n",
              "<text text-anchor=\"middle\" x=\"305.5\" y=\"-654.3\" font-family=\"Times,serif\" font-size=\"14.00\" fill=\"#000000\">gini = 0.0</text>\n",
              "<text text-anchor=\"middle\" x=\"305.5\" y=\"-639.3\" font-family=\"Times,serif\" font-size=\"14.00\" fill=\"#000000\">samples = 30</text>\n",
              "<text text-anchor=\"middle\" x=\"305.5\" y=\"-624.3\" font-family=\"Times,serif\" font-size=\"14.00\" fill=\"#000000\">value = [30, 0]</text>\n",
              "</g>\n",
              "<!-- 12&#45;&gt;13 -->\n",
              "<g id=\"edge13\" class=\"edge\">\n",
              "<title>12&#45;&gt;13</title>\n",
              "<path fill=\"none\" stroke=\"#000000\" d=\"M385.5349,-712.9465C372.0491,-701.1606 356.9591,-687.9726 343.5479,-676.2519\"/>\n",
              "<polygon fill=\"#000000\" stroke=\"#000000\" points=\"345.7033,-673.4874 335.8704,-669.5422 341.0969,-678.7582 345.7033,-673.4874\"/>\n",
              "</g>\n",
              "<!-- 14 -->\n",
              "<g id=\"node15\" class=\"node\">\n",
              "<title>14</title>\n",
              "<polygon fill=\"#399de5\" stroke=\"#000000\" points=\"465.5,-669.5 373.5,-669.5 373.5,-616.5 465.5,-616.5 465.5,-669.5\"/>\n",
              "<text text-anchor=\"middle\" x=\"419.5\" y=\"-654.3\" font-family=\"Times,serif\" font-size=\"14.00\" fill=\"#000000\">gini = 0.0</text>\n",
              "<text text-anchor=\"middle\" x=\"419.5\" y=\"-639.3\" font-family=\"Times,serif\" font-size=\"14.00\" fill=\"#000000\">samples = 1</text>\n",
              "<text text-anchor=\"middle\" x=\"419.5\" y=\"-624.3\" font-family=\"Times,serif\" font-size=\"14.00\" fill=\"#000000\">value = [0, 1]</text>\n",
              "</g>\n",
              "<!-- 12&#45;&gt;14 -->\n",
              "<g id=\"edge14\" class=\"edge\">\n",
              "<title>12&#45;&gt;14</title>\n",
              "<path fill=\"none\" stroke=\"#000000\" d=\"M422.8628,-712.9465C422.3491,-702.2621 421.7801,-690.4254 421.2584,-679.5742\"/>\n",
              "<polygon fill=\"#000000\" stroke=\"#000000\" points=\"424.7523,-679.3625 420.7761,-669.5422 417.7604,-679.6987 424.7523,-679.3625\"/>\n",
              "</g>\n",
              "<!-- 16 -->\n",
              "<g id=\"node17\" class=\"node\">\n",
              "<title>16</title>\n",
              "<polygon fill=\"#e9965a\" stroke=\"#000000\" points=\"629,-677 484,-677 484,-609 629,-609 629,-677\"/>\n",
              "<text text-anchor=\"middle\" x=\"556.5\" y=\"-661.8\" font-family=\"Times,serif\" font-size=\"14.00\" fill=\"#000000\">BloodPressure &lt;= 75.0</text>\n",
              "<text text-anchor=\"middle\" x=\"556.5\" y=\"-646.8\" font-family=\"Times,serif\" font-size=\"14.00\" fill=\"#000000\">gini = 0.245</text>\n",
              "<text text-anchor=\"middle\" x=\"556.5\" y=\"-631.8\" font-family=\"Times,serif\" font-size=\"14.00\" fill=\"#000000\">samples = 14</text>\n",
              "<text text-anchor=\"middle\" x=\"556.5\" y=\"-616.8\" font-family=\"Times,serif\" font-size=\"14.00\" fill=\"#000000\">value = [12, 2]</text>\n",
              "</g>\n",
              "<!-- 15&#45;&gt;16 -->\n",
              "<g id=\"edge16\" class=\"edge\">\n",
              "<title>15&#45;&gt;16</title>\n",
              "<path fill=\"none\" stroke=\"#000000\" d=\"M556.5,-712.9465C556.5,-704.776 556.5,-695.9318 556.5,-687.3697\"/>\n",
              "<polygon fill=\"#000000\" stroke=\"#000000\" points=\"560.0001,-687.13 556.5,-677.13 553.0001,-687.13 560.0001,-687.13\"/>\n",
              "</g>\n",
              "<!-- 23 -->\n",
              "<g id=\"node24\" class=\"node\">\n",
              "<title>23</title>\n",
              "<polygon fill=\"#b0d8f5\" stroke=\"#000000\" points=\"744,-677 647,-677 647,-609 744,-609 744,-677\"/>\n",
              "<text text-anchor=\"middle\" x=\"695.5\" y=\"-661.8\" font-family=\"Times,serif\" font-size=\"14.00\" fill=\"#000000\">BMI &lt;= 34.85</text>\n",
              "<text text-anchor=\"middle\" x=\"695.5\" y=\"-646.8\" font-family=\"Times,serif\" font-size=\"14.00\" fill=\"#000000\">gini = 0.469</text>\n",
              "<text text-anchor=\"middle\" x=\"695.5\" y=\"-631.8\" font-family=\"Times,serif\" font-size=\"14.00\" fill=\"#000000\">samples = 8</text>\n",
              "<text text-anchor=\"middle\" x=\"695.5\" y=\"-616.8\" font-family=\"Times,serif\" font-size=\"14.00\" fill=\"#000000\">value = [3, 5]</text>\n",
              "</g>\n",
              "<!-- 15&#45;&gt;23 -->\n",
              "<g id=\"edge23\" class=\"edge\">\n",
              "<title>15&#45;&gt;23</title>\n",
              "<path fill=\"none\" stroke=\"#000000\" d=\"M602.0138,-712.9465C614.734,-703.4293 628.676,-692.9978 641.8206,-683.163\"/>\n",
              "<polygon fill=\"#000000\" stroke=\"#000000\" points=\"643.9738,-685.9232 649.8839,-677.13 639.7802,-680.3184 643.9738,-685.9232\"/>\n",
              "</g>\n",
              "<!-- 17 -->\n",
              "<g id=\"node18\" class=\"node\">\n",
              "<title>17</title>\n",
              "<polygon fill=\"#e78c49\" stroke=\"#000000\" points=\"492,-573 357,-573 357,-505 492,-505 492,-573\"/>\n",
              "<text text-anchor=\"middle\" x=\"424.5\" y=\"-557.8\" font-family=\"Times,serif\" font-size=\"14.00\" fill=\"#000000\">Insulin_log &lt;= 3.912</text>\n",
              "<text text-anchor=\"middle\" x=\"424.5\" y=\"-542.8\" font-family=\"Times,serif\" font-size=\"14.00\" fill=\"#000000\">gini = 0.142</text>\n",
              "<text text-anchor=\"middle\" x=\"424.5\" y=\"-527.8\" font-family=\"Times,serif\" font-size=\"14.00\" fill=\"#000000\">samples = 13</text>\n",
              "<text text-anchor=\"middle\" x=\"424.5\" y=\"-512.8\" font-family=\"Times,serif\" font-size=\"14.00\" fill=\"#000000\">value = [12, 1]</text>\n",
              "</g>\n",
              "<!-- 16&#45;&gt;17 -->\n",
              "<g id=\"edge17\" class=\"edge\">\n",
              "<title>16&#45;&gt;17</title>\n",
              "<path fill=\"none\" stroke=\"#000000\" d=\"M513.2783,-608.9465C501.3126,-599.519 488.2085,-589.1946 475.8296,-579.4415\"/>\n",
              "<polygon fill=\"#000000\" stroke=\"#000000\" points=\"477.8398,-576.5695 467.8188,-573.13 473.5077,-582.068 477.8398,-576.5695\"/>\n",
              "</g>\n",
              "<!-- 22 -->\n",
              "<g id=\"node23\" class=\"node\">\n",
              "<title>22</title>\n",
              "<polygon fill=\"#399de5\" stroke=\"#000000\" points=\"602.5,-565.5 510.5,-565.5 510.5,-512.5 602.5,-512.5 602.5,-565.5\"/>\n",
              "<text text-anchor=\"middle\" x=\"556.5\" y=\"-550.3\" font-family=\"Times,serif\" font-size=\"14.00\" fill=\"#000000\">gini = 0.0</text>\n",
              "<text text-anchor=\"middle\" x=\"556.5\" y=\"-535.3\" font-family=\"Times,serif\" font-size=\"14.00\" fill=\"#000000\">samples = 1</text>\n",
              "<text text-anchor=\"middle\" x=\"556.5\" y=\"-520.3\" font-family=\"Times,serif\" font-size=\"14.00\" fill=\"#000000\">value = [0, 1]</text>\n",
              "</g>\n",
              "<!-- 16&#45;&gt;22 -->\n",
              "<g id=\"edge22\" class=\"edge\">\n",
              "<title>16&#45;&gt;22</title>\n",
              "<path fill=\"none\" stroke=\"#000000\" d=\"M556.5,-608.9465C556.5,-598.2621 556.5,-586.4254 556.5,-575.5742\"/>\n",
              "<polygon fill=\"#000000\" stroke=\"#000000\" points=\"560.0001,-575.5421 556.5,-565.5422 553.0001,-575.5422 560.0001,-575.5421\"/>\n",
              "</g>\n",
              "<!-- 18 -->\n",
              "<g id=\"node19\" class=\"node\">\n",
              "<title>18</title>\n",
              "<polygon fill=\"#ffffff\" stroke=\"#000000\" points=\"420,-469 303,-469 303,-401 420,-401 420,-469\"/>\n",
              "<text text-anchor=\"middle\" x=\"361.5\" y=\"-453.8\" font-family=\"Times,serif\" font-size=\"14.00\" fill=\"#000000\">Glucose &lt;= 104.0</text>\n",
              "<text text-anchor=\"middle\" x=\"361.5\" y=\"-438.8\" font-family=\"Times,serif\" font-size=\"14.00\" fill=\"#000000\">gini = 0.5</text>\n",
              "<text text-anchor=\"middle\" x=\"361.5\" y=\"-423.8\" font-family=\"Times,serif\" font-size=\"14.00\" fill=\"#000000\">samples = 2</text>\n",
              "<text text-anchor=\"middle\" x=\"361.5\" y=\"-408.8\" font-family=\"Times,serif\" font-size=\"14.00\" fill=\"#000000\">value = [1, 1]</text>\n",
              "</g>\n",
              "<!-- 17&#45;&gt;18 -->\n",
              "<g id=\"edge18\" class=\"edge\">\n",
              "<title>17&#45;&gt;18</title>\n",
              "<path fill=\"none\" stroke=\"#000000\" d=\"M403.8714,-504.9465C398.6501,-496.3271 392.9745,-486.9579 387.5245,-477.9611\"/>\n",
              "<polygon fill=\"#000000\" stroke=\"#000000\" points=\"390.3497,-475.8697 382.1749,-469.13 384.3626,-479.4965 390.3497,-475.8697\"/>\n",
              "</g>\n",
              "<!-- 21 -->\n",
              "<g id=\"node22\" class=\"node\">\n",
              "<title>21</title>\n",
              "<polygon fill=\"#e58139\" stroke=\"#000000\" points=\"537,-461.5 438,-461.5 438,-408.5 537,-408.5 537,-461.5\"/>\n",
              "<text text-anchor=\"middle\" x=\"487.5\" y=\"-446.3\" font-family=\"Times,serif\" font-size=\"14.00\" fill=\"#000000\">gini = 0.0</text>\n",
              "<text text-anchor=\"middle\" x=\"487.5\" y=\"-431.3\" font-family=\"Times,serif\" font-size=\"14.00\" fill=\"#000000\">samples = 11</text>\n",
              "<text text-anchor=\"middle\" x=\"487.5\" y=\"-416.3\" font-family=\"Times,serif\" font-size=\"14.00\" fill=\"#000000\">value = [11, 0]</text>\n",
              "</g>\n",
              "<!-- 17&#45;&gt;21 -->\n",
              "<g id=\"edge21\" class=\"edge\">\n",
              "<title>17&#45;&gt;21</title>\n",
              "<path fill=\"none\" stroke=\"#000000\" d=\"M445.1286,-504.9465C451.8678,-493.8215 459.3637,-481.4473 466.1545,-470.237\"/>\n",
              "<polygon fill=\"#000000\" stroke=\"#000000\" points=\"469.2339,-471.9087 471.4216,-461.5422 463.2467,-468.2818 469.2339,-471.9087\"/>\n",
              "</g>\n",
              "<!-- 19 -->\n",
              "<g id=\"node20\" class=\"node\">\n",
              "<title>19</title>\n",
              "<polygon fill=\"#e58139\" stroke=\"#000000\" points=\"352.5,-357.5 260.5,-357.5 260.5,-304.5 352.5,-304.5 352.5,-357.5\"/>\n",
              "<text text-anchor=\"middle\" x=\"306.5\" y=\"-342.3\" font-family=\"Times,serif\" font-size=\"14.00\" fill=\"#000000\">gini = 0.0</text>\n",
              "<text text-anchor=\"middle\" x=\"306.5\" y=\"-327.3\" font-family=\"Times,serif\" font-size=\"14.00\" fill=\"#000000\">samples = 1</text>\n",
              "<text text-anchor=\"middle\" x=\"306.5\" y=\"-312.3\" font-family=\"Times,serif\" font-size=\"14.00\" fill=\"#000000\">value = [1, 0]</text>\n",
              "</g>\n",
              "<!-- 18&#45;&gt;19 -->\n",
              "<g id=\"edge19\" class=\"edge\">\n",
              "<title>18&#45;&gt;19</title>\n",
              "<path fill=\"none\" stroke=\"#000000\" d=\"M343.4909,-400.9465C337.6658,-389.9316 331.193,-377.6922 325.3112,-366.5703\"/>\n",
              "<polygon fill=\"#000000\" stroke=\"#000000\" points=\"328.3057,-364.7459 320.5367,-357.5422 322.1178,-368.0184 328.3057,-364.7459\"/>\n",
              "</g>\n",
              "<!-- 20 -->\n",
              "<g id=\"node21\" class=\"node\">\n",
              "<title>20</title>\n",
              "<polygon fill=\"#399de5\" stroke=\"#000000\" points=\"462.5,-357.5 370.5,-357.5 370.5,-304.5 462.5,-304.5 462.5,-357.5\"/>\n",
              "<text text-anchor=\"middle\" x=\"416.5\" y=\"-342.3\" font-family=\"Times,serif\" font-size=\"14.00\" fill=\"#000000\">gini = 0.0</text>\n",
              "<text text-anchor=\"middle\" x=\"416.5\" y=\"-327.3\" font-family=\"Times,serif\" font-size=\"14.00\" fill=\"#000000\">samples = 1</text>\n",
              "<text text-anchor=\"middle\" x=\"416.5\" y=\"-312.3\" font-family=\"Times,serif\" font-size=\"14.00\" fill=\"#000000\">value = [0, 1]</text>\n",
              "</g>\n",
              "<!-- 18&#45;&gt;20 -->\n",
              "<g id=\"edge20\" class=\"edge\">\n",
              "<title>18&#45;&gt;20</title>\n",
              "<path fill=\"none\" stroke=\"#000000\" d=\"M379.5091,-400.9465C385.3342,-389.9316 391.807,-377.6922 397.6888,-366.5703\"/>\n",
              "<polygon fill=\"#000000\" stroke=\"#000000\" points=\"400.8822,-368.0184 402.4633,-357.5422 394.6943,-364.7459 400.8822,-368.0184\"/>\n",
              "</g>\n",
              "<!-- 24 -->\n",
              "<g id=\"node25\" class=\"node\">\n",
              "<title>24</title>\n",
              "<polygon fill=\"#399de5\" stroke=\"#000000\" points=\"712.5,-565.5 620.5,-565.5 620.5,-512.5 712.5,-512.5 712.5,-565.5\"/>\n",
              "<text text-anchor=\"middle\" x=\"666.5\" y=\"-550.3\" font-family=\"Times,serif\" font-size=\"14.00\" fill=\"#000000\">gini = 0.0</text>\n",
              "<text text-anchor=\"middle\" x=\"666.5\" y=\"-535.3\" font-family=\"Times,serif\" font-size=\"14.00\" fill=\"#000000\">samples = 4</text>\n",
              "<text text-anchor=\"middle\" x=\"666.5\" y=\"-520.3\" font-family=\"Times,serif\" font-size=\"14.00\" fill=\"#000000\">value = [0, 4]</text>\n",
              "</g>\n",
              "<!-- 23&#45;&gt;24 -->\n",
              "<g id=\"edge24\" class=\"edge\">\n",
              "<title>23&#45;&gt;24</title>\n",
              "<path fill=\"none\" stroke=\"#000000\" d=\"M686.0043,-608.9465C682.9943,-598.1519 679.6563,-586.1813 676.6051,-575.2389\"/>\n",
              "<polygon fill=\"#000000\" stroke=\"#000000\" points=\"679.9586,-574.2346 673.9012,-565.5422 673.2159,-576.1148 679.9586,-574.2346\"/>\n",
              "</g>\n",
              "<!-- 25 -->\n",
              "<g id=\"node26\" class=\"node\">\n",
              "<title>25</title>\n",
              "<polygon fill=\"#eeab7b\" stroke=\"#000000\" points=\"876,-573 731,-573 731,-505 876,-505 876,-573\"/>\n",
              "<text text-anchor=\"middle\" x=\"803.5\" y=\"-557.8\" font-family=\"Times,serif\" font-size=\"14.00\" fill=\"#000000\">BloodPressure &lt;= 63.0</text>\n",
              "<text text-anchor=\"middle\" x=\"803.5\" y=\"-542.8\" font-family=\"Times,serif\" font-size=\"14.00\" fill=\"#000000\">gini = 0.375</text>\n",
              "<text text-anchor=\"middle\" x=\"803.5\" y=\"-527.8\" font-family=\"Times,serif\" font-size=\"14.00\" fill=\"#000000\">samples = 4</text>\n",
              "<text text-anchor=\"middle\" x=\"803.5\" y=\"-512.8\" font-family=\"Times,serif\" font-size=\"14.00\" fill=\"#000000\">value = [3, 1]</text>\n",
              "</g>\n",
              "<!-- 23&#45;&gt;25 -->\n",
              "<g id=\"edge25\" class=\"edge\">\n",
              "<title>23&#45;&gt;25</title>\n",
              "<path fill=\"none\" stroke=\"#000000\" d=\"M730.8632,-608.9465C740.3736,-599.7884 750.763,-589.7838 760.6335,-580.2788\"/>\n",
              "<polygon fill=\"#000000\" stroke=\"#000000\" points=\"763.2818,-582.5876 768.0573,-573.13 758.4263,-577.5453 763.2818,-582.5876\"/>\n",
              "</g>\n",
              "<!-- 26 -->\n",
              "<g id=\"node27\" class=\"node\">\n",
              "<title>26</title>\n",
              "<polygon fill=\"#399de5\" stroke=\"#000000\" points=\"751.5,-461.5 659.5,-461.5 659.5,-408.5 751.5,-408.5 751.5,-461.5\"/>\n",
              "<text text-anchor=\"middle\" x=\"705.5\" y=\"-446.3\" font-family=\"Times,serif\" font-size=\"14.00\" fill=\"#000000\">gini = 0.0</text>\n",
              "<text text-anchor=\"middle\" x=\"705.5\" y=\"-431.3\" font-family=\"Times,serif\" font-size=\"14.00\" fill=\"#000000\">samples = 1</text>\n",
              "<text text-anchor=\"middle\" x=\"705.5\" y=\"-416.3\" font-family=\"Times,serif\" font-size=\"14.00\" fill=\"#000000\">value = [0, 1]</text>\n",
              "</g>\n",
              "<!-- 25&#45;&gt;26 -->\n",
              "<g id=\"edge26\" class=\"edge\">\n",
              "<title>25&#45;&gt;26</title>\n",
              "<path fill=\"none\" stroke=\"#000000\" d=\"M771.4111,-504.9465C760.5127,-493.3809 748.3422,-480.4652 737.4543,-468.9107\"/>\n",
              "<polygon fill=\"#000000\" stroke=\"#000000\" points=\"739.9162,-466.4198 730.5109,-461.5422 734.8217,-471.2204 739.9162,-466.4198\"/>\n",
              "</g>\n",
              "<!-- 27 -->\n",
              "<g id=\"node28\" class=\"node\">\n",
              "<title>27</title>\n",
              "<polygon fill=\"#e58139\" stroke=\"#000000\" points=\"861.5,-461.5 769.5,-461.5 769.5,-408.5 861.5,-408.5 861.5,-461.5\"/>\n",
              "<text text-anchor=\"middle\" x=\"815.5\" y=\"-446.3\" font-family=\"Times,serif\" font-size=\"14.00\" fill=\"#000000\">gini = 0.0</text>\n",
              "<text text-anchor=\"middle\" x=\"815.5\" y=\"-431.3\" font-family=\"Times,serif\" font-size=\"14.00\" fill=\"#000000\">samples = 3</text>\n",
              "<text text-anchor=\"middle\" x=\"815.5\" y=\"-416.3\" font-family=\"Times,serif\" font-size=\"14.00\" fill=\"#000000\">value = [3, 0]</text>\n",
              "</g>\n",
              "<!-- 25&#45;&gt;27 -->\n",
              "<g id=\"edge27\" class=\"edge\">\n",
              "<title>25&#45;&gt;27</title>\n",
              "<path fill=\"none\" stroke=\"#000000\" d=\"M807.4292,-504.9465C808.6621,-494.2621 810.0278,-482.4254 811.2799,-471.5742\"/>\n",
              "<polygon fill=\"#000000\" stroke=\"#000000\" points=\"814.768,-471.8775 812.4374,-461.5422 807.8142,-471.075 814.768,-471.8775\"/>\n",
              "</g>\n",
              "<!-- 31 -->\n",
              "<g id=\"node32\" class=\"node\">\n",
              "<title>31</title>\n",
              "<polygon fill=\"#e58139\" stroke=\"#000000\" points=\"1383,-1085.5 1284,-1085.5 1284,-1032.5 1383,-1032.5 1383,-1085.5\"/>\n",
              "<text text-anchor=\"middle\" x=\"1333.5\" y=\"-1070.3\" font-family=\"Times,serif\" font-size=\"14.00\" fill=\"#000000\">gini = 0.0</text>\n",
              "<text text-anchor=\"middle\" x=\"1333.5\" y=\"-1055.3\" font-family=\"Times,serif\" font-size=\"14.00\" fill=\"#000000\">samples = 35</text>\n",
              "<text text-anchor=\"middle\" x=\"1333.5\" y=\"-1040.3\" font-family=\"Times,serif\" font-size=\"14.00\" fill=\"#000000\">value = [35, 0]</text>\n",
              "</g>\n",
              "<!-- 30&#45;&gt;31 -->\n",
              "<g id=\"edge31\" class=\"edge\">\n",
              "<title>30&#45;&gt;31</title>\n",
              "<path fill=\"none\" stroke=\"#000000\" d=\"M1388.6501,-1128.9465C1379.7048,-1117.6012 1369.7351,-1104.9567 1360.759,-1093.5724\"/>\n",
              "<polygon fill=\"#000000\" stroke=\"#000000\" points=\"1363.3675,-1091.2278 1354.4275,-1085.5422 1357.8706,-1095.5619 1363.3675,-1091.2278\"/>\n",
              "</g>\n",
              "<!-- 32 -->\n",
              "<g id=\"node33\" class=\"node\">\n",
              "<title>32</title>\n",
              "<polygon fill=\"#f4ccaf\" stroke=\"#000000\" points=\"1518,-1093 1401,-1093 1401,-1025 1518,-1025 1518,-1093\"/>\n",
              "<text text-anchor=\"middle\" x=\"1459.5\" y=\"-1077.8\" font-family=\"Times,serif\" font-size=\"14.00\" fill=\"#000000\">Glucose &lt;= 154.5</text>\n",
              "<text text-anchor=\"middle\" x=\"1459.5\" y=\"-1062.8\" font-family=\"Times,serif\" font-size=\"14.00\" fill=\"#000000\">gini = 0.468</text>\n",
              "<text text-anchor=\"middle\" x=\"1459.5\" y=\"-1047.8\" font-family=\"Times,serif\" font-size=\"14.00\" fill=\"#000000\">samples = 51</text>\n",
              "<text text-anchor=\"middle\" x=\"1459.5\" y=\"-1032.8\" font-family=\"Times,serif\" font-size=\"14.00\" fill=\"#000000\">value = [32, 19]</text>\n",
              "</g>\n",
              "<!-- 30&#45;&gt;32 -->\n",
              "<g id=\"edge32\" class=\"edge\">\n",
              "<title>30&#45;&gt;32</title>\n",
              "<path fill=\"none\" stroke=\"#000000\" d=\"M1429.9072,-1128.9465C1433.4779,-1120.5067 1437.3528,-1111.3479 1441.0861,-1102.5239\"/>\n",
              "<polygon fill=\"#000000\" stroke=\"#000000\" points=\"1444.3873,-1103.7034 1445.0604,-1093.13 1437.9405,-1100.9759 1444.3873,-1103.7034\"/>\n",
              "</g>\n",
              "<!-- 33 -->\n",
              "<g id=\"node34\" class=\"node\">\n",
              "<title>33</title>\n",
              "<polygon fill=\"#f0b78e\" stroke=\"#000000\" points=\"1482,-989 1263,-989 1263,-921 1482,-921 1482,-989\"/>\n",
              "<text text-anchor=\"middle\" x=\"1372.5\" y=\"-973.8\" font-family=\"Times,serif\" font-size=\"14.00\" fill=\"#000000\">DiabetesPedigreeFunction &lt;= 1.123</text>\n",
              "<text text-anchor=\"middle\" x=\"1372.5\" y=\"-958.8\" font-family=\"Times,serif\" font-size=\"14.00\" fill=\"#000000\">gini = 0.42</text>\n",
              "<text text-anchor=\"middle\" x=\"1372.5\" y=\"-943.8\" font-family=\"Times,serif\" font-size=\"14.00\" fill=\"#000000\">samples = 40</text>\n",
              "<text text-anchor=\"middle\" x=\"1372.5\" y=\"-928.8\" font-family=\"Times,serif\" font-size=\"14.00\" fill=\"#000000\">value = [28, 12]</text>\n",
              "</g>\n",
              "<!-- 32&#45;&gt;33 -->\n",
              "<g id=\"edge33\" class=\"edge\">\n",
              "<title>32&#45;&gt;33</title>\n",
              "<path fill=\"none\" stroke=\"#000000\" d=\"M1431.0129,-1024.9465C1423.5021,-1015.968 1415.3105,-1006.1758 1407.4995,-996.8385\"/>\n",
              "<polygon fill=\"#000000\" stroke=\"#000000\" points=\"1410.152,-994.5544 1401.0511,-989.13 1404.7829,-999.0459 1410.152,-994.5544\"/>\n",
              "</g>\n",
              "<!-- 56 -->\n",
              "<g id=\"node57\" class=\"node\">\n",
              "<title>56</title>\n",
              "<polygon fill=\"#aad5f4\" stroke=\"#000000\" points=\"1592.5,-989 1500.5,-989 1500.5,-921 1592.5,-921 1592.5,-989\"/>\n",
              "<text text-anchor=\"middle\" x=\"1546.5\" y=\"-973.8\" font-family=\"Times,serif\" font-size=\"14.00\" fill=\"#000000\">Age &lt;= 48.5</text>\n",
              "<text text-anchor=\"middle\" x=\"1546.5\" y=\"-958.8\" font-family=\"Times,serif\" font-size=\"14.00\" fill=\"#000000\">gini = 0.463</text>\n",
              "<text text-anchor=\"middle\" x=\"1546.5\" y=\"-943.8\" font-family=\"Times,serif\" font-size=\"14.00\" fill=\"#000000\">samples = 11</text>\n",
              "<text text-anchor=\"middle\" x=\"1546.5\" y=\"-928.8\" font-family=\"Times,serif\" font-size=\"14.00\" fill=\"#000000\">value = [4, 7]</text>\n",
              "</g>\n",
              "<!-- 32&#45;&gt;56 -->\n",
              "<g id=\"edge56\" class=\"edge\">\n",
              "<title>32&#45;&gt;56</title>\n",
              "<path fill=\"none\" stroke=\"#000000\" d=\"M1487.9871,-1024.9465C1495.4979,-1015.968 1503.6895,-1006.1758 1511.5005,-996.8385\"/>\n",
              "<polygon fill=\"#000000\" stroke=\"#000000\" points=\"1514.2171,-999.0459 1517.9489,-989.13 1508.848,-994.5544 1514.2171,-999.0459\"/>\n",
              "</g>\n",
              "<!-- 34 -->\n",
              "<g id=\"node35\" class=\"node\">\n",
              "<title>34</title>\n",
              "<polygon fill=\"#eeae80\" stroke=\"#000000\" points=\"1322.5,-885 1216.5,-885 1216.5,-817 1322.5,-817 1322.5,-885\"/>\n",
              "<text text-anchor=\"middle\" x=\"1269.5\" y=\"-869.8\" font-family=\"Times,serif\" font-size=\"14.00\" fill=\"#000000\">BMI &lt;= 30.55</text>\n",
              "<text text-anchor=\"middle\" x=\"1269.5\" y=\"-854.8\" font-family=\"Times,serif\" font-size=\"14.00\" fill=\"#000000\">gini = 0.388</text>\n",
              "<text text-anchor=\"middle\" x=\"1269.5\" y=\"-839.8\" font-family=\"Times,serif\" font-size=\"14.00\" fill=\"#000000\">samples = 38</text>\n",
              "<text text-anchor=\"middle\" x=\"1269.5\" y=\"-824.8\" font-family=\"Times,serif\" font-size=\"14.00\" fill=\"#000000\">value = [28, 10]</text>\n",
              "</g>\n",
              "<!-- 33&#45;&gt;34 -->\n",
              "<g id=\"edge34\" class=\"edge\">\n",
              "<title>33&#45;&gt;34</title>\n",
              "<path fill=\"none\" stroke=\"#000000\" d=\"M1338.7739,-920.9465C1329.7039,-911.7884 1319.7955,-901.7838 1310.3819,-892.2788\"/>\n",
              "<polygon fill=\"#000000\" stroke=\"#000000\" points=\"1312.8255,-889.7723 1303.3018,-885.13 1307.8519,-894.6981 1312.8255,-889.7723\"/>\n",
              "</g>\n",
              "<!-- 55 -->\n",
              "<g id=\"node56\" class=\"node\">\n",
              "<title>55</title>\n",
              "<polygon fill=\"#399de5\" stroke=\"#000000\" points=\"1432.5,-877.5 1340.5,-877.5 1340.5,-824.5 1432.5,-824.5 1432.5,-877.5\"/>\n",
              "<text text-anchor=\"middle\" x=\"1386.5\" y=\"-862.3\" font-family=\"Times,serif\" font-size=\"14.00\" fill=\"#000000\">gini = 0.0</text>\n",
              "<text text-anchor=\"middle\" x=\"1386.5\" y=\"-847.3\" font-family=\"Times,serif\" font-size=\"14.00\" fill=\"#000000\">samples = 2</text>\n",
              "<text text-anchor=\"middle\" x=\"1386.5\" y=\"-832.3\" font-family=\"Times,serif\" font-size=\"14.00\" fill=\"#000000\">value = [0, 2]</text>\n",
              "</g>\n",
              "<!-- 33&#45;&gt;55 -->\n",
              "<g id=\"edge55\" class=\"edge\">\n",
              "<title>33&#45;&gt;55</title>\n",
              "<path fill=\"none\" stroke=\"#000000\" d=\"M1377.0841,-920.9465C1378.5224,-910.2621 1380.1158,-898.4254 1381.5765,-887.5742\"/>\n",
              "<polygon fill=\"#000000\" stroke=\"#000000\" points=\"1385.0615,-887.9197 1382.927,-877.5422 1378.1241,-886.9858 1385.0615,-887.9197\"/>\n",
              "</g>\n",
              "<!-- 35 -->\n",
              "<g id=\"node36\" class=\"node\">\n",
              "<title>35</title>\n",
              "<polygon fill=\"#e89152\" stroke=\"#000000\" points=\"1164,-781 1029,-781 1029,-713 1164,-713 1164,-781\"/>\n",
              "<text text-anchor=\"middle\" x=\"1096.5\" y=\"-765.8\" font-family=\"Times,serif\" font-size=\"14.00\" fill=\"#000000\">Insulin_log &lt;= 3.756</text>\n",
              "<text text-anchor=\"middle\" x=\"1096.5\" y=\"-750.8\" font-family=\"Times,serif\" font-size=\"14.00\" fill=\"#000000\">gini = 0.198</text>\n",
              "<text text-anchor=\"middle\" x=\"1096.5\" y=\"-735.8\" font-family=\"Times,serif\" font-size=\"14.00\" fill=\"#000000\">samples = 18</text>\n",
              "<text text-anchor=\"middle\" x=\"1096.5\" y=\"-720.8\" font-family=\"Times,serif\" font-size=\"14.00\" fill=\"#000000\">value = [16, 2]</text>\n",
              "</g>\n",
              "<!-- 34&#45;&gt;35 -->\n",
              "<g id=\"edge35\" class=\"edge\">\n",
              "<title>34&#45;&gt;35</title>\n",
              "<path fill=\"none\" stroke=\"#000000\" d=\"M1216.1827,-818.948C1199.0335,-808.6387 1179.8334,-797.0964 1161.9181,-786.3265\"/>\n",
              "<polygon fill=\"#000000\" stroke=\"#000000\" points=\"1163.615,-783.2629 1153.2412,-781.1103 1160.0084,-789.2623 1163.615,-783.2629\"/>\n",
              "</g>\n",
              "<!-- 42 -->\n",
              "<g id=\"node43\" class=\"node\">\n",
              "<title>42</title>\n",
              "<polygon fill=\"#f6d5bd\" stroke=\"#000000\" points=\"1342,-781 1243,-781 1243,-713 1342,-713 1342,-781\"/>\n",
              "<text text-anchor=\"middle\" x=\"1292.5\" y=\"-765.8\" font-family=\"Times,serif\" font-size=\"14.00\" fill=\"#000000\">BMI &lt;= 35.45</text>\n",
              "<text text-anchor=\"middle\" x=\"1292.5\" y=\"-750.8\" font-family=\"Times,serif\" font-size=\"14.00\" fill=\"#000000\">gini = 0.48</text>\n",
              "<text text-anchor=\"middle\" x=\"1292.5\" y=\"-735.8\" font-family=\"Times,serif\" font-size=\"14.00\" fill=\"#000000\">samples = 20</text>\n",
              "<text text-anchor=\"middle\" x=\"1292.5\" y=\"-720.8\" font-family=\"Times,serif\" font-size=\"14.00\" fill=\"#000000\">value = [12, 8]</text>\n",
              "</g>\n",
              "<!-- 34&#45;&gt;42 -->\n",
              "<g id=\"edge42\" class=\"edge\">\n",
              "<title>34&#45;&gt;42</title>\n",
              "<path fill=\"none\" stroke=\"#000000\" d=\"M1277.0311,-816.9465C1278.8578,-808.6863 1280.8369,-799.7374 1282.7499,-791.0875\"/>\n",
              "<polygon fill=\"#000000\" stroke=\"#000000\" points=\"1286.21,-791.6499 1284.952,-781.13 1279.3752,-790.1383 1286.21,-791.6499\"/>\n",
              "</g>\n",
              "<!-- 36 -->\n",
              "<g id=\"node37\" class=\"node\">\n",
              "<title>36</title>\n",
              "<polygon fill=\"#399de5\" stroke=\"#000000\" points=\"972.5,-669.5 880.5,-669.5 880.5,-616.5 972.5,-616.5 972.5,-669.5\"/>\n",
              "<text text-anchor=\"middle\" x=\"926.5\" y=\"-654.3\" font-family=\"Times,serif\" font-size=\"14.00\" fill=\"#000000\">gini = 0.0</text>\n",
              "<text text-anchor=\"middle\" x=\"926.5\" y=\"-639.3\" font-family=\"Times,serif\" font-size=\"14.00\" fill=\"#000000\">samples = 1</text>\n",
              "<text text-anchor=\"middle\" x=\"926.5\" y=\"-624.3\" font-family=\"Times,serif\" font-size=\"14.00\" fill=\"#000000\">value = [0, 1]</text>\n",
              "</g>\n",
              "<!-- 35&#45;&gt;36 -->\n",
              "<g id=\"edge36\" class=\"edge\">\n",
              "<title>35&#45;&gt;36</title>\n",
              "<path fill=\"none\" stroke=\"#000000\" d=\"M1040.3004,-712.8976C1021.5798,-701.5096 1000.6263,-688.7327 981.5,-677 980.3966,-676.3231 979.281,-675.6383 978.1565,-674.9475\"/>\n",
              "<polygon fill=\"#000000\" stroke=\"#000000\" points=\"979.7691,-671.8302 969.418,-669.5706 976.1007,-677.792 979.7691,-671.8302\"/>\n",
              "</g>\n",
              "<!-- 37 -->\n",
              "<g id=\"node38\" class=\"node\">\n",
              "<title>37</title>\n",
              "<polygon fill=\"#e78945\" stroke=\"#000000\" points=\"1202.5,-677 990.5,-677 990.5,-609 1202.5,-609 1202.5,-677\"/>\n",
              "<text text-anchor=\"middle\" x=\"1096.5\" y=\"-661.8\" font-family=\"Times,serif\" font-size=\"14.00\" fill=\"#000000\">DiabetesPedigreeFunction &lt;= 0.22</text>\n",
              "<text text-anchor=\"middle\" x=\"1096.5\" y=\"-646.8\" font-family=\"Times,serif\" font-size=\"14.00\" fill=\"#000000\">gini = 0.111</text>\n",
              "<text text-anchor=\"middle\" x=\"1096.5\" y=\"-631.8\" font-family=\"Times,serif\" font-size=\"14.00\" fill=\"#000000\">samples = 17</text>\n",
              "<text text-anchor=\"middle\" x=\"1096.5\" y=\"-616.8\" font-family=\"Times,serif\" font-size=\"14.00\" fill=\"#000000\">value = [16, 1]</text>\n",
              "</g>\n",
              "<!-- 35&#45;&gt;37 -->\n",
              "<g id=\"edge37\" class=\"edge\">\n",
              "<title>35&#45;&gt;37</title>\n",
              "<path fill=\"none\" stroke=\"#000000\" d=\"M1096.5,-712.9465C1096.5,-704.776 1096.5,-695.9318 1096.5,-687.3697\"/>\n",
              "<polygon fill=\"#000000\" stroke=\"#000000\" points=\"1100.0001,-687.13 1096.5,-677.13 1093.0001,-687.13 1100.0001,-687.13\"/>\n",
              "</g>\n",
              "<!-- 38 -->\n",
              "<g id=\"node39\" class=\"node\">\n",
              "<title>38</title>\n",
              "<polygon fill=\"#f2c09c\" stroke=\"#000000\" points=\"1029,-573 894,-573 894,-505 1029,-505 1029,-573\"/>\n",
              "<text text-anchor=\"middle\" x=\"961.5\" y=\"-557.8\" font-family=\"Times,serif\" font-size=\"14.00\" fill=\"#000000\">Insulin_log &lt;= 4.684</text>\n",
              "<text text-anchor=\"middle\" x=\"961.5\" y=\"-542.8\" font-family=\"Times,serif\" font-size=\"14.00\" fill=\"#000000\">gini = 0.444</text>\n",
              "<text text-anchor=\"middle\" x=\"961.5\" y=\"-527.8\" font-family=\"Times,serif\" font-size=\"14.00\" fill=\"#000000\">samples = 3</text>\n",
              "<text text-anchor=\"middle\" x=\"961.5\" y=\"-512.8\" font-family=\"Times,serif\" font-size=\"14.00\" fill=\"#000000\">value = [2, 1]</text>\n",
              "</g>\n",
              "<!-- 37&#45;&gt;38 -->\n",
              "<g id=\"edge38\" class=\"edge\">\n",
              "<title>37&#45;&gt;38</title>\n",
              "<path fill=\"none\" stroke=\"#000000\" d=\"M1052.296,-608.9465C1040.0584,-599.519 1026.6564,-589.1946 1013.9962,-579.4415\"/>\n",
              "<polygon fill=\"#000000\" stroke=\"#000000\" points=\"1015.8612,-576.4601 1005.8034,-573.13 1011.5893,-582.0055 1015.8612,-576.4601\"/>\n",
              "</g>\n",
              "<!-- 41 -->\n",
              "<g id=\"node42\" class=\"node\">\n",
              "<title>41</title>\n",
              "<polygon fill=\"#e58139\" stroke=\"#000000\" points=\"1146,-565.5 1047,-565.5 1047,-512.5 1146,-512.5 1146,-565.5\"/>\n",
              "<text text-anchor=\"middle\" x=\"1096.5\" y=\"-550.3\" font-family=\"Times,serif\" font-size=\"14.00\" fill=\"#000000\">gini = 0.0</text>\n",
              "<text text-anchor=\"middle\" x=\"1096.5\" y=\"-535.3\" font-family=\"Times,serif\" font-size=\"14.00\" fill=\"#000000\">samples = 14</text>\n",
              "<text text-anchor=\"middle\" x=\"1096.5\" y=\"-520.3\" font-family=\"Times,serif\" font-size=\"14.00\" fill=\"#000000\">value = [14, 0]</text>\n",
              "</g>\n",
              "<!-- 37&#45;&gt;41 -->\n",
              "<g id=\"edge41\" class=\"edge\">\n",
              "<title>37&#45;&gt;41</title>\n",
              "<path fill=\"none\" stroke=\"#000000\" d=\"M1096.5,-608.9465C1096.5,-598.2621 1096.5,-586.4254 1096.5,-575.5742\"/>\n",
              "<polygon fill=\"#000000\" stroke=\"#000000\" points=\"1100.0001,-575.5421 1096.5,-565.5422 1093.0001,-575.5422 1100.0001,-575.5421\"/>\n",
              "</g>\n",
              "<!-- 39 -->\n",
              "<g id=\"node40\" class=\"node\">\n",
              "<title>39</title>\n",
              "<polygon fill=\"#e58139\" stroke=\"#000000\" points=\"995.5,-461.5 903.5,-461.5 903.5,-408.5 995.5,-408.5 995.5,-461.5\"/>\n",
              "<text text-anchor=\"middle\" x=\"949.5\" y=\"-446.3\" font-family=\"Times,serif\" font-size=\"14.00\" fill=\"#000000\">gini = 0.0</text>\n",
              "<text text-anchor=\"middle\" x=\"949.5\" y=\"-431.3\" font-family=\"Times,serif\" font-size=\"14.00\" fill=\"#000000\">samples = 2</text>\n",
              "<text text-anchor=\"middle\" x=\"949.5\" y=\"-416.3\" font-family=\"Times,serif\" font-size=\"14.00\" fill=\"#000000\">value = [2, 0]</text>\n",
              "</g>\n",
              "<!-- 38&#45;&gt;39 -->\n",
              "<g id=\"edge39\" class=\"edge\">\n",
              "<title>38&#45;&gt;39</title>\n",
              "<path fill=\"none\" stroke=\"#000000\" d=\"M957.5708,-504.9465C956.3379,-494.2621 954.9722,-482.4254 953.7201,-471.5742\"/>\n",
              "<polygon fill=\"#000000\" stroke=\"#000000\" points=\"957.1858,-471.075 952.5626,-461.5422 950.232,-471.8775 957.1858,-471.075\"/>\n",
              "</g>\n",
              "<!-- 40 -->\n",
              "<g id=\"node41\" class=\"node\">\n",
              "<title>40</title>\n",
              "<polygon fill=\"#399de5\" stroke=\"#000000\" points=\"1105.5,-461.5 1013.5,-461.5 1013.5,-408.5 1105.5,-408.5 1105.5,-461.5\"/>\n",
              "<text text-anchor=\"middle\" x=\"1059.5\" y=\"-446.3\" font-family=\"Times,serif\" font-size=\"14.00\" fill=\"#000000\">gini = 0.0</text>\n",
              "<text text-anchor=\"middle\" x=\"1059.5\" y=\"-431.3\" font-family=\"Times,serif\" font-size=\"14.00\" fill=\"#000000\">samples = 1</text>\n",
              "<text text-anchor=\"middle\" x=\"1059.5\" y=\"-416.3\" font-family=\"Times,serif\" font-size=\"14.00\" fill=\"#000000\">value = [0, 1]</text>\n",
              "</g>\n",
              "<!-- 38&#45;&gt;40 -->\n",
              "<g id=\"edge40\" class=\"edge\">\n",
              "<title>38&#45;&gt;40</title>\n",
              "<path fill=\"none\" stroke=\"#000000\" d=\"M993.5889,-504.9465C1004.4873,-493.3809 1016.6578,-480.4652 1027.5457,-468.9107\"/>\n",
              "<polygon fill=\"#000000\" stroke=\"#000000\" points=\"1030.1783,-471.2204 1034.4891,-461.5422 1025.0838,-466.4198 1030.1783,-471.2204\"/>\n",
              "</g>\n",
              "<!-- 43 -->\n",
              "<g id=\"node44\" class=\"node\">\n",
              "<title>43</title>\n",
              "<polygon fill=\"#bddef6\" stroke=\"#000000\" points=\"1338.5,-677 1246.5,-677 1246.5,-609 1338.5,-609 1338.5,-677\"/>\n",
              "<text text-anchor=\"middle\" x=\"1292.5\" y=\"-661.8\" font-family=\"Times,serif\" font-size=\"14.00\" fill=\"#000000\">Age &lt;= 23.5</text>\n",
              "<text text-anchor=\"middle\" x=\"1292.5\" y=\"-646.8\" font-family=\"Times,serif\" font-size=\"14.00\" fill=\"#000000\">gini = 0.48</text>\n",
              "<text text-anchor=\"middle\" x=\"1292.5\" y=\"-631.8\" font-family=\"Times,serif\" font-size=\"14.00\" fill=\"#000000\">samples = 10</text>\n",
              "<text text-anchor=\"middle\" x=\"1292.5\" y=\"-616.8\" font-family=\"Times,serif\" font-size=\"14.00\" fill=\"#000000\">value = [4, 6]</text>\n",
              "</g>\n",
              "<!-- 42&#45;&gt;43 -->\n",
              "<g id=\"edge43\" class=\"edge\">\n",
              "<title>42&#45;&gt;43</title>\n",
              "<path fill=\"none\" stroke=\"#000000\" d=\"M1292.5,-712.9465C1292.5,-704.776 1292.5,-695.9318 1292.5,-687.3697\"/>\n",
              "<polygon fill=\"#000000\" stroke=\"#000000\" points=\"1296.0001,-687.13 1292.5,-677.13 1289.0001,-687.13 1296.0001,-687.13\"/>\n",
              "</g>\n",
              "<!-- 50 -->\n",
              "<g id=\"node51\" class=\"node\">\n",
              "<title>50</title>\n",
              "<polygon fill=\"#eca06a\" stroke=\"#000000\" points=\"1515.5,-677 1369.5,-677 1369.5,-609 1515.5,-609 1515.5,-677\"/>\n",
              "<text text-anchor=\"middle\" x=\"1442.5\" y=\"-661.8\" font-family=\"Times,serif\" font-size=\"14.00\" fill=\"#000000\">SkinThickness &lt;= 27.0</text>\n",
              "<text text-anchor=\"middle\" x=\"1442.5\" y=\"-646.8\" font-family=\"Times,serif\" font-size=\"14.00\" fill=\"#000000\">gini = 0.32</text>\n",
              "<text text-anchor=\"middle\" x=\"1442.5\" y=\"-631.8\" font-family=\"Times,serif\" font-size=\"14.00\" fill=\"#000000\">samples = 10</text>\n",
              "<text text-anchor=\"middle\" x=\"1442.5\" y=\"-616.8\" font-family=\"Times,serif\" font-size=\"14.00\" fill=\"#000000\">value = [8, 2]</text>\n",
              "</g>\n",
              "<!-- 42&#45;&gt;50 -->\n",
              "<g id=\"edge50\" class=\"edge\">\n",
              "<title>42&#45;&gt;50</title>\n",
              "<path fill=\"none\" stroke=\"#000000\" d=\"M1341.6156,-712.9465C1355.4719,-703.3395 1370.6717,-692.8009 1384.9739,-682.8848\"/>\n",
              "<polygon fill=\"#000000\" stroke=\"#000000\" points=\"1387.0503,-685.7041 1393.274,-677.13 1383.0618,-679.9515 1387.0503,-685.7041\"/>\n",
              "</g>\n",
              "<!-- 44 -->\n",
              "<g id=\"node45\" class=\"node\">\n",
              "<title>44</title>\n",
              "<polygon fill=\"#e58139\" stroke=\"#000000\" points=\"1256.5,-565.5 1164.5,-565.5 1164.5,-512.5 1256.5,-512.5 1256.5,-565.5\"/>\n",
              "<text text-anchor=\"middle\" x=\"1210.5\" y=\"-550.3\" font-family=\"Times,serif\" font-size=\"14.00\" fill=\"#000000\">gini = 0.0</text>\n",
              "<text text-anchor=\"middle\" x=\"1210.5\" y=\"-535.3\" font-family=\"Times,serif\" font-size=\"14.00\" fill=\"#000000\">samples = 2</text>\n",
              "<text text-anchor=\"middle\" x=\"1210.5\" y=\"-520.3\" font-family=\"Times,serif\" font-size=\"14.00\" fill=\"#000000\">value = [2, 0]</text>\n",
              "</g>\n",
              "<!-- 43&#45;&gt;44 -->\n",
              "<g id=\"edge44\" class=\"edge\">\n",
              "<title>43&#45;&gt;44</title>\n",
              "<path fill=\"none\" stroke=\"#000000\" d=\"M1265.6501,-608.9465C1256.7048,-597.6012 1246.7351,-584.9567 1237.759,-573.5724\"/>\n",
              "<polygon fill=\"#000000\" stroke=\"#000000\" points=\"1240.3675,-571.2278 1231.4275,-565.5422 1234.8706,-575.5619 1240.3675,-571.2278\"/>\n",
              "</g>\n",
              "<!-- 45 -->\n",
              "<g id=\"node46\" class=\"node\">\n",
              "<title>45</title>\n",
              "<polygon fill=\"#7bbeee\" stroke=\"#000000\" points=\"1392,-573 1275,-573 1275,-505 1392,-505 1392,-573\"/>\n",
              "<text text-anchor=\"middle\" x=\"1333.5\" y=\"-557.8\" font-family=\"Times,serif\" font-size=\"14.00\" fill=\"#000000\">Glucose &lt;= 152.0</text>\n",
              "<text text-anchor=\"middle\" x=\"1333.5\" y=\"-542.8\" font-family=\"Times,serif\" font-size=\"14.00\" fill=\"#000000\">gini = 0.375</text>\n",
              "<text text-anchor=\"middle\" x=\"1333.5\" y=\"-527.8\" font-family=\"Times,serif\" font-size=\"14.00\" fill=\"#000000\">samples = 8</text>\n",
              "<text text-anchor=\"middle\" x=\"1333.5\" y=\"-512.8\" font-family=\"Times,serif\" font-size=\"14.00\" fill=\"#000000\">value = [2, 6]</text>\n",
              "</g>\n",
              "<!-- 43&#45;&gt;45 -->\n",
              "<g id=\"edge45\" class=\"edge\">\n",
              "<title>43&#45;&gt;45</title>\n",
              "<path fill=\"none\" stroke=\"#000000\" d=\"M1305.9249,-608.9465C1309.2522,-600.5067 1312.8628,-591.3479 1316.3416,-582.5239\"/>\n",
              "<polygon fill=\"#000000\" stroke=\"#000000\" points=\"1319.6334,-583.7168 1320.0449,-573.13 1313.1211,-581.1495 1319.6334,-583.7168\"/>\n",
              "</g>\n",
              "<!-- 46 -->\n",
              "<g id=\"node47\" class=\"node\">\n",
              "<title>46</title>\n",
              "<polygon fill=\"#5aade9\" stroke=\"#000000\" points=\"1399,-469 1180,-469 1180,-401 1399,-401 1399,-469\"/>\n",
              "<text text-anchor=\"middle\" x=\"1289.5\" y=\"-453.8\" font-family=\"Times,serif\" font-size=\"14.00\" fill=\"#000000\">DiabetesPedigreeFunction &lt;= 0.146</text>\n",
              "<text text-anchor=\"middle\" x=\"1289.5\" y=\"-438.8\" font-family=\"Times,serif\" font-size=\"14.00\" fill=\"#000000\">gini = 0.245</text>\n",
              "<text text-anchor=\"middle\" x=\"1289.5\" y=\"-423.8\" font-family=\"Times,serif\" font-size=\"14.00\" fill=\"#000000\">samples = 7</text>\n",
              "<text text-anchor=\"middle\" x=\"1289.5\" y=\"-408.8\" font-family=\"Times,serif\" font-size=\"14.00\" fill=\"#000000\">value = [1, 6]</text>\n",
              "</g>\n",
              "<!-- 45&#45;&gt;46 -->\n",
              "<g id=\"edge46\" class=\"edge\">\n",
              "<title>45&#45;&gt;46</title>\n",
              "<path fill=\"none\" stroke=\"#000000\" d=\"M1319.0928,-504.9465C1315.5221,-496.5067 1311.6472,-487.3479 1307.9139,-478.5239\"/>\n",
              "<polygon fill=\"#000000\" stroke=\"#000000\" points=\"1311.0595,-476.9759 1303.9396,-469.13 1304.6127,-479.7034 1311.0595,-476.9759\"/>\n",
              "</g>\n",
              "<!-- 49 -->\n",
              "<g id=\"node50\" class=\"node\">\n",
              "<title>49</title>\n",
              "<polygon fill=\"#e58139\" stroke=\"#000000\" points=\"1509.5,-461.5 1417.5,-461.5 1417.5,-408.5 1509.5,-408.5 1509.5,-461.5\"/>\n",
              "<text text-anchor=\"middle\" x=\"1463.5\" y=\"-446.3\" font-family=\"Times,serif\" font-size=\"14.00\" fill=\"#000000\">gini = 0.0</text>\n",
              "<text text-anchor=\"middle\" x=\"1463.5\" y=\"-431.3\" font-family=\"Times,serif\" font-size=\"14.00\" fill=\"#000000\">samples = 1</text>\n",
              "<text text-anchor=\"middle\" x=\"1463.5\" y=\"-416.3\" font-family=\"Times,serif\" font-size=\"14.00\" fill=\"#000000\">value = [1, 0]</text>\n",
              "</g>\n",
              "<!-- 45&#45;&gt;49 -->\n",
              "<g id=\"edge49\" class=\"edge\">\n",
              "<title>45&#45;&gt;49</title>\n",
              "<path fill=\"none\" stroke=\"#000000\" d=\"M1376.0669,-504.9465C1390.937,-493.0504 1407.5925,-479.726 1422.3454,-467.9237\"/>\n",
              "<polygon fill=\"#000000\" stroke=\"#000000\" points=\"1424.7,-470.5222 1430.3223,-461.5422 1420.3271,-465.0561 1424.7,-470.5222\"/>\n",
              "</g>\n",
              "<!-- 47 -->\n",
              "<g id=\"node48\" class=\"node\">\n",
              "<title>47</title>\n",
              "<polygon fill=\"#e58139\" stroke=\"#000000\" points=\"1280.5,-357.5 1188.5,-357.5 1188.5,-304.5 1280.5,-304.5 1280.5,-357.5\"/>\n",
              "<text text-anchor=\"middle\" x=\"1234.5\" y=\"-342.3\" font-family=\"Times,serif\" font-size=\"14.00\" fill=\"#000000\">gini = 0.0</text>\n",
              "<text text-anchor=\"middle\" x=\"1234.5\" y=\"-327.3\" font-family=\"Times,serif\" font-size=\"14.00\" fill=\"#000000\">samples = 1</text>\n",
              "<text text-anchor=\"middle\" x=\"1234.5\" y=\"-312.3\" font-family=\"Times,serif\" font-size=\"14.00\" fill=\"#000000\">value = [1, 0]</text>\n",
              "</g>\n",
              "<!-- 46&#45;&gt;47 -->\n",
              "<g id=\"edge47\" class=\"edge\">\n",
              "<title>46&#45;&gt;47</title>\n",
              "<path fill=\"none\" stroke=\"#000000\" d=\"M1271.4909,-400.9465C1265.6658,-389.9316 1259.193,-377.6922 1253.3112,-366.5703\"/>\n",
              "<polygon fill=\"#000000\" stroke=\"#000000\" points=\"1256.3057,-364.7459 1248.5367,-357.5422 1250.1178,-368.0184 1256.3057,-364.7459\"/>\n",
              "</g>\n",
              "<!-- 48 -->\n",
              "<g id=\"node49\" class=\"node\">\n",
              "<title>48</title>\n",
              "<polygon fill=\"#399de5\" stroke=\"#000000\" points=\"1390.5,-357.5 1298.5,-357.5 1298.5,-304.5 1390.5,-304.5 1390.5,-357.5\"/>\n",
              "<text text-anchor=\"middle\" x=\"1344.5\" y=\"-342.3\" font-family=\"Times,serif\" font-size=\"14.00\" fill=\"#000000\">gini = 0.0</text>\n",
              "<text text-anchor=\"middle\" x=\"1344.5\" y=\"-327.3\" font-family=\"Times,serif\" font-size=\"14.00\" fill=\"#000000\">samples = 6</text>\n",
              "<text text-anchor=\"middle\" x=\"1344.5\" y=\"-312.3\" font-family=\"Times,serif\" font-size=\"14.00\" fill=\"#000000\">value = [0, 6]</text>\n",
              "</g>\n",
              "<!-- 46&#45;&gt;48 -->\n",
              "<g id=\"edge48\" class=\"edge\">\n",
              "<title>46&#45;&gt;48</title>\n",
              "<path fill=\"none\" stroke=\"#000000\" d=\"M1307.5091,-400.9465C1313.3342,-389.9316 1319.807,-377.6922 1325.6888,-366.5703\"/>\n",
              "<polygon fill=\"#000000\" stroke=\"#000000\" points=\"1328.8822,-368.0184 1330.4633,-357.5422 1322.6943,-364.7459 1328.8822,-368.0184\"/>\n",
              "</g>\n",
              "<!-- 51 -->\n",
              "<g id=\"node52\" class=\"node\">\n",
              "<title>51</title>\n",
              "<polygon fill=\"#399de5\" stroke=\"#000000\" points=\"1502.5,-565.5 1410.5,-565.5 1410.5,-512.5 1502.5,-512.5 1502.5,-565.5\"/>\n",
              "<text text-anchor=\"middle\" x=\"1456.5\" y=\"-550.3\" font-family=\"Times,serif\" font-size=\"14.00\" fill=\"#000000\">gini = 0.0</text>\n",
              "<text text-anchor=\"middle\" x=\"1456.5\" y=\"-535.3\" font-family=\"Times,serif\" font-size=\"14.00\" fill=\"#000000\">samples = 1</text>\n",
              "<text text-anchor=\"middle\" x=\"1456.5\" y=\"-520.3\" font-family=\"Times,serif\" font-size=\"14.00\" fill=\"#000000\">value = [0, 1]</text>\n",
              "</g>\n",
              "<!-- 50&#45;&gt;51 -->\n",
              "<g id=\"edge51\" class=\"edge\">\n",
              "<title>50&#45;&gt;51</title>\n",
              "<path fill=\"none\" stroke=\"#000000\" d=\"M1447.0841,-608.9465C1448.5224,-598.2621 1450.1158,-586.4254 1451.5765,-575.5742\"/>\n",
              "<polygon fill=\"#000000\" stroke=\"#000000\" points=\"1455.0615,-575.9197 1452.927,-565.5422 1448.1241,-574.9858 1455.0615,-575.9197\"/>\n",
              "</g>\n",
              "<!-- 52 -->\n",
              "<g id=\"node53\" class=\"node\">\n",
              "<title>52</title>\n",
              "<polygon fill=\"#e89152\" stroke=\"#000000\" points=\"1740,-573 1521,-573 1521,-505 1740,-505 1740,-573\"/>\n",
              "<text text-anchor=\"middle\" x=\"1630.5\" y=\"-557.8\" font-family=\"Times,serif\" font-size=\"14.00\" fill=\"#000000\">DiabetesPedigreeFunction &lt;= 0.198</text>\n",
              "<text text-anchor=\"middle\" x=\"1630.5\" y=\"-542.8\" font-family=\"Times,serif\" font-size=\"14.00\" fill=\"#000000\">gini = 0.198</text>\n",
              "<text text-anchor=\"middle\" x=\"1630.5\" y=\"-527.8\" font-family=\"Times,serif\" font-size=\"14.00\" fill=\"#000000\">samples = 9</text>\n",
              "<text text-anchor=\"middle\" x=\"1630.5\" y=\"-512.8\" font-family=\"Times,serif\" font-size=\"14.00\" fill=\"#000000\">value = [8, 1]</text>\n",
              "</g>\n",
              "<!-- 50&#45;&gt;52 -->\n",
              "<g id=\"edge52\" class=\"edge\">\n",
              "<title>50&#45;&gt;52</title>\n",
              "<path fill=\"none\" stroke=\"#000000\" d=\"M1504.0582,-608.9465C1521.9117,-599.0701 1541.5448,-588.2093 1559.9056,-578.0522\"/>\n",
              "<polygon fill=\"#000000\" stroke=\"#000000\" points=\"1561.7473,-581.0333 1568.8035,-573.13 1558.3589,-574.908 1561.7473,-581.0333\"/>\n",
              "</g>\n",
              "<!-- 53 -->\n",
              "<g id=\"node54\" class=\"node\">\n",
              "<title>53</title>\n",
              "<polygon fill=\"#399de5\" stroke=\"#000000\" points=\"1670.5,-461.5 1578.5,-461.5 1578.5,-408.5 1670.5,-408.5 1670.5,-461.5\"/>\n",
              "<text text-anchor=\"middle\" x=\"1624.5\" y=\"-446.3\" font-family=\"Times,serif\" font-size=\"14.00\" fill=\"#000000\">gini = 0.0</text>\n",
              "<text text-anchor=\"middle\" x=\"1624.5\" y=\"-431.3\" font-family=\"Times,serif\" font-size=\"14.00\" fill=\"#000000\">samples = 1</text>\n",
              "<text text-anchor=\"middle\" x=\"1624.5\" y=\"-416.3\" font-family=\"Times,serif\" font-size=\"14.00\" fill=\"#000000\">value = [0, 1]</text>\n",
              "</g>\n",
              "<!-- 52&#45;&gt;53 -->\n",
              "<g id=\"edge53\" class=\"edge\">\n",
              "<title>52&#45;&gt;53</title>\n",
              "<path fill=\"none\" stroke=\"#000000\" d=\"M1628.5354,-504.9465C1627.919,-494.2621 1627.2361,-482.4254 1626.6101,-471.5742\"/>\n",
              "<polygon fill=\"#000000\" stroke=\"#000000\" points=\"1630.1015,-471.3239 1626.0313,-461.5422 1623.1131,-471.7272 1630.1015,-471.3239\"/>\n",
              "</g>\n",
              "<!-- 54 -->\n",
              "<g id=\"node55\" class=\"node\">\n",
              "<title>54</title>\n",
              "<polygon fill=\"#e58139\" stroke=\"#000000\" points=\"1780.5,-461.5 1688.5,-461.5 1688.5,-408.5 1780.5,-408.5 1780.5,-461.5\"/>\n",
              "<text text-anchor=\"middle\" x=\"1734.5\" y=\"-446.3\" font-family=\"Times,serif\" font-size=\"14.00\" fill=\"#000000\">gini = 0.0</text>\n",
              "<text text-anchor=\"middle\" x=\"1734.5\" y=\"-431.3\" font-family=\"Times,serif\" font-size=\"14.00\" fill=\"#000000\">samples = 8</text>\n",
              "<text text-anchor=\"middle\" x=\"1734.5\" y=\"-416.3\" font-family=\"Times,serif\" font-size=\"14.00\" fill=\"#000000\">value = [8, 0]</text>\n",
              "</g>\n",
              "<!-- 52&#45;&gt;54 -->\n",
              "<g id=\"edge54\" class=\"edge\">\n",
              "<title>52&#45;&gt;54</title>\n",
              "<path fill=\"none\" stroke=\"#000000\" d=\"M1664.5535,-504.9465C1676.1191,-493.3809 1689.0348,-480.4652 1700.5893,-468.9107\"/>\n",
              "<polygon fill=\"#000000\" stroke=\"#000000\" points=\"1703.3616,-471.0881 1707.9578,-461.5422 1698.4119,-466.1384 1703.3616,-471.0881\"/>\n",
              "</g>\n",
              "<!-- 57 -->\n",
              "<g id=\"node58\" class=\"node\">\n",
              "<title>57</title>\n",
              "<polygon fill=\"#72b9ec\" stroke=\"#000000\" points=\"1591,-885 1474,-885 1474,-817 1591,-817 1591,-885\"/>\n",
              "<text text-anchor=\"middle\" x=\"1532.5\" y=\"-869.8\" font-family=\"Times,serif\" font-size=\"14.00\" fill=\"#000000\">Glucose &lt;= 179.5</text>\n",
              "<text text-anchor=\"middle\" x=\"1532.5\" y=\"-854.8\" font-family=\"Times,serif\" font-size=\"14.00\" fill=\"#000000\">gini = 0.346</text>\n",
              "<text text-anchor=\"middle\" x=\"1532.5\" y=\"-839.8\" font-family=\"Times,serif\" font-size=\"14.00\" fill=\"#000000\">samples = 9</text>\n",
              "<text text-anchor=\"middle\" x=\"1532.5\" y=\"-824.8\" font-family=\"Times,serif\" font-size=\"14.00\" fill=\"#000000\">value = [2, 7]</text>\n",
              "</g>\n",
              "<!-- 56&#45;&gt;57 -->\n",
              "<g id=\"edge57\" class=\"edge\">\n",
              "<title>56&#45;&gt;57</title>\n",
              "<path fill=\"none\" stroke=\"#000000\" d=\"M1541.9159,-920.9465C1540.8039,-912.6863 1539.5993,-903.7374 1538.4349,-895.0875\"/>\n",
              "<polygon fill=\"#000000\" stroke=\"#000000\" points=\"1541.8973,-894.5736 1537.0944,-885.13 1534.9599,-895.5076 1541.8973,-894.5736\"/>\n",
              "</g>\n",
              "<!-- 62 -->\n",
              "<g id=\"node63\" class=\"node\">\n",
              "<title>62</title>\n",
              "<polygon fill=\"#e58139\" stroke=\"#000000\" points=\"1701.5,-877.5 1609.5,-877.5 1609.5,-824.5 1701.5,-824.5 1701.5,-877.5\"/>\n",
              "<text text-anchor=\"middle\" x=\"1655.5\" y=\"-862.3\" font-family=\"Times,serif\" font-size=\"14.00\" fill=\"#000000\">gini = 0.0</text>\n",
              "<text text-anchor=\"middle\" x=\"1655.5\" y=\"-847.3\" font-family=\"Times,serif\" font-size=\"14.00\" fill=\"#000000\">samples = 2</text>\n",
              "<text text-anchor=\"middle\" x=\"1655.5\" y=\"-832.3\" font-family=\"Times,serif\" font-size=\"14.00\" fill=\"#000000\">value = [2, 0]</text>\n",
              "</g>\n",
              "<!-- 56&#45;&gt;62 -->\n",
              "<g id=\"edge62\" class=\"edge\">\n",
              "<title>56&#45;&gt;62</title>\n",
              "<path fill=\"none\" stroke=\"#000000\" d=\"M1582.1907,-920.9465C1594.4278,-909.2707 1608.107,-896.219 1620.3046,-884.5809\"/>\n",
              "<polygon fill=\"#000000\" stroke=\"#000000\" points=\"1622.8628,-886.9777 1627.6818,-877.5422 1618.0306,-881.9131 1622.8628,-886.9777\"/>\n",
              "</g>\n",
              "<!-- 58 -->\n",
              "<g id=\"node59\" class=\"node\">\n",
              "<title>58</title>\n",
              "<polygon fill=\"#399de5\" stroke=\"#000000\" points=\"1555.5,-773.5 1463.5,-773.5 1463.5,-720.5 1555.5,-720.5 1555.5,-773.5\"/>\n",
              "<text text-anchor=\"middle\" x=\"1509.5\" y=\"-758.3\" font-family=\"Times,serif\" font-size=\"14.00\" fill=\"#000000\">gini = 0.0</text>\n",
              "<text text-anchor=\"middle\" x=\"1509.5\" y=\"-743.3\" font-family=\"Times,serif\" font-size=\"14.00\" fill=\"#000000\">samples = 6</text>\n",
              "<text text-anchor=\"middle\" x=\"1509.5\" y=\"-728.3\" font-family=\"Times,serif\" font-size=\"14.00\" fill=\"#000000\">value = [0, 6]</text>\n",
              "</g>\n",
              "<!-- 57&#45;&gt;58 -->\n",
              "<g id=\"edge58\" class=\"edge\">\n",
              "<title>57&#45;&gt;58</title>\n",
              "<path fill=\"none\" stroke=\"#000000\" d=\"M1524.9689,-816.9465C1522.606,-806.2621 1519.9883,-794.4254 1517.5885,-783.5742\"/>\n",
              "<polygon fill=\"#000000\" stroke=\"#000000\" points=\"1520.9468,-782.5504 1515.3699,-773.5422 1514.1119,-784.062 1520.9468,-782.5504\"/>\n",
              "</g>\n",
              "<!-- 59 -->\n",
              "<g id=\"node60\" class=\"node\">\n",
              "<title>59</title>\n",
              "<polygon fill=\"#f2c09c\" stroke=\"#000000\" points=\"1671,-781 1574,-781 1574,-713 1671,-713 1671,-781\"/>\n",
              "<text text-anchor=\"middle\" x=\"1622.5\" y=\"-765.8\" font-family=\"Times,serif\" font-size=\"14.00\" fill=\"#000000\">BMI &lt;= 35.25</text>\n",
              "<text text-anchor=\"middle\" x=\"1622.5\" y=\"-750.8\" font-family=\"Times,serif\" font-size=\"14.00\" fill=\"#000000\">gini = 0.444</text>\n",
              "<text text-anchor=\"middle\" x=\"1622.5\" y=\"-735.8\" font-family=\"Times,serif\" font-size=\"14.00\" fill=\"#000000\">samples = 3</text>\n",
              "<text text-anchor=\"middle\" x=\"1622.5\" y=\"-720.8\" font-family=\"Times,serif\" font-size=\"14.00\" fill=\"#000000\">value = [2, 1]</text>\n",
              "</g>\n",
              "<!-- 57&#45;&gt;59 -->\n",
              "<g id=\"edge59\" class=\"edge\">\n",
              "<title>57&#45;&gt;59</title>\n",
              "<path fill=\"none\" stroke=\"#000000\" d=\"M1561.9694,-816.9465C1569.7393,-807.968 1578.2132,-798.1758 1586.2936,-788.8385\"/>\n",
              "<polygon fill=\"#000000\" stroke=\"#000000\" points=\"1589.0672,-790.982 1592.9644,-781.13 1583.774,-786.4014 1589.0672,-790.982\"/>\n",
              "</g>\n",
              "<!-- 60 -->\n",
              "<g id=\"node61\" class=\"node\">\n",
              "<title>60</title>\n",
              "<polygon fill=\"#e58139\" stroke=\"#000000\" points=\"1625.5,-669.5 1533.5,-669.5 1533.5,-616.5 1625.5,-616.5 1625.5,-669.5\"/>\n",
              "<text text-anchor=\"middle\" x=\"1579.5\" y=\"-654.3\" font-family=\"Times,serif\" font-size=\"14.00\" fill=\"#000000\">gini = 0.0</text>\n",
              "<text text-anchor=\"middle\" x=\"1579.5\" y=\"-639.3\" font-family=\"Times,serif\" font-size=\"14.00\" fill=\"#000000\">samples = 2</text>\n",
              "<text text-anchor=\"middle\" x=\"1579.5\" y=\"-624.3\" font-family=\"Times,serif\" font-size=\"14.00\" fill=\"#000000\">value = [2, 0]</text>\n",
              "</g>\n",
              "<!-- 59&#45;&gt;60 -->\n",
              "<g id=\"edge60\" class=\"edge\">\n",
              "<title>59&#45;&gt;60</title>\n",
              "<path fill=\"none\" stroke=\"#000000\" d=\"M1608.4202,-712.9465C1603.9115,-702.0418 1598.9066,-689.9368 1594.345,-678.9043\"/>\n",
              "<polygon fill=\"#000000\" stroke=\"#000000\" points=\"1597.5296,-677.4461 1590.4742,-669.5422 1591.0607,-680.1208 1597.5296,-677.4461\"/>\n",
              "</g>\n",
              "<!-- 61 -->\n",
              "<g id=\"node62\" class=\"node\">\n",
              "<title>61</title>\n",
              "<polygon fill=\"#399de5\" stroke=\"#000000\" points=\"1735.5,-669.5 1643.5,-669.5 1643.5,-616.5 1735.5,-616.5 1735.5,-669.5\"/>\n",
              "<text text-anchor=\"middle\" x=\"1689.5\" y=\"-654.3\" font-family=\"Times,serif\" font-size=\"14.00\" fill=\"#000000\">gini = 0.0</text>\n",
              "<text text-anchor=\"middle\" x=\"1689.5\" y=\"-639.3\" font-family=\"Times,serif\" font-size=\"14.00\" fill=\"#000000\">samples = 1</text>\n",
              "<text text-anchor=\"middle\" x=\"1689.5\" y=\"-624.3\" font-family=\"Times,serif\" font-size=\"14.00\" fill=\"#000000\">value = [0, 1]</text>\n",
              "</g>\n",
              "<!-- 59&#45;&gt;61 -->\n",
              "<g id=\"edge61\" class=\"edge\">\n",
              "<title>59&#45;&gt;61</title>\n",
              "<path fill=\"none\" stroke=\"#000000\" d=\"M1644.4383,-712.9465C1651.6054,-701.8215 1659.5773,-689.4473 1666.7993,-678.237\"/>\n",
              "<polygon fill=\"#000000\" stroke=\"#000000\" points=\"1669.9272,-679.8442 1672.4007,-669.5422 1664.0426,-676.0532 1669.9272,-679.8442\"/>\n",
              "</g>\n",
              "<!-- 65 -->\n",
              "<g id=\"node66\" class=\"node\">\n",
              "<title>65</title>\n",
              "<polygon fill=\"#fdf7f3\" stroke=\"#000000\" points=\"2285,-1301 2146,-1301 2146,-1233 2285,-1233 2285,-1301\"/>\n",
              "<text text-anchor=\"middle\" x=\"2215.5\" y=\"-1285.8\" font-family=\"Times,serif\" font-size=\"14.00\" fill=\"#000000\">SkinThickness &lt;= 4.0</text>\n",
              "<text text-anchor=\"middle\" x=\"2215.5\" y=\"-1270.8\" font-family=\"Times,serif\" font-size=\"14.00\" fill=\"#000000\">gini = 0.5</text>\n",
              "<text text-anchor=\"middle\" x=\"2215.5\" y=\"-1255.8\" font-family=\"Times,serif\" font-size=\"14.00\" fill=\"#000000\">samples = 64</text>\n",
              "<text text-anchor=\"middle\" x=\"2215.5\" y=\"-1240.8\" font-family=\"Times,serif\" font-size=\"14.00\" fill=\"#000000\">value = [33, 31]</text>\n",
              "</g>\n",
              "<!-- 64&#45;&gt;65 -->\n",
              "<g id=\"edge65\" class=\"edge\">\n",
              "<title>64&#45;&gt;65</title>\n",
              "<path fill=\"none\" stroke=\"#000000\" d=\"M2215.5,-1336.9465C2215.5,-1328.776 2215.5,-1319.9318 2215.5,-1311.3697\"/>\n",
              "<polygon fill=\"#000000\" stroke=\"#000000\" points=\"2219.0001,-1311.13 2215.5,-1301.13 2212.0001,-1311.13 2219.0001,-1311.13\"/>\n",
              "</g>\n",
              "<!-- 88 -->\n",
              "<g id=\"node89\" class=\"node\">\n",
              "<title>88</title>\n",
              "<polygon fill=\"#56ace9\" stroke=\"#000000\" points=\"2489,-1301 2350,-1301 2350,-1233 2489,-1233 2489,-1301\"/>\n",
              "<text text-anchor=\"middle\" x=\"2419.5\" y=\"-1285.8\" font-family=\"Times,serif\" font-size=\"14.00\" fill=\"#000000\">SkinThickness &lt;= 3.5</text>\n",
              "<text text-anchor=\"middle\" x=\"2419.5\" y=\"-1270.8\" font-family=\"Times,serif\" font-size=\"14.00\" fill=\"#000000\">gini = 0.225</text>\n",
              "<text text-anchor=\"middle\" x=\"2419.5\" y=\"-1255.8\" font-family=\"Times,serif\" font-size=\"14.00\" fill=\"#000000\">samples = 170</text>\n",
              "<text text-anchor=\"middle\" x=\"2419.5\" y=\"-1240.8\" font-family=\"Times,serif\" font-size=\"14.00\" fill=\"#000000\">value = [22, 148]</text>\n",
              "</g>\n",
              "<!-- 64&#45;&gt;88 -->\n",
              "<g id=\"edge88\" class=\"edge\">\n",
              "<title>64&#45;&gt;88</title>\n",
              "<path fill=\"none\" stroke=\"#000000\" d=\"M2272.0545,-1342.1683C2294.2207,-1330.8679 2319.9863,-1317.7325 2343.72,-1305.6329\"/>\n",
              "<polygon fill=\"#000000\" stroke=\"#000000\" points=\"2345.3856,-1308.7125 2352.705,-1301.0524 2342.2062,-1302.4761 2345.3856,-1308.7125\"/>\n",
              "</g>\n",
              "<!-- 66 -->\n",
              "<g id=\"node67\" class=\"node\">\n",
              "<title>66</title>\n",
              "<polygon fill=\"#399de5\" stroke=\"#000000\" points=\"2216,-1189.5 2117,-1189.5 2117,-1136.5 2216,-1136.5 2216,-1189.5\"/>\n",
              "<text text-anchor=\"middle\" x=\"2166.5\" y=\"-1174.3\" font-family=\"Times,serif\" font-size=\"14.00\" fill=\"#000000\">gini = 0.0</text>\n",
              "<text text-anchor=\"middle\" x=\"2166.5\" y=\"-1159.3\" font-family=\"Times,serif\" font-size=\"14.00\" fill=\"#000000\">samples = 11</text>\n",
              "<text text-anchor=\"middle\" x=\"2166.5\" y=\"-1144.3\" font-family=\"Times,serif\" font-size=\"14.00\" fill=\"#000000\">value = [0, 11]</text>\n",
              "</g>\n",
              "<!-- 65&#45;&gt;66 -->\n",
              "<g id=\"edge66\" class=\"edge\">\n",
              "<title>65&#45;&gt;66</title>\n",
              "<path fill=\"none\" stroke=\"#000000\" d=\"M2199.4556,-1232.9465C2194.3178,-1222.0418 2188.6145,-1209.9368 2183.4164,-1198.9043\"/>\n",
              "<polygon fill=\"#000000\" stroke=\"#000000\" points=\"2186.4338,-1197.0966 2179.0054,-1189.5422 2180.1015,-1200.0802 2186.4338,-1197.0966\"/>\n",
              "</g>\n",
              "<!-- 67 -->\n",
              "<g id=\"node68\" class=\"node\">\n",
              "<title>67</title>\n",
              "<polygon fill=\"#f5cdb1\" stroke=\"#000000\" points=\"2351,-1197 2234,-1197 2234,-1129 2351,-1129 2351,-1197\"/>\n",
              "<text text-anchor=\"middle\" x=\"2292.5\" y=\"-1181.8\" font-family=\"Times,serif\" font-size=\"14.00\" fill=\"#000000\">Glucose &lt;= 169.0</text>\n",
              "<text text-anchor=\"middle\" x=\"2292.5\" y=\"-1166.8\" font-family=\"Times,serif\" font-size=\"14.00\" fill=\"#000000\">gini = 0.47</text>\n",
              "<text text-anchor=\"middle\" x=\"2292.5\" y=\"-1151.8\" font-family=\"Times,serif\" font-size=\"14.00\" fill=\"#000000\">samples = 53</text>\n",
              "<text text-anchor=\"middle\" x=\"2292.5\" y=\"-1136.8\" font-family=\"Times,serif\" font-size=\"14.00\" fill=\"#000000\">value = [33, 20]</text>\n",
              "</g>\n",
              "<!-- 65&#45;&gt;67 -->\n",
              "<g id=\"edge67\" class=\"edge\">\n",
              "<title>65&#45;&gt;67</title>\n",
              "<path fill=\"none\" stroke=\"#000000\" d=\"M2240.7127,-1232.9465C2247.2273,-1224.1475 2254.3205,-1214.5672 2261.1082,-1205.3993\"/>\n",
              "<polygon fill=\"#000000\" stroke=\"#000000\" points=\"2264.0931,-1207.2496 2267.2307,-1197.13 2258.4673,-1203.0843 2264.0931,-1207.2496\"/>\n",
              "</g>\n",
              "<!-- 68 -->\n",
              "<g id=\"node69\" class=\"node\">\n",
              "<title>68</title>\n",
              "<polygon fill=\"#efb083\" stroke=\"#000000\" points=\"2359,-1093 2224,-1093 2224,-1025 2359,-1025 2359,-1093\"/>\n",
              "<text text-anchor=\"middle\" x=\"2291.5\" y=\"-1077.8\" font-family=\"Times,serif\" font-size=\"14.00\" fill=\"#000000\">Insulin_log &lt;= 5.342</text>\n",
              "<text text-anchor=\"middle\" x=\"2291.5\" y=\"-1062.8\" font-family=\"Times,serif\" font-size=\"14.00\" fill=\"#000000\">gini = 0.397</text>\n",
              "<text text-anchor=\"middle\" x=\"2291.5\" y=\"-1047.8\" font-family=\"Times,serif\" font-size=\"14.00\" fill=\"#000000\">samples = 44</text>\n",
              "<text text-anchor=\"middle\" x=\"2291.5\" y=\"-1032.8\" font-family=\"Times,serif\" font-size=\"14.00\" fill=\"#000000\">value = [32, 12]</text>\n",
              "</g>\n",
              "<!-- 67&#45;&gt;68 -->\n",
              "<g id=\"edge68\" class=\"edge\">\n",
              "<title>67&#45;&gt;68</title>\n",
              "<path fill=\"none\" stroke=\"#000000\" d=\"M2292.1726,-1128.9465C2292.094,-1120.776 2292.009,-1111.9318 2291.9266,-1103.3697\"/>\n",
              "<polygon fill=\"#000000\" stroke=\"#000000\" points=\"2295.4243,-1103.0958 2291.8282,-1093.13 2288.4246,-1103.1632 2295.4243,-1103.0958\"/>\n",
              "</g>\n",
              "<!-- 85 -->\n",
              "<g id=\"node86\" class=\"node\">\n",
              "<title>85</title>\n",
              "<polygon fill=\"#52a9e8\" stroke=\"#000000\" points=\"2477,-1093 2380,-1093 2380,-1025 2477,-1025 2477,-1093\"/>\n",
              "<text text-anchor=\"middle\" x=\"2428.5\" y=\"-1077.8\" font-family=\"Times,serif\" font-size=\"14.00\" fill=\"#000000\">BMI &lt;= 28.95</text>\n",
              "<text text-anchor=\"middle\" x=\"2428.5\" y=\"-1062.8\" font-family=\"Times,serif\" font-size=\"14.00\" fill=\"#000000\">gini = 0.198</text>\n",
              "<text text-anchor=\"middle\" x=\"2428.5\" y=\"-1047.8\" font-family=\"Times,serif\" font-size=\"14.00\" fill=\"#000000\">samples = 9</text>\n",
              "<text text-anchor=\"middle\" x=\"2428.5\" y=\"-1032.8\" font-family=\"Times,serif\" font-size=\"14.00\" fill=\"#000000\">value = [1, 8]</text>\n",
              "</g>\n",
              "<!-- 67&#45;&gt;85 -->\n",
              "<g id=\"edge85\" class=\"edge\">\n",
              "<title>67&#45;&gt;85</title>\n",
              "<path fill=\"none\" stroke=\"#000000\" d=\"M2337.0315,-1128.9465C2349.3597,-1119.519 2362.8609,-1109.1946 2375.615,-1099.4415\"/>\n",
              "<polygon fill=\"#000000\" stroke=\"#000000\" points=\"2378.051,-1101.9848 2383.8685,-1093.13 2373.7988,-1096.4243 2378.051,-1101.9848\"/>\n",
              "</g>\n",
              "<!-- 69 -->\n",
              "<g id=\"node70\" class=\"node\">\n",
              "<title>69</title>\n",
              "<polygon fill=\"#f9e4d5\" stroke=\"#000000\" points=\"2200,-989 2065,-989 2065,-921 2200,-921 2200,-989\"/>\n",
              "<text text-anchor=\"middle\" x=\"2132.5\" y=\"-973.8\" font-family=\"Times,serif\" font-size=\"14.00\" fill=\"#000000\">Insulin_log &lt;= 5.247</text>\n",
              "<text text-anchor=\"middle\" x=\"2132.5\" y=\"-958.8\" font-family=\"Times,serif\" font-size=\"14.00\" fill=\"#000000\">gini = 0.493</text>\n",
              "<text text-anchor=\"middle\" x=\"2132.5\" y=\"-943.8\" font-family=\"Times,serif\" font-size=\"14.00\" fill=\"#000000\">samples = 25</text>\n",
              "<text text-anchor=\"middle\" x=\"2132.5\" y=\"-928.8\" font-family=\"Times,serif\" font-size=\"14.00\" fill=\"#000000\">value = [14, 11]</text>\n",
              "</g>\n",
              "<!-- 68&#45;&gt;69 -->\n",
              "<g id=\"edge69\" class=\"edge\">\n",
              "<title>68&#45;&gt;69</title>\n",
              "<path fill=\"none\" stroke=\"#000000\" d=\"M2239.4375,-1024.9465C2224.6125,-1015.2497 2208.3367,-1004.6039 2193.0529,-994.6069\"/>\n",
              "<polygon fill=\"#000000\" stroke=\"#000000\" points=\"2194.9642,-991.6749 2184.6795,-989.13 2191.1324,-997.533 2194.9642,-991.6749\"/>\n",
              "</g>\n",
              "<!-- 80 -->\n",
              "<g id=\"node81\" class=\"node\">\n",
              "<title>80</title>\n",
              "<polygon fill=\"#e68844\" stroke=\"#000000\" points=\"2364.5,-989 2218.5,-989 2218.5,-921 2364.5,-921 2364.5,-989\"/>\n",
              "<text text-anchor=\"middle\" x=\"2291.5\" y=\"-973.8\" font-family=\"Times,serif\" font-size=\"14.00\" fill=\"#000000\">SkinThickness &lt;= 41.5</text>\n",
              "<text text-anchor=\"middle\" x=\"2291.5\" y=\"-958.8\" font-family=\"Times,serif\" font-size=\"14.00\" fill=\"#000000\">gini = 0.1</text>\n",
              "<text text-anchor=\"middle\" x=\"2291.5\" y=\"-943.8\" font-family=\"Times,serif\" font-size=\"14.00\" fill=\"#000000\">samples = 19</text>\n",
              "<text text-anchor=\"middle\" x=\"2291.5\" y=\"-928.8\" font-family=\"Times,serif\" font-size=\"14.00\" fill=\"#000000\">value = [18, 1]</text>\n",
              "</g>\n",
              "<!-- 68&#45;&gt;80 -->\n",
              "<g id=\"edge80\" class=\"edge\">\n",
              "<title>68&#45;&gt;80</title>\n",
              "<path fill=\"none\" stroke=\"#000000\" d=\"M2291.5,-1024.9465C2291.5,-1016.776 2291.5,-1007.9318 2291.5,-999.3697\"/>\n",
              "<polygon fill=\"#000000\" stroke=\"#000000\" points=\"2295.0001,-999.13 2291.5,-989.13 2288.0001,-999.13 2295.0001,-999.13\"/>\n",
              "</g>\n",
              "<!-- 70 -->\n",
              "<g id=\"node71\" class=\"node\">\n",
              "<title>70</title>\n",
              "<polygon fill=\"#eb9e67\" stroke=\"#000000\" points=\"2059,-885 1942,-885 1942,-817 2059,-817 2059,-885\"/>\n",
              "<text text-anchor=\"middle\" x=\"2000.5\" y=\"-869.8\" font-family=\"Times,serif\" font-size=\"14.00\" fill=\"#000000\">Glucose &lt;= 137.5</text>\n",
              "<text text-anchor=\"middle\" x=\"2000.5\" y=\"-854.8\" font-family=\"Times,serif\" font-size=\"14.00\" fill=\"#000000\">gini = 0.305</text>\n",
              "<text text-anchor=\"middle\" x=\"2000.5\" y=\"-839.8\" font-family=\"Times,serif\" font-size=\"14.00\" fill=\"#000000\">samples = 16</text>\n",
              "<text text-anchor=\"middle\" x=\"2000.5\" y=\"-824.8\" font-family=\"Times,serif\" font-size=\"14.00\" fill=\"#000000\">value = [13, 3]</text>\n",
              "</g>\n",
              "<!-- 69&#45;&gt;70 -->\n",
              "<g id=\"edge70\" class=\"edge\">\n",
              "<title>69&#45;&gt;70</title>\n",
              "<path fill=\"none\" stroke=\"#000000\" d=\"M2089.2783,-920.9465C2077.3126,-911.519 2064.2085,-901.1946 2051.8296,-891.4415\"/>\n",
              "<polygon fill=\"#000000\" stroke=\"#000000\" points=\"2053.8398,-888.5695 2043.8188,-885.13 2049.5077,-894.068 2053.8398,-888.5695\"/>\n",
              "</g>\n",
              "<!-- 77 -->\n",
              "<g id=\"node78\" class=\"node\">\n",
              "<title>77</title>\n",
              "<polygon fill=\"#52a9e8\" stroke=\"#000000\" points=\"2223.5,-885 2077.5,-885 2077.5,-817 2223.5,-817 2223.5,-885\"/>\n",
              "<text text-anchor=\"middle\" x=\"2150.5\" y=\"-869.8\" font-family=\"Times,serif\" font-size=\"14.00\" fill=\"#000000\">SkinThickness &lt;= 48.0</text>\n",
              "<text text-anchor=\"middle\" x=\"2150.5\" y=\"-854.8\" font-family=\"Times,serif\" font-size=\"14.00\" fill=\"#000000\">gini = 0.198</text>\n",
              "<text text-anchor=\"middle\" x=\"2150.5\" y=\"-839.8\" font-family=\"Times,serif\" font-size=\"14.00\" fill=\"#000000\">samples = 9</text>\n",
              "<text text-anchor=\"middle\" x=\"2150.5\" y=\"-824.8\" font-family=\"Times,serif\" font-size=\"14.00\" fill=\"#000000\">value = [1, 8]</text>\n",
              "</g>\n",
              "<!-- 69&#45;&gt;77 -->\n",
              "<g id=\"edge77\" class=\"edge\">\n",
              "<title>69&#45;&gt;77</title>\n",
              "<path fill=\"none\" stroke=\"#000000\" d=\"M2138.3939,-920.9465C2139.8235,-912.6863 2141.3724,-903.7374 2142.8695,-895.0875\"/>\n",
              "<polygon fill=\"#000000\" stroke=\"#000000\" points=\"2146.3361,-895.5804 2144.5929,-885.13 2139.4387,-894.3866 2146.3361,-895.5804\"/>\n",
              "</g>\n",
              "<!-- 71 -->\n",
              "<g id=\"node72\" class=\"node\">\n",
              "<title>71</title>\n",
              "<polygon fill=\"#e78c49\" stroke=\"#000000\" points=\"1951,-781 1732,-781 1732,-713 1951,-713 1951,-781\"/>\n",
              "<text text-anchor=\"middle\" x=\"1841.5\" y=\"-765.8\" font-family=\"Times,serif\" font-size=\"14.00\" fill=\"#000000\">DiabetesPedigreeFunction &lt;= 1.169</text>\n",
              "<text text-anchor=\"middle\" x=\"1841.5\" y=\"-750.8\" font-family=\"Times,serif\" font-size=\"14.00\" fill=\"#000000\">gini = 0.142</text>\n",
              "<text text-anchor=\"middle\" x=\"1841.5\" y=\"-735.8\" font-family=\"Times,serif\" font-size=\"14.00\" fill=\"#000000\">samples = 13</text>\n",
              "<text text-anchor=\"middle\" x=\"1841.5\" y=\"-720.8\" font-family=\"Times,serif\" font-size=\"14.00\" fill=\"#000000\">value = [12, 1]</text>\n",
              "</g>\n",
              "<!-- 70&#45;&gt;71 -->\n",
              "<g id=\"edge71\" class=\"edge\">\n",
              "<title>70&#45;&gt;71</title>\n",
              "<path fill=\"none\" stroke=\"#000000\" d=\"M1948.4375,-816.9465C1933.6125,-807.2497 1917.3367,-796.6039 1902.0529,-786.6069\"/>\n",
              "<polygon fill=\"#000000\" stroke=\"#000000\" points=\"1903.9642,-783.6749 1893.6795,-781.13 1900.1324,-789.533 1903.9642,-783.6749\"/>\n",
              "</g>\n",
              "<!-- 74 -->\n",
              "<g id=\"node75\" class=\"node\">\n",
              "<title>74</title>\n",
              "<polygon fill=\"#9ccef2\" stroke=\"#000000\" points=\"2086,-781 1969,-781 1969,-713 2086,-713 2086,-781\"/>\n",
              "<text text-anchor=\"middle\" x=\"2027.5\" y=\"-765.8\" font-family=\"Times,serif\" font-size=\"14.00\" fill=\"#000000\">Glucose &lt;= 148.0</text>\n",
              "<text text-anchor=\"middle\" x=\"2027.5\" y=\"-750.8\" font-family=\"Times,serif\" font-size=\"14.00\" fill=\"#000000\">gini = 0.444</text>\n",
              "<text text-anchor=\"middle\" x=\"2027.5\" y=\"-735.8\" font-family=\"Times,serif\" font-size=\"14.00\" fill=\"#000000\">samples = 3</text>\n",
              "<text text-anchor=\"middle\" x=\"2027.5\" y=\"-720.8\" font-family=\"Times,serif\" font-size=\"14.00\" fill=\"#000000\">value = [1, 2]</text>\n",
              "</g>\n",
              "<!-- 70&#45;&gt;74 -->\n",
              "<g id=\"edge74\" class=\"edge\">\n",
              "<title>70&#45;&gt;74</title>\n",
              "<path fill=\"none\" stroke=\"#000000\" d=\"M2009.3408,-816.9465C2011.4853,-808.6863 2013.8086,-799.7374 2016.0542,-791.0875\"/>\n",
              "<polygon fill=\"#000000\" stroke=\"#000000\" points=\"2019.5141,-791.6887 2018.6393,-781.13 2012.7387,-789.9296 2019.5141,-791.6887\"/>\n",
              "</g>\n",
              "<!-- 72 -->\n",
              "<g id=\"node73\" class=\"node\">\n",
              "<title>72</title>\n",
              "<polygon fill=\"#e58139\" stroke=\"#000000\" points=\"1853,-669.5 1754,-669.5 1754,-616.5 1853,-616.5 1853,-669.5\"/>\n",
              "<text text-anchor=\"middle\" x=\"1803.5\" y=\"-654.3\" font-family=\"Times,serif\" font-size=\"14.00\" fill=\"#000000\">gini = 0.0</text>\n",
              "<text text-anchor=\"middle\" x=\"1803.5\" y=\"-639.3\" font-family=\"Times,serif\" font-size=\"14.00\" fill=\"#000000\">samples = 12</text>\n",
              "<text text-anchor=\"middle\" x=\"1803.5\" y=\"-624.3\" font-family=\"Times,serif\" font-size=\"14.00\" fill=\"#000000\">value = [12, 0]</text>\n",
              "</g>\n",
              "<!-- 71&#45;&gt;72 -->\n",
              "<g id=\"edge72\" class=\"edge\">\n",
              "<title>71&#45;&gt;72</title>\n",
              "<path fill=\"none\" stroke=\"#000000\" d=\"M1829.0574,-712.9465C1825.1132,-702.1519 1820.7393,-690.1813 1816.7411,-679.2389\"/>\n",
              "<polygon fill=\"#000000\" stroke=\"#000000\" points=\"1819.9175,-677.7336 1813.1981,-669.5422 1813.3427,-680.136 1819.9175,-677.7336\"/>\n",
              "</g>\n",
              "<!-- 73 -->\n",
              "<g id=\"node74\" class=\"node\">\n",
              "<title>73</title>\n",
              "<polygon fill=\"#399de5\" stroke=\"#000000\" points=\"1963.5,-669.5 1871.5,-669.5 1871.5,-616.5 1963.5,-616.5 1963.5,-669.5\"/>\n",
              "<text text-anchor=\"middle\" x=\"1917.5\" y=\"-654.3\" font-family=\"Times,serif\" font-size=\"14.00\" fill=\"#000000\">gini = 0.0</text>\n",
              "<text text-anchor=\"middle\" x=\"1917.5\" y=\"-639.3\" font-family=\"Times,serif\" font-size=\"14.00\" fill=\"#000000\">samples = 1</text>\n",
              "<text text-anchor=\"middle\" x=\"1917.5\" y=\"-624.3\" font-family=\"Times,serif\" font-size=\"14.00\" fill=\"#000000\">value = [0, 1]</text>\n",
              "</g>\n",
              "<!-- 71&#45;&gt;73 -->\n",
              "<g id=\"edge73\" class=\"edge\">\n",
              "<title>71&#45;&gt;73</title>\n",
              "<path fill=\"none\" stroke=\"#000000\" d=\"M1866.3852,-712.9465C1874.5956,-701.7113 1883.7369,-689.2021 1891.993,-677.9043\"/>\n",
              "<polygon fill=\"#000000\" stroke=\"#000000\" points=\"1895.0295,-679.6812 1898.1038,-669.5422 1889.3777,-675.551 1895.0295,-679.6812\"/>\n",
              "</g>\n",
              "<!-- 75 -->\n",
              "<g id=\"node76\" class=\"node\">\n",
              "<title>75</title>\n",
              "<polygon fill=\"#399de5\" stroke=\"#000000\" points=\"2073.5,-669.5 1981.5,-669.5 1981.5,-616.5 2073.5,-616.5 2073.5,-669.5\"/>\n",
              "<text text-anchor=\"middle\" x=\"2027.5\" y=\"-654.3\" font-family=\"Times,serif\" font-size=\"14.00\" fill=\"#000000\">gini = 0.0</text>\n",
              "<text text-anchor=\"middle\" x=\"2027.5\" y=\"-639.3\" font-family=\"Times,serif\" font-size=\"14.00\" fill=\"#000000\">samples = 2</text>\n",
              "<text text-anchor=\"middle\" x=\"2027.5\" y=\"-624.3\" font-family=\"Times,serif\" font-size=\"14.00\" fill=\"#000000\">value = [0, 2]</text>\n",
              "</g>\n",
              "<!-- 74&#45;&gt;75 -->\n",
              "<g id=\"edge75\" class=\"edge\">\n",
              "<title>74&#45;&gt;75</title>\n",
              "<path fill=\"none\" stroke=\"#000000\" d=\"M2027.5,-712.9465C2027.5,-702.2621 2027.5,-690.4254 2027.5,-679.5742\"/>\n",
              "<polygon fill=\"#000000\" stroke=\"#000000\" points=\"2031.0001,-679.5421 2027.5,-669.5422 2024.0001,-679.5422 2031.0001,-679.5421\"/>\n",
              "</g>\n",
              "<!-- 76 -->\n",
              "<g id=\"node77\" class=\"node\">\n",
              "<title>76</title>\n",
              "<polygon fill=\"#e58139\" stroke=\"#000000\" points=\"2183.5,-669.5 2091.5,-669.5 2091.5,-616.5 2183.5,-616.5 2183.5,-669.5\"/>\n",
              "<text text-anchor=\"middle\" x=\"2137.5\" y=\"-654.3\" font-family=\"Times,serif\" font-size=\"14.00\" fill=\"#000000\">gini = 0.0</text>\n",
              "<text text-anchor=\"middle\" x=\"2137.5\" y=\"-639.3\" font-family=\"Times,serif\" font-size=\"14.00\" fill=\"#000000\">samples = 1</text>\n",
              "<text text-anchor=\"middle\" x=\"2137.5\" y=\"-624.3\" font-family=\"Times,serif\" font-size=\"14.00\" fill=\"#000000\">value = [1, 0]</text>\n",
              "</g>\n",
              "<!-- 74&#45;&gt;76 -->\n",
              "<g id=\"edge76\" class=\"edge\">\n",
              "<title>74&#45;&gt;76</title>\n",
              "<path fill=\"none\" stroke=\"#000000\" d=\"M2063.5181,-712.9465C2075.8675,-701.2707 2089.6722,-688.219 2101.9817,-676.5809\"/>\n",
              "<polygon fill=\"#000000\" stroke=\"#000000\" points=\"2104.5646,-678.9556 2109.4266,-669.5422 2099.7555,-673.869 2104.5646,-678.9556\"/>\n",
              "</g>\n",
              "<!-- 78 -->\n",
              "<g id=\"node79\" class=\"node\">\n",
              "<title>78</title>\n",
              "<polygon fill=\"#399de5\" stroke=\"#000000\" points=\"2196.5,-773.5 2104.5,-773.5 2104.5,-720.5 2196.5,-720.5 2196.5,-773.5\"/>\n",
              "<text text-anchor=\"middle\" x=\"2150.5\" y=\"-758.3\" font-family=\"Times,serif\" font-size=\"14.00\" fill=\"#000000\">gini = 0.0</text>\n",
              "<text text-anchor=\"middle\" x=\"2150.5\" y=\"-743.3\" font-family=\"Times,serif\" font-size=\"14.00\" fill=\"#000000\">samples = 8</text>\n",
              "<text text-anchor=\"middle\" x=\"2150.5\" y=\"-728.3\" font-family=\"Times,serif\" font-size=\"14.00\" fill=\"#000000\">value = [0, 8]</text>\n",
              "</g>\n",
              "<!-- 77&#45;&gt;78 -->\n",
              "<g id=\"edge78\" class=\"edge\">\n",
              "<title>77&#45;&gt;78</title>\n",
              "<path fill=\"none\" stroke=\"#000000\" d=\"M2150.5,-816.9465C2150.5,-806.2621 2150.5,-794.4254 2150.5,-783.5742\"/>\n",
              "<polygon fill=\"#000000\" stroke=\"#000000\" points=\"2154.0001,-783.5421 2150.5,-773.5422 2147.0001,-783.5422 2154.0001,-783.5421\"/>\n",
              "</g>\n",
              "<!-- 79 -->\n",
              "<g id=\"node80\" class=\"node\">\n",
              "<title>79</title>\n",
              "<polygon fill=\"#e58139\" stroke=\"#000000\" points=\"2306.5,-773.5 2214.5,-773.5 2214.5,-720.5 2306.5,-720.5 2306.5,-773.5\"/>\n",
              "<text text-anchor=\"middle\" x=\"2260.5\" y=\"-758.3\" font-family=\"Times,serif\" font-size=\"14.00\" fill=\"#000000\">gini = 0.0</text>\n",
              "<text text-anchor=\"middle\" x=\"2260.5\" y=\"-743.3\" font-family=\"Times,serif\" font-size=\"14.00\" fill=\"#000000\">samples = 1</text>\n",
              "<text text-anchor=\"middle\" x=\"2260.5\" y=\"-728.3\" font-family=\"Times,serif\" font-size=\"14.00\" fill=\"#000000\">value = [1, 0]</text>\n",
              "</g>\n",
              "<!-- 77&#45;&gt;79 -->\n",
              "<g id=\"edge79\" class=\"edge\">\n",
              "<title>77&#45;&gt;79</title>\n",
              "<path fill=\"none\" stroke=\"#000000\" d=\"M2186.5181,-816.9465C2198.8675,-805.2707 2212.6722,-792.219 2224.9817,-780.5809\"/>\n",
              "<polygon fill=\"#000000\" stroke=\"#000000\" points=\"2227.5646,-782.9556 2232.4266,-773.5422 2222.7555,-777.869 2227.5646,-782.9556\"/>\n",
              "</g>\n",
              "<!-- 81 -->\n",
              "<g id=\"node82\" class=\"node\">\n",
              "<title>81</title>\n",
              "<polygon fill=\"#e58139\" stroke=\"#000000\" points=\"2341,-877.5 2242,-877.5 2242,-824.5 2341,-824.5 2341,-877.5\"/>\n",
              "<text text-anchor=\"middle\" x=\"2291.5\" y=\"-862.3\" font-family=\"Times,serif\" font-size=\"14.00\" fill=\"#000000\">gini = 0.0</text>\n",
              "<text text-anchor=\"middle\" x=\"2291.5\" y=\"-847.3\" font-family=\"Times,serif\" font-size=\"14.00\" fill=\"#000000\">samples = 16</text>\n",
              "<text text-anchor=\"middle\" x=\"2291.5\" y=\"-832.3\" font-family=\"Times,serif\" font-size=\"14.00\" fill=\"#000000\">value = [16, 0]</text>\n",
              "</g>\n",
              "<!-- 80&#45;&gt;81 -->\n",
              "<g id=\"edge81\" class=\"edge\">\n",
              "<title>80&#45;&gt;81</title>\n",
              "<path fill=\"none\" stroke=\"#000000\" d=\"M2291.5,-920.9465C2291.5,-910.2621 2291.5,-898.4254 2291.5,-887.5742\"/>\n",
              "<polygon fill=\"#000000\" stroke=\"#000000\" points=\"2295.0001,-887.5421 2291.5,-877.5422 2288.0001,-887.5422 2295.0001,-887.5421\"/>\n",
              "</g>\n",
              "<!-- 82 -->\n",
              "<g id=\"node83\" class=\"node\">\n",
              "<title>82</title>\n",
              "<polygon fill=\"#f2c09c\" stroke=\"#000000\" points=\"2494,-885 2359,-885 2359,-817 2494,-817 2494,-885\"/>\n",
              "<text text-anchor=\"middle\" x=\"2426.5\" y=\"-869.8\" font-family=\"Times,serif\" font-size=\"14.00\" fill=\"#000000\">Insulin_log &lt;= 5.535</text>\n",
              "<text text-anchor=\"middle\" x=\"2426.5\" y=\"-854.8\" font-family=\"Times,serif\" font-size=\"14.00\" fill=\"#000000\">gini = 0.444</text>\n",
              "<text text-anchor=\"middle\" x=\"2426.5\" y=\"-839.8\" font-family=\"Times,serif\" font-size=\"14.00\" fill=\"#000000\">samples = 3</text>\n",
              "<text text-anchor=\"middle\" x=\"2426.5\" y=\"-824.8\" font-family=\"Times,serif\" font-size=\"14.00\" fill=\"#000000\">value = [2, 1]</text>\n",
              "</g>\n",
              "<!-- 80&#45;&gt;82 -->\n",
              "<g id=\"edge82\" class=\"edge\">\n",
              "<title>80&#45;&gt;82</title>\n",
              "<path fill=\"none\" stroke=\"#000000\" d=\"M2335.704,-920.9465C2347.9416,-911.519 2361.3436,-901.1946 2374.0038,-891.4415\"/>\n",
              "<polygon fill=\"#000000\" stroke=\"#000000\" points=\"2376.4107,-894.0055 2382.1966,-885.13 2372.1388,-888.4601 2376.4107,-894.0055\"/>\n",
              "</g>\n",
              "<!-- 83 -->\n",
              "<g id=\"node84\" class=\"node\">\n",
              "<title>83</title>\n",
              "<polygon fill=\"#399de5\" stroke=\"#000000\" points=\"2444.5,-773.5 2352.5,-773.5 2352.5,-720.5 2444.5,-720.5 2444.5,-773.5\"/>\n",
              "<text text-anchor=\"middle\" x=\"2398.5\" y=\"-758.3\" font-family=\"Times,serif\" font-size=\"14.00\" fill=\"#000000\">gini = 0.0</text>\n",
              "<text text-anchor=\"middle\" x=\"2398.5\" y=\"-743.3\" font-family=\"Times,serif\" font-size=\"14.00\" fill=\"#000000\">samples = 1</text>\n",
              "<text text-anchor=\"middle\" x=\"2398.5\" y=\"-728.3\" font-family=\"Times,serif\" font-size=\"14.00\" fill=\"#000000\">value = [0, 1]</text>\n",
              "</g>\n",
              "<!-- 82&#45;&gt;83 -->\n",
              "<g id=\"edge83\" class=\"edge\">\n",
              "<title>82&#45;&gt;83</title>\n",
              "<path fill=\"none\" stroke=\"#000000\" d=\"M2417.3318,-816.9465C2414.4255,-806.1519 2411.2026,-794.1813 2408.2566,-783.2389\"/>\n",
              "<polygon fill=\"#000000\" stroke=\"#000000\" points=\"2411.6254,-782.2884 2405.646,-773.5422 2404.8661,-784.1083 2411.6254,-782.2884\"/>\n",
              "</g>\n",
              "<!-- 84 -->\n",
              "<g id=\"node85\" class=\"node\">\n",
              "<title>84</title>\n",
              "<polygon fill=\"#e58139\" stroke=\"#000000\" points=\"2554.5,-773.5 2462.5,-773.5 2462.5,-720.5 2554.5,-720.5 2554.5,-773.5\"/>\n",
              "<text text-anchor=\"middle\" x=\"2508.5\" y=\"-758.3\" font-family=\"Times,serif\" font-size=\"14.00\" fill=\"#000000\">gini = 0.0</text>\n",
              "<text text-anchor=\"middle\" x=\"2508.5\" y=\"-743.3\" font-family=\"Times,serif\" font-size=\"14.00\" fill=\"#000000\">samples = 2</text>\n",
              "<text text-anchor=\"middle\" x=\"2508.5\" y=\"-728.3\" font-family=\"Times,serif\" font-size=\"14.00\" fill=\"#000000\">value = [2, 0]</text>\n",
              "</g>\n",
              "<!-- 82&#45;&gt;84 -->\n",
              "<g id=\"edge84\" class=\"edge\">\n",
              "<title>82&#45;&gt;84</title>\n",
              "<path fill=\"none\" stroke=\"#000000\" d=\"M2453.3499,-816.9465C2462.2952,-805.6012 2472.2649,-792.9567 2481.241,-781.5724\"/>\n",
              "<polygon fill=\"#000000\" stroke=\"#000000\" points=\"2484.1294,-783.5619 2487.5725,-773.5422 2478.6325,-779.2278 2484.1294,-783.5619\"/>\n",
              "</g>\n",
              "<!-- 86 -->\n",
              "<g id=\"node87\" class=\"node\">\n",
              "<title>86</title>\n",
              "<polygon fill=\"#e58139\" stroke=\"#000000\" points=\"2474.5,-981.5 2382.5,-981.5 2382.5,-928.5 2474.5,-928.5 2474.5,-981.5\"/>\n",
              "<text text-anchor=\"middle\" x=\"2428.5\" y=\"-966.3\" font-family=\"Times,serif\" font-size=\"14.00\" fill=\"#000000\">gini = 0.0</text>\n",
              "<text text-anchor=\"middle\" x=\"2428.5\" y=\"-951.3\" font-family=\"Times,serif\" font-size=\"14.00\" fill=\"#000000\">samples = 1</text>\n",
              "<text text-anchor=\"middle\" x=\"2428.5\" y=\"-936.3\" font-family=\"Times,serif\" font-size=\"14.00\" fill=\"#000000\">value = [1, 0]</text>\n",
              "</g>\n",
              "<!-- 85&#45;&gt;86 -->\n",
              "<g id=\"edge86\" class=\"edge\">\n",
              "<title>85&#45;&gt;86</title>\n",
              "<path fill=\"none\" stroke=\"#000000\" d=\"M2428.5,-1024.9465C2428.5,-1014.2621 2428.5,-1002.4254 2428.5,-991.5742\"/>\n",
              "<polygon fill=\"#000000\" stroke=\"#000000\" points=\"2432.0001,-991.5421 2428.5,-981.5422 2425.0001,-991.5422 2432.0001,-991.5421\"/>\n",
              "</g>\n",
              "<!-- 87 -->\n",
              "<g id=\"node88\" class=\"node\">\n",
              "<title>87</title>\n",
              "<polygon fill=\"#399de5\" stroke=\"#000000\" points=\"2584.5,-981.5 2492.5,-981.5 2492.5,-928.5 2584.5,-928.5 2584.5,-981.5\"/>\n",
              "<text text-anchor=\"middle\" x=\"2538.5\" y=\"-966.3\" font-family=\"Times,serif\" font-size=\"14.00\" fill=\"#000000\">gini = 0.0</text>\n",
              "<text text-anchor=\"middle\" x=\"2538.5\" y=\"-951.3\" font-family=\"Times,serif\" font-size=\"14.00\" fill=\"#000000\">samples = 8</text>\n",
              "<text text-anchor=\"middle\" x=\"2538.5\" y=\"-936.3\" font-family=\"Times,serif\" font-size=\"14.00\" fill=\"#000000\">value = [0, 8]</text>\n",
              "</g>\n",
              "<!-- 85&#45;&gt;87 -->\n",
              "<g id=\"edge87\" class=\"edge\">\n",
              "<title>85&#45;&gt;87</title>\n",
              "<path fill=\"none\" stroke=\"#000000\" d=\"M2464.5181,-1024.9465C2476.8675,-1013.2707 2490.6722,-1000.219 2502.9817,-988.5809\"/>\n",
              "<polygon fill=\"#000000\" stroke=\"#000000\" points=\"2505.5646,-990.9556 2510.4266,-981.5422 2500.7555,-985.869 2505.5646,-990.9556\"/>\n",
              "</g>\n",
              "<!-- 89 -->\n",
              "<g id=\"node90\" class=\"node\">\n",
              "<title>89</title>\n",
              "<polygon fill=\"#399de5\" stroke=\"#000000\" points=\"2469,-1189.5 2370,-1189.5 2370,-1136.5 2469,-1136.5 2469,-1189.5\"/>\n",
              "<text text-anchor=\"middle\" x=\"2419.5\" y=\"-1174.3\" font-family=\"Times,serif\" font-size=\"14.00\" fill=\"#000000\">gini = 0.0</text>\n",
              "<text text-anchor=\"middle\" x=\"2419.5\" y=\"-1159.3\" font-family=\"Times,serif\" font-size=\"14.00\" fill=\"#000000\">samples = 58</text>\n",
              "<text text-anchor=\"middle\" x=\"2419.5\" y=\"-1144.3\" font-family=\"Times,serif\" font-size=\"14.00\" fill=\"#000000\">value = [0, 58]</text>\n",
              "</g>\n",
              "<!-- 88&#45;&gt;89 -->\n",
              "<g id=\"edge89\" class=\"edge\">\n",
              "<title>88&#45;&gt;89</title>\n",
              "<path fill=\"none\" stroke=\"#000000\" d=\"M2419.5,-1232.9465C2419.5,-1222.2621 2419.5,-1210.4254 2419.5,-1199.5742\"/>\n",
              "<polygon fill=\"#000000\" stroke=\"#000000\" points=\"2423.0001,-1199.5421 2419.5,-1189.5422 2416.0001,-1199.5422 2423.0001,-1199.5421\"/>\n",
              "</g>\n",
              "<!-- 90 -->\n",
              "<g id=\"node91\" class=\"node\">\n",
              "<title>90</title>\n",
              "<polygon fill=\"#69b5eb\" stroke=\"#000000\" points=\"2594.5,-1197 2488.5,-1197 2488.5,-1129 2594.5,-1129 2594.5,-1197\"/>\n",
              "<text text-anchor=\"middle\" x=\"2541.5\" y=\"-1181.8\" font-family=\"Times,serif\" font-size=\"14.00\" fill=\"#000000\">BMI &lt;= 24.55</text>\n",
              "<text text-anchor=\"middle\" x=\"2541.5\" y=\"-1166.8\" font-family=\"Times,serif\" font-size=\"14.00\" fill=\"#000000\">gini = 0.316</text>\n",
              "<text text-anchor=\"middle\" x=\"2541.5\" y=\"-1151.8\" font-family=\"Times,serif\" font-size=\"14.00\" fill=\"#000000\">samples = 112</text>\n",
              "<text text-anchor=\"middle\" x=\"2541.5\" y=\"-1136.8\" font-family=\"Times,serif\" font-size=\"14.00\" fill=\"#000000\">value = [22, 90]</text>\n",
              "</g>\n",
              "<!-- 88&#45;&gt;90 -->\n",
              "<g id=\"edge90\" class=\"edge\">\n",
              "<title>88&#45;&gt;90</title>\n",
              "<path fill=\"none\" stroke=\"#000000\" d=\"M2459.4474,-1232.9465C2470.4012,-1223.6088 2482.3873,-1213.3911 2493.732,-1203.7203\"/>\n",
              "<polygon fill=\"#000000\" stroke=\"#000000\" points=\"2496.1233,-1206.2809 2501.4629,-1197.13 2491.5821,-1200.9538 2496.1233,-1206.2809\"/>\n",
              "</g>\n",
              "<!-- 91 -->\n",
              "<g id=\"node92\" class=\"node\">\n",
              "<title>91</title>\n",
              "<polygon fill=\"#e58139\" stroke=\"#000000\" points=\"2587.5,-1085.5 2495.5,-1085.5 2495.5,-1032.5 2587.5,-1032.5 2587.5,-1085.5\"/>\n",
              "<text text-anchor=\"middle\" x=\"2541.5\" y=\"-1070.3\" font-family=\"Times,serif\" font-size=\"14.00\" fill=\"#000000\">gini = 0.0</text>\n",
              "<text text-anchor=\"middle\" x=\"2541.5\" y=\"-1055.3\" font-family=\"Times,serif\" font-size=\"14.00\" fill=\"#000000\">samples = 2</text>\n",
              "<text text-anchor=\"middle\" x=\"2541.5\" y=\"-1040.3\" font-family=\"Times,serif\" font-size=\"14.00\" fill=\"#000000\">value = [2, 0]</text>\n",
              "</g>\n",
              "<!-- 90&#45;&gt;91 -->\n",
              "<g id=\"edge91\" class=\"edge\">\n",
              "<title>90&#45;&gt;91</title>\n",
              "<path fill=\"none\" stroke=\"#000000\" d=\"M2541.5,-1128.9465C2541.5,-1118.2621 2541.5,-1106.4254 2541.5,-1095.5742\"/>\n",
              "<polygon fill=\"#000000\" stroke=\"#000000\" points=\"2545.0001,-1095.5421 2541.5,-1085.5422 2538.0001,-1095.5422 2545.0001,-1095.5421\"/>\n",
              "</g>\n",
              "<!-- 92 -->\n",
              "<g id=\"node93\" class=\"node\">\n",
              "<title>92</title>\n",
              "<polygon fill=\"#65b3eb\" stroke=\"#000000\" points=\"2825,-1093 2606,-1093 2606,-1025 2825,-1025 2825,-1093\"/>\n",
              "<text text-anchor=\"middle\" x=\"2715.5\" y=\"-1077.8\" font-family=\"Times,serif\" font-size=\"14.00\" fill=\"#000000\">DiabetesPedigreeFunction &lt;= 0.162</text>\n",
              "<text text-anchor=\"middle\" x=\"2715.5\" y=\"-1062.8\" font-family=\"Times,serif\" font-size=\"14.00\" fill=\"#000000\">gini = 0.298</text>\n",
              "<text text-anchor=\"middle\" x=\"2715.5\" y=\"-1047.8\" font-family=\"Times,serif\" font-size=\"14.00\" fill=\"#000000\">samples = 110</text>\n",
              "<text text-anchor=\"middle\" x=\"2715.5\" y=\"-1032.8\" font-family=\"Times,serif\" font-size=\"14.00\" fill=\"#000000\">value = [20, 90]</text>\n",
              "</g>\n",
              "<!-- 90&#45;&gt;92 -->\n",
              "<g id=\"edge92\" class=\"edge\">\n",
              "<title>90&#45;&gt;92</title>\n",
              "<path fill=\"none\" stroke=\"#000000\" d=\"M2594.6512,-1131.2315C2612.0005,-1120.8618 2631.4774,-1109.2204 2649.6448,-1098.3617\"/>\n",
              "<polygon fill=\"#000000\" stroke=\"#000000\" points=\"2651.6551,-1101.2378 2658.4431,-1093.103 2648.0638,-1095.2292 2651.6551,-1101.2378\"/>\n",
              "</g>\n",
              "<!-- 93 -->\n",
              "<g id=\"node94\" class=\"node\">\n",
              "<title>93</title>\n",
              "<polygon fill=\"#f6d5bd\" stroke=\"#000000\" points=\"2747,-989 2630,-989 2630,-921 2747,-921 2747,-989\"/>\n",
              "<text text-anchor=\"middle\" x=\"2688.5\" y=\"-973.8\" font-family=\"Times,serif\" font-size=\"14.00\" fill=\"#000000\">Glucose &lt;= 139.5</text>\n",
              "<text text-anchor=\"middle\" x=\"2688.5\" y=\"-958.8\" font-family=\"Times,serif\" font-size=\"14.00\" fill=\"#000000\">gini = 0.48</text>\n",
              "<text text-anchor=\"middle\" x=\"2688.5\" y=\"-943.8\" font-family=\"Times,serif\" font-size=\"14.00\" fill=\"#000000\">samples = 5</text>\n",
              "<text text-anchor=\"middle\" x=\"2688.5\" y=\"-928.8\" font-family=\"Times,serif\" font-size=\"14.00\" fill=\"#000000\">value = [3, 2]</text>\n",
              "</g>\n",
              "<!-- 92&#45;&gt;93 -->\n",
              "<g id=\"edge93\" class=\"edge\">\n",
              "<title>92&#45;&gt;93</title>\n",
              "<path fill=\"none\" stroke=\"#000000\" d=\"M2706.6592,-1024.9465C2704.5147,-1016.6863 2702.1914,-1007.7374 2699.9458,-999.0875\"/>\n",
              "<polygon fill=\"#000000\" stroke=\"#000000\" points=\"2703.2613,-997.9296 2697.3607,-989.13 2696.4859,-999.6887 2703.2613,-997.9296\"/>\n",
              "</g>\n",
              "<!-- 96 -->\n",
              "<g id=\"node97\" class=\"node\">\n",
              "<title>96</title>\n",
              "<polygon fill=\"#5fb0ea\" stroke=\"#000000\" points=\"2984,-989 2765,-989 2765,-921 2984,-921 2984,-989\"/>\n",
              "<text text-anchor=\"middle\" x=\"2874.5\" y=\"-973.8\" font-family=\"Times,serif\" font-size=\"14.00\" fill=\"#000000\">DiabetesPedigreeFunction &lt;= 2.309</text>\n",
              "<text text-anchor=\"middle\" x=\"2874.5\" y=\"-958.8\" font-family=\"Times,serif\" font-size=\"14.00\" fill=\"#000000\">gini = 0.271</text>\n",
              "<text text-anchor=\"middle\" x=\"2874.5\" y=\"-943.8\" font-family=\"Times,serif\" font-size=\"14.00\" fill=\"#000000\">samples = 105</text>\n",
              "<text text-anchor=\"middle\" x=\"2874.5\" y=\"-928.8\" font-family=\"Times,serif\" font-size=\"14.00\" fill=\"#000000\">value = [17, 88]</text>\n",
              "</g>\n",
              "<!-- 92&#45;&gt;96 -->\n",
              "<g id=\"edge96\" class=\"edge\">\n",
              "<title>92&#45;&gt;96</title>\n",
              "<path fill=\"none\" stroke=\"#000000\" d=\"M2767.5625,-1024.9465C2782.3875,-1015.2497 2798.6633,-1004.6039 2813.9471,-994.6069\"/>\n",
              "<polygon fill=\"#000000\" stroke=\"#000000\" points=\"2815.8676,-997.533 2822.3205,-989.13 2812.0358,-991.6749 2815.8676,-997.533\"/>\n",
              "</g>\n",
              "<!-- 94 -->\n",
              "<g id=\"node95\" class=\"node\">\n",
              "<title>94</title>\n",
              "<polygon fill=\"#e58139\" stroke=\"#000000\" points=\"2640.5,-877.5 2548.5,-877.5 2548.5,-824.5 2640.5,-824.5 2640.5,-877.5\"/>\n",
              "<text text-anchor=\"middle\" x=\"2594.5\" y=\"-862.3\" font-family=\"Times,serif\" font-size=\"14.00\" fill=\"#000000\">gini = 0.0</text>\n",
              "<text text-anchor=\"middle\" x=\"2594.5\" y=\"-847.3\" font-family=\"Times,serif\" font-size=\"14.00\" fill=\"#000000\">samples = 3</text>\n",
              "<text text-anchor=\"middle\" x=\"2594.5\" y=\"-832.3\" font-family=\"Times,serif\" font-size=\"14.00\" fill=\"#000000\">value = [3, 0]</text>\n",
              "</g>\n",
              "<!-- 93&#45;&gt;94 -->\n",
              "<g id=\"edge94\" class=\"edge\">\n",
              "<title>93&#45;&gt;94</title>\n",
              "<path fill=\"none\" stroke=\"#000000\" d=\"M2657.7209,-920.9465C2647.3669,-909.491 2635.8158,-896.711 2625.4487,-885.2412\"/>\n",
              "<polygon fill=\"#000000\" stroke=\"#000000\" points=\"2627.792,-882.614 2618.49,-877.5422 2622.5989,-887.3078 2627.792,-882.614\"/>\n",
              "</g>\n",
              "<!-- 95 -->\n",
              "<g id=\"node96\" class=\"node\">\n",
              "<title>95</title>\n",
              "<polygon fill=\"#399de5\" stroke=\"#000000\" points=\"2750.5,-877.5 2658.5,-877.5 2658.5,-824.5 2750.5,-824.5 2750.5,-877.5\"/>\n",
              "<text text-anchor=\"middle\" x=\"2704.5\" y=\"-862.3\" font-family=\"Times,serif\" font-size=\"14.00\" fill=\"#000000\">gini = 0.0</text>\n",
              "<text text-anchor=\"middle\" x=\"2704.5\" y=\"-847.3\" font-family=\"Times,serif\" font-size=\"14.00\" fill=\"#000000\">samples = 2</text>\n",
              "<text text-anchor=\"middle\" x=\"2704.5\" y=\"-832.3\" font-family=\"Times,serif\" font-size=\"14.00\" fill=\"#000000\">value = [0, 2]</text>\n",
              "</g>\n",
              "<!-- 93&#45;&gt;95 -->\n",
              "<g id=\"edge95\" class=\"edge\">\n",
              "<title>93&#45;&gt;95</title>\n",
              "<path fill=\"none\" stroke=\"#000000\" d=\"M2693.739,-920.9465C2695.3828,-910.2621 2697.2038,-898.4254 2698.8732,-887.5742\"/>\n",
              "<polygon fill=\"#000000\" stroke=\"#000000\" points=\"2702.3552,-887.9581 2700.4166,-877.5422 2695.4366,-886.8937 2702.3552,-887.9581\"/>\n",
              "</g>\n",
              "<!-- 97 -->\n",
              "<g id=\"node98\" class=\"node\">\n",
              "<title>97</title>\n",
              "<polygon fill=\"#5dafea\" stroke=\"#000000\" points=\"2917,-885 2800,-885 2800,-817 2917,-817 2917,-885\"/>\n",
              "<text text-anchor=\"middle\" x=\"2858.5\" y=\"-869.8\" font-family=\"Times,serif\" font-size=\"14.00\" fill=\"#000000\">Glucose &lt;= 155.5</text>\n",
              "<text text-anchor=\"middle\" x=\"2858.5\" y=\"-854.8\" font-family=\"Times,serif\" font-size=\"14.00\" fill=\"#000000\">gini = 0.26</text>\n",
              "<text text-anchor=\"middle\" x=\"2858.5\" y=\"-839.8\" font-family=\"Times,serif\" font-size=\"14.00\" fill=\"#000000\">samples = 104</text>\n",
              "<text text-anchor=\"middle\" x=\"2858.5\" y=\"-824.8\" font-family=\"Times,serif\" font-size=\"14.00\" fill=\"#000000\">value = [16, 88]</text>\n",
              "</g>\n",
              "<!-- 96&#45;&gt;97 -->\n",
              "<g id=\"edge97\" class=\"edge\">\n",
              "<title>96&#45;&gt;97</title>\n",
              "<path fill=\"none\" stroke=\"#000000\" d=\"M2869.261,-920.9465C2867.9902,-912.6863 2866.6134,-903.7374 2865.2827,-895.0875\"/>\n",
              "<polygon fill=\"#000000\" stroke=\"#000000\" points=\"2868.7307,-894.4815 2863.7508,-885.13 2861.8121,-895.5459 2868.7307,-894.4815\"/>\n",
              "</g>\n",
              "<!-- 126 -->\n",
              "<g id=\"node127\" class=\"node\">\n",
              "<title>126</title>\n",
              "<polygon fill=\"#e58139\" stroke=\"#000000\" points=\"3027.5,-877.5 2935.5,-877.5 2935.5,-824.5 3027.5,-824.5 3027.5,-877.5\"/>\n",
              "<text text-anchor=\"middle\" x=\"2981.5\" y=\"-862.3\" font-family=\"Times,serif\" font-size=\"14.00\" fill=\"#000000\">gini = 0.0</text>\n",
              "<text text-anchor=\"middle\" x=\"2981.5\" y=\"-847.3\" font-family=\"Times,serif\" font-size=\"14.00\" fill=\"#000000\">samples = 1</text>\n",
              "<text text-anchor=\"middle\" x=\"2981.5\" y=\"-832.3\" font-family=\"Times,serif\" font-size=\"14.00\" fill=\"#000000\">value = [1, 0]</text>\n",
              "</g>\n",
              "<!-- 96&#45;&gt;126 -->\n",
              "<g id=\"edge126\" class=\"edge\">\n",
              "<title>96&#45;&gt;126</title>\n",
              "<path fill=\"none\" stroke=\"#000000\" d=\"M2909.5358,-920.9465C2921.5484,-909.2707 2934.9766,-896.219 2946.9504,-884.5809\"/>\n",
              "<polygon fill=\"#000000\" stroke=\"#000000\" points=\"2949.4607,-887.0218 2954.1922,-877.5422 2944.5818,-882.0022 2949.4607,-887.0218\"/>\n",
              "</g>\n",
              "<!-- 98 -->\n",
              "<g id=\"node99\" class=\"node\">\n",
              "<title>98</title>\n",
              "<polygon fill=\"#70b8ec\" stroke=\"#000000\" points=\"2846,-781 2729,-781 2729,-713 2846,-713 2846,-781\"/>\n",
              "<text text-anchor=\"middle\" x=\"2787.5\" y=\"-765.8\" font-family=\"Times,serif\" font-size=\"14.00\" fill=\"#000000\">Glucose &lt;= 121.5</text>\n",
              "<text text-anchor=\"middle\" x=\"2787.5\" y=\"-750.8\" font-family=\"Times,serif\" font-size=\"14.00\" fill=\"#000000\">gini = 0.34</text>\n",
              "<text text-anchor=\"middle\" x=\"2787.5\" y=\"-735.8\" font-family=\"Times,serif\" font-size=\"14.00\" fill=\"#000000\">samples = 69</text>\n",
              "<text text-anchor=\"middle\" x=\"2787.5\" y=\"-720.8\" font-family=\"Times,serif\" font-size=\"14.00\" fill=\"#000000\">value = [15, 54]</text>\n",
              "</g>\n",
              "<!-- 97&#45;&gt;98 -->\n",
              "<g id=\"edge98\" class=\"edge\">\n",
              "<title>97&#45;&gt;98</title>\n",
              "<path fill=\"none\" stroke=\"#000000\" d=\"M2835.2519,-816.9465C2829.245,-808.1475 2822.7045,-798.5672 2816.4457,-789.3993\"/>\n",
              "<polygon fill=\"#000000\" stroke=\"#000000\" points=\"2819.3293,-787.4155 2810.8003,-781.13 2813.548,-791.3623 2819.3293,-787.4155\"/>\n",
              "</g>\n",
              "<!-- 123 -->\n",
              "<g id=\"node124\" class=\"node\">\n",
              "<title>123</title>\n",
              "<polygon fill=\"#3fa0e6\" stroke=\"#000000\" points=\"2978,-781 2879,-781 2879,-713 2978,-713 2978,-781\"/>\n",
              "<text text-anchor=\"middle\" x=\"2928.5\" y=\"-765.8\" font-family=\"Times,serif\" font-size=\"14.00\" fill=\"#000000\">BMI &lt;= 45.95</text>\n",
              "<text text-anchor=\"middle\" x=\"2928.5\" y=\"-750.8\" font-family=\"Times,serif\" font-size=\"14.00\" fill=\"#000000\">gini = 0.056</text>\n",
              "<text text-anchor=\"middle\" x=\"2928.5\" y=\"-735.8\" font-family=\"Times,serif\" font-size=\"14.00\" fill=\"#000000\">samples = 35</text>\n",
              "<text text-anchor=\"middle\" x=\"2928.5\" y=\"-720.8\" font-family=\"Times,serif\" font-size=\"14.00\" fill=\"#000000\">value = [1, 34]</text>\n",
              "</g>\n",
              "<!-- 97&#45;&gt;123 -->\n",
              "<g id=\"edge123\" class=\"edge\">\n",
              "<title>97&#45;&gt;123</title>\n",
              "<path fill=\"none\" stroke=\"#000000\" d=\"M2881.4206,-816.9465C2887.2826,-808.2373 2893.6598,-798.7626 2899.773,-789.6801\"/>\n",
              "<polygon fill=\"#000000\" stroke=\"#000000\" points=\"2902.8476,-791.3802 2905.5279,-781.13 2897.0405,-787.4716 2902.8476,-791.3802\"/>\n",
              "</g>\n",
              "<!-- 99 -->\n",
              "<g id=\"node100\" class=\"node\">\n",
              "<title>99</title>\n",
              "<polygon fill=\"#47a4e7\" stroke=\"#000000\" points=\"2696,-677 2561,-677 2561,-609 2696,-609 2696,-677\"/>\n",
              "<text text-anchor=\"middle\" x=\"2628.5\" y=\"-661.8\" font-family=\"Times,serif\" font-size=\"14.00\" fill=\"#000000\">Insulin_log &lt;= 5.308</text>\n",
              "<text text-anchor=\"middle\" x=\"2628.5\" y=\"-646.8\" font-family=\"Times,serif\" font-size=\"14.00\" fill=\"#000000\">gini = 0.121</text>\n",
              "<text text-anchor=\"middle\" x=\"2628.5\" y=\"-631.8\" font-family=\"Times,serif\" font-size=\"14.00\" fill=\"#000000\">samples = 31</text>\n",
              "<text text-anchor=\"middle\" x=\"2628.5\" y=\"-616.8\" font-family=\"Times,serif\" font-size=\"14.00\" fill=\"#000000\">value = [2, 29]</text>\n",
              "</g>\n",
              "<!-- 98&#45;&gt;99 -->\n",
              "<g id=\"edge99\" class=\"edge\">\n",
              "<title>98&#45;&gt;99</title>\n",
              "<path fill=\"none\" stroke=\"#000000\" d=\"M2735.4375,-712.9465C2720.6125,-703.2497 2704.3367,-692.6039 2689.0529,-682.6069\"/>\n",
              "<polygon fill=\"#000000\" stroke=\"#000000\" points=\"2690.9642,-679.6749 2680.6795,-677.13 2687.1324,-685.533 2690.9642,-679.6749\"/>\n",
              "</g>\n",
              "<!-- 106 -->\n",
              "<g id=\"node107\" class=\"node\">\n",
              "<title>106</title>\n",
              "<polygon fill=\"#a0d0f3\" stroke=\"#000000\" points=\"2860.5,-677 2714.5,-677 2714.5,-609 2860.5,-609 2860.5,-677\"/>\n",
              "<text text-anchor=\"middle\" x=\"2787.5\" y=\"-661.8\" font-family=\"Times,serif\" font-size=\"14.00\" fill=\"#000000\">SkinThickness &lt;= 17.5</text>\n",
              "<text text-anchor=\"middle\" x=\"2787.5\" y=\"-646.8\" font-family=\"Times,serif\" font-size=\"14.00\" fill=\"#000000\">gini = 0.45</text>\n",
              "<text text-anchor=\"middle\" x=\"2787.5\" y=\"-631.8\" font-family=\"Times,serif\" font-size=\"14.00\" fill=\"#000000\">samples = 38</text>\n",
              "<text text-anchor=\"middle\" x=\"2787.5\" y=\"-616.8\" font-family=\"Times,serif\" font-size=\"14.00\" fill=\"#000000\">value = [13, 25]</text>\n",
              "</g>\n",
              "<!-- 98&#45;&gt;106 -->\n",
              "<g id=\"edge106\" class=\"edge\">\n",
              "<title>98&#45;&gt;106</title>\n",
              "<path fill=\"none\" stroke=\"#000000\" d=\"M2787.5,-712.9465C2787.5,-704.776 2787.5,-695.9318 2787.5,-687.3697\"/>\n",
              "<polygon fill=\"#000000\" stroke=\"#000000\" points=\"2791.0001,-687.13 2787.5,-677.13 2784.0001,-687.13 2791.0001,-687.13\"/>\n",
              "</g>\n",
              "<!-- 100 -->\n",
              "<g id=\"node101\" class=\"node\">\n",
              "<title>100</title>\n",
              "<polygon fill=\"#6ab6ec\" stroke=\"#000000\" points=\"2572,-573 2437,-573 2437,-505 2572,-505 2572,-573\"/>\n",
              "<text text-anchor=\"middle\" x=\"2504.5\" y=\"-557.8\" font-family=\"Times,serif\" font-size=\"14.00\" fill=\"#000000\">Insulin_log &lt;= 5.236</text>\n",
              "<text text-anchor=\"middle\" x=\"2504.5\" y=\"-542.8\" font-family=\"Times,serif\" font-size=\"14.00\" fill=\"#000000\">gini = 0.32</text>\n",
              "<text text-anchor=\"middle\" x=\"2504.5\" y=\"-527.8\" font-family=\"Times,serif\" font-size=\"14.00\" fill=\"#000000\">samples = 10</text>\n",
              "<text text-anchor=\"middle\" x=\"2504.5\" y=\"-512.8\" font-family=\"Times,serif\" font-size=\"14.00\" fill=\"#000000\">value = [2, 8]</text>\n",
              "</g>\n",
              "<!-- 99&#45;&gt;100 -->\n",
              "<g id=\"edge100\" class=\"edge\">\n",
              "<title>99&#45;&gt;100</title>\n",
              "<path fill=\"none\" stroke=\"#000000\" d=\"M2587.8978,-608.9465C2576.7644,-599.6088 2564.5817,-589.3911 2553.0511,-579.7203\"/>\n",
              "<polygon fill=\"#000000\" stroke=\"#000000\" points=\"2555.1046,-576.8745 2545.1935,-573.13 2550.6062,-582.2378 2555.1046,-576.8745\"/>\n",
              "</g>\n",
              "<!-- 105 -->\n",
              "<g id=\"node106\" class=\"node\">\n",
              "<title>105</title>\n",
              "<polygon fill=\"#399de5\" stroke=\"#000000\" points=\"2689,-565.5 2590,-565.5 2590,-512.5 2689,-512.5 2689,-565.5\"/>\n",
              "<text text-anchor=\"middle\" x=\"2639.5\" y=\"-550.3\" font-family=\"Times,serif\" font-size=\"14.00\" fill=\"#000000\">gini = 0.0</text>\n",
              "<text text-anchor=\"middle\" x=\"2639.5\" y=\"-535.3\" font-family=\"Times,serif\" font-size=\"14.00\" fill=\"#000000\">samples = 21</text>\n",
              "<text text-anchor=\"middle\" x=\"2639.5\" y=\"-520.3\" font-family=\"Times,serif\" font-size=\"14.00\" fill=\"#000000\">value = [0, 21]</text>\n",
              "</g>\n",
              "<!-- 99&#45;&gt;105 -->\n",
              "<g id=\"edge105\" class=\"edge\">\n",
              "<title>99&#45;&gt;105</title>\n",
              "<path fill=\"none\" stroke=\"#000000\" d=\"M2632.1018,-608.9465C2633.2319,-598.2621 2634.4838,-586.4254 2635.6316,-575.5742\"/>\n",
              "<polygon fill=\"#000000\" stroke=\"#000000\" points=\"2639.1213,-575.8549 2636.6927,-565.5422 2632.1602,-575.1185 2639.1213,-575.8549\"/>\n",
              "</g>\n",
              "<!-- 101 -->\n",
              "<g id=\"node102\" class=\"node\">\n",
              "<title>101</title>\n",
              "<polygon fill=\"#399de5\" stroke=\"#000000\" points=\"2428.5,-461.5 2336.5,-461.5 2336.5,-408.5 2428.5,-408.5 2428.5,-461.5\"/>\n",
              "<text text-anchor=\"middle\" x=\"2382.5\" y=\"-446.3\" font-family=\"Times,serif\" font-size=\"14.00\" fill=\"#000000\">gini = 0.0</text>\n",
              "<text text-anchor=\"middle\" x=\"2382.5\" y=\"-431.3\" font-family=\"Times,serif\" font-size=\"14.00\" fill=\"#000000\">samples = 7</text>\n",
              "<text text-anchor=\"middle\" x=\"2382.5\" y=\"-416.3\" font-family=\"Times,serif\" font-size=\"14.00\" fill=\"#000000\">value = [0, 7]</text>\n",
              "</g>\n",
              "<!-- 100&#45;&gt;101 -->\n",
              "<g id=\"edge101\" class=\"edge\">\n",
              "<title>100&#45;&gt;101</title>\n",
              "<path fill=\"none\" stroke=\"#000000\" d=\"M2464.5526,-504.9465C2450.7268,-493.1606 2435.2564,-479.9726 2421.5071,-468.2519\"/>\n",
              "<polygon fill=\"#000000\" stroke=\"#000000\" points=\"2423.5168,-465.366 2413.636,-461.5422 2418.9756,-470.6931 2423.5168,-465.366\"/>\n",
              "</g>\n",
              "<!-- 102 -->\n",
              "<g id=\"node103\" class=\"node\">\n",
              "<title>102</title>\n",
              "<polygon fill=\"#f2c09c\" stroke=\"#000000\" points=\"2592.5,-469 2446.5,-469 2446.5,-401 2592.5,-401 2592.5,-469\"/>\n",
              "<text text-anchor=\"middle\" x=\"2519.5\" y=\"-453.8\" font-family=\"Times,serif\" font-size=\"14.00\" fill=\"#000000\">SkinThickness &lt;= 38.5</text>\n",
              "<text text-anchor=\"middle\" x=\"2519.5\" y=\"-438.8\" font-family=\"Times,serif\" font-size=\"14.00\" fill=\"#000000\">gini = 0.444</text>\n",
              "<text text-anchor=\"middle\" x=\"2519.5\" y=\"-423.8\" font-family=\"Times,serif\" font-size=\"14.00\" fill=\"#000000\">samples = 3</text>\n",
              "<text text-anchor=\"middle\" x=\"2519.5\" y=\"-408.8\" font-family=\"Times,serif\" font-size=\"14.00\" fill=\"#000000\">value = [2, 1]</text>\n",
              "</g>\n",
              "<!-- 100&#45;&gt;102 -->\n",
              "<g id=\"edge102\" class=\"edge\">\n",
              "<title>100&#45;&gt;102</title>\n",
              "<path fill=\"none\" stroke=\"#000000\" d=\"M2509.4116,-504.9465C2510.6029,-496.6863 2511.8937,-487.7374 2513.1412,-479.0875\"/>\n",
              "<polygon fill=\"#000000\" stroke=\"#000000\" points=\"2516.6139,-479.5272 2514.5774,-469.13 2509.6856,-478.5279 2516.6139,-479.5272\"/>\n",
              "</g>\n",
              "<!-- 103 -->\n",
              "<g id=\"node104\" class=\"node\">\n",
              "<title>103</title>\n",
              "<polygon fill=\"#e58139\" stroke=\"#000000\" points=\"2462.5,-357.5 2370.5,-357.5 2370.5,-304.5 2462.5,-304.5 2462.5,-357.5\"/>\n",
              "<text text-anchor=\"middle\" x=\"2416.5\" y=\"-342.3\" font-family=\"Times,serif\" font-size=\"14.00\" fill=\"#000000\">gini = 0.0</text>\n",
              "<text text-anchor=\"middle\" x=\"2416.5\" y=\"-327.3\" font-family=\"Times,serif\" font-size=\"14.00\" fill=\"#000000\">samples = 2</text>\n",
              "<text text-anchor=\"middle\" x=\"2416.5\" y=\"-312.3\" font-family=\"Times,serif\" font-size=\"14.00\" fill=\"#000000\">value = [2, 0]</text>\n",
              "</g>\n",
              "<!-- 102&#45;&gt;103 -->\n",
              "<g id=\"edge103\" class=\"edge\">\n",
              "<title>102&#45;&gt;103</title>\n",
              "<path fill=\"none\" stroke=\"#000000\" d=\"M2485.7739,-400.9465C2474.3195,-389.3809 2461.528,-376.4652 2450.0846,-364.9107\"/>\n",
              "<polygon fill=\"#000000\" stroke=\"#000000\" points=\"2452.3106,-362.1844 2442.787,-357.5422 2447.337,-367.1102 2452.3106,-362.1844\"/>\n",
              "</g>\n",
              "<!-- 104 -->\n",
              "<g id=\"node105\" class=\"node\">\n",
              "<title>104</title>\n",
              "<polygon fill=\"#399de5\" stroke=\"#000000\" points=\"2572.5,-357.5 2480.5,-357.5 2480.5,-304.5 2572.5,-304.5 2572.5,-357.5\"/>\n",
              "<text text-anchor=\"middle\" x=\"2526.5\" y=\"-342.3\" font-family=\"Times,serif\" font-size=\"14.00\" fill=\"#000000\">gini = 0.0</text>\n",
              "<text text-anchor=\"middle\" x=\"2526.5\" y=\"-327.3\" font-family=\"Times,serif\" font-size=\"14.00\" fill=\"#000000\">samples = 1</text>\n",
              "<text text-anchor=\"middle\" x=\"2526.5\" y=\"-312.3\" font-family=\"Times,serif\" font-size=\"14.00\" fill=\"#000000\">value = [0, 1]</text>\n",
              "</g>\n",
              "<!-- 102&#45;&gt;104 -->\n",
              "<g id=\"edge104\" class=\"edge\">\n",
              "<title>102&#45;&gt;104</title>\n",
              "<path fill=\"none\" stroke=\"#000000\" d=\"M2521.7921,-400.9465C2522.5112,-390.2621 2523.3079,-378.4254 2524.0383,-367.5742\"/>\n",
              "<polygon fill=\"#000000\" stroke=\"#000000\" points=\"2527.534,-367.7547 2524.7135,-357.5422 2520.5498,-367.2845 2527.534,-367.7547\"/>\n",
              "</g>\n",
              "<!-- 107 -->\n",
              "<g id=\"node108\" class=\"node\">\n",
              "<title>107</title>\n",
              "<polygon fill=\"#e58139\" stroke=\"#000000\" points=\"2821.5,-565.5 2729.5,-565.5 2729.5,-512.5 2821.5,-512.5 2821.5,-565.5\"/>\n",
              "<text text-anchor=\"middle\" x=\"2775.5\" y=\"-550.3\" font-family=\"Times,serif\" font-size=\"14.00\" fill=\"#000000\">gini = 0.0</text>\n",
              "<text text-anchor=\"middle\" x=\"2775.5\" y=\"-535.3\" font-family=\"Times,serif\" font-size=\"14.00\" fill=\"#000000\">samples = 3</text>\n",
              "<text text-anchor=\"middle\" x=\"2775.5\" y=\"-520.3\" font-family=\"Times,serif\" font-size=\"14.00\" fill=\"#000000\">value = [3, 0]</text>\n",
              "</g>\n",
              "<!-- 106&#45;&gt;107 -->\n",
              "<g id=\"edge107\" class=\"edge\">\n",
              "<title>106&#45;&gt;107</title>\n",
              "<path fill=\"none\" stroke=\"#000000\" d=\"M2783.5708,-608.9465C2782.3379,-598.2621 2780.9722,-586.4254 2779.7201,-575.5742\"/>\n",
              "<polygon fill=\"#000000\" stroke=\"#000000\" points=\"2783.1858,-575.075 2778.5626,-565.5422 2776.232,-575.8775 2783.1858,-575.075\"/>\n",
              "</g>\n",
              "<!-- 108 -->\n",
              "<g id=\"node109\" class=\"node\">\n",
              "<title>108</title>\n",
              "<polygon fill=\"#88c4ef\" stroke=\"#000000\" points=\"2985,-573 2840,-573 2840,-505 2985,-505 2985,-573\"/>\n",
              "<text text-anchor=\"middle\" x=\"2912.5\" y=\"-557.8\" font-family=\"Times,serif\" font-size=\"14.00\" fill=\"#000000\">BloodPressure &lt;= 77.0</text>\n",
              "<text text-anchor=\"middle\" x=\"2912.5\" y=\"-542.8\" font-family=\"Times,serif\" font-size=\"14.00\" fill=\"#000000\">gini = 0.408</text>\n",
              "<text text-anchor=\"middle\" x=\"2912.5\" y=\"-527.8\" font-family=\"Times,serif\" font-size=\"14.00\" fill=\"#000000\">samples = 35</text>\n",
              "<text text-anchor=\"middle\" x=\"2912.5\" y=\"-512.8\" font-family=\"Times,serif\" font-size=\"14.00\" fill=\"#000000\">value = [10, 25]</text>\n",
              "</g>\n",
              "<!-- 106&#45;&gt;108 -->\n",
              "<g id=\"edge108\" class=\"edge\">\n",
              "<title>106&#45;&gt;108</title>\n",
              "<path fill=\"none\" stroke=\"#000000\" d=\"M2828.4297,-608.9465C2839.6528,-599.6088 2851.9337,-589.3911 2863.5573,-579.7203\"/>\n",
              "<polygon fill=\"#000000\" stroke=\"#000000\" points=\"2866.0296,-582.2164 2871.4784,-573.13 2861.5526,-576.8353 2866.0296,-582.2164\"/>\n",
              "</g>\n",
              "<!-- 109 -->\n",
              "<g id=\"node110\" class=\"node\">\n",
              "<title>109</title>\n",
              "<polygon fill=\"#cee6f8\" stroke=\"#000000\" points=\"2966.5,-469 2820.5,-469 2820.5,-401 2966.5,-401 2966.5,-469\"/>\n",
              "<text text-anchor=\"middle\" x=\"2893.5\" y=\"-453.8\" font-family=\"Times,serif\" font-size=\"14.00\" fill=\"#000000\">SkinThickness &lt;= 41.0</text>\n",
              "<text text-anchor=\"middle\" x=\"2893.5\" y=\"-438.8\" font-family=\"Times,serif\" font-size=\"14.00\" fill=\"#000000\">gini = 0.49</text>\n",
              "<text text-anchor=\"middle\" x=\"2893.5\" y=\"-423.8\" font-family=\"Times,serif\" font-size=\"14.00\" fill=\"#000000\">samples = 21</text>\n",
              "<text text-anchor=\"middle\" x=\"2893.5\" y=\"-408.8\" font-family=\"Times,serif\" font-size=\"14.00\" fill=\"#000000\">value = [9, 12]</text>\n",
              "</g>\n",
              "<!-- 108&#45;&gt;109 -->\n",
              "<g id=\"edge109\" class=\"edge\">\n",
              "<title>108&#45;&gt;109</title>\n",
              "<path fill=\"none\" stroke=\"#000000\" d=\"M2906.2787,-504.9465C2904.7696,-496.6863 2903.1347,-487.7374 2901.5545,-479.0875\"/>\n",
              "<polygon fill=\"#000000\" stroke=\"#000000\" points=\"2904.9756,-478.3381 2899.7353,-469.13 2898.0895,-479.5962 2904.9756,-478.3381\"/>\n",
              "</g>\n",
              "<!-- 120 -->\n",
              "<g id=\"node121\" class=\"node\">\n",
              "<title>120</title>\n",
              "<polygon fill=\"#48a5e7\" stroke=\"#000000\" points=\"3120,-469 2985,-469 2985,-401 3120,-401 3120,-469\"/>\n",
              "<text text-anchor=\"middle\" x=\"3052.5\" y=\"-453.8\" font-family=\"Times,serif\" font-size=\"14.00\" fill=\"#000000\">Insulin_log &lt;= 6.109</text>\n",
              "<text text-anchor=\"middle\" x=\"3052.5\" y=\"-438.8\" font-family=\"Times,serif\" font-size=\"14.00\" fill=\"#000000\">gini = 0.133</text>\n",
              "<text text-anchor=\"middle\" x=\"3052.5\" y=\"-423.8\" font-family=\"Times,serif\" font-size=\"14.00\" fill=\"#000000\">samples = 14</text>\n",
              "<text text-anchor=\"middle\" x=\"3052.5\" y=\"-408.8\" font-family=\"Times,serif\" font-size=\"14.00\" fill=\"#000000\">value = [1, 13]</text>\n",
              "</g>\n",
              "<!-- 108&#45;&gt;120 -->\n",
              "<g id=\"edge120\" class=\"edge\">\n",
              "<title>108&#45;&gt;120</title>\n",
              "<path fill=\"none\" stroke=\"#000000\" d=\"M2958.3412,-504.9465C2971.1529,-495.4293 2985.1952,-484.9978 2998.4344,-475.163\"/>\n",
              "<polygon fill=\"#000000\" stroke=\"#000000\" points=\"3000.6155,-477.9029 3006.5558,-469.13 2996.4412,-472.2837 3000.6155,-477.9029\"/>\n",
              "</g>\n",
              "<!-- 110 -->\n",
              "<g id=\"node111\" class=\"node\">\n",
              "<title>110</title>\n",
              "<polygon fill=\"#9ccef2\" stroke=\"#000000\" points=\"2840,-365 2621,-365 2621,-297 2840,-297 2840,-365\"/>\n",
              "<text text-anchor=\"middle\" x=\"2730.5\" y=\"-349.8\" font-family=\"Times,serif\" font-size=\"14.00\" fill=\"#000000\">DiabetesPedigreeFunction &lt;= 0.464</text>\n",
              "<text text-anchor=\"middle\" x=\"2730.5\" y=\"-334.8\" font-family=\"Times,serif\" font-size=\"14.00\" fill=\"#000000\">gini = 0.444</text>\n",
              "<text text-anchor=\"middle\" x=\"2730.5\" y=\"-319.8\" font-family=\"Times,serif\" font-size=\"14.00\" fill=\"#000000\">samples = 18</text>\n",
              "<text text-anchor=\"middle\" x=\"2730.5\" y=\"-304.8\" font-family=\"Times,serif\" font-size=\"14.00\" fill=\"#000000\">value = [6, 12]</text>\n",
              "</g>\n",
              "<!-- 109&#45;&gt;110 -->\n",
              "<g id=\"edge110\" class=\"edge\">\n",
              "<title>109&#45;&gt;110</title>\n",
              "<path fill=\"none\" stroke=\"#000000\" d=\"M2840.1277,-400.9465C2824.9298,-391.2497 2808.2445,-380.6039 2792.5763,-370.6069\"/>\n",
              "<polygon fill=\"#000000\" stroke=\"#000000\" points=\"2794.305,-367.5582 2783.9922,-365.13 2790.5398,-373.4594 2794.305,-367.5582\"/>\n",
              "</g>\n",
              "<!-- 119 -->\n",
              "<g id=\"node120\" class=\"node\">\n",
              "<title>119</title>\n",
              "<polygon fill=\"#e58139\" stroke=\"#000000\" points=\"2950.5,-357.5 2858.5,-357.5 2858.5,-304.5 2950.5,-304.5 2950.5,-357.5\"/>\n",
              "<text text-anchor=\"middle\" x=\"2904.5\" y=\"-342.3\" font-family=\"Times,serif\" font-size=\"14.00\" fill=\"#000000\">gini = 0.0</text>\n",
              "<text text-anchor=\"middle\" x=\"2904.5\" y=\"-327.3\" font-family=\"Times,serif\" font-size=\"14.00\" fill=\"#000000\">samples = 3</text>\n",
              "<text text-anchor=\"middle\" x=\"2904.5\" y=\"-312.3\" font-family=\"Times,serif\" font-size=\"14.00\" fill=\"#000000\">value = [3, 0]</text>\n",
              "</g>\n",
              "<!-- 109&#45;&gt;119 -->\n",
              "<g id=\"edge119\" class=\"edge\">\n",
              "<title>109&#45;&gt;119</title>\n",
              "<path fill=\"none\" stroke=\"#000000\" d=\"M2897.1018,-400.9465C2898.2319,-390.2621 2899.4838,-378.4254 2900.6316,-367.5742\"/>\n",
              "<polygon fill=\"#000000\" stroke=\"#000000\" points=\"2904.1213,-367.8549 2901.6927,-357.5422 2897.1602,-367.1185 2904.1213,-367.8549\"/>\n",
              "</g>\n",
              "<!-- 111 -->\n",
              "<g id=\"node112\" class=\"node\">\n",
              "<title>111</title>\n",
              "<polygon fill=\"#f2c09c\" stroke=\"#000000\" points=\"2713,-261 2616,-261 2616,-193 2713,-193 2713,-261\"/>\n",
              "<text text-anchor=\"middle\" x=\"2664.5\" y=\"-245.8\" font-family=\"Times,serif\" font-size=\"14.00\" fill=\"#000000\">BMI &lt;= 30.95</text>\n",
              "<text text-anchor=\"middle\" x=\"2664.5\" y=\"-230.8\" font-family=\"Times,serif\" font-size=\"14.00\" fill=\"#000000\">gini = 0.444</text>\n",
              "<text text-anchor=\"middle\" x=\"2664.5\" y=\"-215.8\" font-family=\"Times,serif\" font-size=\"14.00\" fill=\"#000000\">samples = 6</text>\n",
              "<text text-anchor=\"middle\" x=\"2664.5\" y=\"-200.8\" font-family=\"Times,serif\" font-size=\"14.00\" fill=\"#000000\">value = [4, 2]</text>\n",
              "</g>\n",
              "<!-- 110&#45;&gt;111 -->\n",
              "<g id=\"edge111\" class=\"edge\">\n",
              "<title>110&#45;&gt;111</title>\n",
              "<path fill=\"none\" stroke=\"#000000\" d=\"M2708.8891,-296.9465C2703.3622,-288.2373 2697.3494,-278.7626 2691.5854,-269.6801\"/>\n",
              "<polygon fill=\"#000000\" stroke=\"#000000\" points=\"2694.4729,-267.6979 2686.1594,-261.13 2688.5626,-271.4487 2694.4729,-267.6979\"/>\n",
              "</g>\n",
              "<!-- 114 -->\n",
              "<g id=\"node115\" class=\"node\">\n",
              "<title>114</title>\n",
              "<polygon fill=\"#61b1ea\" stroke=\"#000000\" points=\"2846,-261 2747,-261 2747,-193 2846,-193 2846,-261\"/>\n",
              "<text text-anchor=\"middle\" x=\"2796.5\" y=\"-245.8\" font-family=\"Times,serif\" font-size=\"14.00\" fill=\"#000000\">BMI &lt;= 31.1</text>\n",
              "<text text-anchor=\"middle\" x=\"2796.5\" y=\"-230.8\" font-family=\"Times,serif\" font-size=\"14.00\" fill=\"#000000\">gini = 0.278</text>\n",
              "<text text-anchor=\"middle\" x=\"2796.5\" y=\"-215.8\" font-family=\"Times,serif\" font-size=\"14.00\" fill=\"#000000\">samples = 12</text>\n",
              "<text text-anchor=\"middle\" x=\"2796.5\" y=\"-200.8\" font-family=\"Times,serif\" font-size=\"14.00\" fill=\"#000000\">value = [2, 10]</text>\n",
              "</g>\n",
              "<!-- 110&#45;&gt;114 -->\n",
              "<g id=\"edge114\" class=\"edge\">\n",
              "<title>110&#45;&gt;114</title>\n",
              "<path fill=\"none\" stroke=\"#000000\" d=\"M2752.1109,-296.9465C2757.6378,-288.2373 2763.6506,-278.7626 2769.4146,-269.6801\"/>\n",
              "<polygon fill=\"#000000\" stroke=\"#000000\" points=\"2772.4374,-271.4487 2774.8406,-261.13 2766.5271,-267.6979 2772.4374,-271.4487\"/>\n",
              "</g>\n",
              "<!-- 112 -->\n",
              "<g id=\"node113\" class=\"node\">\n",
              "<title>112</title>\n",
              "<polygon fill=\"#399de5\" stroke=\"#000000\" points=\"2600.5,-149.5 2508.5,-149.5 2508.5,-96.5 2600.5,-96.5 2600.5,-149.5\"/>\n",
              "<text text-anchor=\"middle\" x=\"2554.5\" y=\"-134.3\" font-family=\"Times,serif\" font-size=\"14.00\" fill=\"#000000\">gini = 0.0</text>\n",
              "<text text-anchor=\"middle\" x=\"2554.5\" y=\"-119.3\" font-family=\"Times,serif\" font-size=\"14.00\" fill=\"#000000\">samples = 2</text>\n",
              "<text text-anchor=\"middle\" x=\"2554.5\" y=\"-104.3\" font-family=\"Times,serif\" font-size=\"14.00\" fill=\"#000000\">value = [0, 2]</text>\n",
              "</g>\n",
              "<!-- 111&#45;&gt;112 -->\n",
              "<g id=\"edge112\" class=\"edge\">\n",
              "<title>111&#45;&gt;112</title>\n",
              "<path fill=\"none\" stroke=\"#000000\" d=\"M2628.4819,-192.9465C2616.1325,-181.2707 2602.3278,-168.219 2590.0183,-156.5809\"/>\n",
              "<polygon fill=\"#000000\" stroke=\"#000000\" points=\"2592.2445,-153.869 2582.5734,-149.5422 2587.4354,-158.9556 2592.2445,-153.869\"/>\n",
              "</g>\n",
              "<!-- 113 -->\n",
              "<g id=\"node114\" class=\"node\">\n",
              "<title>113</title>\n",
              "<polygon fill=\"#e58139\" stroke=\"#000000\" points=\"2710.5,-149.5 2618.5,-149.5 2618.5,-96.5 2710.5,-96.5 2710.5,-149.5\"/>\n",
              "<text text-anchor=\"middle\" x=\"2664.5\" y=\"-134.3\" font-family=\"Times,serif\" font-size=\"14.00\" fill=\"#000000\">gini = 0.0</text>\n",
              "<text text-anchor=\"middle\" x=\"2664.5\" y=\"-119.3\" font-family=\"Times,serif\" font-size=\"14.00\" fill=\"#000000\">samples = 4</text>\n",
              "<text text-anchor=\"middle\" x=\"2664.5\" y=\"-104.3\" font-family=\"Times,serif\" font-size=\"14.00\" fill=\"#000000\">value = [4, 0]</text>\n",
              "</g>\n",
              "<!-- 111&#45;&gt;113 -->\n",
              "<g id=\"edge113\" class=\"edge\">\n",
              "<title>111&#45;&gt;113</title>\n",
              "<path fill=\"none\" stroke=\"#000000\" d=\"M2664.5,-192.9465C2664.5,-182.2621 2664.5,-170.4254 2664.5,-159.5742\"/>\n",
              "<polygon fill=\"#000000\" stroke=\"#000000\" points=\"2668.0001,-159.5421 2664.5,-149.5422 2661.0001,-159.5422 2668.0001,-159.5421\"/>\n",
              "</g>\n",
              "<!-- 115 -->\n",
              "<g id=\"node116\" class=\"node\">\n",
              "<title>115</title>\n",
              "<polygon fill=\"#f2c09c\" stroke=\"#000000\" points=\"2864,-157 2729,-157 2729,-89 2864,-89 2864,-157\"/>\n",
              "<text text-anchor=\"middle\" x=\"2796.5\" y=\"-141.8\" font-family=\"Times,serif\" font-size=\"14.00\" fill=\"#000000\">Insulin_log &lt;= 5.833</text>\n",
              "<text text-anchor=\"middle\" x=\"2796.5\" y=\"-126.8\" font-family=\"Times,serif\" font-size=\"14.00\" fill=\"#000000\">gini = 0.444</text>\n",
              "<text text-anchor=\"middle\" x=\"2796.5\" y=\"-111.8\" font-family=\"Times,serif\" font-size=\"14.00\" fill=\"#000000\">samples = 3</text>\n",
              "<text text-anchor=\"middle\" x=\"2796.5\" y=\"-96.8\" font-family=\"Times,serif\" font-size=\"14.00\" fill=\"#000000\">value = [2, 1]</text>\n",
              "</g>\n",
              "<!-- 114&#45;&gt;115 -->\n",
              "<g id=\"edge115\" class=\"edge\">\n",
              "<title>114&#45;&gt;115</title>\n",
              "<path fill=\"none\" stroke=\"#000000\" d=\"M2796.5,-192.9465C2796.5,-184.776 2796.5,-175.9318 2796.5,-167.3697\"/>\n",
              "<polygon fill=\"#000000\" stroke=\"#000000\" points=\"2800.0001,-167.13 2796.5,-157.13 2793.0001,-167.13 2800.0001,-167.13\"/>\n",
              "</g>\n",
              "<!-- 118 -->\n",
              "<g id=\"node119\" class=\"node\">\n",
              "<title>118</title>\n",
              "<polygon fill=\"#399de5\" stroke=\"#000000\" points=\"2974.5,-149.5 2882.5,-149.5 2882.5,-96.5 2974.5,-96.5 2974.5,-149.5\"/>\n",
              "<text text-anchor=\"middle\" x=\"2928.5\" y=\"-134.3\" font-family=\"Times,serif\" font-size=\"14.00\" fill=\"#000000\">gini = 0.0</text>\n",
              "<text text-anchor=\"middle\" x=\"2928.5\" y=\"-119.3\" font-family=\"Times,serif\" font-size=\"14.00\" fill=\"#000000\">samples = 9</text>\n",
              "<text text-anchor=\"middle\" x=\"2928.5\" y=\"-104.3\" font-family=\"Times,serif\" font-size=\"14.00\" fill=\"#000000\">value = [0, 9]</text>\n",
              "</g>\n",
              "<!-- 114&#45;&gt;118 -->\n",
              "<g id=\"edge118\" class=\"edge\">\n",
              "<title>114&#45;&gt;118</title>\n",
              "<path fill=\"none\" stroke=\"#000000\" d=\"M2839.7217,-192.9465C2854.8206,-181.0504 2871.7324,-167.726 2886.7122,-155.9237\"/>\n",
              "<polygon fill=\"#000000\" stroke=\"#000000\" points=\"2889.123,-158.4802 2894.8119,-149.5422 2884.7909,-152.9817 2889.123,-158.4802\"/>\n",
              "</g>\n",
              "<!-- 116 -->\n",
              "<g id=\"node117\" class=\"node\">\n",
              "<title>116</title>\n",
              "<polygon fill=\"#e58139\" stroke=\"#000000\" points=\"2787.5,-53 2695.5,-53 2695.5,0 2787.5,0 2787.5,-53\"/>\n",
              "<text text-anchor=\"middle\" x=\"2741.5\" y=\"-37.8\" font-family=\"Times,serif\" font-size=\"14.00\" fill=\"#000000\">gini = 0.0</text>\n",
              "<text text-anchor=\"middle\" x=\"2741.5\" y=\"-22.8\" font-family=\"Times,serif\" font-size=\"14.00\" fill=\"#000000\">samples = 2</text>\n",
              "<text text-anchor=\"middle\" x=\"2741.5\" y=\"-7.8\" font-family=\"Times,serif\" font-size=\"14.00\" fill=\"#000000\">value = [2, 0]</text>\n",
              "</g>\n",
              "<!-- 115&#45;&gt;116 -->\n",
              "<g id=\"edge116\" class=\"edge\">\n",
              "<title>115&#45;&gt;116</title>\n",
              "<path fill=\"none\" stroke=\"#000000\" d=\"M2777.1091,-88.9777C2772.151,-80.2786 2766.8067,-70.9018 2761.8042,-62.1247\"/>\n",
              "<polygon fill=\"#000000\" stroke=\"#000000\" points=\"2764.7378,-60.2033 2756.7452,-53.2485 2758.6562,-63.6696 2764.7378,-60.2033\"/>\n",
              "</g>\n",
              "<!-- 117 -->\n",
              "<g id=\"node118\" class=\"node\">\n",
              "<title>117</title>\n",
              "<polygon fill=\"#399de5\" stroke=\"#000000\" points=\"2897.5,-53 2805.5,-53 2805.5,0 2897.5,0 2897.5,-53\"/>\n",
              "<text text-anchor=\"middle\" x=\"2851.5\" y=\"-37.8\" font-family=\"Times,serif\" font-size=\"14.00\" fill=\"#000000\">gini = 0.0</text>\n",
              "<text text-anchor=\"middle\" x=\"2851.5\" y=\"-22.8\" font-family=\"Times,serif\" font-size=\"14.00\" fill=\"#000000\">samples = 1</text>\n",
              "<text text-anchor=\"middle\" x=\"2851.5\" y=\"-7.8\" font-family=\"Times,serif\" font-size=\"14.00\" fill=\"#000000\">value = [0, 1]</text>\n",
              "</g>\n",
              "<!-- 115&#45;&gt;117 -->\n",
              "<g id=\"edge117\" class=\"edge\">\n",
              "<title>115&#45;&gt;117</title>\n",
              "<path fill=\"none\" stroke=\"#000000\" d=\"M2815.8909,-88.9777C2820.849,-80.2786 2826.1933,-70.9018 2831.1958,-62.1247\"/>\n",
              "<polygon fill=\"#000000\" stroke=\"#000000\" points=\"2834.3438,-63.6696 2836.2548,-53.2485 2828.2622,-60.2033 2834.3438,-63.6696\"/>\n",
              "</g>\n",
              "<!-- 121 -->\n",
              "<g id=\"node122\" class=\"node\">\n",
              "<title>121</title>\n",
              "<polygon fill=\"#399de5\" stroke=\"#000000\" points=\"3090,-357.5 2991,-357.5 2991,-304.5 3090,-304.5 3090,-357.5\"/>\n",
              "<text text-anchor=\"middle\" x=\"3040.5\" y=\"-342.3\" font-family=\"Times,serif\" font-size=\"14.00\" fill=\"#000000\">gini = 0.0</text>\n",
              "<text text-anchor=\"middle\" x=\"3040.5\" y=\"-327.3\" font-family=\"Times,serif\" font-size=\"14.00\" fill=\"#000000\">samples = 13</text>\n",
              "<text text-anchor=\"middle\" x=\"3040.5\" y=\"-312.3\" font-family=\"Times,serif\" font-size=\"14.00\" fill=\"#000000\">value = [0, 13]</text>\n",
              "</g>\n",
              "<!-- 120&#45;&gt;121 -->\n",
              "<g id=\"edge121\" class=\"edge\">\n",
              "<title>120&#45;&gt;121</title>\n",
              "<path fill=\"none\" stroke=\"#000000\" d=\"M3048.5708,-400.9465C3047.3379,-390.2621 3045.9722,-378.4254 3044.7201,-367.5742\"/>\n",
              "<polygon fill=\"#000000\" stroke=\"#000000\" points=\"3048.1858,-367.075 3043.5626,-357.5422 3041.232,-367.8775 3048.1858,-367.075\"/>\n",
              "</g>\n",
              "<!-- 122 -->\n",
              "<g id=\"node123\" class=\"node\">\n",
              "<title>122</title>\n",
              "<polygon fill=\"#e58139\" stroke=\"#000000\" points=\"3200.5,-357.5 3108.5,-357.5 3108.5,-304.5 3200.5,-304.5 3200.5,-357.5\"/>\n",
              "<text text-anchor=\"middle\" x=\"3154.5\" y=\"-342.3\" font-family=\"Times,serif\" font-size=\"14.00\" fill=\"#000000\">gini = 0.0</text>\n",
              "<text text-anchor=\"middle\" x=\"3154.5\" y=\"-327.3\" font-family=\"Times,serif\" font-size=\"14.00\" fill=\"#000000\">samples = 1</text>\n",
              "<text text-anchor=\"middle\" x=\"3154.5\" y=\"-312.3\" font-family=\"Times,serif\" font-size=\"14.00\" fill=\"#000000\">value = [1, 0]</text>\n",
              "</g>\n",
              "<!-- 120&#45;&gt;122 -->\n",
              "<g id=\"edge122\" class=\"edge\">\n",
              "<title>120&#45;&gt;122</title>\n",
              "<path fill=\"none\" stroke=\"#000000\" d=\"M3085.8986,-400.9465C3097.2418,-389.3809 3109.9092,-376.4652 3121.2415,-364.9107\"/>\n",
              "<polygon fill=\"#000000\" stroke=\"#000000\" points=\"3123.9649,-367.1323 3128.4683,-357.5422 3118.9674,-362.2308 3123.9649,-367.1323\"/>\n",
              "</g>\n",
              "<!-- 124 -->\n",
              "<g id=\"node125\" class=\"node\">\n",
              "<title>124</title>\n",
              "<polygon fill=\"#399de5\" stroke=\"#000000\" points=\"2978,-669.5 2879,-669.5 2879,-616.5 2978,-616.5 2978,-669.5\"/>\n",
              "<text text-anchor=\"middle\" x=\"2928.5\" y=\"-654.3\" font-family=\"Times,serif\" font-size=\"14.00\" fill=\"#000000\">gini = 0.0</text>\n",
              "<text text-anchor=\"middle\" x=\"2928.5\" y=\"-639.3\" font-family=\"Times,serif\" font-size=\"14.00\" fill=\"#000000\">samples = 34</text>\n",
              "<text text-anchor=\"middle\" x=\"2928.5\" y=\"-624.3\" font-family=\"Times,serif\" font-size=\"14.00\" fill=\"#000000\">value = [0, 34]</text>\n",
              "</g>\n",
              "<!-- 123&#45;&gt;124 -->\n",
              "<g id=\"edge124\" class=\"edge\">\n",
              "<title>123&#45;&gt;124</title>\n",
              "<path fill=\"none\" stroke=\"#000000\" d=\"M2928.5,-712.9465C2928.5,-702.2621 2928.5,-690.4254 2928.5,-679.5742\"/>\n",
              "<polygon fill=\"#000000\" stroke=\"#000000\" points=\"2932.0001,-679.5421 2928.5,-669.5422 2925.0001,-679.5422 2932.0001,-679.5421\"/>\n",
              "</g>\n",
              "<!-- 125 -->\n",
              "<g id=\"node126\" class=\"node\">\n",
              "<title>125</title>\n",
              "<polygon fill=\"#e58139\" stroke=\"#000000\" points=\"3088.5,-669.5 2996.5,-669.5 2996.5,-616.5 3088.5,-616.5 3088.5,-669.5\"/>\n",
              "<text text-anchor=\"middle\" x=\"3042.5\" y=\"-654.3\" font-family=\"Times,serif\" font-size=\"14.00\" fill=\"#000000\">gini = 0.0</text>\n",
              "<text text-anchor=\"middle\" x=\"3042.5\" y=\"-639.3\" font-family=\"Times,serif\" font-size=\"14.00\" fill=\"#000000\">samples = 1</text>\n",
              "<text text-anchor=\"middle\" x=\"3042.5\" y=\"-624.3\" font-family=\"Times,serif\" font-size=\"14.00\" fill=\"#000000\">value = [1, 0]</text>\n",
              "</g>\n",
              "<!-- 123&#45;&gt;125 -->\n",
              "<g id=\"edge125\" class=\"edge\">\n",
              "<title>123&#45;&gt;125</title>\n",
              "<path fill=\"none\" stroke=\"#000000\" d=\"M2965.8279,-712.9465C2978.6263,-701.2707 2992.933,-688.219 3005.6901,-676.5809\"/>\n",
              "<polygon fill=\"#000000\" stroke=\"#000000\" points=\"3008.3769,-678.8675 3013.4057,-669.5422 3003.6591,-673.6961 3008.3769,-678.8675\"/>\n",
              "</g>\n",
              "</g>\n",
              "</svg>\n"
            ],
            "text/plain": [
              "<graphviz.sources.Source at 0x7fd640742f10>"
            ]
          },
          "execution_count": 242,
          "metadata": {},
          "output_type": "execute_result"
        }
      ],
      "source": [
        "# graphviz 를 통해 시각화하기\n",
        "# graphviz 와 파이썬에서 graphviz 를 사용할 수 있게 해주는 도구 2가지를 설치해주어야함.\n",
        "\n",
        "import graphviz\n",
        "from sklearn.tree import export_graphviz\n",
        "\n",
        "dot_tree = export_graphviz(model,\n",
        "                           feature_names = feature_names,\n",
        "                           filled=True)\n",
        "graphviz.Source(dot_tree)"
      ]
    },
    {
      "cell_type": "code",
      "execution_count": null,
      "id": "0dbdfe44",
      "metadata": {
        "id": "0dbdfe44",
        "outputId": "5cb1fa5c-6610-455c-d81d-1993f34ef346"
      },
      "outputs": [
        {
          "data": {
            "text/plain": [
              "array([0.09664449, 0.01878121, 0.093356  , 0.10346979, 0.0690405 ,\n",
              "       0.06344108, 0.        , 0.55526694, 0.        ])"
            ]
          },
          "execution_count": 243,
          "metadata": {},
          "output_type": "execute_result"
        }
      ],
      "source": [
        "# feature의 중요도를 추출하기\n",
        "\n",
        "model.feature_importances_"
      ]
    },
    {
      "cell_type": "code",
      "execution_count": null,
      "id": "d5fdcc42",
      "metadata": {
        "id": "d5fdcc42",
        "outputId": "8c07e9ef-1bb4-464e-c85b-f808f1ffddc3"
      },
      "outputs": [
        {
          "data": {
            "text/plain": [
              "<AxesSubplot:>"
            ]
          },
          "execution_count": 244,
          "metadata": {},
          "output_type": "execute_result"
        },
        {
          "data": {
            "image/png": "[encoded data removed]",
            "text/plain": [
              "<Figure size 432x288 with 1 Axes>"
            ]
          },
          "metadata": {
            "needs_background": "light"
          },
          "output_type": "display_data"
        }
      ],
      "source": [
        "# feature의 중요도 시각화 하기\n",
        "\n",
        "sns.barplot(x=model.feature_importances_, y=feature_names)"
      ]
    },
    {
      "cell_type": "markdown",
      "id": "02c1ffee",
      "metadata": {
        "id": "02c1ffee"
      },
      "source": [
        "## 정확도 측정하기"
      ]
    },
    {
      "cell_type": "code",
      "execution_count": null,
      "id": "c0e111bf",
      "metadata": {
        "id": "c0e111bf",
        "outputId": "96a16b6d-122a-4258-ef82-2179793ab642"
      },
      "outputs": [
        {
          "data": {
            "text/plain": [
              "614    0\n",
              "615    0\n",
              "616    0\n",
              "617    0\n",
              "618    0\n",
              "      ..\n",
              "763    1\n",
              "764    0\n",
              "765    0\n",
              "766    0\n",
              "767    0\n",
              "Name: Outcome, Length: 154, dtype: int64"
            ]
          },
          "execution_count": 245,
          "metadata": {},
          "output_type": "execute_result"
        }
      ],
      "source": [
        "# 실제값 - 예측값 해보기\n",
        "# 만약 0이 나온다면 실제값 = 예측값 인 것\n",
        "\n",
        "abs(y_test - y_predict)"
      ]
    },
    {
      "cell_type": "code",
      "execution_count": null,
      "id": "f9675b8d",
      "metadata": {
        "id": "f9675b8d",
        "outputId": "5bccca16-e601-42d7-9256-b0898f62397f"
      },
      "outputs": [
        {
          "data": {
            "text/plain": [
              "0.16883116883116883"
            ]
          },
          "execution_count": 246,
          "metadata": {},
          "output_type": "execute_result"
        }
      ],
      "source": [
        "abs(y_test - y_predict).sum() / len(y_test)"
      ]
    },
    {
      "cell_type": "markdown",
      "id": "8bd745be",
      "metadata": {
        "id": "8bd745be"
      },
      "source": [
        "` 0.28 정도를 잘못 예측했다고 볼 수 있다.(위의 코드 결과) `"
      ]
    },
    {
      "cell_type": "markdown",
      "id": "6aa12702",
      "metadata": {
        "id": "6aa12702"
      },
      "source": [
        "* 범주형 데이터로 바꾸면서의 틀린 개수 변화\n",
        "\n",
        "    - 1주차 -> \"Pregnancies\"범주화 -> \"Age\"원핫인코딩 -> 인슐린 결측치 채우기\n",
        "    \n",
        "          : 43 -> 37 -> 51(나이 25세 기준)\n",
        "                          -> 55(나이 30세 기준)  -> 24"
      ]
    },
    {
      "cell_type": "code",
      "execution_count": null,
      "id": "6a9bdf67",
      "metadata": {
        "id": "6a9bdf67",
        "outputId": "06d226ff-f515-4fd5-a337-8253c4f199dc"
      },
      "outputs": [
        {
          "data": {
            "text/plain": [
              "26"
            ]
          },
          "execution_count": 247,
          "metadata": {},
          "output_type": "execute_result"
        }
      ],
      "source": [
        "diff_count = abs(y_test - y_predict).sum()\n",
        "diff_count"
      ]
    },
    {
      "cell_type": "code",
      "execution_count": null,
      "id": "8550157f",
      "metadata": {
        "id": "8550157f",
        "outputId": "a1bc4d76-694f-443c-cc6f-0d85985489e3"
      },
      "outputs": [
        {
          "data": {
            "text/plain": [
              "83.11688311688312"
            ]
          },
          "execution_count": 248,
          "metadata": {},
          "output_type": "execute_result"
        }
      ],
      "source": [
        "# 예측의 정확도 구하기. 100점 만점 중에 몇 점을 맞았는가?\n",
        "\n",
        "(len(y_test) - diff_count) / len(y_test) * 100"
      ]
    },
    {
      "cell_type": "code",
      "execution_count": null,
      "id": "47f6ef43",
      "metadata": {
        "id": "47f6ef43",
        "outputId": "9a74d908-6d49-43d0-c268-68ea82de2200"
      },
      "outputs": [
        {
          "data": {
            "text/plain": [
              "83.11688311688312"
            ]
          },
          "execution_count": 249,
          "metadata": {},
          "output_type": "execute_result"
        }
      ],
      "source": [
        "# 위의 방법말고 알고리즘 사용해보기\n",
        "\n",
        "from sklearn.metrics import accuracy_score\n",
        "\n",
        "accuracy_score(y_test, y_predict) * 100"
      ]
    },
    {
      "cell_type": "code",
      "execution_count": null,
      "id": "96c3c186",
      "metadata": {
        "id": "96c3c186",
        "outputId": "2c8a17d8-a085-47de-8779-1387269635e8"
      },
      "outputs": [
        {
          "data": {
            "text/plain": [
              "83.11688311688312"
            ]
          },
          "execution_count": 250,
          "metadata": {},
          "output_type": "execute_result"
        }
      ],
      "source": [
        "# model의 score로 점수 계산\n",
        "\n",
        "model.score(X_test,y_test) * 100"
      ]
    },
    {
      "cell_type": "code",
      "execution_count": null,
      "id": "3ce6d0b0",
      "metadata": {
        "id": "3ce6d0b0"
      },
      "outputs": [],
      "source": []
    },
    {
      "cell_type": "code",
      "execution_count": null,
      "id": "f380bbf5",
      "metadata": {
        "id": "f380bbf5"
      },
      "outputs": [],
      "source": []
    }
  ],
  "metadata": {
    "kernelspec": {
      "display_name": "Python 3",
      "language": "python",
      "name": "python3"
    },
    "language_info": {
      "codemirror_mode": {
        "name": "ipython",
        "version": 3
      },
      "file_extension": ".py",
      "mimetype": "text/x-python",
      "name": "python",
      "nbconvert_exporter": "python",
      "pygments_lexer": "ipython3",
      "version": "3.8.2"
    },
    "toc": {
      "base_numbering": 1,
      "nav_menu": {},
      "number_sections": true,
      "sideBar": true,
      "skip_h1_title": false,
      "title_cell": "Table of Contents",
      "title_sidebar": "Contents",
      "toc_cell": false,
      "toc_position": {},
      "toc_section_display": true,
      "toc_window_display": false
    },
    "colab": {
      "provenance": []
    }
  },
  "nbformat": 4,
  "nbformat_minor": 5
}