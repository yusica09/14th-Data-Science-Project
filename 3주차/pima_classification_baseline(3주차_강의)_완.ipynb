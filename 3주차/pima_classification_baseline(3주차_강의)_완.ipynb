{
  "cells": [
    {
      "cell_type": "markdown",
      "id": "a49c9a9c",
      "metadata": {
        "id": "a49c9a9c"
      },
      "source": [
        "## 피마인디언 당뇨병 데이터"
      ]
    },
    {
      "cell_type": "markdown",
      "id": "575c8ac5",
      "metadata": {
        "id": "575c8ac5"
      },
      "source": [
        "* 캐글에서 제공하는 피마인디언 당뇨병 데이터 사용"
      ]
    },
    {
      "cell_type": "markdown",
      "id": "9370866e",
      "metadata": {
        "id": "9370866e"
      },
      "source": [
        "### 데이터 구성"
      ]
    },
    {
      "cell_type": "markdown",
      "id": "edff71d9",
      "metadata": {
        "id": "edff71d9"
      },
      "source": [
        "* Pregnancies : 임신 횟수\n",
        "* Glucose : 2시간 동안의 경구 포도당 내성 검사에서 혈장 포도당 농도\n",
        "* BloodPressure : 이완기 혈압 (mm Hg)\n",
        "* SkinThickness : 삼두근 피부 주름 두께 (mm), 체지방을 추정하는데 사용되는 값\n",
        "* Insulin : 2시간 혈청 인슐린 (mu U / ml)\n",
        "* BMI : 체질량 지수 (체중kg / 키(m)^2)\n",
        "* DiabetesPedigreeFunction : 당뇨병 혈통 기능\n",
        "* Age : 나이\n",
        "* Outcome : 768개 중에 268개의 결과 클래스 변수(0 또는 1)는 1이고 나머지는 0입니다."
      ]
    },
    {
      "cell_type": "markdown",
      "id": "841babdb",
      "metadata": {
        "id": "841babdb"
      },
      "source": [
        "### 분류와 회귀 이용"
      ]
    },
    {
      "cell_type": "markdown",
      "id": "b3d474ac",
      "metadata": {
        "id": "b3d474ac"
      },
      "source": [
        "* 당뇨병 진단 여부 분류\n",
        "* 인슐린 수치를 회귀를 통해 예측"
      ]
    },
    {
      "cell_type": "markdown",
      "id": "0654a9ae",
      "metadata": {
        "id": "0654a9ae"
      },
      "source": [
        "## 라이브러리 로드"
      ]
    },
    {
      "cell_type": "code",
      "execution_count": null,
      "id": "c94e5005",
      "metadata": {
        "id": "c94e5005"
      },
      "outputs": [],
      "source": [
        "# 시각화를 위한 seaborn, matplotlib.pyplot\n",
        "\n",
        "import pandas as pd\n",
        "import numpy as np\n",
        "import seaborn as sns\n",
        "import matplotlib.pyplot as plt"
      ]
    },
    {
      "cell_type": "markdown",
      "id": "8c0dfb1d",
      "metadata": {
        "id": "8c0dfb1d"
      },
      "source": [
        "## 데이터셋 로드"
      ]
    },
    {
      "cell_type": "code",
      "execution_count": null,
      "id": "2252a7b8",
      "metadata": {
        "id": "2252a7b8",
        "outputId": "7d217c0b-c8a4-498b-a671-b055497004c6"
      },
      "outputs": [
        {
          "data": {
            "text/plain": [
              "(768, 9)"
            ]
          },
          "execution_count": 338,
          "metadata": {},
          "output_type": "execute_result"
        }
      ],
      "source": [
        "df = pd.read_csv(\"data/diabetes.csv\")\n",
        "df.shape"
      ]
    },
    {
      "cell_type": "code",
      "execution_count": null,
      "id": "d9637d57",
      "metadata": {
        "id": "d9637d57",
        "outputId": "4eec3915-229f-4c24-8c20-a92853163925"
      },
      "outputs": [
        {
          "data": {
            "text/html": [
              "<div>\n",
              "<style scoped>\n",
              "    .dataframe tbody tr th:only-of-type {\n",
              "        vertical-align: middle;\n",
              "    }\n",
              "\n",
              "    .dataframe tbody tr th {\n",
              "        vertical-align: top;\n",
              "    }\n",
              "\n",
              "    .dataframe thead th {\n",
              "        text-align: right;\n",
              "    }\n",
              "</style>\n",
              "<table border=\"1\" class=\"dataframe\">\n",
              "  <thead>\n",
              "    <tr style=\"text-align: right;\">\n",
              "      <th></th>\n",
              "      <th>Pregnancies</th>\n",
              "      <th>Glucose</th>\n",
              "      <th>BloodPressure</th>\n",
              "      <th>SkinThickness</th>\n",
              "      <th>Insulin</th>\n",
              "      <th>BMI</th>\n",
              "      <th>DiabetesPedigreeFunction</th>\n",
              "      <th>Age</th>\n",
              "      <th>Outcome</th>\n",
              "    </tr>\n",
              "  </thead>\n",
              "  <tbody>\n",
              "    <tr>\n",
              "      <th>0</th>\n",
              "      <td>6</td>\n",
              "      <td>148</td>\n",
              "      <td>72</td>\n",
              "      <td>35</td>\n",
              "      <td>0</td>\n",
              "      <td>33.6</td>\n",
              "      <td>0.627</td>\n",
              "      <td>50</td>\n",
              "      <td>1</td>\n",
              "    </tr>\n",
              "    <tr>\n",
              "      <th>1</th>\n",
              "      <td>1</td>\n",
              "      <td>85</td>\n",
              "      <td>66</td>\n",
              "      <td>29</td>\n",
              "      <td>0</td>\n",
              "      <td>26.6</td>\n",
              "      <td>0.351</td>\n",
              "      <td>31</td>\n",
              "      <td>0</td>\n",
              "    </tr>\n",
              "    <tr>\n",
              "      <th>2</th>\n",
              "      <td>8</td>\n",
              "      <td>183</td>\n",
              "      <td>64</td>\n",
              "      <td>0</td>\n",
              "      <td>0</td>\n",
              "      <td>23.3</td>\n",
              "      <td>0.672</td>\n",
              "      <td>32</td>\n",
              "      <td>1</td>\n",
              "    </tr>\n",
              "    <tr>\n",
              "      <th>3</th>\n",
              "      <td>1</td>\n",
              "      <td>89</td>\n",
              "      <td>66</td>\n",
              "      <td>23</td>\n",
              "      <td>94</td>\n",
              "      <td>28.1</td>\n",
              "      <td>0.167</td>\n",
              "      <td>21</td>\n",
              "      <td>0</td>\n",
              "    </tr>\n",
              "    <tr>\n",
              "      <th>4</th>\n",
              "      <td>0</td>\n",
              "      <td>137</td>\n",
              "      <td>40</td>\n",
              "      <td>35</td>\n",
              "      <td>168</td>\n",
              "      <td>43.1</td>\n",
              "      <td>2.288</td>\n",
              "      <td>33</td>\n",
              "      <td>1</td>\n",
              "    </tr>\n",
              "  </tbody>\n",
              "</table>\n",
              "</div>"
            ],
            "text/plain": [
              "   Pregnancies  Glucose  BloodPressure  SkinThickness  Insulin   BMI  \\\n",
              "0            6      148             72             35        0  33.6   \n",
              "1            1       85             66             29        0  26.6   \n",
              "2            8      183             64              0        0  23.3   \n",
              "3            1       89             66             23       94  28.1   \n",
              "4            0      137             40             35      168  43.1   \n",
              "\n",
              "   DiabetesPedigreeFunction  Age  Outcome  \n",
              "0                     0.627   50        1  \n",
              "1                     0.351   31        0  \n",
              "2                     0.672   32        1  \n",
              "3                     0.167   21        0  \n",
              "4                     2.288   33        1  "
            ]
          },
          "execution_count": 339,
          "metadata": {},
          "output_type": "execute_result"
        }
      ],
      "source": [
        "df.head()"
      ]
    },
    {
      "cell_type": "markdown",
      "id": "2dc02f10",
      "metadata": {
        "id": "2dc02f10"
      },
      "source": [
        "` 데이터가 다 숫자로 되어있기 때문에 따로 전처리 과정 없이 진행! `"
      ]
    },
    {
      "cell_type": "markdown",
      "id": "d047a084",
      "metadata": {
        "id": "d047a084"
      },
      "source": [
        "## Feature Engineering"
      ]
    },
    {
      "cell_type": "markdown",
      "id": "7a780387",
      "metadata": {
        "id": "7a780387"
      },
      "source": [
        "### 수치형 변수를 범주형 변수로 만들기"
      ]
    },
    {
      "cell_type": "code",
      "execution_count": null,
      "id": "5c2b57a7",
      "metadata": {
        "scrolled": true,
        "id": "5c2b57a7",
        "outputId": "5028259a-6d31-42cb-f27b-a0fc1e342a10"
      },
      "outputs": [
        {
          "data": {
            "text/html": [
              "<div>\n",
              "<style scoped>\n",
              "    .dataframe tbody tr th:only-of-type {\n",
              "        vertical-align: middle;\n",
              "    }\n",
              "\n",
              "    .dataframe tbody tr th {\n",
              "        vertical-align: top;\n",
              "    }\n",
              "\n",
              "    .dataframe thead th {\n",
              "        text-align: right;\n",
              "    }\n",
              "</style>\n",
              "<table border=\"1\" class=\"dataframe\">\n",
              "  <thead>\n",
              "    <tr style=\"text-align: right;\">\n",
              "      <th></th>\n",
              "      <th>Pregnancies</th>\n",
              "      <th>Pregnancies_high</th>\n",
              "    </tr>\n",
              "  </thead>\n",
              "  <tbody>\n",
              "    <tr>\n",
              "      <th>0</th>\n",
              "      <td>6</td>\n",
              "      <td>False</td>\n",
              "    </tr>\n",
              "    <tr>\n",
              "      <th>1</th>\n",
              "      <td>1</td>\n",
              "      <td>False</td>\n",
              "    </tr>\n",
              "    <tr>\n",
              "      <th>2</th>\n",
              "      <td>8</td>\n",
              "      <td>True</td>\n",
              "    </tr>\n",
              "    <tr>\n",
              "      <th>3</th>\n",
              "      <td>1</td>\n",
              "      <td>False</td>\n",
              "    </tr>\n",
              "    <tr>\n",
              "      <th>4</th>\n",
              "      <td>0</td>\n",
              "      <td>False</td>\n",
              "    </tr>\n",
              "  </tbody>\n",
              "</table>\n",
              "</div>"
            ],
            "text/plain": [
              "   Pregnancies  Pregnancies_high\n",
              "0            6             False\n",
              "1            1             False\n",
              "2            8              True\n",
              "3            1             False\n",
              "4            0             False"
            ]
          },
          "execution_count": 340,
          "metadata": {},
          "output_type": "execute_result"
        }
      ],
      "source": [
        "df[\"Pregnancies_high\"] = df[\"Pregnancies\"] > 6\n",
        "df[[\"Pregnancies\",\"Pregnancies_high\"]].head()"
      ]
    },
    {
      "cell_type": "markdown",
      "id": "fc481eb0",
      "metadata": {
        "id": "fc481eb0"
      },
      "source": [
        "* 아래의 코드에서 'and'가 아닌 '&'을 사용해야 함!"
      ]
    },
    {
      "cell_type": "code",
      "execution_count": null,
      "id": "eab0a6a9",
      "metadata": {
        "id": "eab0a6a9",
        "outputId": "63dc7b35-c794-42e8-ee58-e51bebe0bf9a"
      },
      "outputs": [
        {
          "data": {
            "text/html": [
              "<div>\n",
              "<style scoped>\n",
              "    .dataframe tbody tr th:only-of-type {\n",
              "        vertical-align: middle;\n",
              "    }\n",
              "\n",
              "    .dataframe tbody tr th {\n",
              "        vertical-align: top;\n",
              "    }\n",
              "\n",
              "    .dataframe thead th {\n",
              "        text-align: right;\n",
              "    }\n",
              "</style>\n",
              "<table border=\"1\" class=\"dataframe\">\n",
              "  <thead>\n",
              "    <tr style=\"text-align: right;\">\n",
              "      <th></th>\n",
              "      <th>Age</th>\n",
              "      <th>Age_low</th>\n",
              "      <th>Age_middle</th>\n",
              "      <th>Age_high</th>\n",
              "    </tr>\n",
              "  </thead>\n",
              "  <tbody>\n",
              "    <tr>\n",
              "      <th>0</th>\n",
              "      <td>50</td>\n",
              "      <td>False</td>\n",
              "      <td>True</td>\n",
              "      <td>False</td>\n",
              "    </tr>\n",
              "    <tr>\n",
              "      <th>1</th>\n",
              "      <td>31</td>\n",
              "      <td>False</td>\n",
              "      <td>True</td>\n",
              "      <td>False</td>\n",
              "    </tr>\n",
              "    <tr>\n",
              "      <th>2</th>\n",
              "      <td>32</td>\n",
              "      <td>False</td>\n",
              "      <td>True</td>\n",
              "      <td>False</td>\n",
              "    </tr>\n",
              "    <tr>\n",
              "      <th>3</th>\n",
              "      <td>21</td>\n",
              "      <td>True</td>\n",
              "      <td>False</td>\n",
              "      <td>False</td>\n",
              "    </tr>\n",
              "    <tr>\n",
              "      <th>4</th>\n",
              "      <td>33</td>\n",
              "      <td>False</td>\n",
              "      <td>True</td>\n",
              "      <td>False</td>\n",
              "    </tr>\n",
              "  </tbody>\n",
              "</table>\n",
              "</div>"
            ],
            "text/plain": [
              "   Age  Age_low  Age_middle  Age_high\n",
              "0   50    False        True     False\n",
              "1   31    False        True     False\n",
              "2   32    False        True     False\n",
              "3   21     True       False     False\n",
              "4   33    False        True     False"
            ]
          },
          "execution_count": 341,
          "metadata": {},
          "output_type": "execute_result"
        }
      ],
      "source": [
        "# One-hot-Encoding\n",
        "# 수치 => 범주 => 수치\n",
        "df[\"Age_low\"] = df[\"Age\"] < 25\n",
        "df[\"Age_middle\"] = (df[\"Age\"] >= 25) & (df[\"Age\"] <= 60)\n",
        "df[\"Age_high\"] = df[\"Age\"] > 60\n",
        "df[[\"Age\",\"Age_low\",\"Age_middle\",\"Age_high\"]].head()"
      ]
    },
    {
      "cell_type": "code",
      "execution_count": null,
      "id": "15ef7afe",
      "metadata": {
        "id": "15ef7afe",
        "outputId": "520d68cf-6dac-4906-afb8-6d6b8af3e285"
      },
      "outputs": [
        {
          "data": {
            "text/plain": [
              "<AxesSubplot:xlabel='Age_low', ylabel='count'>"
            ]
          },
          "execution_count": 342,
          "metadata": {},
          "output_type": "execute_result"
        },
        {
          "data": {
            "image/png": "[encoded data removed]",
            "text/plain": [
              "<Figure size 432x288 with 1 Axes>"
            ]
          },
          "metadata": {
            "needs_background": "light"
          },
          "output_type": "display_data"
        }
      ],
      "source": [
        "sns.countplot(data=df, x=\"Age_low\", hue=\"Outcome\")"
      ]
    },
    {
      "cell_type": "markdown",
      "id": "3e6a0648",
      "metadata": {
        "id": "3e6a0648"
      },
      "source": [
        "### 결측치 다루기"
      ]
    },
    {
      "cell_type": "code",
      "execution_count": null,
      "id": "82825bcf",
      "metadata": {
        "id": "82825bcf",
        "outputId": "f00081e4-3985-4b84-8be9-66ffccad4c40"
      },
      "outputs": [
        {
          "data": {
            "text/plain": [
              "Pregnancies                 0\n",
              "Glucose                     0\n",
              "BloodPressure               0\n",
              "SkinThickness               0\n",
              "Insulin                     0\n",
              "BMI                         0\n",
              "DiabetesPedigreeFunction    0\n",
              "Age                         0\n",
              "Outcome                     0\n",
              "Pregnancies_high            0\n",
              "Age_low                     0\n",
              "Age_middle                  0\n",
              "Age_high                    0\n",
              "dtype: int64"
            ]
          },
          "execution_count": 343,
          "metadata": {},
          "output_type": "execute_result"
        }
      ],
      "source": [
        "df.isnull().sum()"
      ]
    },
    {
      "cell_type": "code",
      "execution_count": null,
      "id": "c2fbad94",
      "metadata": {
        "id": "c2fbad94",
        "outputId": "6e838d29-d2a7-4d38-ce2f-93bacf5e70fc"
      },
      "outputs": [
        {
          "data": {
            "text/html": [
              "<div>\n",
              "<style scoped>\n",
              "    .dataframe tbody tr th:only-of-type {\n",
              "        vertical-align: middle;\n",
              "    }\n",
              "\n",
              "    .dataframe tbody tr th {\n",
              "        vertical-align: top;\n",
              "    }\n",
              "\n",
              "    .dataframe thead th {\n",
              "        text-align: right;\n",
              "    }\n",
              "</style>\n",
              "<table border=\"1\" class=\"dataframe\">\n",
              "  <thead>\n",
              "    <tr style=\"text-align: right;\">\n",
              "      <th></th>\n",
              "      <th>Pregnancies</th>\n",
              "      <th>Glucose</th>\n",
              "      <th>BloodPressure</th>\n",
              "      <th>SkinThickness</th>\n",
              "      <th>Insulin</th>\n",
              "      <th>BMI</th>\n",
              "      <th>DiabetesPedigreeFunction</th>\n",
              "      <th>Age</th>\n",
              "      <th>Outcome</th>\n",
              "    </tr>\n",
              "  </thead>\n",
              "  <tbody>\n",
              "    <tr>\n",
              "      <th>count</th>\n",
              "      <td>768.000000</td>\n",
              "      <td>768.000000</td>\n",
              "      <td>768.000000</td>\n",
              "      <td>768.000000</td>\n",
              "      <td>768.000000</td>\n",
              "      <td>768.000000</td>\n",
              "      <td>768.000000</td>\n",
              "      <td>768.000000</td>\n",
              "      <td>768.000000</td>\n",
              "    </tr>\n",
              "    <tr>\n",
              "      <th>mean</th>\n",
              "      <td>3.845052</td>\n",
              "      <td>120.894531</td>\n",
              "      <td>69.105469</td>\n",
              "      <td>20.536458</td>\n",
              "      <td>79.799479</td>\n",
              "      <td>31.992578</td>\n",
              "      <td>0.471876</td>\n",
              "      <td>33.240885</td>\n",
              "      <td>0.348958</td>\n",
              "    </tr>\n",
              "    <tr>\n",
              "      <th>std</th>\n",
              "      <td>3.369578</td>\n",
              "      <td>31.972618</td>\n",
              "      <td>19.355807</td>\n",
              "      <td>15.952218</td>\n",
              "      <td>115.244002</td>\n",
              "      <td>7.884160</td>\n",
              "      <td>0.331329</td>\n",
              "      <td>11.760232</td>\n",
              "      <td>0.476951</td>\n",
              "    </tr>\n",
              "    <tr>\n",
              "      <th>min</th>\n",
              "      <td>0.000000</td>\n",
              "      <td>0.000000</td>\n",
              "      <td>0.000000</td>\n",
              "      <td>0.000000</td>\n",
              "      <td>0.000000</td>\n",
              "      <td>0.000000</td>\n",
              "      <td>0.078000</td>\n",
              "      <td>21.000000</td>\n",
              "      <td>0.000000</td>\n",
              "    </tr>\n",
              "    <tr>\n",
              "      <th>25%</th>\n",
              "      <td>1.000000</td>\n",
              "      <td>99.000000</td>\n",
              "      <td>62.000000</td>\n",
              "      <td>0.000000</td>\n",
              "      <td>0.000000</td>\n",
              "      <td>27.300000</td>\n",
              "      <td>0.243750</td>\n",
              "      <td>24.000000</td>\n",
              "      <td>0.000000</td>\n",
              "    </tr>\n",
              "    <tr>\n",
              "      <th>50%</th>\n",
              "      <td>3.000000</td>\n",
              "      <td>117.000000</td>\n",
              "      <td>72.000000</td>\n",
              "      <td>23.000000</td>\n",
              "      <td>30.500000</td>\n",
              "      <td>32.000000</td>\n",
              "      <td>0.372500</td>\n",
              "      <td>29.000000</td>\n",
              "      <td>0.000000</td>\n",
              "    </tr>\n",
              "    <tr>\n",
              "      <th>75%</th>\n",
              "      <td>6.000000</td>\n",
              "      <td>140.250000</td>\n",
              "      <td>80.000000</td>\n",
              "      <td>32.000000</td>\n",
              "      <td>127.250000</td>\n",
              "      <td>36.600000</td>\n",
              "      <td>0.626250</td>\n",
              "      <td>41.000000</td>\n",
              "      <td>1.000000</td>\n",
              "    </tr>\n",
              "    <tr>\n",
              "      <th>max</th>\n",
              "      <td>17.000000</td>\n",
              "      <td>199.000000</td>\n",
              "      <td>122.000000</td>\n",
              "      <td>99.000000</td>\n",
              "      <td>846.000000</td>\n",
              "      <td>67.100000</td>\n",
              "      <td>2.420000</td>\n",
              "      <td>81.000000</td>\n",
              "      <td>1.000000</td>\n",
              "    </tr>\n",
              "  </tbody>\n",
              "</table>\n",
              "</div>"
            ],
            "text/plain": [
              "       Pregnancies     Glucose  BloodPressure  SkinThickness     Insulin  \\\n",
              "count   768.000000  768.000000     768.000000     768.000000  768.000000   \n",
              "mean      3.845052  120.894531      69.105469      20.536458   79.799479   \n",
              "std       3.369578   31.972618      19.355807      15.952218  115.244002   \n",
              "min       0.000000    0.000000       0.000000       0.000000    0.000000   \n",
              "25%       1.000000   99.000000      62.000000       0.000000    0.000000   \n",
              "50%       3.000000  117.000000      72.000000      23.000000   30.500000   \n",
              "75%       6.000000  140.250000      80.000000      32.000000  127.250000   \n",
              "max      17.000000  199.000000     122.000000      99.000000  846.000000   \n",
              "\n",
              "              BMI  DiabetesPedigreeFunction         Age     Outcome  \n",
              "count  768.000000                768.000000  768.000000  768.000000  \n",
              "mean    31.992578                  0.471876   33.240885    0.348958  \n",
              "std      7.884160                  0.331329   11.760232    0.476951  \n",
              "min      0.000000                  0.078000   21.000000    0.000000  \n",
              "25%     27.300000                  0.243750   24.000000    0.000000  \n",
              "50%     32.000000                  0.372500   29.000000    0.000000  \n",
              "75%     36.600000                  0.626250   41.000000    1.000000  \n",
              "max     67.100000                  2.420000   81.000000    1.000000  "
            ]
          },
          "execution_count": 344,
          "metadata": {},
          "output_type": "execute_result"
        }
      ],
      "source": [
        "df.describe()"
      ]
    },
    {
      "cell_type": "code",
      "execution_count": null,
      "id": "eee71e66",
      "metadata": {
        "id": "eee71e66",
        "outputId": "14806a0f-bed6-4e2e-d0d7-721ba67ac550"
      },
      "outputs": [
        {
          "data": {
            "text/html": [
              "<div>\n",
              "<style scoped>\n",
              "    .dataframe tbody tr th:only-of-type {\n",
              "        vertical-align: middle;\n",
              "    }\n",
              "\n",
              "    .dataframe tbody tr th {\n",
              "        vertical-align: top;\n",
              "    }\n",
              "\n",
              "    .dataframe thead th {\n",
              "        text-align: right;\n",
              "    }\n",
              "</style>\n",
              "<table border=\"1\" class=\"dataframe\">\n",
              "  <thead>\n",
              "    <tr style=\"text-align: right;\">\n",
              "      <th></th>\n",
              "      <th>Insulin</th>\n",
              "      <th>Insulin_nan</th>\n",
              "    </tr>\n",
              "  </thead>\n",
              "  <tbody>\n",
              "    <tr>\n",
              "      <th>0</th>\n",
              "      <td>0</td>\n",
              "      <td>NaN</td>\n",
              "    </tr>\n",
              "    <tr>\n",
              "      <th>1</th>\n",
              "      <td>0</td>\n",
              "      <td>NaN</td>\n",
              "    </tr>\n",
              "    <tr>\n",
              "      <th>2</th>\n",
              "      <td>0</td>\n",
              "      <td>NaN</td>\n",
              "    </tr>\n",
              "    <tr>\n",
              "      <th>3</th>\n",
              "      <td>94</td>\n",
              "      <td>94.0</td>\n",
              "    </tr>\n",
              "    <tr>\n",
              "      <th>4</th>\n",
              "      <td>168</td>\n",
              "      <td>168.0</td>\n",
              "    </tr>\n",
              "  </tbody>\n",
              "</table>\n",
              "</div>"
            ],
            "text/plain": [
              "   Insulin  Insulin_nan\n",
              "0        0          NaN\n",
              "1        0          NaN\n",
              "2        0          NaN\n",
              "3       94         94.0\n",
              "4      168        168.0"
            ]
          },
          "execution_count": 345,
          "metadata": {},
          "output_type": "execute_result"
        }
      ],
      "source": [
        "df[\"Insulin_nan\"] = df[\"Insulin\"].replace(0, np.nan)\n",
        "df[[\"Insulin\",\"Insulin_nan\"]].head()"
      ]
    },
    {
      "cell_type": "code",
      "execution_count": null,
      "id": "0706bea4",
      "metadata": {
        "id": "0706bea4",
        "outputId": "531e5c51-2663-4370-d03d-5537e25f00a2"
      },
      "outputs": [
        {
          "data": {
            "text/plain": [
              "374"
            ]
          },
          "execution_count": 346,
          "metadata": {},
          "output_type": "execute_result"
        }
      ],
      "source": [
        "df[\"Insulin_nan\"].isnull().sum()"
      ]
    },
    {
      "cell_type": "markdown",
      "id": "56426bcd",
      "metadata": {
        "id": "56426bcd"
      },
      "source": [
        "* 결측치의 값들을 없애기엔 너무 많은 양이기 때문에 결측치를 채워보자!"
      ]
    },
    {
      "cell_type": "code",
      "execution_count": null,
      "id": "b0bd508d",
      "metadata": {
        "id": "b0bd508d",
        "outputId": "b676732b-82de-42f3-fc67-17da1dcae8e5"
      },
      "outputs": [
        {
          "data": {
            "text/plain": [
              "0.4869791666666667"
            ]
          },
          "execution_count": 348,
          "metadata": {},
          "output_type": "execute_result"
        }
      ],
      "source": [
        "# 결측치 비율\n",
        "df[\"Insulin_nan\"].isnull().mean()"
      ]
    },
    {
      "cell_type": "code",
      "execution_count": null,
      "id": "1832999d",
      "metadata": {
        "id": "1832999d",
        "outputId": "c6a9ef5d-965e-4ac3-b202-fd030689007a"
      },
      "outputs": [
        {
          "data": {
            "text/html": [
              "<div>\n",
              "<style scoped>\n",
              "    .dataframe tbody tr th:only-of-type {\n",
              "        vertical-align: middle;\n",
              "    }\n",
              "\n",
              "    .dataframe tbody tr th {\n",
              "        vertical-align: top;\n",
              "    }\n",
              "\n",
              "    .dataframe thead th {\n",
              "        text-align: right;\n",
              "    }\n",
              "</style>\n",
              "<table border=\"1\" class=\"dataframe\">\n",
              "  <thead>\n",
              "    <tr style=\"text-align: right;\">\n",
              "      <th></th>\n",
              "      <th>Insulin</th>\n",
              "      <th>Insulin_nan</th>\n",
              "    </tr>\n",
              "    <tr>\n",
              "      <th>Outcome</th>\n",
              "      <th></th>\n",
              "      <th></th>\n",
              "    </tr>\n",
              "  </thead>\n",
              "  <tbody>\n",
              "    <tr>\n",
              "      <th>0</th>\n",
              "      <td>68.792000</td>\n",
              "      <td>130.287879</td>\n",
              "    </tr>\n",
              "    <tr>\n",
              "      <th>1</th>\n",
              "      <td>100.335821</td>\n",
              "      <td>206.846154</td>\n",
              "    </tr>\n",
              "  </tbody>\n",
              "</table>\n",
              "</div>"
            ],
            "text/plain": [
              "            Insulin  Insulin_nan\n",
              "Outcome                         \n",
              "0         68.792000   130.287879\n",
              "1        100.335821   206.846154"
            ]
          },
          "execution_count": 349,
          "metadata": {},
          "output_type": "execute_result"
        }
      ],
      "source": [
        "df.groupby([\"Outcome\"])[[\"Insulin\",\"Insulin_nan\"]].mean()"
      ]
    },
    {
      "cell_type": "code",
      "execution_count": null,
      "id": "d3637755",
      "metadata": {
        "id": "d3637755",
        "outputId": "da898064-6b3f-4edd-e41c-aa2a9acd4326"
      },
      "outputs": [
        {
          "data": {
            "text/html": [
              "<div>\n",
              "<style scoped>\n",
              "    .dataframe tbody tr th:only-of-type {\n",
              "        vertical-align: middle;\n",
              "    }\n",
              "\n",
              "    .dataframe tbody tr th {\n",
              "        vertical-align: top;\n",
              "    }\n",
              "\n",
              "    .dataframe thead tr th {\n",
              "        text-align: left;\n",
              "    }\n",
              "\n",
              "    .dataframe thead tr:last-of-type th {\n",
              "        text-align: right;\n",
              "    }\n",
              "</style>\n",
              "<table border=\"1\" class=\"dataframe\">\n",
              "  <thead>\n",
              "    <tr>\n",
              "      <th></th>\n",
              "      <th colspan=\"8\" halign=\"left\">Insulin</th>\n",
              "      <th colspan=\"8\" halign=\"left\">Insulin_nan</th>\n",
              "    </tr>\n",
              "    <tr>\n",
              "      <th></th>\n",
              "      <th>count</th>\n",
              "      <th>mean</th>\n",
              "      <th>std</th>\n",
              "      <th>min</th>\n",
              "      <th>25%</th>\n",
              "      <th>50%</th>\n",
              "      <th>75%</th>\n",
              "      <th>max</th>\n",
              "      <th>count</th>\n",
              "      <th>mean</th>\n",
              "      <th>std</th>\n",
              "      <th>min</th>\n",
              "      <th>25%</th>\n",
              "      <th>50%</th>\n",
              "      <th>75%</th>\n",
              "      <th>max</th>\n",
              "    </tr>\n",
              "    <tr>\n",
              "      <th>Outcome</th>\n",
              "      <th></th>\n",
              "      <th></th>\n",
              "      <th></th>\n",
              "      <th></th>\n",
              "      <th></th>\n",
              "      <th></th>\n",
              "      <th></th>\n",
              "      <th></th>\n",
              "      <th></th>\n",
              "      <th></th>\n",
              "      <th></th>\n",
              "      <th></th>\n",
              "      <th></th>\n",
              "      <th></th>\n",
              "      <th></th>\n",
              "      <th></th>\n",
              "    </tr>\n",
              "  </thead>\n",
              "  <tbody>\n",
              "    <tr>\n",
              "      <th>0</th>\n",
              "      <td>500.0</td>\n",
              "      <td>68.792000</td>\n",
              "      <td>98.865289</td>\n",
              "      <td>0.0</td>\n",
              "      <td>0.0</td>\n",
              "      <td>39.0</td>\n",
              "      <td>105.00</td>\n",
              "      <td>744.0</td>\n",
              "      <td>264.0</td>\n",
              "      <td>130.287879</td>\n",
              "      <td>102.482237</td>\n",
              "      <td>15.0</td>\n",
              "      <td>66.0</td>\n",
              "      <td>102.5</td>\n",
              "      <td>161.25</td>\n",
              "      <td>744.0</td>\n",
              "    </tr>\n",
              "    <tr>\n",
              "      <th>1</th>\n",
              "      <td>268.0</td>\n",
              "      <td>100.335821</td>\n",
              "      <td>138.689125</td>\n",
              "      <td>0.0</td>\n",
              "      <td>0.0</td>\n",
              "      <td>0.0</td>\n",
              "      <td>167.25</td>\n",
              "      <td>846.0</td>\n",
              "      <td>130.0</td>\n",
              "      <td>206.846154</td>\n",
              "      <td>132.699898</td>\n",
              "      <td>14.0</td>\n",
              "      <td>127.5</td>\n",
              "      <td>169.5</td>\n",
              "      <td>239.25</td>\n",
              "      <td>846.0</td>\n",
              "    </tr>\n",
              "  </tbody>\n",
              "</table>\n",
              "</div>"
            ],
            "text/plain": [
              "        Insulin                                                         \\\n",
              "          count        mean         std  min  25%   50%     75%    max   \n",
              "Outcome                                                                  \n",
              "0         500.0   68.792000   98.865289  0.0  0.0  39.0  105.00  744.0   \n",
              "1         268.0  100.335821  138.689125  0.0  0.0   0.0  167.25  846.0   \n",
              "\n",
              "        Insulin_nan                                                             \n",
              "              count        mean         std   min    25%    50%     75%    max  \n",
              "Outcome                                                                         \n",
              "0             264.0  130.287879  102.482237  15.0   66.0  102.5  161.25  744.0  \n",
              "1             130.0  206.846154  132.699898  14.0  127.5  169.5  239.25  846.0  "
            ]
          },
          "execution_count": 350,
          "metadata": {},
          "output_type": "execute_result"
        }
      ],
      "source": [
        "df.groupby([\"Outcome\"])[[\"Insulin\",\"Insulin_nan\"]].describe()"
      ]
    },
    {
      "cell_type": "code",
      "execution_count": null,
      "id": "ff059b26",
      "metadata": {
        "id": "ff059b26",
        "outputId": "89a346a8-7f2a-4c4e-e3d4-5750ad9cd326"
      },
      "outputs": [
        {
          "data": {
            "text/html": [
              "<div>\n",
              "<style scoped>\n",
              "    .dataframe tbody tr th:only-of-type {\n",
              "        vertical-align: middle;\n",
              "    }\n",
              "\n",
              "    .dataframe tbody tr th {\n",
              "        vertical-align: top;\n",
              "    }\n",
              "\n",
              "    .dataframe thead tr th {\n",
              "        text-align: left;\n",
              "    }\n",
              "\n",
              "    .dataframe thead tr:last-of-type th {\n",
              "        text-align: right;\n",
              "    }\n",
              "</style>\n",
              "<table border=\"1\" class=\"dataframe\">\n",
              "  <thead>\n",
              "    <tr>\n",
              "      <th></th>\n",
              "      <th colspan=\"2\" halign=\"left\">Insulin</th>\n",
              "      <th colspan=\"2\" halign=\"left\">Insulin_nan</th>\n",
              "    </tr>\n",
              "    <tr>\n",
              "      <th></th>\n",
              "      <th>mean</th>\n",
              "      <th>median</th>\n",
              "      <th>mean</th>\n",
              "      <th>median</th>\n",
              "    </tr>\n",
              "    <tr>\n",
              "      <th>Outcome</th>\n",
              "      <th></th>\n",
              "      <th></th>\n",
              "      <th></th>\n",
              "      <th></th>\n",
              "    </tr>\n",
              "  </thead>\n",
              "  <tbody>\n",
              "    <tr>\n",
              "      <th>0</th>\n",
              "      <td>68.792000</td>\n",
              "      <td>39</td>\n",
              "      <td>130.287879</td>\n",
              "      <td>102.5</td>\n",
              "    </tr>\n",
              "    <tr>\n",
              "      <th>1</th>\n",
              "      <td>100.335821</td>\n",
              "      <td>0</td>\n",
              "      <td>206.846154</td>\n",
              "      <td>169.5</td>\n",
              "    </tr>\n",
              "  </tbody>\n",
              "</table>\n",
              "</div>"
            ],
            "text/plain": [
              "            Insulin        Insulin_nan       \n",
              "               mean median        mean median\n",
              "Outcome                                      \n",
              "0         68.792000     39  130.287879  102.5\n",
              "1        100.335821      0  206.846154  169.5"
            ]
          },
          "execution_count": 351,
          "metadata": {},
          "output_type": "execute_result"
        }
      ],
      "source": [
        "df.groupby([\"Outcome\"])[[\"Insulin\",\"Insulin_nan\"]].agg([\"mean\",\"median\"])"
      ]
    },
    {
      "cell_type": "code",
      "execution_count": null,
      "id": "ae9036e9",
      "metadata": {
        "id": "ae9036e9"
      },
      "outputs": [],
      "source": [
        "# 결측치 채우기\n",
        "df.loc[(df[\"Outcome\"] == 0) & (df[\"Insulin_nan\"].isnull()), \"Insulin_nan\"] = 102.5\n",
        "df.loc[(df[\"Outcome\"] == 1) & (df[\"Insulin_nan\"].isnull()), \"Insulin_nan\"] = 169.5"
      ]
    },
    {
      "cell_type": "markdown",
      "id": "9d75fb8f",
      "metadata": {
        "id": "9d75fb8f"
      },
      "source": [
        "### 왜도, 첨도, 정규분포"
      ]
    },
    {
      "cell_type": "code",
      "execution_count": null,
      "id": "b0515216",
      "metadata": {
        "id": "b0515216",
        "outputId": "4b1b9219-0a2f-4755-8341-940d2c1d58dd"
      },
      "outputs": [
        {
          "data": {
            "text/plain": [
              "<AxesSubplot:xlabel='Insulin', ylabel='Density'>"
            ]
          },
          "execution_count": 353,
          "metadata": {},
          "output_type": "execute_result"
        },
        {
          "data": {
            "image/png": "[encoded data removed]",
            "text/plain": [
              "<Figure size 432x288 with 1 Axes>"
            ]
          },
          "metadata": {
            "needs_background": "light"
          },
          "output_type": "display_data"
        }
      ],
      "source": [
        "import warnings\n",
        "warnings.filterwarnings(\"ignore\", category=FutureWarning)\n",
        "sns.distplot(df.loc[df[\"Insulin\"] > 0, \"Insulin\"])"
      ]
    },
    {
      "cell_type": "code",
      "execution_count": null,
      "id": "3850e0ba",
      "metadata": {
        "id": "3850e0ba",
        "outputId": "11368d4d-73d1-435d-fd3b-190017c2addc"
      },
      "outputs": [
        {
          "data": {
            "text/plain": [
              "<AxesSubplot:xlabel='Insulin', ylabel='Density'>"
            ]
          },
          "execution_count": 354,
          "metadata": {},
          "output_type": "execute_result"
        },
        {
          "data": {
            "image/png": "[encoded data removed]",
            "text/plain": [
              "<Figure size 432x288 with 1 Axes>"
            ]
          },
          "metadata": {
            "needs_background": "light"
          },
          "output_type": "display_data"
        }
      ],
      "source": [
        "# 정규 분포 형태\n",
        "sns.distplot(np.log(df.loc[df[\"Insulin\"] > 0, \"Insulin\"] + 1))"
      ]
    },
    {
      "cell_type": "code",
      "execution_count": null,
      "id": "500fe3f8",
      "metadata": {
        "id": "500fe3f8",
        "outputId": "1dded0b7-78f3-454a-9218-1ccebdcb3b0e"
      },
      "outputs": [
        {
          "data": {
            "text/plain": [
              "<AxesSubplot:xlabel='Insulin_nan', ylabel='Density'>"
            ]
          },
          "execution_count": 355,
          "metadata": {},
          "output_type": "execute_result"
        },
        {
          "data": {
            "image/png": "[encoded data removed]",
            "text/plain": [
              "<Figure size 432x288 with 1 Axes>"
            ]
          },
          "metadata": {
            "needs_background": "light"
          },
          "output_type": "display_data"
        }
      ],
      "source": [
        "sns.distplot(df[\"Insulin_nan\"])"
      ]
    },
    {
      "cell_type": "code",
      "execution_count": null,
      "id": "dfba5ea6",
      "metadata": {
        "id": "dfba5ea6",
        "outputId": "f270d18a-37b4-4d49-cecc-938e07565e4a"
      },
      "outputs": [
        {
          "data": {
            "text/plain": [
              "<AxesSubplot:xlabel='Insulin_log', ylabel='Density'>"
            ]
          },
          "execution_count": 356,
          "metadata": {},
          "output_type": "execute_result"
        },
        {
          "data": {
            "image/png": "[encoded data removed]",
            "text/plain": [
              "<Figure size 432x288 with 1 Axes>"
            ]
          },
          "metadata": {
            "needs_background": "light"
          },
          "output_type": "display_data"
        }
      ],
      "source": [
        "# -inf 수렴 방지 위해 +1 해주기\n",
        "df[\"Insulin_log\"] = np.log(df[\"Insulin_nan\"] + 1)\n",
        "sns.distplot(df[\"Insulin_log\"])"
      ]
    },
    {
      "cell_type": "markdown",
      "id": "cdbe36f9",
      "metadata": {
        "id": "cdbe36f9"
      },
      "source": [
        "### 파생변수 만들기"
      ]
    },
    {
      "cell_type": "code",
      "execution_count": null,
      "id": "a5ce313c",
      "metadata": {
        "id": "a5ce313c",
        "outputId": "1d1efa25-68b8-4812-b8f5-c141f82e40ae"
      },
      "outputs": [
        {
          "data": {
            "text/plain": [
              "<seaborn.axisgrid.FacetGrid at 0x7fd5f871b3a0>"
            ]
          },
          "execution_count": 357,
          "metadata": {},
          "output_type": "execute_result"
        },
        {
          "data": {
            "image/png": "[encoded data removed]",
            "text/plain": [
              "<Figure size 413.25x360 with 1 Axes>"
            ]
          },
          "metadata": {
            "needs_background": "light"
          },
          "output_type": "display_data"
        }
      ],
      "source": [
        "sns.lmplot(data=df, x=\"Insulin_nan\", y=\"Glucose\", hue=\"Outcome\")"
      ]
    },
    {
      "cell_type": "markdown",
      "id": "9043898d",
      "metadata": {
        "id": "9043898d"
      },
      "source": [
        "* 위의 그래프에서 보이는 일자 점선은 우리가 결측치를 채워준 값이다"
      ]
    },
    {
      "cell_type": "code",
      "execution_count": null,
      "id": "5891b6ec",
      "metadata": {
        "id": "5891b6ec",
        "outputId": "d58cfd83-9c5d-4162-b84f-49096c2d6199"
      },
      "outputs": [
        {
          "data": {
            "text/plain": [
              "0    False\n",
              "1     True\n",
              "2    False\n",
              "3     True\n",
              "4    False\n",
              "Name: low_glu_insulin, dtype: bool"
            ]
          },
          "execution_count": 358,
          "metadata": {},
          "output_type": "execute_result"
        }
      ],
      "source": [
        "df[\"low_glu_insulin\"] = (df[\"Glucose\"] < 100) & (df[\"Insulin_nan\"] <= 102.5)\n",
        "df[\"low_glu_insulin\"].head()"
      ]
    },
    {
      "cell_type": "code",
      "execution_count": null,
      "id": "e381c318",
      "metadata": {
        "id": "e381c318",
        "outputId": "5a8136ea-556e-4131-9ba9-b13cefe92aa2"
      },
      "outputs": [
        {
          "data": {
            "text/html": [
              "<div>\n",
              "<style scoped>\n",
              "    .dataframe tbody tr th:only-of-type {\n",
              "        vertical-align: middle;\n",
              "    }\n",
              "\n",
              "    .dataframe tbody tr th {\n",
              "        vertical-align: top;\n",
              "    }\n",
              "\n",
              "    .dataframe thead th {\n",
              "        text-align: right;\n",
              "    }\n",
              "</style>\n",
              "<table border=\"1\" class=\"dataframe\">\n",
              "  <thead>\n",
              "    <tr style=\"text-align: right;\">\n",
              "      <th>low_glu_insulin</th>\n",
              "      <th>False</th>\n",
              "      <th>True</th>\n",
              "    </tr>\n",
              "    <tr>\n",
              "      <th>Outcome</th>\n",
              "      <th></th>\n",
              "      <th></th>\n",
              "    </tr>\n",
              "  </thead>\n",
              "  <tbody>\n",
              "    <tr>\n",
              "      <th>0</th>\n",
              "      <td>332</td>\n",
              "      <td>168</td>\n",
              "    </tr>\n",
              "    <tr>\n",
              "      <th>1</th>\n",
              "      <td>263</td>\n",
              "      <td>5</td>\n",
              "    </tr>\n",
              "  </tbody>\n",
              "</table>\n",
              "</div>"
            ],
            "text/plain": [
              "low_glu_insulin  False  True \n",
              "Outcome                      \n",
              "0                  332    168\n",
              "1                  263      5"
            ]
          },
          "execution_count": 359,
          "metadata": {},
          "output_type": "execute_result"
        }
      ],
      "source": [
        "pd.crosstab(df[\"Outcome\"], df[\"low_glu_insulin\"])"
      ]
    },
    {
      "cell_type": "markdown",
      "id": "322265c1",
      "metadata": {
        "id": "322265c1"
      },
      "source": [
        "* \"low_glu_insulin\" : 인슐린 & 글루코스 상관계수로 파생변수 생성"
      ]
    },
    {
      "cell_type": "markdown",
      "id": "5a001c49",
      "metadata": {
        "id": "5a001c49"
      },
      "source": [
        "### 이상치(outlier) 다루기"
      ]
    },
    {
      "cell_type": "code",
      "execution_count": null,
      "id": "b4553f5e",
      "metadata": {
        "scrolled": true,
        "id": "b4553f5e",
        "outputId": "de1d451c-b55f-4e0b-9cfa-99c2341c76b9"
      },
      "outputs": [
        {
          "data": {
            "text/plain": [
              "<AxesSubplot:xlabel='Insulin'>"
            ]
          },
          "execution_count": 360,
          "metadata": {},
          "output_type": "execute_result"
        },
        {
          "data": {
            "image/png": "[encoded data removed]",
            "text/plain": [
              "<Figure size 720x144 with 1 Axes>"
            ]
          },
          "metadata": {
            "needs_background": "light"
          },
          "output_type": "display_data"
        }
      ],
      "source": [
        "# 결측치 처리를 안한 경우 밑의 그림처럼 0에 붙어있는 모습\n",
        "plt.figure(figsize=(10,2))\n",
        "sns.boxplot(df[\"Insulin\"])"
      ]
    },
    {
      "cell_type": "code",
      "execution_count": null,
      "id": "74972655",
      "metadata": {
        "id": "74972655",
        "outputId": "37e811e9-3f9c-4ea7-bcdc-331e11ff5b48"
      },
      "outputs": [
        {
          "data": {
            "text/plain": [
              "<AxesSubplot:xlabel='Insulin_nan'>"
            ]
          },
          "execution_count": 361,
          "metadata": {},
          "output_type": "execute_result"
        },
        {
          "data": {
            "image/png": "[encoded data removed]",
            "text/plain": [
              "<Figure size 720x144 with 1 Axes>"
            ]
          },
          "metadata": {
            "needs_background": "light"
          },
          "output_type": "display_data"
        }
      ],
      "source": [
        "# 결측치 처리를 한 경우\n",
        "plt.figure(figsize=(10,2))\n",
        "sns.boxplot(df[\"Insulin_nan\"])"
      ]
    },
    {
      "cell_type": "code",
      "execution_count": null,
      "id": "445feca0",
      "metadata": {
        "id": "445feca0",
        "outputId": "7681d367-6943-48b8-b9e7-4d2941ba8feb"
      },
      "outputs": [
        {
          "data": {
            "text/plain": [
              "count    768.000000\n",
              "mean     141.753906\n",
              "std       89.100847\n",
              "min       14.000000\n",
              "25%      102.500000\n",
              "50%      102.500000\n",
              "75%      169.500000\n",
              "max      846.000000\n",
              "Name: Insulin_nan, dtype: float64"
            ]
          },
          "execution_count": 362,
          "metadata": {},
          "output_type": "execute_result"
        }
      ],
      "source": [
        "df[\"Insulin_nan\"].describe()"
      ]
    },
    {
      "cell_type": "code",
      "execution_count": null,
      "id": "5e0f23f3",
      "metadata": {
        "id": "5e0f23f3",
        "outputId": "3df9ebd2-3314-46e0-f35c-022e1389da2e"
      },
      "outputs": [
        {
          "data": {
            "text/plain": [
              "169.5"
            ]
          },
          "execution_count": 363,
          "metadata": {},
          "output_type": "execute_result"
        }
      ],
      "source": [
        "# 3사분위값\n",
        "IQR3 = df[\"Insulin_nan\"].quantile(0.75)\n",
        "IQR3"
      ]
    },
    {
      "cell_type": "code",
      "execution_count": null,
      "id": "85949c69",
      "metadata": {
        "id": "85949c69",
        "outputId": "e57a1261-1f41-49de-9455-3c3bab2e244f"
      },
      "outputs": [
        {
          "data": {
            "text/plain": [
              "102.5"
            ]
          },
          "execution_count": 364,
          "metadata": {},
          "output_type": "execute_result"
        }
      ],
      "source": [
        "# 1사분위값\n",
        "IQR1 = df[\"Insulin_nan\"].quantile(0.25)\n",
        "IQR1"
      ]
    },
    {
      "cell_type": "code",
      "execution_count": null,
      "id": "322548d5",
      "metadata": {
        "id": "322548d5",
        "outputId": "59d6de80-043c-4229-bec9-7e4e1a8e29f4"
      },
      "outputs": [
        {
          "data": {
            "text/plain": [
              "67.0"
            ]
          },
          "execution_count": 365,
          "metadata": {},
          "output_type": "execute_result"
        }
      ],
      "source": [
        "# 사분위수 범위 계산\n",
        "IQR = IQR3 - IQR1\n",
        "IQR"
      ]
    },
    {
      "cell_type": "code",
      "execution_count": null,
      "id": "d0b35fc5",
      "metadata": {
        "id": "d0b35fc5",
        "outputId": "5663aaee-b861-4e41-ac44-8479be96c656"
      },
      "outputs": [
        {
          "data": {
            "text/plain": [
              "270.0"
            ]
          },
          "execution_count": 366,
          "metadata": {},
          "output_type": "execute_result"
        }
      ],
      "source": [
        "# 이상치\n",
        "OUT = IQR3 + (IQR * 1.5)\n",
        "OUT"
      ]
    },
    {
      "cell_type": "code",
      "execution_count": null,
      "id": "8d4157e3",
      "metadata": {
        "id": "8d4157e3",
        "outputId": "9dd80e3b-bdd0-4b67-c5fc-b69dc5a5f9aa"
      },
      "outputs": [
        {
          "data": {
            "text/plain": [
              "(51, 16)"
            ]
          },
          "execution_count": 367,
          "metadata": {},
          "output_type": "execute_result"
        }
      ],
      "source": [
        "# 이상치 개수 확인하기\n",
        "df[df[\"Insulin_nan\"] > OUT].shape"
      ]
    },
    {
      "cell_type": "code",
      "execution_count": null,
      "id": "3290d25b",
      "metadata": {
        "id": "3290d25b",
        "outputId": "fac694c9-5c7d-4b21-b0f2-a58222358058"
      },
      "outputs": [
        {
          "data": {
            "text/plain": [
              "(3, 16)"
            ]
          },
          "execution_count": 368,
          "metadata": {},
          "output_type": "execute_result"
        }
      ],
      "source": [
        "# 이상치 전부를 지우기엔 너무 개수가 많으므로 600이상인 이상치만 빼보기\n",
        "df[df[\"Insulin_nan\"] > 600].shape"
      ]
    },
    {
      "cell_type": "markdown",
      "id": "903b3dcb",
      "metadata": {
        "id": "903b3dcb"
      },
      "source": [
        "### Scaling"
      ]
    },
    {
      "cell_type": "markdown",
      "id": "7cc47f92",
      "metadata": {
        "id": "7cc47f92"
      },
      "source": [
        "* 숫자의 범위가 크고, 다른 변수들과 숫자 크기가 차이가 많이 날 때 사용하면 좋다"
      ]
    },
    {
      "cell_type": "code",
      "execution_count": null,
      "id": "fa77e133",
      "metadata": {
        "id": "fa77e133",
        "outputId": "b8c05ded-ffe0-46ff-b430-dc66f8880049"
      },
      "outputs": [
        {
          "data": {
            "text/plain": [
              "array([[ 0.84832379,  0.46849198],\n",
              "       [-1.12339636, -0.36506078],\n",
              "       [ 1.94372388,  0.60439732],\n",
              "       ...,\n",
              "       [ 0.00330087, -0.68519336],\n",
              "       [ 0.1597866 , -0.37110101],\n",
              "       [-0.8730192 , -0.47378505]])"
            ]
          },
          "execution_count": 308,
          "metadata": {},
          "output_type": "execute_result"
        }
      ],
      "source": [
        "from sklearn.preprocessing import StandardScaler\n",
        "\n",
        "scaler = StandardScaler()\n",
        "scaler.fit(df[[\"Glucose\",\"DiabetesPedigreeFunction\"]])\n",
        "scale = scaler.transform(df[[\"Glucose\",\"DiabetesPedigreeFunction\"]])\n",
        "scale"
      ]
    },
    {
      "cell_type": "code",
      "execution_count": null,
      "id": "2c98bc41",
      "metadata": {
        "id": "2c98bc41",
        "outputId": "650baa79-6afb-4bac-a47a-e0c190b93bee"
      },
      "outputs": [
        {
          "data": {
            "text/html": [
              "<div>\n",
              "<style scoped>\n",
              "    .dataframe tbody tr th:only-of-type {\n",
              "        vertical-align: middle;\n",
              "    }\n",
              "\n",
              "    .dataframe tbody tr th {\n",
              "        vertical-align: top;\n",
              "    }\n",
              "\n",
              "    .dataframe thead th {\n",
              "        text-align: right;\n",
              "    }\n",
              "</style>\n",
              "<table border=\"1\" class=\"dataframe\">\n",
              "  <thead>\n",
              "    <tr style=\"text-align: right;\">\n",
              "      <th></th>\n",
              "      <th>Glucose</th>\n",
              "      <th>DiabetesPedigreeFunction</th>\n",
              "    </tr>\n",
              "  </thead>\n",
              "  <tbody>\n",
              "    <tr>\n",
              "      <th>0</th>\n",
              "      <td>0.848324</td>\n",
              "      <td>0.468492</td>\n",
              "    </tr>\n",
              "    <tr>\n",
              "      <th>1</th>\n",
              "      <td>-1.123396</td>\n",
              "      <td>-0.365061</td>\n",
              "    </tr>\n",
              "    <tr>\n",
              "      <th>2</th>\n",
              "      <td>1.943724</td>\n",
              "      <td>0.604397</td>\n",
              "    </tr>\n",
              "    <tr>\n",
              "      <th>3</th>\n",
              "      <td>-0.998208</td>\n",
              "      <td>-0.920763</td>\n",
              "    </tr>\n",
              "    <tr>\n",
              "      <th>4</th>\n",
              "      <td>0.504055</td>\n",
              "      <td>5.484909</td>\n",
              "    </tr>\n",
              "  </tbody>\n",
              "</table>\n",
              "</div>"
            ],
            "text/plain": [
              "    Glucose  DiabetesPedigreeFunction\n",
              "0  0.848324                  0.468492\n",
              "1 -1.123396                 -0.365061\n",
              "2  1.943724                  0.604397\n",
              "3 -0.998208                 -0.920763\n",
              "4  0.504055                  5.484909"
            ]
          },
          "execution_count": 309,
          "metadata": {},
          "output_type": "execute_result"
        }
      ],
      "source": [
        "# df[[\"Glucose\",\"DiabetesPedigreeFunction\"]] = scale\n",
        "# df[[\"Glucose\",\"DiabetesPedigreeFunction\"]].head()"
      ]
    },
    {
      "cell_type": "code",
      "execution_count": null,
      "id": "76e94b62",
      "metadata": {
        "id": "76e94b62",
        "outputId": "d0639001-9f9c-4104-9f41-fecdfd37d7e7"
      },
      "outputs": [
        {
          "data": {
            "text/plain": [
              "array([[<AxesSubplot:title={'center':'Glucose'}>,\n",
              "        <AxesSubplot:title={'center':'DiabetesPedigreeFunction'}>]],\n",
              "      dtype=object)"
            ]
          },
          "execution_count": 311,
          "metadata": {},
          "output_type": "execute_result"
        },
        {
          "data": {
            "image/png": "[encoded data removed]",
            "text/plain": [
              "<Figure size 720x216 with 2 Axes>"
            ]
          },
          "metadata": {
            "needs_background": "light"
          },
          "output_type": "display_data"
        }
      ],
      "source": [
        "h = df[[\"Glucose\", \"DiabetesPedigreeFunction\"]].hist(figsize=(10,3))\n",
        "h"
      ]
    },
    {
      "cell_type": "markdown",
      "id": "a228a3af",
      "metadata": {
        "id": "a228a3af"
      },
      "source": [
        "## csv파일로 저장하기"
      ]
    },
    {
      "cell_type": "code",
      "execution_count": null,
      "id": "af0da41b",
      "metadata": {
        "id": "af0da41b"
      },
      "outputs": [],
      "source": [
        "df.to_csv(\"data/diabetes_feature.csv\")"
      ]
    },
    {
      "cell_type": "code",
      "execution_count": null,
      "id": "e55a36e4",
      "metadata": {
        "scrolled": false,
        "id": "e55a36e4",
        "outputId": "fd83d87f-b1e3-4f1f-a747-56360f7e2da8"
      },
      "outputs": [
        {
          "data": {
            "text/html": [
              "<div>\n",
              "<style scoped>\n",
              "    .dataframe tbody tr th:only-of-type {\n",
              "        vertical-align: middle;\n",
              "    }\n",
              "\n",
              "    .dataframe tbody tr th {\n",
              "        vertical-align: top;\n",
              "    }\n",
              "\n",
              "    .dataframe thead th {\n",
              "        text-align: right;\n",
              "    }\n",
              "</style>\n",
              "<table border=\"1\" class=\"dataframe\">\n",
              "  <thead>\n",
              "    <tr style=\"text-align: right;\">\n",
              "      <th></th>\n",
              "      <th>Unnamed: 0</th>\n",
              "      <th>Pregnancies</th>\n",
              "      <th>Glucose</th>\n",
              "      <th>BloodPressure</th>\n",
              "      <th>SkinThickness</th>\n",
              "      <th>Insulin</th>\n",
              "      <th>BMI</th>\n",
              "      <th>DiabetesPedigreeFunction</th>\n",
              "      <th>Age</th>\n",
              "      <th>Outcome</th>\n",
              "      <th>Pregnancies_high</th>\n",
              "      <th>Age_low</th>\n",
              "      <th>Age_middle</th>\n",
              "      <th>Age_high</th>\n",
              "      <th>Insulin_nan</th>\n",
              "      <th>Insulin_log</th>\n",
              "      <th>low_glu_insulin</th>\n",
              "    </tr>\n",
              "  </thead>\n",
              "  <tbody>\n",
              "    <tr>\n",
              "      <th>0</th>\n",
              "      <td>0</td>\n",
              "      <td>6</td>\n",
              "      <td>148</td>\n",
              "      <td>72</td>\n",
              "      <td>35</td>\n",
              "      <td>0</td>\n",
              "      <td>33.6</td>\n",
              "      <td>0.627</td>\n",
              "      <td>50</td>\n",
              "      <td>1</td>\n",
              "      <td>False</td>\n",
              "      <td>False</td>\n",
              "      <td>True</td>\n",
              "      <td>False</td>\n",
              "      <td>169.5</td>\n",
              "      <td>5.138735</td>\n",
              "      <td>False</td>\n",
              "    </tr>\n",
              "    <tr>\n",
              "      <th>1</th>\n",
              "      <td>1</td>\n",
              "      <td>1</td>\n",
              "      <td>85</td>\n",
              "      <td>66</td>\n",
              "      <td>29</td>\n",
              "      <td>0</td>\n",
              "      <td>26.6</td>\n",
              "      <td>0.351</td>\n",
              "      <td>31</td>\n",
              "      <td>0</td>\n",
              "      <td>False</td>\n",
              "      <td>False</td>\n",
              "      <td>True</td>\n",
              "      <td>False</td>\n",
              "      <td>102.5</td>\n",
              "      <td>4.639572</td>\n",
              "      <td>True</td>\n",
              "    </tr>\n",
              "    <tr>\n",
              "      <th>2</th>\n",
              "      <td>2</td>\n",
              "      <td>8</td>\n",
              "      <td>183</td>\n",
              "      <td>64</td>\n",
              "      <td>0</td>\n",
              "      <td>0</td>\n",
              "      <td>23.3</td>\n",
              "      <td>0.672</td>\n",
              "      <td>32</td>\n",
              "      <td>1</td>\n",
              "      <td>True</td>\n",
              "      <td>False</td>\n",
              "      <td>True</td>\n",
              "      <td>False</td>\n",
              "      <td>169.5</td>\n",
              "      <td>5.138735</td>\n",
              "      <td>False</td>\n",
              "    </tr>\n",
              "    <tr>\n",
              "      <th>3</th>\n",
              "      <td>3</td>\n",
              "      <td>1</td>\n",
              "      <td>89</td>\n",
              "      <td>66</td>\n",
              "      <td>23</td>\n",
              "      <td>94</td>\n",
              "      <td>28.1</td>\n",
              "      <td>0.167</td>\n",
              "      <td>21</td>\n",
              "      <td>0</td>\n",
              "      <td>False</td>\n",
              "      <td>True</td>\n",
              "      <td>False</td>\n",
              "      <td>False</td>\n",
              "      <td>94.0</td>\n",
              "      <td>4.553877</td>\n",
              "      <td>True</td>\n",
              "    </tr>\n",
              "    <tr>\n",
              "      <th>4</th>\n",
              "      <td>4</td>\n",
              "      <td>0</td>\n",
              "      <td>137</td>\n",
              "      <td>40</td>\n",
              "      <td>35</td>\n",
              "      <td>168</td>\n",
              "      <td>43.1</td>\n",
              "      <td>2.288</td>\n",
              "      <td>33</td>\n",
              "      <td>1</td>\n",
              "      <td>False</td>\n",
              "      <td>False</td>\n",
              "      <td>True</td>\n",
              "      <td>False</td>\n",
              "      <td>168.0</td>\n",
              "      <td>5.129899</td>\n",
              "      <td>False</td>\n",
              "    </tr>\n",
              "  </tbody>\n",
              "</table>\n",
              "</div>"
            ],
            "text/plain": [
              "   Unnamed: 0  Pregnancies  Glucose  BloodPressure  SkinThickness  Insulin  \\\n",
              "0           0            6      148             72             35        0   \n",
              "1           1            1       85             66             29        0   \n",
              "2           2            8      183             64              0        0   \n",
              "3           3            1       89             66             23       94   \n",
              "4           4            0      137             40             35      168   \n",
              "\n",
              "    BMI  DiabetesPedigreeFunction  Age  Outcome  Pregnancies_high  Age_low  \\\n",
              "0  33.6                     0.627   50        1             False    False   \n",
              "1  26.6                     0.351   31        0             False    False   \n",
              "2  23.3                     0.672   32        1              True    False   \n",
              "3  28.1                     0.167   21        0             False     True   \n",
              "4  43.1                     2.288   33        1             False    False   \n",
              "\n",
              "   Age_middle  Age_high  Insulin_nan  Insulin_log  low_glu_insulin  \n",
              "0        True     False        169.5     5.138735            False  \n",
              "1        True     False        102.5     4.639572             True  \n",
              "2        True     False        169.5     5.138735            False  \n",
              "3       False     False         94.0     4.553877             True  \n",
              "4        True     False        168.0     5.129899            False  "
            ]
          },
          "execution_count": 372,
          "metadata": {},
          "output_type": "execute_result"
        }
      ],
      "source": [
        "pd.read_csv(\"data/diabetes_feature.csv\").head()"
      ]
    },
    {
      "cell_type": "code",
      "execution_count": null,
      "id": "e2845782",
      "metadata": {
        "id": "e2845782"
      },
      "outputs": [],
      "source": [
        "df.to_csv(\"data/diabetes_feature.csv\",index=False)"
      ]
    },
    {
      "cell_type": "code",
      "execution_count": null,
      "id": "62f90704",
      "metadata": {
        "id": "62f90704",
        "outputId": "6f34f8c8-a92e-403e-a210-b926ec2cfed9"
      },
      "outputs": [
        {
          "data": {
            "text/html": [
              "<div>\n",
              "<style scoped>\n",
              "    .dataframe tbody tr th:only-of-type {\n",
              "        vertical-align: middle;\n",
              "    }\n",
              "\n",
              "    .dataframe tbody tr th {\n",
              "        vertical-align: top;\n",
              "    }\n",
              "\n",
              "    .dataframe thead th {\n",
              "        text-align: right;\n",
              "    }\n",
              "</style>\n",
              "<table border=\"1\" class=\"dataframe\">\n",
              "  <thead>\n",
              "    <tr style=\"text-align: right;\">\n",
              "      <th></th>\n",
              "      <th>Pregnancies</th>\n",
              "      <th>Glucose</th>\n",
              "      <th>BloodPressure</th>\n",
              "      <th>SkinThickness</th>\n",
              "      <th>Insulin</th>\n",
              "      <th>BMI</th>\n",
              "      <th>DiabetesPedigreeFunction</th>\n",
              "      <th>Age</th>\n",
              "      <th>Outcome</th>\n",
              "      <th>Pregnancies_high</th>\n",
              "      <th>Age_low</th>\n",
              "      <th>Age_middle</th>\n",
              "      <th>Age_high</th>\n",
              "      <th>Insulin_nan</th>\n",
              "      <th>Insulin_log</th>\n",
              "      <th>low_glu_insulin</th>\n",
              "    </tr>\n",
              "  </thead>\n",
              "  <tbody>\n",
              "    <tr>\n",
              "      <th>0</th>\n",
              "      <td>6</td>\n",
              "      <td>148</td>\n",
              "      <td>72</td>\n",
              "      <td>35</td>\n",
              "      <td>0</td>\n",
              "      <td>33.6</td>\n",
              "      <td>0.627</td>\n",
              "      <td>50</td>\n",
              "      <td>1</td>\n",
              "      <td>False</td>\n",
              "      <td>False</td>\n",
              "      <td>True</td>\n",
              "      <td>False</td>\n",
              "      <td>169.5</td>\n",
              "      <td>5.138735</td>\n",
              "      <td>False</td>\n",
              "    </tr>\n",
              "    <tr>\n",
              "      <th>1</th>\n",
              "      <td>1</td>\n",
              "      <td>85</td>\n",
              "      <td>66</td>\n",
              "      <td>29</td>\n",
              "      <td>0</td>\n",
              "      <td>26.6</td>\n",
              "      <td>0.351</td>\n",
              "      <td>31</td>\n",
              "      <td>0</td>\n",
              "      <td>False</td>\n",
              "      <td>False</td>\n",
              "      <td>True</td>\n",
              "      <td>False</td>\n",
              "      <td>102.5</td>\n",
              "      <td>4.639572</td>\n",
              "      <td>True</td>\n",
              "    </tr>\n",
              "    <tr>\n",
              "      <th>2</th>\n",
              "      <td>8</td>\n",
              "      <td>183</td>\n",
              "      <td>64</td>\n",
              "      <td>0</td>\n",
              "      <td>0</td>\n",
              "      <td>23.3</td>\n",
              "      <td>0.672</td>\n",
              "      <td>32</td>\n",
              "      <td>1</td>\n",
              "      <td>True</td>\n",
              "      <td>False</td>\n",
              "      <td>True</td>\n",
              "      <td>False</td>\n",
              "      <td>169.5</td>\n",
              "      <td>5.138735</td>\n",
              "      <td>False</td>\n",
              "    </tr>\n",
              "    <tr>\n",
              "      <th>3</th>\n",
              "      <td>1</td>\n",
              "      <td>89</td>\n",
              "      <td>66</td>\n",
              "      <td>23</td>\n",
              "      <td>94</td>\n",
              "      <td>28.1</td>\n",
              "      <td>0.167</td>\n",
              "      <td>21</td>\n",
              "      <td>0</td>\n",
              "      <td>False</td>\n",
              "      <td>True</td>\n",
              "      <td>False</td>\n",
              "      <td>False</td>\n",
              "      <td>94.0</td>\n",
              "      <td>4.553877</td>\n",
              "      <td>True</td>\n",
              "    </tr>\n",
              "    <tr>\n",
              "      <th>4</th>\n",
              "      <td>0</td>\n",
              "      <td>137</td>\n",
              "      <td>40</td>\n",
              "      <td>35</td>\n",
              "      <td>168</td>\n",
              "      <td>43.1</td>\n",
              "      <td>2.288</td>\n",
              "      <td>33</td>\n",
              "      <td>1</td>\n",
              "      <td>False</td>\n",
              "      <td>False</td>\n",
              "      <td>True</td>\n",
              "      <td>False</td>\n",
              "      <td>168.0</td>\n",
              "      <td>5.129899</td>\n",
              "      <td>False</td>\n",
              "    </tr>\n",
              "  </tbody>\n",
              "</table>\n",
              "</div>"
            ],
            "text/plain": [
              "   Pregnancies  Glucose  BloodPressure  SkinThickness  Insulin   BMI  \\\n",
              "0            6      148             72             35        0  33.6   \n",
              "1            1       85             66             29        0  26.6   \n",
              "2            8      183             64              0        0  23.3   \n",
              "3            1       89             66             23       94  28.1   \n",
              "4            0      137             40             35      168  43.1   \n",
              "\n",
              "   DiabetesPedigreeFunction  Age  Outcome  Pregnancies_high  Age_low  \\\n",
              "0                     0.627   50        1             False    False   \n",
              "1                     0.351   31        0             False    False   \n",
              "2                     0.672   32        1              True    False   \n",
              "3                     0.167   21        0             False     True   \n",
              "4                     2.288   33        1             False    False   \n",
              "\n",
              "   Age_middle  Age_high  Insulin_nan  Insulin_log  low_glu_insulin  \n",
              "0        True     False        169.5     5.138735            False  \n",
              "1        True     False        102.5     4.639572             True  \n",
              "2        True     False        169.5     5.138735            False  \n",
              "3       False     False         94.0     4.553877             True  \n",
              "4        True     False        168.0     5.129899            False  "
            ]
          },
          "execution_count": 374,
          "metadata": {},
          "output_type": "execute_result"
        }
      ],
      "source": [
        "pd.read_csv(\"data/diabetes_feature.csv\").head()"
      ]
    },
    {
      "cell_type": "markdown",
      "id": "d39f4ff2",
      "metadata": {
        "id": "d39f4ff2"
      },
      "source": [
        "## 학습, 예측 데이터셋 나누기"
      ]
    },
    {
      "cell_type": "code",
      "execution_count": null,
      "id": "8cc85cd7",
      "metadata": {
        "id": "8cc85cd7",
        "outputId": "f9ffbf0a-bf95-4c13-995f-4bd962aceef5"
      },
      "outputs": [
        {
          "data": {
            "text/plain": [
              "614"
            ]
          },
          "execution_count": 312,
          "metadata": {},
          "output_type": "execute_result"
        }
      ],
      "source": [
        "split_count = int(df.shape[0] * 0.8)\n",
        "split_count"
      ]
    },
    {
      "cell_type": "code",
      "execution_count": null,
      "id": "22cd3ebc",
      "metadata": {
        "id": "22cd3ebc",
        "outputId": "7d27bf58-22ba-46bf-a87d-5bdd99b39c5a"
      },
      "outputs": [
        {
          "data": {
            "text/plain": [
              "(614, 16)"
            ]
          },
          "execution_count": 313,
          "metadata": {},
          "output_type": "execute_result"
        }
      ],
      "source": [
        "train = df[:split_count].copy()\n",
        "train.shape"
      ]
    },
    {
      "cell_type": "code",
      "execution_count": null,
      "id": "612c680e",
      "metadata": {
        "id": "612c680e",
        "outputId": "2977c8c6-3986-404f-fda1-d54cedbdb4f6"
      },
      "outputs": [
        {
          "data": {
            "text/plain": [
              "(610, 16)"
            ]
          },
          "execution_count": 314,
          "metadata": {},
          "output_type": "execute_result"
        }
      ],
      "source": [
        "train[train[\"Insulin_nan\"] < 600].shape"
      ]
    },
    {
      "cell_type": "code",
      "execution_count": null,
      "id": "416758b3",
      "metadata": {
        "id": "416758b3",
        "outputId": "fae09926-738b-4494-b552-86d023eef55c"
      },
      "outputs": [
        {
          "data": {
            "text/plain": [
              "(610, 16)"
            ]
          },
          "execution_count": 315,
          "metadata": {},
          "output_type": "execute_result"
        }
      ],
      "source": [
        "train2 = train[train[\"Insulin_nan\"] < 600]\n",
        "train2.shape"
      ]
    },
    {
      "cell_type": "code",
      "execution_count": null,
      "id": "e88718c1",
      "metadata": {
        "id": "e88718c1",
        "outputId": "7126bbaa-7b4a-4955-98e7-c381c33a0cd7"
      },
      "outputs": [
        {
          "data": {
            "text/plain": [
              "(154, 16)"
            ]
          },
          "execution_count": 316,
          "metadata": {},
          "output_type": "execute_result"
        }
      ],
      "source": [
        "test = df[split_count:].copy()\n",
        "test.shape"
      ]
    },
    {
      "cell_type": "markdown",
      "id": "394971b4",
      "metadata": {
        "id": "394971b4"
      },
      "source": [
        "## 학습, 예측에 사용할 컬럼"
      ]
    },
    {
      "cell_type": "code",
      "execution_count": null,
      "id": "3c50a74a",
      "metadata": {
        "id": "3c50a74a",
        "outputId": "0fd383c2-ab57-4e42-c700-d157ea4a88fb"
      },
      "outputs": [
        {
          "data": {
            "text/plain": [
              "['Glucose',\n",
              " 'BloodPressure',\n",
              " 'SkinThickness',\n",
              " 'BMI',\n",
              " 'DiabetesPedigreeFunction',\n",
              " 'Age',\n",
              " 'Pregnancies_high',\n",
              " 'Insulin_nan',\n",
              " 'low_glu_insulin']"
            ]
          },
          "execution_count": 317,
          "metadata": {},
          "output_type": "execute_result"
        }
      ],
      "source": [
        "# feature_names 라는 변수에 학습과 예측에 사용할 컬럼명을 가져오기\n",
        "feature_names = train.columns.tolist()\n",
        "feature_names.remove(\"Pregnancies\")\n",
        "feature_names.remove(\"Outcome\")\n",
        "feature_names.remove(\"Age_low\")\n",
        "feature_names.remove(\"Age_middle\")\n",
        "feature_names.remove(\"Age_high\")\n",
        "feature_names.remove(\"Insulin\")\n",
        "feature_names.remove(\"Insulin_log\")\n",
        "feature_names"
      ]
    },
    {
      "cell_type": "markdown",
      "id": "98703884",
      "metadata": {
        "id": "98703884"
      },
      "source": [
        "## 정답값이자 예측해야 될 값"
      ]
    },
    {
      "cell_type": "code",
      "execution_count": null,
      "id": "d56f8be7",
      "metadata": {
        "id": "d56f8be7",
        "outputId": "aee66613-7313-4f50-d94d-f1f9ec1623f9"
      },
      "outputs": [
        {
          "data": {
            "text/plain": [
              "'Outcome'"
            ]
          },
          "execution_count": 318,
          "metadata": {},
          "output_type": "execute_result"
        }
      ],
      "source": [
        "# label_name 이라는 변수에 예측할 컬럼의 이름을 담습니다.\n",
        "label_name = \"Outcome\"\n",
        "label_name"
      ]
    },
    {
      "cell_type": "markdown",
      "id": "f0919b9b",
      "metadata": {
        "id": "f0919b9b"
      },
      "source": [
        "## 학습, 예측 데이터셋 만들기"
      ]
    },
    {
      "cell_type": "code",
      "execution_count": null,
      "id": "754aa4c9",
      "metadata": {
        "id": "754aa4c9"
      },
      "outputs": [],
      "source": [
        "# 학습 세트 만들기 ex.시험의 기출문제\n",
        "# X_train = train[feature_names]\n",
        "# print(X_train.shape)\n",
        "# X_train.head()"
      ]
    },
    {
      "cell_type": "code",
      "execution_count": null,
      "id": "d61dd041",
      "metadata": {
        "id": "d61dd041",
        "outputId": "164c20a9-229a-4d0e-b6f2-f243cfb7dee1"
      },
      "outputs": [
        {
          "name": "stdout",
          "output_type": "stream",
          "text": [
            "(610, 9)\n"
          ]
        },
        {
          "data": {
            "text/html": [
              "<div>\n",
              "<style scoped>\n",
              "    .dataframe tbody tr th:only-of-type {\n",
              "        vertical-align: middle;\n",
              "    }\n",
              "\n",
              "    .dataframe tbody tr th {\n",
              "        vertical-align: top;\n",
              "    }\n",
              "\n",
              "    .dataframe thead th {\n",
              "        text-align: right;\n",
              "    }\n",
              "</style>\n",
              "<table border=\"1\" class=\"dataframe\">\n",
              "  <thead>\n",
              "    <tr style=\"text-align: right;\">\n",
              "      <th></th>\n",
              "      <th>Glucose</th>\n",
              "      <th>BloodPressure</th>\n",
              "      <th>SkinThickness</th>\n",
              "      <th>BMI</th>\n",
              "      <th>DiabetesPedigreeFunction</th>\n",
              "      <th>Age</th>\n",
              "      <th>Pregnancies_high</th>\n",
              "      <th>Insulin_nan</th>\n",
              "      <th>low_glu_insulin</th>\n",
              "    </tr>\n",
              "  </thead>\n",
              "  <tbody>\n",
              "    <tr>\n",
              "      <th>0</th>\n",
              "      <td>0.848324</td>\n",
              "      <td>72</td>\n",
              "      <td>35</td>\n",
              "      <td>33.6</td>\n",
              "      <td>0.468492</td>\n",
              "      <td>50</td>\n",
              "      <td>False</td>\n",
              "      <td>206.0</td>\n",
              "      <td>False</td>\n",
              "    </tr>\n",
              "    <tr>\n",
              "      <th>1</th>\n",
              "      <td>-1.123396</td>\n",
              "      <td>66</td>\n",
              "      <td>29</td>\n",
              "      <td>26.6</td>\n",
              "      <td>-0.365061</td>\n",
              "      <td>31</td>\n",
              "      <td>False</td>\n",
              "      <td>130.0</td>\n",
              "      <td>False</td>\n",
              "    </tr>\n",
              "    <tr>\n",
              "      <th>2</th>\n",
              "      <td>1.943724</td>\n",
              "      <td>64</td>\n",
              "      <td>0</td>\n",
              "      <td>23.3</td>\n",
              "      <td>0.604397</td>\n",
              "      <td>32</td>\n",
              "      <td>True</td>\n",
              "      <td>206.0</td>\n",
              "      <td>False</td>\n",
              "    </tr>\n",
              "    <tr>\n",
              "      <th>3</th>\n",
              "      <td>-0.998208</td>\n",
              "      <td>66</td>\n",
              "      <td>23</td>\n",
              "      <td>28.1</td>\n",
              "      <td>-0.920763</td>\n",
              "      <td>21</td>\n",
              "      <td>False</td>\n",
              "      <td>94.0</td>\n",
              "      <td>True</td>\n",
              "    </tr>\n",
              "    <tr>\n",
              "      <th>4</th>\n",
              "      <td>0.504055</td>\n",
              "      <td>40</td>\n",
              "      <td>35</td>\n",
              "      <td>43.1</td>\n",
              "      <td>5.484909</td>\n",
              "      <td>33</td>\n",
              "      <td>False</td>\n",
              "      <td>168.0</td>\n",
              "      <td>False</td>\n",
              "    </tr>\n",
              "  </tbody>\n",
              "</table>\n",
              "</div>"
            ],
            "text/plain": [
              "    Glucose  BloodPressure  SkinThickness   BMI  DiabetesPedigreeFunction  \\\n",
              "0  0.848324             72             35  33.6                  0.468492   \n",
              "1 -1.123396             66             29  26.6                 -0.365061   \n",
              "2  1.943724             64              0  23.3                  0.604397   \n",
              "3 -0.998208             66             23  28.1                 -0.920763   \n",
              "4  0.504055             40             35  43.1                  5.484909   \n",
              "\n",
              "   Age  Pregnancies_high  Insulin_nan  low_glu_insulin  \n",
              "0   50             False        206.0            False  \n",
              "1   31             False        130.0            False  \n",
              "2   32              True        206.0            False  \n",
              "3   21             False         94.0             True  \n",
              "4   33             False        168.0            False  "
            ]
          },
          "execution_count": 320,
          "metadata": {},
          "output_type": "execute_result"
        }
      ],
      "source": [
        "X_train = train2[feature_names]\n",
        "print(X_train.shape)\n",
        "X_train.head()"
      ]
    },
    {
      "cell_type": "code",
      "execution_count": null,
      "id": "86408c42",
      "metadata": {
        "id": "86408c42"
      },
      "outputs": [],
      "source": [
        "# 정답 값 ex.기출문제의 정답\n",
        "# y_train = train[label_name]\n",
        "# print(y_train.shape)\n",
        "# y_train.head()"
      ]
    },
    {
      "cell_type": "code",
      "execution_count": null,
      "id": "a41e8aa0",
      "metadata": {
        "id": "a41e8aa0",
        "outputId": "0324e959-af81-433f-b511-68cdec2a6973"
      },
      "outputs": [
        {
          "name": "stdout",
          "output_type": "stream",
          "text": [
            "(610,)\n"
          ]
        },
        {
          "data": {
            "text/plain": [
              "0    1\n",
              "1    0\n",
              "2    1\n",
              "3    0\n",
              "4    1\n",
              "Name: Outcome, dtype: int64"
            ]
          },
          "execution_count": 322,
          "metadata": {},
          "output_type": "execute_result"
        }
      ],
      "source": [
        "y_train = train2[label_name]\n",
        "print(y_train.shape)\n",
        "y_train.head()"
      ]
    },
    {
      "cell_type": "code",
      "execution_count": null,
      "id": "1ef69062",
      "metadata": {
        "id": "1ef69062",
        "outputId": "4ad3b329-ee29-445d-ed95-87c20f2f1651"
      },
      "outputs": [
        {
          "name": "stdout",
          "output_type": "stream",
          "text": [
            "(154, 9)\n"
          ]
        },
        {
          "data": {
            "text/html": [
              "<div>\n",
              "<style scoped>\n",
              "    .dataframe tbody tr th:only-of-type {\n",
              "        vertical-align: middle;\n",
              "    }\n",
              "\n",
              "    .dataframe tbody tr th {\n",
              "        vertical-align: top;\n",
              "    }\n",
              "\n",
              "    .dataframe thead th {\n",
              "        text-align: right;\n",
              "    }\n",
              "</style>\n",
              "<table border=\"1\" class=\"dataframe\">\n",
              "  <thead>\n",
              "    <tr style=\"text-align: right;\">\n",
              "      <th></th>\n",
              "      <th>Glucose</th>\n",
              "      <th>BloodPressure</th>\n",
              "      <th>SkinThickness</th>\n",
              "      <th>BMI</th>\n",
              "      <th>DiabetesPedigreeFunction</th>\n",
              "      <th>Age</th>\n",
              "      <th>Pregnancies_high</th>\n",
              "      <th>Insulin_nan</th>\n",
              "      <th>low_glu_insulin</th>\n",
              "    </tr>\n",
              "  </thead>\n",
              "  <tbody>\n",
              "    <tr>\n",
              "      <th>614</th>\n",
              "      <td>0.535352</td>\n",
              "      <td>74</td>\n",
              "      <td>26</td>\n",
              "      <td>36.1</td>\n",
              "      <td>0.257084</td>\n",
              "      <td>50</td>\n",
              "      <td>True</td>\n",
              "      <td>144.0</td>\n",
              "      <td>False</td>\n",
              "    </tr>\n",
              "    <tr>\n",
              "      <th>615</th>\n",
              "      <td>-0.466156</td>\n",
              "      <td>72</td>\n",
              "      <td>0</td>\n",
              "      <td>25.8</td>\n",
              "      <td>-0.799958</td>\n",
              "      <td>27</td>\n",
              "      <td>False</td>\n",
              "      <td>130.0</td>\n",
              "      <td>False</td>\n",
              "    </tr>\n",
              "    <tr>\n",
              "      <th>616</th>\n",
              "      <td>-0.121888</td>\n",
              "      <td>96</td>\n",
              "      <td>0</td>\n",
              "      <td>28.7</td>\n",
              "      <td>-0.950964</td>\n",
              "      <td>30</td>\n",
              "      <td>False</td>\n",
              "      <td>130.0</td>\n",
              "      <td>False</td>\n",
              "    </tr>\n",
              "    <tr>\n",
              "      <th>617</th>\n",
              "      <td>-1.655448</td>\n",
              "      <td>62</td>\n",
              "      <td>13</td>\n",
              "      <td>20.1</td>\n",
              "      <td>-0.648952</td>\n",
              "      <td>23</td>\n",
              "      <td>False</td>\n",
              "      <td>15.0</td>\n",
              "      <td>True</td>\n",
              "    </tr>\n",
              "    <tr>\n",
              "      <th>618</th>\n",
              "      <td>-0.278373</td>\n",
              "      <td>82</td>\n",
              "      <td>24</td>\n",
              "      <td>28.2</td>\n",
              "      <td>2.446670</td>\n",
              "      <td>50</td>\n",
              "      <td>True</td>\n",
              "      <td>206.0</td>\n",
              "      <td>False</td>\n",
              "    </tr>\n",
              "  </tbody>\n",
              "</table>\n",
              "</div>"
            ],
            "text/plain": [
              "      Glucose  BloodPressure  SkinThickness   BMI  DiabetesPedigreeFunction  \\\n",
              "614  0.535352             74             26  36.1                  0.257084   \n",
              "615 -0.466156             72              0  25.8                 -0.799958   \n",
              "616 -0.121888             96              0  28.7                 -0.950964   \n",
              "617 -1.655448             62             13  20.1                 -0.648952   \n",
              "618 -0.278373             82             24  28.2                  2.446670   \n",
              "\n",
              "     Age  Pregnancies_high  Insulin_nan  low_glu_insulin  \n",
              "614   50              True        144.0            False  \n",
              "615   27             False        130.0            False  \n",
              "616   30             False        130.0            False  \n",
              "617   23             False         15.0             True  \n",
              "618   50              True        206.0            False  "
            ]
          },
          "execution_count": 323,
          "metadata": {},
          "output_type": "execute_result"
        }
      ],
      "source": [
        "# 예측에 사용할 데이터셋 만들기 ex.실전 시험 문제\n",
        "X_test = test[feature_names]\n",
        "print(X_test.shape)\n",
        "X_test.head()"
      ]
    },
    {
      "cell_type": "code",
      "execution_count": null,
      "id": "ca3c7d2a",
      "metadata": {
        "id": "ca3c7d2a",
        "outputId": "b3e8a00d-0468-4195-9aaa-b04c9b7150c6"
      },
      "outputs": [
        {
          "name": "stdout",
          "output_type": "stream",
          "text": [
            "(154,)\n"
          ]
        },
        {
          "data": {
            "text/plain": [
              "614    1\n",
              "615    0\n",
              "616    0\n",
              "617    0\n",
              "618    1\n",
              "Name: Outcome, dtype: int64"
            ]
          },
          "execution_count": 324,
          "metadata": {},
          "output_type": "execute_result"
        }
      ],
      "source": [
        "# 예측의 정답값 ex.실전 시험 문제의 정답\n",
        "y_test = test[label_name]\n",
        "print(y_test.shape)\n",
        "y_test.head()"
      ]
    },
    {
      "cell_type": "markdown",
      "id": "f50c3106",
      "metadata": {
        "id": "f50c3106"
      },
      "source": [
        "## 머신러닝 알고리즘 가져오기"
      ]
    },
    {
      "cell_type": "code",
      "execution_count": null,
      "id": "7fd23208",
      "metadata": {
        "id": "7fd23208",
        "outputId": "d7f7c5e1-cc9f-4ec3-8a54-80ac10a6590c"
      },
      "outputs": [
        {
          "data": {
            "text/plain": [
              "DecisionTreeClassifier()"
            ]
          },
          "execution_count": 325,
          "metadata": {},
          "output_type": "execute_result"
        }
      ],
      "source": [
        "from sklearn.tree import DecisionTreeClassifier\n",
        "\n",
        "model = DecisionTreeClassifier()\n",
        "model"
      ]
    },
    {
      "cell_type": "markdown",
      "id": "c68f1704",
      "metadata": {
        "id": "c68f1704"
      },
      "source": [
        "## 학습(훈련)"
      ]
    },
    {
      "cell_type": "markdown",
      "id": "32edc937",
      "metadata": {
        "id": "32edc937"
      },
      "source": [
        "* 시험을 볼 때 기출문제와 정답을 보고 공부하는 과정과 유사\n",
        "- 기출문제 : X_train\n",
        "- 정답 : y_train"
      ]
    },
    {
      "cell_type": "code",
      "execution_count": null,
      "id": "b47550db",
      "metadata": {
        "id": "b47550db",
        "outputId": "100a9f31-f4fb-4b1b-8b61-0b345c0039cb"
      },
      "outputs": [
        {
          "data": {
            "text/plain": [
              "DecisionTreeClassifier()"
            ]
          },
          "execution_count": 326,
          "metadata": {},
          "output_type": "execute_result"
        }
      ],
      "source": [
        "model.fit(X_train, y_train)"
      ]
    },
    {
      "cell_type": "markdown",
      "id": "6a6a1d66",
      "metadata": {
        "id": "6a6a1d66"
      },
      "source": [
        "## 예측"
      ]
    },
    {
      "cell_type": "markdown",
      "id": "e84f302d",
      "metadata": {
        "id": "e84f302d"
      },
      "source": [
        "- 실전 시험문제(X_test)를 가지고 정답을 직접 예측"
      ]
    },
    {
      "cell_type": "code",
      "execution_count": null,
      "id": "ec23eb5f",
      "metadata": {
        "id": "ec23eb5f",
        "outputId": "39531cde-d2d7-433a-bfd9-34f18cef5940"
      },
      "outputs": [
        {
          "data": {
            "text/plain": [
              "array([1, 0, 0, 0, 1])"
            ]
          },
          "execution_count": 327,
          "metadata": {},
          "output_type": "execute_result"
        }
      ],
      "source": [
        "y_predict = model.predict(X_test)\n",
        "y_predict[:5]"
      ]
    },
    {
      "cell_type": "markdown",
      "id": "04f6d5d8",
      "metadata": {
        "id": "04f6d5d8"
      },
      "source": [
        "## 트리 알고리즘 분석하기"
      ]
    },
    {
      "cell_type": "markdown",
      "id": "be1ce17a",
      "metadata": {
        "id": "be1ce17a"
      },
      "source": [
        "* 의사결정나무를 시각화"
      ]
    },
    {
      "cell_type": "code",
      "execution_count": null,
      "id": "aa393012",
      "metadata": {
        "id": "aa393012",
        "outputId": "ae9cee05-bd37-48de-e2d9-b1913c131570"
      },
      "outputs": [
        {
          "data": {
            "image/png": "[encoded data removed]",
            "text/plain": [
              "<Figure size 1440x1440 with 1 Axes>"
            ]
          },
          "metadata": {
            "needs_background": "light"
          },
          "output_type": "display_data"
        }
      ],
      "source": [
        "from sklearn.tree import plot_tree\n",
        "\n",
        "plt.figure(figsize=(20,20))\n",
        "tree = plot_tree(model,\n",
        "                 feature_names=feature_names,\n",
        "                 filled=True,\n",
        "                 fontsize=10)"
      ]
    },
    {
      "cell_type": "code",
      "execution_count": null,
      "id": "d206f354",
      "metadata": {
        "id": "d206f354",
        "outputId": "74f1323b-ba61-4f14-d890-77279f97b5a8"
      },
      "outputs": [
        {
          "data": {
            "image/svg+xml": [
              "<?xml version=\"1.0\" encoding=\"UTF-8\" standalone=\"no\"?>\n",
              "<!DOCTYPE svg PUBLIC \"-//W3C//DTD SVG 1.1//EN\"\n",
              " \"http://www.w3.org/Graphics/SVG/1.1/DTD/svg11.dtd\">\n",
              "<!-- Generated by graphviz version 2.40.1 (20161225.0304)\n",
              " -->\n",
              "<!-- Title: Tree Pages: 1 -->\n",
              "<svg width=\"3330pt\" height=\"1205pt\"\n",
              " viewBox=\"0.00 0.00 3329.50 1205.00\" xmlns=\"http://www.w3.org/2000/svg\" xmlns:xlink=\"http://www.w3.org/1999/xlink\">\n",
              "<g id=\"graph0\" class=\"graph\" transform=\"scale(1 1) rotate(0) translate(4 1201)\">\n",
              "<title>Tree</title>\n",
              "<polygon fill=\"#ffffff\" stroke=\"transparent\" points=\"-4,4 -4,-1201 3325.5,-1201 3325.5,4 -4,4\"/>\n",
              "<!-- 0 -->\n",
              "<g id=\"node1\" class=\"node\">\n",
              "<title>0</title>\n",
              "<polygon fill=\"#f3c4a2\" stroke=\"#000000\" points=\"2036,-1197 1899,-1197 1899,-1129 2036,-1129 2036,-1197\"/>\n",
              "<text text-anchor=\"middle\" x=\"1967.5\" y=\"-1181.8\" font-family=\"Times,serif\" font-size=\"14.00\" fill=\"#000000\">Insulin_nan &lt;= 143.5</text>\n",
              "<text text-anchor=\"middle\" x=\"1967.5\" y=\"-1166.8\" font-family=\"Times,serif\" font-size=\"14.00\" fill=\"#000000\">gini = 0.453</text>\n",
              "<text text-anchor=\"middle\" x=\"1967.5\" y=\"-1151.8\" font-family=\"Times,serif\" font-size=\"14.00\" fill=\"#000000\">samples = 610</text>\n",
              "<text text-anchor=\"middle\" x=\"1967.5\" y=\"-1136.8\" font-family=\"Times,serif\" font-size=\"14.00\" fill=\"#000000\">value = [399, 211]</text>\n",
              "</g>\n",
              "<!-- 1 -->\n",
              "<g id=\"node2\" class=\"node\">\n",
              "<title>1</title>\n",
              "<polygon fill=\"#e88d4c\" stroke=\"#000000\" points=\"1957,-1093 1844,-1093 1844,-1025 1957,-1025 1957,-1093\"/>\n",
              "<text text-anchor=\"middle\" x=\"1900.5\" y=\"-1077.8\" font-family=\"Times,serif\" font-size=\"14.00\" fill=\"#000000\">BMI &lt;= 50.0</text>\n",
              "<text text-anchor=\"middle\" x=\"1900.5\" y=\"-1062.8\" font-family=\"Times,serif\" font-size=\"14.00\" fill=\"#000000\">gini = 0.163</text>\n",
              "<text text-anchor=\"middle\" x=\"1900.5\" y=\"-1047.8\" font-family=\"Times,serif\" font-size=\"14.00\" fill=\"#000000\">samples = 380</text>\n",
              "<text text-anchor=\"middle\" x=\"1900.5\" y=\"-1032.8\" font-family=\"Times,serif\" font-size=\"14.00\" fill=\"#000000\">value = [346, 34]</text>\n",
              "</g>\n",
              "<!-- 0&#45;&gt;1 -->\n",
              "<g id=\"edge1\" class=\"edge\">\n",
              "<title>0&#45;&gt;1</title>\n",
              "<path fill=\"none\" stroke=\"#000000\" d=\"M1945.5617,-1128.9465C1939.951,-1120.2373 1933.8471,-1110.7626 1927.9958,-1101.6801\"/>\n",
              "<polygon fill=\"#000000\" stroke=\"#000000\" points=\"1930.8457,-1099.641 1922.4876,-1093.13 1924.9611,-1103.4321 1930.8457,-1099.641\"/>\n",
              "<text text-anchor=\"middle\" x=\"1917.2006\" y=\"-1113.8646\" font-family=\"Times,serif\" font-size=\"14.00\" fill=\"#000000\">True</text>\n",
              "</g>\n",
              "<!-- 64 -->\n",
              "<g id=\"node65\" class=\"node\">\n",
              "<title>64</title>\n",
              "<polygon fill=\"#74baed\" stroke=\"#000000\" points=\"2521,-1093 2408,-1093 2408,-1025 2521,-1025 2521,-1093\"/>\n",
              "<text text-anchor=\"middle\" x=\"2464.5\" y=\"-1077.8\" font-family=\"Times,serif\" font-size=\"14.00\" fill=\"#000000\">Age &lt;= 27.5</text>\n",
              "<text text-anchor=\"middle\" x=\"2464.5\" y=\"-1062.8\" font-family=\"Times,serif\" font-size=\"14.00\" fill=\"#000000\">gini = 0.355</text>\n",
              "<text text-anchor=\"middle\" x=\"2464.5\" y=\"-1047.8\" font-family=\"Times,serif\" font-size=\"14.00\" fill=\"#000000\">samples = 230</text>\n",
              "<text text-anchor=\"middle\" x=\"2464.5\" y=\"-1032.8\" font-family=\"Times,serif\" font-size=\"14.00\" fill=\"#000000\">value = [53, 177]</text>\n",
              "</g>\n",
              "<!-- 0&#45;&gt;64 -->\n",
              "<g id=\"edge64\" class=\"edge\">\n",
              "<title>0&#45;&gt;64</title>\n",
              "<path fill=\"none\" stroke=\"#000000\" d=\"M2036.0839,-1148.6484C2131.5325,-1128.6753 2303.3085,-1092.7302 2397.7616,-1072.9654\"/>\n",
              "<polygon fill=\"#000000\" stroke=\"#000000\" points=\"2398.6999,-1076.3449 2407.771,-1070.8709 2397.2661,-1069.4933 2398.6999,-1076.3449\"/>\n",
              "<text text-anchor=\"middle\" x=\"2394.0889\" y=\"-1088.0945\" font-family=\"Times,serif\" font-size=\"14.00\" fill=\"#000000\">False</text>\n",
              "</g>\n",
              "<!-- 2 -->\n",
              "<g id=\"node3\" class=\"node\">\n",
              "<title>2</title>\n",
              "<polygon fill=\"#e78c4a\" stroke=\"#000000\" points=\"1429,-989 1312,-989 1312,-921 1429,-921 1429,-989\"/>\n",
              "<text text-anchor=\"middle\" x=\"1370.5\" y=\"-973.8\" font-family=\"Times,serif\" font-size=\"14.00\" fill=\"#000000\">Glucose &lt;= 0.113</text>\n",
              "<text text-anchor=\"middle\" x=\"1370.5\" y=\"-958.8\" font-family=\"Times,serif\" font-size=\"14.00\" fill=\"#000000\">gini = 0.147</text>\n",
              "<text text-anchor=\"middle\" x=\"1370.5\" y=\"-943.8\" font-family=\"Times,serif\" font-size=\"14.00\" fill=\"#000000\">samples = 376</text>\n",
              "<text text-anchor=\"middle\" x=\"1370.5\" y=\"-928.8\" font-family=\"Times,serif\" font-size=\"14.00\" fill=\"#000000\">value = [346, 30]</text>\n",
              "</g>\n",
              "<!-- 1&#45;&gt;2 -->\n",
              "<g id=\"edge2\" class=\"edge\">\n",
              "<title>1&#45;&gt;2</title>\n",
              "<path fill=\"none\" stroke=\"#000000\" d=\"M1843.7807,-1047.8702C1745.7346,-1028.6309 1544.9289,-989.2276 1439.1607,-968.473\"/>\n",
              "<polygon fill=\"#000000\" stroke=\"#000000\" points=\"1439.7152,-965.0152 1429.2284,-966.5241 1438.3673,-971.8842 1439.7152,-965.0152\"/>\n",
              "</g>\n",
              "<!-- 63 -->\n",
              "<g id=\"node64\" class=\"node\">\n",
              "<title>63</title>\n",
              "<polygon fill=\"#399de5\" stroke=\"#000000\" points=\"1946.5,-981.5 1854.5,-981.5 1854.5,-928.5 1946.5,-928.5 1946.5,-981.5\"/>\n",
              "<text text-anchor=\"middle\" x=\"1900.5\" y=\"-966.3\" font-family=\"Times,serif\" font-size=\"14.00\" fill=\"#000000\">gini = 0.0</text>\n",
              "<text text-anchor=\"middle\" x=\"1900.5\" y=\"-951.3\" font-family=\"Times,serif\" font-size=\"14.00\" fill=\"#000000\">samples = 4</text>\n",
              "<text text-anchor=\"middle\" x=\"1900.5\" y=\"-936.3\" font-family=\"Times,serif\" font-size=\"14.00\" fill=\"#000000\">value = [0, 4]</text>\n",
              "</g>\n",
              "<!-- 1&#45;&gt;63 -->\n",
              "<g id=\"edge63\" class=\"edge\">\n",
              "<title>1&#45;&gt;63</title>\n",
              "<path fill=\"none\" stroke=\"#000000\" d=\"M1900.5,-1024.9465C1900.5,-1014.2621 1900.5,-1002.4254 1900.5,-991.5742\"/>\n",
              "<polygon fill=\"#000000\" stroke=\"#000000\" points=\"1904.0001,-991.5421 1900.5,-981.5422 1897.0001,-991.5422 1904.0001,-991.5421\"/>\n",
              "</g>\n",
              "<!-- 3 -->\n",
              "<g id=\"node4\" class=\"node\">\n",
              "<title>3</title>\n",
              "<polygon fill=\"#e68641\" stroke=\"#000000\" points=\"1236,-885 1099,-885 1099,-817 1236,-817 1236,-885\"/>\n",
              "<text text-anchor=\"middle\" x=\"1167.5\" y=\"-869.8\" font-family=\"Times,serif\" font-size=\"14.00\" fill=\"#000000\">Insulin_nan &lt;= 129.5</text>\n",
              "<text text-anchor=\"middle\" x=\"1167.5\" y=\"-854.8\" font-family=\"Times,serif\" font-size=\"14.00\" fill=\"#000000\">gini = 0.073</text>\n",
              "<text text-anchor=\"middle\" x=\"1167.5\" y=\"-839.8\" font-family=\"Times,serif\" font-size=\"14.00\" fill=\"#000000\">samples = 290</text>\n",
              "<text text-anchor=\"middle\" x=\"1167.5\" y=\"-824.8\" font-family=\"Times,serif\" font-size=\"14.00\" fill=\"#000000\">value = [279, 11]</text>\n",
              "</g>\n",
              "<!-- 2&#45;&gt;3 -->\n",
              "<g id=\"edge3\" class=\"edge\">\n",
              "<title>2&#45;&gt;3</title>\n",
              "<path fill=\"none\" stroke=\"#000000\" d=\"M1311.784,-924.9189C1290.2821,-913.9031 1265.6447,-901.281 1242.8866,-889.6217\"/>\n",
              "<polygon fill=\"#000000\" stroke=\"#000000\" points=\"1244.4306,-886.4801 1233.9347,-885.0355 1241.2388,-892.7102 1244.4306,-886.4801\"/>\n",
              "</g>\n",
              "<!-- 30 -->\n",
              "<g id=\"node31\" class=\"node\">\n",
              "<title>30</title>\n",
              "<polygon fill=\"#eca571\" stroke=\"#000000\" points=\"1443.5,-885 1297.5,-885 1297.5,-817 1443.5,-817 1443.5,-885\"/>\n",
              "<text text-anchor=\"middle\" x=\"1370.5\" y=\"-869.8\" font-family=\"Times,serif\" font-size=\"14.00\" fill=\"#000000\">SkinThickness &lt;= 16.0</text>\n",
              "<text text-anchor=\"middle\" x=\"1370.5\" y=\"-854.8\" font-family=\"Times,serif\" font-size=\"14.00\" fill=\"#000000\">gini = 0.344</text>\n",
              "<text text-anchor=\"middle\" x=\"1370.5\" y=\"-839.8\" font-family=\"Times,serif\" font-size=\"14.00\" fill=\"#000000\">samples = 86</text>\n",
              "<text text-anchor=\"middle\" x=\"1370.5\" y=\"-824.8\" font-family=\"Times,serif\" font-size=\"14.00\" fill=\"#000000\">value = [67, 19]</text>\n",
              "</g>\n",
              "<!-- 2&#45;&gt;30 -->\n",
              "<g id=\"edge30\" class=\"edge\">\n",
              "<title>2&#45;&gt;30</title>\n",
              "<path fill=\"none\" stroke=\"#000000\" d=\"M1370.5,-920.9465C1370.5,-912.776 1370.5,-903.9318 1370.5,-895.3697\"/>\n",
              "<polygon fill=\"#000000\" stroke=\"#000000\" points=\"1374.0001,-895.13 1370.5,-885.13 1367.0001,-895.13 1374.0001,-895.13\"/>\n",
              "</g>\n",
              "<!-- 4 -->\n",
              "<g id=\"node5\" class=\"node\">\n",
              "<title>4</title>\n",
              "<polygon fill=\"#e78c4a\" stroke=\"#000000\" points=\"854,-781 717,-781 717,-713 854,-713 854,-781\"/>\n",
              "<text text-anchor=\"middle\" x=\"785.5\" y=\"-765.8\" font-family=\"Times,serif\" font-size=\"14.00\" fill=\"#000000\">Insulin_nan &lt;= 127.5</text>\n",
              "<text text-anchor=\"middle\" x=\"785.5\" y=\"-750.8\" font-family=\"Times,serif\" font-size=\"14.00\" fill=\"#000000\">gini = 0.148</text>\n",
              "<text text-anchor=\"middle\" x=\"785.5\" y=\"-735.8\" font-family=\"Times,serif\" font-size=\"14.00\" fill=\"#000000\">samples = 137</text>\n",
              "<text text-anchor=\"middle\" x=\"785.5\" y=\"-720.8\" font-family=\"Times,serif\" font-size=\"14.00\" fill=\"#000000\">value = [126, 11]</text>\n",
              "</g>\n",
              "<!-- 3&#45;&gt;4 -->\n",
              "<g id=\"edge4\" class=\"edge\">\n",
              "<title>3&#45;&gt;4</title>\n",
              "<path fill=\"none\" stroke=\"#000000\" d=\"M1098.7649,-832.2868C1032.7375,-814.3107 933.0805,-787.179 863.9716,-768.364\"/>\n",
              "<polygon fill=\"#000000\" stroke=\"#000000\" points=\"864.5727,-764.9003 854.0045,-765.6504 862.7339,-771.6545 864.5727,-764.9003\"/>\n",
              "</g>\n",
              "<!-- 29 -->\n",
              "<g id=\"node30\" class=\"node\">\n",
              "<title>29</title>\n",
              "<polygon fill=\"#e58139\" stroke=\"#000000\" points=\"1220.5,-773.5 1114.5,-773.5 1114.5,-720.5 1220.5,-720.5 1220.5,-773.5\"/>\n",
              "<text text-anchor=\"middle\" x=\"1167.5\" y=\"-758.3\" font-family=\"Times,serif\" font-size=\"14.00\" fill=\"#000000\">gini = 0.0</text>\n",
              "<text text-anchor=\"middle\" x=\"1167.5\" y=\"-743.3\" font-family=\"Times,serif\" font-size=\"14.00\" fill=\"#000000\">samples = 153</text>\n",
              "<text text-anchor=\"middle\" x=\"1167.5\" y=\"-728.3\" font-family=\"Times,serif\" font-size=\"14.00\" fill=\"#000000\">value = [153, 0]</text>\n",
              "</g>\n",
              "<!-- 3&#45;&gt;29 -->\n",
              "<g id=\"edge29\" class=\"edge\">\n",
              "<title>3&#45;&gt;29</title>\n",
              "<path fill=\"none\" stroke=\"#000000\" d=\"M1167.5,-816.9465C1167.5,-806.2621 1167.5,-794.4254 1167.5,-783.5742\"/>\n",
              "<polygon fill=\"#000000\" stroke=\"#000000\" points=\"1171.0001,-783.5421 1167.5,-773.5422 1164.0001,-783.5422 1171.0001,-783.5421\"/>\n",
              "</g>\n",
              "<!-- 5 -->\n",
              "<g id=\"node6\" class=\"node\">\n",
              "<title>5</title>\n",
              "<polygon fill=\"#e78b49\" stroke=\"#000000\" points=\"611.5,-677 497.5,-677 497.5,-609 611.5,-609 611.5,-677\"/>\n",
              "<text text-anchor=\"middle\" x=\"554.5\" y=\"-661.8\" font-family=\"Times,serif\" font-size=\"14.00\" fill=\"#000000\">Glucose &lt;= &#45;0.67</text>\n",
              "<text text-anchor=\"middle\" x=\"554.5\" y=\"-646.8\" font-family=\"Times,serif\" font-size=\"14.00\" fill=\"#000000\">gini = 0.136</text>\n",
              "<text text-anchor=\"middle\" x=\"554.5\" y=\"-631.8\" font-family=\"Times,serif\" font-size=\"14.00\" fill=\"#000000\">samples = 136</text>\n",
              "<text text-anchor=\"middle\" x=\"554.5\" y=\"-616.8\" font-family=\"Times,serif\" font-size=\"14.00\" fill=\"#000000\">value = [126, 10]</text>\n",
              "</g>\n",
              "<!-- 4&#45;&gt;5 -->\n",
              "<g id=\"edge5\" class=\"edge\">\n",
              "<title>4&#45;&gt;5</title>\n",
              "<path fill=\"none\" stroke=\"#000000\" d=\"M716.8178,-716.0782C686.4455,-702.404 650.8739,-686.3891 620.784,-672.8422\"/>\n",
              "<polygon fill=\"#000000\" stroke=\"#000000\" points=\"622.1889,-669.6364 611.6336,-668.7225 619.3152,-676.0193 622.1889,-669.6364\"/>\n",
              "</g>\n",
              "<!-- 28 -->\n",
              "<g id=\"node29\" class=\"node\">\n",
              "<title>28</title>\n",
              "<polygon fill=\"#399de5\" stroke=\"#000000\" points=\"831.5,-669.5 739.5,-669.5 739.5,-616.5 831.5,-616.5 831.5,-669.5\"/>\n",
              "<text text-anchor=\"middle\" x=\"785.5\" y=\"-654.3\" font-family=\"Times,serif\" font-size=\"14.00\" fill=\"#000000\">gini = 0.0</text>\n",
              "<text text-anchor=\"middle\" x=\"785.5\" y=\"-639.3\" font-family=\"Times,serif\" font-size=\"14.00\" fill=\"#000000\">samples = 1</text>\n",
              "<text text-anchor=\"middle\" x=\"785.5\" y=\"-624.3\" font-family=\"Times,serif\" font-size=\"14.00\" fill=\"#000000\">value = [0, 1]</text>\n",
              "</g>\n",
              "<!-- 4&#45;&gt;28 -->\n",
              "<g id=\"edge28\" class=\"edge\">\n",
              "<title>4&#45;&gt;28</title>\n",
              "<path fill=\"none\" stroke=\"#000000\" d=\"M785.5,-712.9465C785.5,-702.2621 785.5,-690.4254 785.5,-679.5742\"/>\n",
              "<polygon fill=\"#000000\" stroke=\"#000000\" points=\"789.0001,-679.5421 785.5,-669.5422 782.0001,-679.5422 789.0001,-679.5421\"/>\n",
              "</g>\n",
              "<!-- 6 -->\n",
              "<g id=\"node7\" class=\"node\">\n",
              "<title>6</title>\n",
              "<polygon fill=\"#e6843e\" stroke=\"#000000\" points=\"420,-573 197,-573 197,-505 420,-505 420,-573\"/>\n",
              "<text text-anchor=\"middle\" x=\"308.5\" y=\"-557.8\" font-family=\"Times,serif\" font-size=\"14.00\" fill=\"#000000\">DiabetesPedigreeFunction &lt;= &#45;0.675</text>\n",
              "<text text-anchor=\"middle\" x=\"308.5\" y=\"-542.8\" font-family=\"Times,serif\" font-size=\"14.00\" fill=\"#000000\">gini = 0.047</text>\n",
              "<text text-anchor=\"middle\" x=\"308.5\" y=\"-527.8\" font-family=\"Times,serif\" font-size=\"14.00\" fill=\"#000000\">samples = 83</text>\n",
              "<text text-anchor=\"middle\" x=\"308.5\" y=\"-512.8\" font-family=\"Times,serif\" font-size=\"14.00\" fill=\"#000000\">value = [81, 2]</text>\n",
              "</g>\n",
              "<!-- 5&#45;&gt;6 -->\n",
              "<g id=\"edge6\" class=\"edge\">\n",
              "<title>5&#45;&gt;6</title>\n",
              "<path fill=\"none\" stroke=\"#000000\" d=\"M497.4443,-618.8789C467.9939,-606.4283 431.3824,-590.9503 398.2507,-576.9434\"/>\n",
              "<polygon fill=\"#000000\" stroke=\"#000000\" points=\"399.5807,-573.7058 389.007,-573.0355 396.8548,-580.1533 399.5807,-573.7058\"/>\n",
              "</g>\n",
              "<!-- 11 -->\n",
              "<g id=\"node12\" class=\"node\">\n",
              "<title>11</title>\n",
              "<polygon fill=\"#ea975c\" stroke=\"#000000\" points=\"664,-573 445,-573 445,-505 664,-505 664,-573\"/>\n",
              "<text text-anchor=\"middle\" x=\"554.5\" y=\"-557.8\" font-family=\"Times,serif\" font-size=\"14.00\" fill=\"#000000\">DiabetesPedigreeFunction &lt;= 0.097</text>\n",
              "<text text-anchor=\"middle\" x=\"554.5\" y=\"-542.8\" font-family=\"Times,serif\" font-size=\"14.00\" fill=\"#000000\">gini = 0.256</text>\n",
              "<text text-anchor=\"middle\" x=\"554.5\" y=\"-527.8\" font-family=\"Times,serif\" font-size=\"14.00\" fill=\"#000000\">samples = 53</text>\n",
              "<text text-anchor=\"middle\" x=\"554.5\" y=\"-512.8\" font-family=\"Times,serif\" font-size=\"14.00\" fill=\"#000000\">value = [45, 8]</text>\n",
              "</g>\n",
              "<!-- 5&#45;&gt;11 -->\n",
              "<g id=\"edge11\" class=\"edge\">\n",
              "<title>5&#45;&gt;11</title>\n",
              "<path fill=\"none\" stroke=\"#000000\" d=\"M554.5,-608.9465C554.5,-600.776 554.5,-591.9318 554.5,-583.3697\"/>\n",
              "<polygon fill=\"#000000\" stroke=\"#000000\" points=\"558.0001,-583.13 554.5,-573.13 551.0001,-583.13 558.0001,-583.13\"/>\n",
              "</g>\n",
              "<!-- 7 -->\n",
              "<g id=\"node8\" class=\"node\">\n",
              "<title>7</title>\n",
              "<polygon fill=\"#e99355\" stroke=\"#000000\" points=\"241,-469 18,-469 18,-401 241,-401 241,-469\"/>\n",
              "<text text-anchor=\"middle\" x=\"129.5\" y=\"-453.8\" font-family=\"Times,serif\" font-size=\"14.00\" fill=\"#000000\">DiabetesPedigreeFunction &lt;= &#45;0.697</text>\n",
              "<text text-anchor=\"middle\" x=\"129.5\" y=\"-438.8\" font-family=\"Times,serif\" font-size=\"14.00\" fill=\"#000000\">gini = 0.219</text>\n",
              "<text text-anchor=\"middle\" x=\"129.5\" y=\"-423.8\" font-family=\"Times,serif\" font-size=\"14.00\" fill=\"#000000\">samples = 16</text>\n",
              "<text text-anchor=\"middle\" x=\"129.5\" y=\"-408.8\" font-family=\"Times,serif\" font-size=\"14.00\" fill=\"#000000\">value = [14, 2]</text>\n",
              "</g>\n",
              "<!-- 6&#45;&gt;7 -->\n",
              "<g id=\"edge7\" class=\"edge\">\n",
              "<title>6&#45;&gt;7</title>\n",
              "<path fill=\"none\" stroke=\"#000000\" d=\"M249.8887,-504.9465C233.0445,-495.1599 214.5364,-484.4066 197.192,-474.3294\"/>\n",
              "<polygon fill=\"#000000\" stroke=\"#000000\" points=\"198.6478,-471.1274 188.243,-469.13 195.1312,-477.18 198.6478,-471.1274\"/>\n",
              "</g>\n",
              "<!-- 10 -->\n",
              "<g id=\"node11\" class=\"node\">\n",
              "<title>10</title>\n",
              "<polygon fill=\"#e58139\" stroke=\"#000000\" points=\"358,-461.5 259,-461.5 259,-408.5 358,-408.5 358,-461.5\"/>\n",
              "<text text-anchor=\"middle\" x=\"308.5\" y=\"-446.3\" font-family=\"Times,serif\" font-size=\"14.00\" fill=\"#000000\">gini = 0.0</text>\n",
              "<text text-anchor=\"middle\" x=\"308.5\" y=\"-431.3\" font-family=\"Times,serif\" font-size=\"14.00\" fill=\"#000000\">samples = 67</text>\n",
              "<text text-anchor=\"middle\" x=\"308.5\" y=\"-416.3\" font-family=\"Times,serif\" font-size=\"14.00\" fill=\"#000000\">value = [67, 0]</text>\n",
              "</g>\n",
              "<!-- 6&#45;&gt;10 -->\n",
              "<g id=\"edge10\" class=\"edge\">\n",
              "<title>6&#45;&gt;10</title>\n",
              "<path fill=\"none\" stroke=\"#000000\" d=\"M308.5,-504.9465C308.5,-494.2621 308.5,-482.4254 308.5,-471.5742\"/>\n",
              "<polygon fill=\"#000000\" stroke=\"#000000\" points=\"312.0001,-471.5421 308.5,-461.5422 305.0001,-471.5422 312.0001,-471.5421\"/>\n",
              "</g>\n",
              "<!-- 8 -->\n",
              "<g id=\"node9\" class=\"node\">\n",
              "<title>8</title>\n",
              "<polygon fill=\"#e58139\" stroke=\"#000000\" points=\"99,-357.5 0,-357.5 0,-304.5 99,-304.5 99,-357.5\"/>\n",
              "<text text-anchor=\"middle\" x=\"49.5\" y=\"-342.3\" font-family=\"Times,serif\" font-size=\"14.00\" fill=\"#000000\">gini = 0.0</text>\n",
              "<text text-anchor=\"middle\" x=\"49.5\" y=\"-327.3\" font-family=\"Times,serif\" font-size=\"14.00\" fill=\"#000000\">samples = 14</text>\n",
              "<text text-anchor=\"middle\" x=\"49.5\" y=\"-312.3\" font-family=\"Times,serif\" font-size=\"14.00\" fill=\"#000000\">value = [14, 0]</text>\n",
              "</g>\n",
              "<!-- 7&#45;&gt;8 -->\n",
              "<g id=\"edge8\" class=\"edge\">\n",
              "<title>7&#45;&gt;8</title>\n",
              "<path fill=\"none\" stroke=\"#000000\" d=\"M103.305,-400.9465C94.5778,-389.6012 84.8513,-376.9567 76.0941,-365.5724\"/>\n",
              "<polygon fill=\"#000000\" stroke=\"#000000\" points=\"78.7884,-363.3344 69.917,-357.5422 73.24,-367.6024 78.7884,-363.3344\"/>\n",
              "</g>\n",
              "<!-- 9 -->\n",
              "<g id=\"node10\" class=\"node\">\n",
              "<title>9</title>\n",
              "<polygon fill=\"#399de5\" stroke=\"#000000\" points=\"209.5,-357.5 117.5,-357.5 117.5,-304.5 209.5,-304.5 209.5,-357.5\"/>\n",
              "<text text-anchor=\"middle\" x=\"163.5\" y=\"-342.3\" font-family=\"Times,serif\" font-size=\"14.00\" fill=\"#000000\">gini = 0.0</text>\n",
              "<text text-anchor=\"middle\" x=\"163.5\" y=\"-327.3\" font-family=\"Times,serif\" font-size=\"14.00\" fill=\"#000000\">samples = 2</text>\n",
              "<text text-anchor=\"middle\" x=\"163.5\" y=\"-312.3\" font-family=\"Times,serif\" font-size=\"14.00\" fill=\"#000000\">value = [0, 2]</text>\n",
              "</g>\n",
              "<!-- 7&#45;&gt;9 -->\n",
              "<g id=\"edge9\" class=\"edge\">\n",
              "<title>7&#45;&gt;9</title>\n",
              "<path fill=\"none\" stroke=\"#000000\" d=\"M140.6329,-400.9465C144.1619,-390.1519 148.0754,-378.1813 151.6527,-367.2389\"/>\n",
              "<polygon fill=\"#000000\" stroke=\"#000000\" points=\"155.042,-368.1347 154.8228,-357.5422 148.3886,-365.9595 155.042,-368.1347\"/>\n",
              "</g>\n",
              "<!-- 12 -->\n",
              "<g id=\"node13\" class=\"node\">\n",
              "<title>12</title>\n",
              "<polygon fill=\"#e68540\" stroke=\"#000000\" points=\"475,-469 376,-469 376,-401 475,-401 475,-469\"/>\n",
              "<text text-anchor=\"middle\" x=\"425.5\" y=\"-453.8\" font-family=\"Times,serif\" font-size=\"14.00\" fill=\"#000000\">BMI &lt;= 45.35</text>\n",
              "<text text-anchor=\"middle\" x=\"425.5\" y=\"-438.8\" font-family=\"Times,serif\" font-size=\"14.00\" fill=\"#000000\">gini = 0.062</text>\n",
              "<text text-anchor=\"middle\" x=\"425.5\" y=\"-423.8\" font-family=\"Times,serif\" font-size=\"14.00\" fill=\"#000000\">samples = 31</text>\n",
              "<text text-anchor=\"middle\" x=\"425.5\" y=\"-408.8\" font-family=\"Times,serif\" font-size=\"14.00\" fill=\"#000000\">value = [30, 1]</text>\n",
              "</g>\n",
              "<!-- 11&#45;&gt;12 -->\n",
              "<g id=\"edge12\" class=\"edge\">\n",
              "<title>11&#45;&gt;12</title>\n",
              "<path fill=\"none\" stroke=\"#000000\" d=\"M512.2606,-504.9465C500.5669,-495.519 487.7606,-485.1946 475.663,-475.4415\"/>\n",
              "<polygon fill=\"#000000\" stroke=\"#000000\" points=\"477.8162,-472.6816 467.8343,-469.13 473.4227,-478.1312 477.8162,-472.6816\"/>\n",
              "</g>\n",
              "<!-- 15 -->\n",
              "<g id=\"node16\" class=\"node\">\n",
              "<title>15</title>\n",
              "<polygon fill=\"#f1bc95\" stroke=\"#000000\" points=\"608,-469 509,-469 509,-401 608,-401 608,-469\"/>\n",
              "<text text-anchor=\"middle\" x=\"558.5\" y=\"-453.8\" font-family=\"Times,serif\" font-size=\"14.00\" fill=\"#000000\">BMI &lt;= 32.65</text>\n",
              "<text text-anchor=\"middle\" x=\"558.5\" y=\"-438.8\" font-family=\"Times,serif\" font-size=\"14.00\" fill=\"#000000\">gini = 0.434</text>\n",
              "<text text-anchor=\"middle\" x=\"558.5\" y=\"-423.8\" font-family=\"Times,serif\" font-size=\"14.00\" fill=\"#000000\">samples = 22</text>\n",
              "<text text-anchor=\"middle\" x=\"558.5\" y=\"-408.8\" font-family=\"Times,serif\" font-size=\"14.00\" fill=\"#000000\">value = [15, 7]</text>\n",
              "</g>\n",
              "<!-- 11&#45;&gt;15 -->\n",
              "<g id=\"edge15\" class=\"edge\">\n",
              "<title>11&#45;&gt;15</title>\n",
              "<path fill=\"none\" stroke=\"#000000\" d=\"M555.8097,-504.9465C556.124,-496.776 556.4642,-487.9318 556.7935,-479.3697\"/>\n",
              "<polygon fill=\"#000000\" stroke=\"#000000\" points=\"560.3003,-479.2572 557.1873,-469.13 553.3055,-478.9881 560.3003,-479.2572\"/>\n",
              "</g>\n",
              "<!-- 13 -->\n",
              "<g id=\"node14\" class=\"node\">\n",
              "<title>13</title>\n",
              "<polygon fill=\"#e58139\" stroke=\"#000000\" points=\"357,-357.5 258,-357.5 258,-304.5 357,-304.5 357,-357.5\"/>\n",
              "<text text-anchor=\"middle\" x=\"307.5\" y=\"-342.3\" font-family=\"Times,serif\" font-size=\"14.00\" fill=\"#000000\">gini = 0.0</text>\n",
              "<text text-anchor=\"middle\" x=\"307.5\" y=\"-327.3\" font-family=\"Times,serif\" font-size=\"14.00\" fill=\"#000000\">samples = 30</text>\n",
              "<text text-anchor=\"middle\" x=\"307.5\" y=\"-312.3\" font-family=\"Times,serif\" font-size=\"14.00\" fill=\"#000000\">value = [30, 0]</text>\n",
              "</g>\n",
              "<!-- 12&#45;&gt;13 -->\n",
              "<g id=\"edge13\" class=\"edge\">\n",
              "<title>12&#45;&gt;13</title>\n",
              "<path fill=\"none\" stroke=\"#000000\" d=\"M386.8624,-400.9465C373.4899,-389.1606 358.5266,-375.9726 345.2281,-364.2519\"/>\n",
              "<polygon fill=\"#000000\" stroke=\"#000000\" points=\"347.4315,-361.5285 337.6151,-357.5422 342.803,-366.7799 347.4315,-361.5285\"/>\n",
              "</g>\n",
              "<!-- 14 -->\n",
              "<g id=\"node15\" class=\"node\">\n",
              "<title>14</title>\n",
              "<polygon fill=\"#399de5\" stroke=\"#000000\" points=\"467.5,-357.5 375.5,-357.5 375.5,-304.5 467.5,-304.5 467.5,-357.5\"/>\n",
              "<text text-anchor=\"middle\" x=\"421.5\" y=\"-342.3\" font-family=\"Times,serif\" font-size=\"14.00\" fill=\"#000000\">gini = 0.0</text>\n",
              "<text text-anchor=\"middle\" x=\"421.5\" y=\"-327.3\" font-family=\"Times,serif\" font-size=\"14.00\" fill=\"#000000\">samples = 1</text>\n",
              "<text text-anchor=\"middle\" x=\"421.5\" y=\"-312.3\" font-family=\"Times,serif\" font-size=\"14.00\" fill=\"#000000\">value = [0, 1]</text>\n",
              "</g>\n",
              "<!-- 12&#45;&gt;14 -->\n",
              "<g id=\"edge14\" class=\"edge\">\n",
              "<title>12&#45;&gt;14</title>\n",
              "<path fill=\"none\" stroke=\"#000000\" d=\"M424.1903,-400.9465C423.7793,-390.2621 423.3241,-378.4254 422.9067,-367.5742\"/>\n",
              "<polygon fill=\"#000000\" stroke=\"#000000\" points=\"426.4027,-367.4002 422.5209,-357.5422 419.4079,-367.6693 426.4027,-367.4002\"/>\n",
              "</g>\n",
              "<!-- 16 -->\n",
              "<g id=\"node17\" class=\"node\">\n",
              "<title>16</title>\n",
              "<polygon fill=\"#e9965a\" stroke=\"#000000\" points=\"631.5,-365 485.5,-365 485.5,-297 631.5,-297 631.5,-365\"/>\n",
              "<text text-anchor=\"middle\" x=\"558.5\" y=\"-349.8\" font-family=\"Times,serif\" font-size=\"14.00\" fill=\"#000000\">SkinThickness &lt;= 37.0</text>\n",
              "<text text-anchor=\"middle\" x=\"558.5\" y=\"-334.8\" font-family=\"Times,serif\" font-size=\"14.00\" fill=\"#000000\">gini = 0.245</text>\n",
              "<text text-anchor=\"middle\" x=\"558.5\" y=\"-319.8\" font-family=\"Times,serif\" font-size=\"14.00\" fill=\"#000000\">samples = 14</text>\n",
              "<text text-anchor=\"middle\" x=\"558.5\" y=\"-304.8\" font-family=\"Times,serif\" font-size=\"14.00\" fill=\"#000000\">value = [12, 2]</text>\n",
              "</g>\n",
              "<!-- 15&#45;&gt;16 -->\n",
              "<g id=\"edge16\" class=\"edge\">\n",
              "<title>15&#45;&gt;16</title>\n",
              "<path fill=\"none\" stroke=\"#000000\" d=\"M558.5,-400.9465C558.5,-392.776 558.5,-383.9318 558.5,-375.3697\"/>\n",
              "<polygon fill=\"#000000\" stroke=\"#000000\" points=\"562.0001,-375.13 558.5,-365.13 555.0001,-375.13 562.0001,-375.13\"/>\n",
              "</g>\n",
              "<!-- 23 -->\n",
              "<g id=\"node24\" class=\"node\">\n",
              "<title>23</title>\n",
              "<polygon fill=\"#b0d8f5\" stroke=\"#000000\" points=\"747,-365 650,-365 650,-297 747,-297 747,-365\"/>\n",
              "<text text-anchor=\"middle\" x=\"698.5\" y=\"-349.8\" font-family=\"Times,serif\" font-size=\"14.00\" fill=\"#000000\">BMI &lt;= 34.85</text>\n",
              "<text text-anchor=\"middle\" x=\"698.5\" y=\"-334.8\" font-family=\"Times,serif\" font-size=\"14.00\" fill=\"#000000\">gini = 0.469</text>\n",
              "<text text-anchor=\"middle\" x=\"698.5\" y=\"-319.8\" font-family=\"Times,serif\" font-size=\"14.00\" fill=\"#000000\">samples = 8</text>\n",
              "<text text-anchor=\"middle\" x=\"698.5\" y=\"-304.8\" font-family=\"Times,serif\" font-size=\"14.00\" fill=\"#000000\">value = [3, 5]</text>\n",
              "</g>\n",
              "<!-- 15&#45;&gt;23 -->\n",
              "<g id=\"edge23\" class=\"edge\">\n",
              "<title>15&#45;&gt;23</title>\n",
              "<path fill=\"none\" stroke=\"#000000\" d=\"M604.3412,-400.9465C617.1529,-391.4293 631.1952,-380.9978 644.4344,-371.163\"/>\n",
              "<polygon fill=\"#000000\" stroke=\"#000000\" points=\"646.6155,-373.9029 652.5558,-365.13 642.4412,-368.2837 646.6155,-373.9029\"/>\n",
              "</g>\n",
              "<!-- 17 -->\n",
              "<g id=\"node18\" class=\"node\">\n",
              "<title>17</title>\n",
              "<polygon fill=\"#e78c49\" stroke=\"#000000\" points=\"494.5,-261 364.5,-261 364.5,-193 494.5,-193 494.5,-261\"/>\n",
              "<text text-anchor=\"middle\" x=\"429.5\" y=\"-245.8\" font-family=\"Times,serif\" font-size=\"14.00\" fill=\"#000000\">Insulin_nan &lt;= 49.0</text>\n",
              "<text text-anchor=\"middle\" x=\"429.5\" y=\"-230.8\" font-family=\"Times,serif\" font-size=\"14.00\" fill=\"#000000\">gini = 0.142</text>\n",
              "<text text-anchor=\"middle\" x=\"429.5\" y=\"-215.8\" font-family=\"Times,serif\" font-size=\"14.00\" fill=\"#000000\">samples = 13</text>\n",
              "<text text-anchor=\"middle\" x=\"429.5\" y=\"-200.8\" font-family=\"Times,serif\" font-size=\"14.00\" fill=\"#000000\">value = [12, 1]</text>\n",
              "</g>\n",
              "<!-- 16&#45;&gt;17 -->\n",
              "<g id=\"edge17\" class=\"edge\">\n",
              "<title>16&#45;&gt;17</title>\n",
              "<path fill=\"none\" stroke=\"#000000\" d=\"M516.2606,-296.9465C504.5669,-287.519 491.7606,-277.1946 479.663,-267.4415\"/>\n",
              "<polygon fill=\"#000000\" stroke=\"#000000\" points=\"481.8162,-264.6816 471.8343,-261.13 477.4227,-270.1312 481.8162,-264.6816\"/>\n",
              "</g>\n",
              "<!-- 22 -->\n",
              "<g id=\"node23\" class=\"node\">\n",
              "<title>22</title>\n",
              "<polygon fill=\"#399de5\" stroke=\"#000000\" points=\"604.5,-253.5 512.5,-253.5 512.5,-200.5 604.5,-200.5 604.5,-253.5\"/>\n",
              "<text text-anchor=\"middle\" x=\"558.5\" y=\"-238.3\" font-family=\"Times,serif\" font-size=\"14.00\" fill=\"#000000\">gini = 0.0</text>\n",
              "<text text-anchor=\"middle\" x=\"558.5\" y=\"-223.3\" font-family=\"Times,serif\" font-size=\"14.00\" fill=\"#000000\">samples = 1</text>\n",
              "<text text-anchor=\"middle\" x=\"558.5\" y=\"-208.3\" font-family=\"Times,serif\" font-size=\"14.00\" fill=\"#000000\">value = [0, 1]</text>\n",
              "</g>\n",
              "<!-- 16&#45;&gt;22 -->\n",
              "<g id=\"edge22\" class=\"edge\">\n",
              "<title>16&#45;&gt;22</title>\n",
              "<path fill=\"none\" stroke=\"#000000\" d=\"M558.5,-296.9465C558.5,-286.2621 558.5,-274.4254 558.5,-263.5742\"/>\n",
              "<polygon fill=\"#000000\" stroke=\"#000000\" points=\"562.0001,-263.5421 558.5,-253.5422 555.0001,-263.5422 562.0001,-263.5421\"/>\n",
              "</g>\n",
              "<!-- 18 -->\n",
              "<g id=\"node19\" class=\"node\">\n",
              "<title>18</title>\n",
              "<polygon fill=\"#ffffff\" stroke=\"#000000\" points=\"432.5,-157 286.5,-157 286.5,-89 432.5,-89 432.5,-157\"/>\n",
              "<text text-anchor=\"middle\" x=\"359.5\" y=\"-141.8\" font-family=\"Times,serif\" font-size=\"14.00\" fill=\"#000000\">SkinThickness &lt;= 14.0</text>\n",
              "<text text-anchor=\"middle\" x=\"359.5\" y=\"-126.8\" font-family=\"Times,serif\" font-size=\"14.00\" fill=\"#000000\">gini = 0.5</text>\n",
              "<text text-anchor=\"middle\" x=\"359.5\" y=\"-111.8\" font-family=\"Times,serif\" font-size=\"14.00\" fill=\"#000000\">samples = 2</text>\n",
              "<text text-anchor=\"middle\" x=\"359.5\" y=\"-96.8\" font-family=\"Times,serif\" font-size=\"14.00\" fill=\"#000000\">value = [1, 1]</text>\n",
              "</g>\n",
              "<!-- 17&#45;&gt;18 -->\n",
              "<g id=\"edge18\" class=\"edge\">\n",
              "<title>17&#45;&gt;18</title>\n",
              "<path fill=\"none\" stroke=\"#000000\" d=\"M406.5794,-192.9465C400.7174,-184.2373 394.3402,-174.7626 388.227,-165.6801\"/>\n",
              "<polygon fill=\"#000000\" stroke=\"#000000\" points=\"390.9595,-163.4716 382.4721,-157.13 385.1524,-167.3802 390.9595,-163.4716\"/>\n",
              "</g>\n",
              "<!-- 21 -->\n",
              "<g id=\"node22\" class=\"node\">\n",
              "<title>21</title>\n",
              "<polygon fill=\"#e58139\" stroke=\"#000000\" points=\"550,-149.5 451,-149.5 451,-96.5 550,-96.5 550,-149.5\"/>\n",
              "<text text-anchor=\"middle\" x=\"500.5\" y=\"-134.3\" font-family=\"Times,serif\" font-size=\"14.00\" fill=\"#000000\">gini = 0.0</text>\n",
              "<text text-anchor=\"middle\" x=\"500.5\" y=\"-119.3\" font-family=\"Times,serif\" font-size=\"14.00\" fill=\"#000000\">samples = 11</text>\n",
              "<text text-anchor=\"middle\" x=\"500.5\" y=\"-104.3\" font-family=\"Times,serif\" font-size=\"14.00\" fill=\"#000000\">value = [11, 0]</text>\n",
              "</g>\n",
              "<!-- 17&#45;&gt;21 -->\n",
              "<g id=\"edge21\" class=\"edge\">\n",
              "<title>17&#45;&gt;21</title>\n",
              "<path fill=\"none\" stroke=\"#000000\" d=\"M452.7481,-192.9465C460.4182,-181.7113 468.9582,-169.2021 476.6711,-157.9043\"/>\n",
              "<polygon fill=\"#000000\" stroke=\"#000000\" points=\"479.6322,-159.7745 482.3799,-149.5422 473.8509,-155.8277 479.6322,-159.7745\"/>\n",
              "</g>\n",
              "<!-- 19 -->\n",
              "<g id=\"node20\" class=\"node\">\n",
              "<title>19</title>\n",
              "<polygon fill=\"#399de5\" stroke=\"#000000\" points=\"350.5,-53 258.5,-53 258.5,0 350.5,0 350.5,-53\"/>\n",
              "<text text-anchor=\"middle\" x=\"304.5\" y=\"-37.8\" font-family=\"Times,serif\" font-size=\"14.00\" fill=\"#000000\">gini = 0.0</text>\n",
              "<text text-anchor=\"middle\" x=\"304.5\" y=\"-22.8\" font-family=\"Times,serif\" font-size=\"14.00\" fill=\"#000000\">samples = 1</text>\n",
              "<text text-anchor=\"middle\" x=\"304.5\" y=\"-7.8\" font-family=\"Times,serif\" font-size=\"14.00\" fill=\"#000000\">value = [0, 1]</text>\n",
              "</g>\n",
              "<!-- 18&#45;&gt;19 -->\n",
              "<g id=\"edge19\" class=\"edge\">\n",
              "<title>18&#45;&gt;19</title>\n",
              "<path fill=\"none\" stroke=\"#000000\" d=\"M340.1091,-88.9777C335.151,-80.2786 329.8067,-70.9018 324.8042,-62.1247\"/>\n",
              "<polygon fill=\"#000000\" stroke=\"#000000\" points=\"327.7378,-60.2033 319.7452,-53.2485 321.6562,-63.6696 327.7378,-60.2033\"/>\n",
              "</g>\n",
              "<!-- 20 -->\n",
              "<g id=\"node21\" class=\"node\">\n",
              "<title>20</title>\n",
              "<polygon fill=\"#e58139\" stroke=\"#000000\" points=\"460.5,-53 368.5,-53 368.5,0 460.5,0 460.5,-53\"/>\n",
              "<text text-anchor=\"middle\" x=\"414.5\" y=\"-37.8\" font-family=\"Times,serif\" font-size=\"14.00\" fill=\"#000000\">gini = 0.0</text>\n",
              "<text text-anchor=\"middle\" x=\"414.5\" y=\"-22.8\" font-family=\"Times,serif\" font-size=\"14.00\" fill=\"#000000\">samples = 1</text>\n",
              "<text text-anchor=\"middle\" x=\"414.5\" y=\"-7.8\" font-family=\"Times,serif\" font-size=\"14.00\" fill=\"#000000\">value = [1, 0]</text>\n",
              "</g>\n",
              "<!-- 18&#45;&gt;20 -->\n",
              "<g id=\"edge20\" class=\"edge\">\n",
              "<title>18&#45;&gt;20</title>\n",
              "<path fill=\"none\" stroke=\"#000000\" d=\"M378.8909,-88.9777C383.849,-80.2786 389.1933,-70.9018 394.1958,-62.1247\"/>\n",
              "<polygon fill=\"#000000\" stroke=\"#000000\" points=\"397.3438,-63.6696 399.2548,-53.2485 391.2622,-60.2033 397.3438,-63.6696\"/>\n",
              "</g>\n",
              "<!-- 24 -->\n",
              "<g id=\"node25\" class=\"node\">\n",
              "<title>24</title>\n",
              "<polygon fill=\"#399de5\" stroke=\"#000000\" points=\"714.5,-253.5 622.5,-253.5 622.5,-200.5 714.5,-200.5 714.5,-253.5\"/>\n",
              "<text text-anchor=\"middle\" x=\"668.5\" y=\"-238.3\" font-family=\"Times,serif\" font-size=\"14.00\" fill=\"#000000\">gini = 0.0</text>\n",
              "<text text-anchor=\"middle\" x=\"668.5\" y=\"-223.3\" font-family=\"Times,serif\" font-size=\"14.00\" fill=\"#000000\">samples = 4</text>\n",
              "<text text-anchor=\"middle\" x=\"668.5\" y=\"-208.3\" font-family=\"Times,serif\" font-size=\"14.00\" fill=\"#000000\">value = [0, 4]</text>\n",
              "</g>\n",
              "<!-- 23&#45;&gt;24 -->\n",
              "<g id=\"edge24\" class=\"edge\">\n",
              "<title>23&#45;&gt;24</title>\n",
              "<path fill=\"none\" stroke=\"#000000\" d=\"M688.6769,-296.9465C685.563,-286.1519 682.11,-274.1813 678.9535,-263.2389\"/>\n",
              "<polygon fill=\"#000000\" stroke=\"#000000\" points=\"682.291,-262.1803 676.1564,-253.5422 675.5652,-264.1205 682.291,-262.1803\"/>\n",
              "</g>\n",
              "<!-- 25 -->\n",
              "<g id=\"node26\" class=\"node\">\n",
              "<title>25</title>\n",
              "<polygon fill=\"#eeab7b\" stroke=\"#000000\" points=\"878,-261 733,-261 733,-193 878,-193 878,-261\"/>\n",
              "<text text-anchor=\"middle\" x=\"805.5\" y=\"-245.8\" font-family=\"Times,serif\" font-size=\"14.00\" fill=\"#000000\">BloodPressure &lt;= 63.0</text>\n",
              "<text text-anchor=\"middle\" x=\"805.5\" y=\"-230.8\" font-family=\"Times,serif\" font-size=\"14.00\" fill=\"#000000\">gini = 0.375</text>\n",
              "<text text-anchor=\"middle\" x=\"805.5\" y=\"-215.8\" font-family=\"Times,serif\" font-size=\"14.00\" fill=\"#000000\">samples = 4</text>\n",
              "<text text-anchor=\"middle\" x=\"805.5\" y=\"-200.8\" font-family=\"Times,serif\" font-size=\"14.00\" fill=\"#000000\">value = [3, 1]</text>\n",
              "</g>\n",
              "<!-- 23&#45;&gt;25 -->\n",
              "<g id=\"edge25\" class=\"edge\">\n",
              "<title>23&#45;&gt;25</title>\n",
              "<path fill=\"none\" stroke=\"#000000\" d=\"M733.5358,-296.9465C742.9581,-287.7884 753.2513,-277.7838 763.0304,-268.2788\"/>\n",
              "<polygon fill=\"#000000\" stroke=\"#000000\" points=\"765.654,-270.6097 770.3855,-261.13 760.7751,-265.59 765.654,-270.6097\"/>\n",
              "</g>\n",
              "<!-- 26 -->\n",
              "<g id=\"node27\" class=\"node\">\n",
              "<title>26</title>\n",
              "<polygon fill=\"#399de5\" stroke=\"#000000\" points=\"754.5,-149.5 662.5,-149.5 662.5,-96.5 754.5,-96.5 754.5,-149.5\"/>\n",
              "<text text-anchor=\"middle\" x=\"708.5\" y=\"-134.3\" font-family=\"Times,serif\" font-size=\"14.00\" fill=\"#000000\">gini = 0.0</text>\n",
              "<text text-anchor=\"middle\" x=\"708.5\" y=\"-119.3\" font-family=\"Times,serif\" font-size=\"14.00\" fill=\"#000000\">samples = 1</text>\n",
              "<text text-anchor=\"middle\" x=\"708.5\" y=\"-104.3\" font-family=\"Times,serif\" font-size=\"14.00\" fill=\"#000000\">value = [0, 1]</text>\n",
              "</g>\n",
              "<!-- 25&#45;&gt;26 -->\n",
              "<g id=\"edge26\" class=\"edge\">\n",
              "<title>25&#45;&gt;26</title>\n",
              "<path fill=\"none\" stroke=\"#000000\" d=\"M773.7386,-192.9465C762.9514,-181.3809 750.905,-168.4652 740.1282,-156.9107\"/>\n",
              "<polygon fill=\"#000000\" stroke=\"#000000\" points=\"742.6359,-154.4678 733.2557,-149.5422 737.5169,-159.2423 742.6359,-154.4678\"/>\n",
              "</g>\n",
              "<!-- 27 -->\n",
              "<g id=\"node28\" class=\"node\">\n",
              "<title>27</title>\n",
              "<polygon fill=\"#e58139\" stroke=\"#000000\" points=\"864.5,-149.5 772.5,-149.5 772.5,-96.5 864.5,-96.5 864.5,-149.5\"/>\n",
              "<text text-anchor=\"middle\" x=\"818.5\" y=\"-134.3\" font-family=\"Times,serif\" font-size=\"14.00\" fill=\"#000000\">gini = 0.0</text>\n",
              "<text text-anchor=\"middle\" x=\"818.5\" y=\"-119.3\" font-family=\"Times,serif\" font-size=\"14.00\" fill=\"#000000\">samples = 3</text>\n",
              "<text text-anchor=\"middle\" x=\"818.5\" y=\"-104.3\" font-family=\"Times,serif\" font-size=\"14.00\" fill=\"#000000\">value = [3, 0]</text>\n",
              "</g>\n",
              "<!-- 25&#45;&gt;27 -->\n",
              "<g id=\"edge27\" class=\"edge\">\n",
              "<title>25&#45;&gt;27</title>\n",
              "<path fill=\"none\" stroke=\"#000000\" d=\"M809.7567,-192.9465C811.0922,-182.2621 812.5718,-170.4254 813.9282,-159.5742\"/>\n",
              "<polygon fill=\"#000000\" stroke=\"#000000\" points=\"817.4148,-159.8991 815.1822,-149.5422 810.4688,-159.0308 817.4148,-159.8991\"/>\n",
              "</g>\n",
              "<!-- 31 -->\n",
              "<g id=\"node32\" class=\"node\">\n",
              "<title>31</title>\n",
              "<polygon fill=\"#e58139\" stroke=\"#000000\" points=\"1379,-773.5 1280,-773.5 1280,-720.5 1379,-720.5 1379,-773.5\"/>\n",
              "<text text-anchor=\"middle\" x=\"1329.5\" y=\"-758.3\" font-family=\"Times,serif\" font-size=\"14.00\" fill=\"#000000\">gini = 0.0</text>\n",
              "<text text-anchor=\"middle\" x=\"1329.5\" y=\"-743.3\" font-family=\"Times,serif\" font-size=\"14.00\" fill=\"#000000\">samples = 35</text>\n",
              "<text text-anchor=\"middle\" x=\"1329.5\" y=\"-728.3\" font-family=\"Times,serif\" font-size=\"14.00\" fill=\"#000000\">value = [35, 0]</text>\n",
              "</g>\n",
              "<!-- 30&#45;&gt;31 -->\n",
              "<g id=\"edge31\" class=\"edge\">\n",
              "<title>30&#45;&gt;31</title>\n",
              "<path fill=\"none\" stroke=\"#000000\" d=\"M1357.0751,-816.9465C1352.7761,-806.0418 1348.0039,-793.9368 1343.6546,-782.9043\"/>\n",
              "<polygon fill=\"#000000\" stroke=\"#000000\" points=\"1346.8875,-781.5617 1339.9637,-773.5422 1340.3753,-784.129 1346.8875,-781.5617\"/>\n",
              "</g>\n",
              "<!-- 32 -->\n",
              "<g id=\"node33\" class=\"node\">\n",
              "<title>32</title>\n",
              "<polygon fill=\"#f4ccaf\" stroke=\"#000000\" points=\"1514,-781 1397,-781 1397,-713 1514,-713 1514,-781\"/>\n",
              "<text text-anchor=\"middle\" x=\"1455.5\" y=\"-765.8\" font-family=\"Times,serif\" font-size=\"14.00\" fill=\"#000000\">Glucose &lt;= 1.052</text>\n",
              "<text text-anchor=\"middle\" x=\"1455.5\" y=\"-750.8\" font-family=\"Times,serif\" font-size=\"14.00\" fill=\"#000000\">gini = 0.468</text>\n",
              "<text text-anchor=\"middle\" x=\"1455.5\" y=\"-735.8\" font-family=\"Times,serif\" font-size=\"14.00\" fill=\"#000000\">samples = 51</text>\n",
              "<text text-anchor=\"middle\" x=\"1455.5\" y=\"-720.8\" font-family=\"Times,serif\" font-size=\"14.00\" fill=\"#000000\">value = [32, 19]</text>\n",
              "</g>\n",
              "<!-- 30&#45;&gt;32 -->\n",
              "<g id=\"edge32\" class=\"edge\">\n",
              "<title>30&#45;&gt;32</title>\n",
              "<path fill=\"none\" stroke=\"#000000\" d=\"M1398.3322,-816.9465C1405.597,-808.0578 1413.5136,-798.3716 1421.076,-789.1188\"/>\n",
              "<polygon fill=\"#000000\" stroke=\"#000000\" points=\"1423.987,-791.0878 1427.6053,-781.13 1418.5669,-786.658 1423.987,-791.0878\"/>\n",
              "</g>\n",
              "<!-- 33 -->\n",
              "<g id=\"node34\" class=\"node\">\n",
              "<title>33</title>\n",
              "<polygon fill=\"#f0b78e\" stroke=\"#000000\" points=\"1454.5,-677 1324.5,-677 1324.5,-609 1454.5,-609 1454.5,-677\"/>\n",
              "<text text-anchor=\"middle\" x=\"1389.5\" y=\"-661.8\" font-family=\"Times,serif\" font-size=\"14.00\" fill=\"#000000\">Insulin_nan &lt;= 59.0</text>\n",
              "<text text-anchor=\"middle\" x=\"1389.5\" y=\"-646.8\" font-family=\"Times,serif\" font-size=\"14.00\" fill=\"#000000\">gini = 0.42</text>\n",
              "<text text-anchor=\"middle\" x=\"1389.5\" y=\"-631.8\" font-family=\"Times,serif\" font-size=\"14.00\" fill=\"#000000\">samples = 40</text>\n",
              "<text text-anchor=\"middle\" x=\"1389.5\" y=\"-616.8\" font-family=\"Times,serif\" font-size=\"14.00\" fill=\"#000000\">value = [28, 12]</text>\n",
              "</g>\n",
              "<!-- 32&#45;&gt;33 -->\n",
              "<g id=\"edge33\" class=\"edge\">\n",
              "<title>32&#45;&gt;33</title>\n",
              "<path fill=\"none\" stroke=\"#000000\" d=\"M1433.8891,-712.9465C1428.3622,-704.2373 1422.3494,-694.7626 1416.5854,-685.6801\"/>\n",
              "<polygon fill=\"#000000\" stroke=\"#000000\" points=\"1419.4729,-683.6979 1411.1594,-677.13 1413.5626,-687.4487 1419.4729,-683.6979\"/>\n",
              "</g>\n",
              "<!-- 56 -->\n",
              "<g id=\"node57\" class=\"node\">\n",
              "<title>56</title>\n",
              "<polygon fill=\"#aad5f4\" stroke=\"#000000\" points=\"1576.5,-677 1484.5,-677 1484.5,-609 1576.5,-609 1576.5,-677\"/>\n",
              "<text text-anchor=\"middle\" x=\"1530.5\" y=\"-661.8\" font-family=\"Times,serif\" font-size=\"14.00\" fill=\"#000000\">Age &lt;= 48.5</text>\n",
              "<text text-anchor=\"middle\" x=\"1530.5\" y=\"-646.8\" font-family=\"Times,serif\" font-size=\"14.00\" fill=\"#000000\">gini = 0.463</text>\n",
              "<text text-anchor=\"middle\" x=\"1530.5\" y=\"-631.8\" font-family=\"Times,serif\" font-size=\"14.00\" fill=\"#000000\">samples = 11</text>\n",
              "<text text-anchor=\"middle\" x=\"1530.5\" y=\"-616.8\" font-family=\"Times,serif\" font-size=\"14.00\" fill=\"#000000\">value = [4, 7]</text>\n",
              "</g>\n",
              "<!-- 32&#45;&gt;56 -->\n",
              "<g id=\"edge56\" class=\"edge\">\n",
              "<title>32&#45;&gt;56</title>\n",
              "<path fill=\"none\" stroke=\"#000000\" d=\"M1480.0578,-712.9465C1486.4032,-704.1475 1493.3121,-694.5672 1499.9236,-685.3993\"/>\n",
              "<polygon fill=\"#000000\" stroke=\"#000000\" points=\"1502.8766,-687.2882 1505.887,-677.13 1497.1989,-683.1937 1502.8766,-687.2882\"/>\n",
              "</g>\n",
              "<!-- 34 -->\n",
              "<g id=\"node35\" class=\"node\">\n",
              "<title>34</title>\n",
              "<polygon fill=\"#399de5\" stroke=\"#000000\" points=\"1318.5,-565.5 1226.5,-565.5 1226.5,-512.5 1318.5,-512.5 1318.5,-565.5\"/>\n",
              "<text text-anchor=\"middle\" x=\"1272.5\" y=\"-550.3\" font-family=\"Times,serif\" font-size=\"14.00\" fill=\"#000000\">gini = 0.0</text>\n",
              "<text text-anchor=\"middle\" x=\"1272.5\" y=\"-535.3\" font-family=\"Times,serif\" font-size=\"14.00\" fill=\"#000000\">samples = 2</text>\n",
              "<text text-anchor=\"middle\" x=\"1272.5\" y=\"-520.3\" font-family=\"Times,serif\" font-size=\"14.00\" fill=\"#000000\">value = [0, 2]</text>\n",
              "</g>\n",
              "<!-- 33&#45;&gt;34 -->\n",
              "<g id=\"edge34\" class=\"edge\">\n",
              "<title>33&#45;&gt;34</title>\n",
              "<path fill=\"none\" stroke=\"#000000\" d=\"M1351.1898,-608.9465C1337.9306,-597.1606 1323.0942,-583.9726 1309.9084,-572.2519\"/>\n",
              "<polygon fill=\"#000000\" stroke=\"#000000\" points=\"1312.1593,-569.5699 1302.3599,-565.5422 1307.5088,-574.8018 1312.1593,-569.5699\"/>\n",
              "</g>\n",
              "<!-- 35 -->\n",
              "<g id=\"node36\" class=\"node\">\n",
              "<title>35</title>\n",
              "<polygon fill=\"#eeae80\" stroke=\"#000000\" points=\"1442.5,-573 1336.5,-573 1336.5,-505 1442.5,-505 1442.5,-573\"/>\n",
              "<text text-anchor=\"middle\" x=\"1389.5\" y=\"-557.8\" font-family=\"Times,serif\" font-size=\"14.00\" fill=\"#000000\">BMI &lt;= 30.55</text>\n",
              "<text text-anchor=\"middle\" x=\"1389.5\" y=\"-542.8\" font-family=\"Times,serif\" font-size=\"14.00\" fill=\"#000000\">gini = 0.388</text>\n",
              "<text text-anchor=\"middle\" x=\"1389.5\" y=\"-527.8\" font-family=\"Times,serif\" font-size=\"14.00\" fill=\"#000000\">samples = 38</text>\n",
              "<text text-anchor=\"middle\" x=\"1389.5\" y=\"-512.8\" font-family=\"Times,serif\" font-size=\"14.00\" fill=\"#000000\">value = [28, 10]</text>\n",
              "</g>\n",
              "<!-- 33&#45;&gt;35 -->\n",
              "<g id=\"edge35\" class=\"edge\">\n",
              "<title>33&#45;&gt;35</title>\n",
              "<path fill=\"none\" stroke=\"#000000\" d=\"M1389.5,-608.9465C1389.5,-600.776 1389.5,-591.9318 1389.5,-583.3697\"/>\n",
              "<polygon fill=\"#000000\" stroke=\"#000000\" points=\"1393.0001,-583.13 1389.5,-573.13 1386.0001,-583.13 1393.0001,-583.13\"/>\n",
              "</g>\n",
              "<!-- 36 -->\n",
              "<g id=\"node37\" class=\"node\">\n",
              "<title>36</title>\n",
              "<polygon fill=\"#e89152\" stroke=\"#000000\" points=\"1312,-469 1093,-469 1093,-401 1312,-401 1312,-469\"/>\n",
              "<text text-anchor=\"middle\" x=\"1202.5\" y=\"-453.8\" font-family=\"Times,serif\" font-size=\"14.00\" fill=\"#000000\">DiabetesPedigreeFunction &lt;= 1.452</text>\n",
              "<text text-anchor=\"middle\" x=\"1202.5\" y=\"-438.8\" font-family=\"Times,serif\" font-size=\"14.00\" fill=\"#000000\">gini = 0.198</text>\n",
              "<text text-anchor=\"middle\" x=\"1202.5\" y=\"-423.8\" font-family=\"Times,serif\" font-size=\"14.00\" fill=\"#000000\">samples = 18</text>\n",
              "<text text-anchor=\"middle\" x=\"1202.5\" y=\"-408.8\" font-family=\"Times,serif\" font-size=\"14.00\" fill=\"#000000\">value = [16, 2]</text>\n",
              "</g>\n",
              "<!-- 35&#45;&gt;36 -->\n",
              "<g id=\"edge36\" class=\"edge\">\n",
              "<title>35&#45;&gt;36</title>\n",
              "<path fill=\"none\" stroke=\"#000000\" d=\"M1336.4135,-509.476C1316.5723,-498.4413 1293.7246,-485.7345 1272.5839,-473.9771\"/>\n",
              "<polygon fill=\"#000000\" stroke=\"#000000\" points=\"1274.0824,-470.8057 1263.6418,-469.004 1270.68,-476.9232 1274.0824,-470.8057\"/>\n",
              "</g>\n",
              "<!-- 43 -->\n",
              "<g id=\"node44\" class=\"node\">\n",
              "<title>43</title>\n",
              "<polygon fill=\"#f6d5bd\" stroke=\"#000000\" points=\"1439,-469 1340,-469 1340,-401 1439,-401 1439,-469\"/>\n",
              "<text text-anchor=\"middle\" x=\"1389.5\" y=\"-453.8\" font-family=\"Times,serif\" font-size=\"14.00\" fill=\"#000000\">BMI &lt;= 35.45</text>\n",
              "<text text-anchor=\"middle\" x=\"1389.5\" y=\"-438.8\" font-family=\"Times,serif\" font-size=\"14.00\" fill=\"#000000\">gini = 0.48</text>\n",
              "<text text-anchor=\"middle\" x=\"1389.5\" y=\"-423.8\" font-family=\"Times,serif\" font-size=\"14.00\" fill=\"#000000\">samples = 20</text>\n",
              "<text text-anchor=\"middle\" x=\"1389.5\" y=\"-408.8\" font-family=\"Times,serif\" font-size=\"14.00\" fill=\"#000000\">value = [12, 8]</text>\n",
              "</g>\n",
              "<!-- 35&#45;&gt;43 -->\n",
              "<g id=\"edge43\" class=\"edge\">\n",
              "<title>35&#45;&gt;43</title>\n",
              "<path fill=\"none\" stroke=\"#000000\" d=\"M1389.5,-504.9465C1389.5,-496.776 1389.5,-487.9318 1389.5,-479.3697\"/>\n",
              "<polygon fill=\"#000000\" stroke=\"#000000\" points=\"1393.0001,-479.13 1389.5,-469.13 1386.0001,-479.13 1393.0001,-479.13\"/>\n",
              "</g>\n",
              "<!-- 37 -->\n",
              "<g id=\"node38\" class=\"node\">\n",
              "<title>37</title>\n",
              "<polygon fill=\"#e78945\" stroke=\"#000000\" points=\"1138,-365 915,-365 915,-297 1138,-297 1138,-365\"/>\n",
              "<text text-anchor=\"middle\" x=\"1026.5\" y=\"-349.8\" font-family=\"Times,serif\" font-size=\"14.00\" fill=\"#000000\">DiabetesPedigreeFunction &lt;= &#45;0.761</text>\n",
              "<text text-anchor=\"middle\" x=\"1026.5\" y=\"-334.8\" font-family=\"Times,serif\" font-size=\"14.00\" fill=\"#000000\">gini = 0.111</text>\n",
              "<text text-anchor=\"middle\" x=\"1026.5\" y=\"-319.8\" font-family=\"Times,serif\" font-size=\"14.00\" fill=\"#000000\">samples = 17</text>\n",
              "<text text-anchor=\"middle\" x=\"1026.5\" y=\"-304.8\" font-family=\"Times,serif\" font-size=\"14.00\" fill=\"#000000\">value = [16, 1]</text>\n",
              "</g>\n",
              "<!-- 36&#45;&gt;37 -->\n",
              "<g id=\"edge37\" class=\"edge\">\n",
              "<title>36&#45;&gt;37</title>\n",
              "<path fill=\"none\" stroke=\"#000000\" d=\"M1144.871,-400.9465C1128.3091,-391.1599 1110.1112,-380.4066 1093.0575,-370.3294\"/>\n",
              "<polygon fill=\"#000000\" stroke=\"#000000\" points=\"1094.6483,-367.2041 1084.2585,-365.13 1091.0872,-373.2306 1094.6483,-367.2041\"/>\n",
              "</g>\n",
              "<!-- 42 -->\n",
              "<g id=\"node43\" class=\"node\">\n",
              "<title>42</title>\n",
              "<polygon fill=\"#399de5\" stroke=\"#000000\" points=\"1248.5,-357.5 1156.5,-357.5 1156.5,-304.5 1248.5,-304.5 1248.5,-357.5\"/>\n",
              "<text text-anchor=\"middle\" x=\"1202.5\" y=\"-342.3\" font-family=\"Times,serif\" font-size=\"14.00\" fill=\"#000000\">gini = 0.0</text>\n",
              "<text text-anchor=\"middle\" x=\"1202.5\" y=\"-327.3\" font-family=\"Times,serif\" font-size=\"14.00\" fill=\"#000000\">samples = 1</text>\n",
              "<text text-anchor=\"middle\" x=\"1202.5\" y=\"-312.3\" font-family=\"Times,serif\" font-size=\"14.00\" fill=\"#000000\">value = [0, 1]</text>\n",
              "</g>\n",
              "<!-- 36&#45;&gt;42 -->\n",
              "<g id=\"edge42\" class=\"edge\">\n",
              "<title>36&#45;&gt;42</title>\n",
              "<path fill=\"none\" stroke=\"#000000\" d=\"M1202.5,-400.9465C1202.5,-390.2621 1202.5,-378.4254 1202.5,-367.5742\"/>\n",
              "<polygon fill=\"#000000\" stroke=\"#000000\" points=\"1206.0001,-367.5421 1202.5,-357.5422 1199.0001,-367.5422 1206.0001,-367.5421\"/>\n",
              "</g>\n",
              "<!-- 38 -->\n",
              "<g id=\"node39\" class=\"node\">\n",
              "<title>38</title>\n",
              "<polygon fill=\"#f2c09c\" stroke=\"#000000\" points=\"1033,-261 896,-261 896,-193 1033,-193 1033,-261\"/>\n",
              "<text text-anchor=\"middle\" x=\"964.5\" y=\"-245.8\" font-family=\"Times,serif\" font-size=\"14.00\" fill=\"#000000\">Insulin_nan &lt;= 107.5</text>\n",
              "<text text-anchor=\"middle\" x=\"964.5\" y=\"-230.8\" font-family=\"Times,serif\" font-size=\"14.00\" fill=\"#000000\">gini = 0.444</text>\n",
              "<text text-anchor=\"middle\" x=\"964.5\" y=\"-215.8\" font-family=\"Times,serif\" font-size=\"14.00\" fill=\"#000000\">samples = 3</text>\n",
              "<text text-anchor=\"middle\" x=\"964.5\" y=\"-200.8\" font-family=\"Times,serif\" font-size=\"14.00\" fill=\"#000000\">value = [2, 1]</text>\n",
              "</g>\n",
              "<!-- 37&#45;&gt;38 -->\n",
              "<g id=\"edge38\" class=\"edge\">\n",
              "<title>37&#45;&gt;38</title>\n",
              "<path fill=\"none\" stroke=\"#000000\" d=\"M1006.1989,-296.9465C1001.0604,-288.3271 995.4749,-278.9579 990.1114,-269.9611\"/>\n",
              "<polygon fill=\"#000000\" stroke=\"#000000\" points=\"992.9737,-267.9272 984.8467,-261.13 986.9611,-271.5117 992.9737,-267.9272\"/>\n",
              "</g>\n",
              "<!-- 41 -->\n",
              "<g id=\"node42\" class=\"node\">\n",
              "<title>41</title>\n",
              "<polygon fill=\"#e58139\" stroke=\"#000000\" points=\"1150,-253.5 1051,-253.5 1051,-200.5 1150,-200.5 1150,-253.5\"/>\n",
              "<text text-anchor=\"middle\" x=\"1100.5\" y=\"-238.3\" font-family=\"Times,serif\" font-size=\"14.00\" fill=\"#000000\">gini = 0.0</text>\n",
              "<text text-anchor=\"middle\" x=\"1100.5\" y=\"-223.3\" font-family=\"Times,serif\" font-size=\"14.00\" fill=\"#000000\">samples = 14</text>\n",
              "<text text-anchor=\"middle\" x=\"1100.5\" y=\"-208.3\" font-family=\"Times,serif\" font-size=\"14.00\" fill=\"#000000\">value = [14, 0]</text>\n",
              "</g>\n",
              "<!-- 37&#45;&gt;41 -->\n",
              "<g id=\"edge41\" class=\"edge\">\n",
              "<title>37&#45;&gt;41</title>\n",
              "<path fill=\"none\" stroke=\"#000000\" d=\"M1050.7304,-296.9465C1058.7246,-285.7113 1067.6254,-273.2021 1075.6642,-261.9043\"/>\n",
              "<polygon fill=\"#000000\" stroke=\"#000000\" points=\"1078.6684,-263.7192 1081.6142,-253.5422 1072.9649,-259.6609 1078.6684,-263.7192\"/>\n",
              "</g>\n",
              "<!-- 39 -->\n",
              "<g id=\"node40\" class=\"node\">\n",
              "<title>39</title>\n",
              "<polygon fill=\"#e58139\" stroke=\"#000000\" points=\"998.5,-149.5 906.5,-149.5 906.5,-96.5 998.5,-96.5 998.5,-149.5\"/>\n",
              "<text text-anchor=\"middle\" x=\"952.5\" y=\"-134.3\" font-family=\"Times,serif\" font-size=\"14.00\" fill=\"#000000\">gini = 0.0</text>\n",
              "<text text-anchor=\"middle\" x=\"952.5\" y=\"-119.3\" font-family=\"Times,serif\" font-size=\"14.00\" fill=\"#000000\">samples = 2</text>\n",
              "<text text-anchor=\"middle\" x=\"952.5\" y=\"-104.3\" font-family=\"Times,serif\" font-size=\"14.00\" fill=\"#000000\">value = [2, 0]</text>\n",
              "</g>\n",
              "<!-- 38&#45;&gt;39 -->\n",
              "<g id=\"edge39\" class=\"edge\">\n",
              "<title>38&#45;&gt;39</title>\n",
              "<path fill=\"none\" stroke=\"#000000\" d=\"M960.5708,-192.9465C959.3379,-182.2621 957.9722,-170.4254 956.7201,-159.5742\"/>\n",
              "<polygon fill=\"#000000\" stroke=\"#000000\" points=\"960.1858,-159.075 955.5626,-149.5422 953.232,-159.8775 960.1858,-159.075\"/>\n",
              "</g>\n",
              "<!-- 40 -->\n",
              "<g id=\"node41\" class=\"node\">\n",
              "<title>40</title>\n",
              "<polygon fill=\"#399de5\" stroke=\"#000000\" points=\"1108.5,-149.5 1016.5,-149.5 1016.5,-96.5 1108.5,-96.5 1108.5,-149.5\"/>\n",
              "<text text-anchor=\"middle\" x=\"1062.5\" y=\"-134.3\" font-family=\"Times,serif\" font-size=\"14.00\" fill=\"#000000\">gini = 0.0</text>\n",
              "<text text-anchor=\"middle\" x=\"1062.5\" y=\"-119.3\" font-family=\"Times,serif\" font-size=\"14.00\" fill=\"#000000\">samples = 1</text>\n",
              "<text text-anchor=\"middle\" x=\"1062.5\" y=\"-104.3\" font-family=\"Times,serif\" font-size=\"14.00\" fill=\"#000000\">value = [0, 1]</text>\n",
              "</g>\n",
              "<!-- 38&#45;&gt;40 -->\n",
              "<g id=\"edge40\" class=\"edge\">\n",
              "<title>38&#45;&gt;40</title>\n",
              "<path fill=\"none\" stroke=\"#000000\" d=\"M996.5889,-192.9465C1007.4873,-181.3809 1019.6578,-168.4652 1030.5457,-156.9107\"/>\n",
              "<polygon fill=\"#000000\" stroke=\"#000000\" points=\"1033.1783,-159.2204 1037.4891,-149.5422 1028.0838,-154.4198 1033.1783,-159.2204\"/>\n",
              "</g>\n",
              "<!-- 44 -->\n",
              "<g id=\"node45\" class=\"node\">\n",
              "<title>44</title>\n",
              "<polygon fill=\"#bddef6\" stroke=\"#000000\" points=\"1358.5,-365 1266.5,-365 1266.5,-297 1358.5,-297 1358.5,-365\"/>\n",
              "<text text-anchor=\"middle\" x=\"1312.5\" y=\"-349.8\" font-family=\"Times,serif\" font-size=\"14.00\" fill=\"#000000\">Age &lt;= 23.5</text>\n",
              "<text text-anchor=\"middle\" x=\"1312.5\" y=\"-334.8\" font-family=\"Times,serif\" font-size=\"14.00\" fill=\"#000000\">gini = 0.48</text>\n",
              "<text text-anchor=\"middle\" x=\"1312.5\" y=\"-319.8\" font-family=\"Times,serif\" font-size=\"14.00\" fill=\"#000000\">samples = 10</text>\n",
              "<text text-anchor=\"middle\" x=\"1312.5\" y=\"-304.8\" font-family=\"Times,serif\" font-size=\"14.00\" fill=\"#000000\">value = [4, 6]</text>\n",
              "</g>\n",
              "<!-- 43&#45;&gt;44 -->\n",
              "<g id=\"edge44\" class=\"edge\">\n",
              "<title>43&#45;&gt;44</title>\n",
              "<path fill=\"none\" stroke=\"#000000\" d=\"M1364.2873,-400.9465C1357.7727,-392.1475 1350.6795,-382.5672 1343.8918,-373.3993\"/>\n",
              "<polygon fill=\"#000000\" stroke=\"#000000\" points=\"1346.5327,-371.0843 1337.7693,-365.13 1340.9069,-375.2496 1346.5327,-371.0843\"/>\n",
              "</g>\n",
              "<!-- 51 -->\n",
              "<g id=\"node52\" class=\"node\">\n",
              "<title>51</title>\n",
              "<polygon fill=\"#eca06a\" stroke=\"#000000\" points=\"1600,-365 1377,-365 1377,-297 1600,-297 1600,-365\"/>\n",
              "<text text-anchor=\"middle\" x=\"1488.5\" y=\"-349.8\" font-family=\"Times,serif\" font-size=\"14.00\" fill=\"#000000\">DiabetesPedigreeFunction &lt;= &#45;0.826</text>\n",
              "<text text-anchor=\"middle\" x=\"1488.5\" y=\"-334.8\" font-family=\"Times,serif\" font-size=\"14.00\" fill=\"#000000\">gini = 0.32</text>\n",
              "<text text-anchor=\"middle\" x=\"1488.5\" y=\"-319.8\" font-family=\"Times,serif\" font-size=\"14.00\" fill=\"#000000\">samples = 10</text>\n",
              "<text text-anchor=\"middle\" x=\"1488.5\" y=\"-304.8\" font-family=\"Times,serif\" font-size=\"14.00\" fill=\"#000000\">value = [8, 2]</text>\n",
              "</g>\n",
              "<!-- 43&#45;&gt;51 -->\n",
              "<g id=\"edge51\" class=\"edge\">\n",
              "<title>43&#45;&gt;51</title>\n",
              "<path fill=\"none\" stroke=\"#000000\" d=\"M1421.9163,-400.9465C1430.5486,-391.8782 1439.9711,-381.9799 1448.9395,-372.5585\"/>\n",
              "<polygon fill=\"#000000\" stroke=\"#000000\" points=\"1451.6511,-374.7863 1456.0109,-365.13 1446.581,-369.9599 1451.6511,-374.7863\"/>\n",
              "</g>\n",
              "<!-- 45 -->\n",
              "<g id=\"node46\" class=\"node\">\n",
              "<title>45</title>\n",
              "<polygon fill=\"#e58139\" stroke=\"#000000\" points=\"1260.5,-253.5 1168.5,-253.5 1168.5,-200.5 1260.5,-200.5 1260.5,-253.5\"/>\n",
              "<text text-anchor=\"middle\" x=\"1214.5\" y=\"-238.3\" font-family=\"Times,serif\" font-size=\"14.00\" fill=\"#000000\">gini = 0.0</text>\n",
              "<text text-anchor=\"middle\" x=\"1214.5\" y=\"-223.3\" font-family=\"Times,serif\" font-size=\"14.00\" fill=\"#000000\">samples = 2</text>\n",
              "<text text-anchor=\"middle\" x=\"1214.5\" y=\"-208.3\" font-family=\"Times,serif\" font-size=\"14.00\" fill=\"#000000\">value = [2, 0]</text>\n",
              "</g>\n",
              "<!-- 44&#45;&gt;45 -->\n",
              "<g id=\"edge45\" class=\"edge\">\n",
              "<title>44&#45;&gt;45</title>\n",
              "<path fill=\"none\" stroke=\"#000000\" d=\"M1280.4111,-296.9465C1269.5127,-285.3809 1257.3422,-272.4652 1246.4543,-260.9107\"/>\n",
              "<polygon fill=\"#000000\" stroke=\"#000000\" points=\"1248.9162,-258.4198 1239.5109,-253.5422 1243.8217,-263.2204 1248.9162,-258.4198\"/>\n",
              "</g>\n",
              "<!-- 46 -->\n",
              "<g id=\"node47\" class=\"node\">\n",
              "<title>46</title>\n",
              "<polygon fill=\"#7bbeee\" stroke=\"#000000\" points=\"1424.5,-261 1278.5,-261 1278.5,-193 1424.5,-193 1424.5,-261\"/>\n",
              "<text text-anchor=\"middle\" x=\"1351.5\" y=\"-245.8\" font-family=\"Times,serif\" font-size=\"14.00\" fill=\"#000000\">SkinThickness &lt;= 21.5</text>\n",
              "<text text-anchor=\"middle\" x=\"1351.5\" y=\"-230.8\" font-family=\"Times,serif\" font-size=\"14.00\" fill=\"#000000\">gini = 0.375</text>\n",
              "<text text-anchor=\"middle\" x=\"1351.5\" y=\"-215.8\" font-family=\"Times,serif\" font-size=\"14.00\" fill=\"#000000\">samples = 8</text>\n",
              "<text text-anchor=\"middle\" x=\"1351.5\" y=\"-200.8\" font-family=\"Times,serif\" font-size=\"14.00\" fill=\"#000000\">value = [2, 6]</text>\n",
              "</g>\n",
              "<!-- 44&#45;&gt;46 -->\n",
              "<g id=\"edge46\" class=\"edge\">\n",
              "<title>44&#45;&gt;46</title>\n",
              "<path fill=\"none\" stroke=\"#000000\" d=\"M1325.2701,-296.9465C1328.435,-288.5067 1331.8695,-279.3479 1335.1786,-270.5239\"/>\n",
              "<polygon fill=\"#000000\" stroke=\"#000000\" points=\"1338.4671,-271.7222 1338.7013,-261.13 1331.9128,-269.2643 1338.4671,-271.7222\"/>\n",
              "</g>\n",
              "<!-- 47 -->\n",
              "<g id=\"node48\" class=\"node\">\n",
              "<title>47</title>\n",
              "<polygon fill=\"#e58139\" stroke=\"#000000\" points=\"1336.5,-149.5 1244.5,-149.5 1244.5,-96.5 1336.5,-96.5 1336.5,-149.5\"/>\n",
              "<text text-anchor=\"middle\" x=\"1290.5\" y=\"-134.3\" font-family=\"Times,serif\" font-size=\"14.00\" fill=\"#000000\">gini = 0.0</text>\n",
              "<text text-anchor=\"middle\" x=\"1290.5\" y=\"-119.3\" font-family=\"Times,serif\" font-size=\"14.00\" fill=\"#000000\">samples = 1</text>\n",
              "<text text-anchor=\"middle\" x=\"1290.5\" y=\"-104.3\" font-family=\"Times,serif\" font-size=\"14.00\" fill=\"#000000\">value = [1, 0]</text>\n",
              "</g>\n",
              "<!-- 46&#45;&gt;47 -->\n",
              "<g id=\"edge47\" class=\"edge\">\n",
              "<title>46&#45;&gt;47</title>\n",
              "<path fill=\"none\" stroke=\"#000000\" d=\"M1331.5263,-192.9465C1325.001,-181.8215 1317.7431,-169.4473 1311.1678,-158.237\"/>\n",
              "<polygon fill=\"#000000\" stroke=\"#000000\" points=\"1314.1464,-156.3971 1306.068,-149.5422 1308.1084,-159.9387 1314.1464,-156.3971\"/>\n",
              "</g>\n",
              "<!-- 48 -->\n",
              "<g id=\"node49\" class=\"node\">\n",
              "<title>48</title>\n",
              "<polygon fill=\"#5aade9\" stroke=\"#000000\" points=\"1472,-157 1355,-157 1355,-89 1472,-89 1472,-157\"/>\n",
              "<text text-anchor=\"middle\" x=\"1413.5\" y=\"-141.8\" font-family=\"Times,serif\" font-size=\"14.00\" fill=\"#000000\">Glucose &lt;= 0.974</text>\n",
              "<text text-anchor=\"middle\" x=\"1413.5\" y=\"-126.8\" font-family=\"Times,serif\" font-size=\"14.00\" fill=\"#000000\">gini = 0.245</text>\n",
              "<text text-anchor=\"middle\" x=\"1413.5\" y=\"-111.8\" font-family=\"Times,serif\" font-size=\"14.00\" fill=\"#000000\">samples = 7</text>\n",
              "<text text-anchor=\"middle\" x=\"1413.5\" y=\"-96.8\" font-family=\"Times,serif\" font-size=\"14.00\" fill=\"#000000\">value = [1, 6]</text>\n",
              "</g>\n",
              "<!-- 46&#45;&gt;48 -->\n",
              "<g id=\"edge48\" class=\"edge\">\n",
              "<title>46&#45;&gt;48</title>\n",
              "<path fill=\"none\" stroke=\"#000000\" d=\"M1371.8011,-192.9465C1376.9396,-184.3271 1382.5251,-174.9579 1387.8886,-165.9611\"/>\n",
              "<polygon fill=\"#000000\" stroke=\"#000000\" points=\"1391.0389,-167.5117 1393.1533,-157.13 1385.0263,-163.9272 1391.0389,-167.5117\"/>\n",
              "</g>\n",
              "<!-- 49 -->\n",
              "<g id=\"node50\" class=\"node\">\n",
              "<title>49</title>\n",
              "<polygon fill=\"#399de5\" stroke=\"#000000\" points=\"1404.5,-53 1312.5,-53 1312.5,0 1404.5,0 1404.5,-53\"/>\n",
              "<text text-anchor=\"middle\" x=\"1358.5\" y=\"-37.8\" font-family=\"Times,serif\" font-size=\"14.00\" fill=\"#000000\">gini = 0.0</text>\n",
              "<text text-anchor=\"middle\" x=\"1358.5\" y=\"-22.8\" font-family=\"Times,serif\" font-size=\"14.00\" fill=\"#000000\">samples = 6</text>\n",
              "<text text-anchor=\"middle\" x=\"1358.5\" y=\"-7.8\" font-family=\"Times,serif\" font-size=\"14.00\" fill=\"#000000\">value = [0, 6]</text>\n",
              "</g>\n",
              "<!-- 48&#45;&gt;49 -->\n",
              "<g id=\"edge49\" class=\"edge\">\n",
              "<title>48&#45;&gt;49</title>\n",
              "<path fill=\"none\" stroke=\"#000000\" d=\"M1394.1091,-88.9777C1389.151,-80.2786 1383.8067,-70.9018 1378.8042,-62.1247\"/>\n",
              "<polygon fill=\"#000000\" stroke=\"#000000\" points=\"1381.7378,-60.2033 1373.7452,-53.2485 1375.6562,-63.6696 1381.7378,-60.2033\"/>\n",
              "</g>\n",
              "<!-- 50 -->\n",
              "<g id=\"node51\" class=\"node\">\n",
              "<title>50</title>\n",
              "<polygon fill=\"#e58139\" stroke=\"#000000\" points=\"1514.5,-53 1422.5,-53 1422.5,0 1514.5,0 1514.5,-53\"/>\n",
              "<text text-anchor=\"middle\" x=\"1468.5\" y=\"-37.8\" font-family=\"Times,serif\" font-size=\"14.00\" fill=\"#000000\">gini = 0.0</text>\n",
              "<text text-anchor=\"middle\" x=\"1468.5\" y=\"-22.8\" font-family=\"Times,serif\" font-size=\"14.00\" fill=\"#000000\">samples = 1</text>\n",
              "<text text-anchor=\"middle\" x=\"1468.5\" y=\"-7.8\" font-family=\"Times,serif\" font-size=\"14.00\" fill=\"#000000\">value = [1, 0]</text>\n",
              "</g>\n",
              "<!-- 48&#45;&gt;50 -->\n",
              "<g id=\"edge50\" class=\"edge\">\n",
              "<title>48&#45;&gt;50</title>\n",
              "<path fill=\"none\" stroke=\"#000000\" d=\"M1432.8909,-88.9777C1437.849,-80.2786 1443.1933,-70.9018 1448.1958,-62.1247\"/>\n",
              "<polygon fill=\"#000000\" stroke=\"#000000\" points=\"1451.3438,-63.6696 1453.2548,-53.2485 1445.2622,-60.2033 1451.3438,-63.6696\"/>\n",
              "</g>\n",
              "<!-- 52 -->\n",
              "<g id=\"node53\" class=\"node\">\n",
              "<title>52</title>\n",
              "<polygon fill=\"#399de5\" stroke=\"#000000\" points=\"1534.5,-253.5 1442.5,-253.5 1442.5,-200.5 1534.5,-200.5 1534.5,-253.5\"/>\n",
              "<text text-anchor=\"middle\" x=\"1488.5\" y=\"-238.3\" font-family=\"Times,serif\" font-size=\"14.00\" fill=\"#000000\">gini = 0.0</text>\n",
              "<text text-anchor=\"middle\" x=\"1488.5\" y=\"-223.3\" font-family=\"Times,serif\" font-size=\"14.00\" fill=\"#000000\">samples = 1</text>\n",
              "<text text-anchor=\"middle\" x=\"1488.5\" y=\"-208.3\" font-family=\"Times,serif\" font-size=\"14.00\" fill=\"#000000\">value = [0, 1]</text>\n",
              "</g>\n",
              "<!-- 51&#45;&gt;52 -->\n",
              "<g id=\"edge52\" class=\"edge\">\n",
              "<title>51&#45;&gt;52</title>\n",
              "<path fill=\"none\" stroke=\"#000000\" d=\"M1488.5,-296.9465C1488.5,-286.2621 1488.5,-274.4254 1488.5,-263.5742\"/>\n",
              "<polygon fill=\"#000000\" stroke=\"#000000\" points=\"1492.0001,-263.5421 1488.5,-253.5422 1485.0001,-263.5422 1492.0001,-263.5421\"/>\n",
              "</g>\n",
              "<!-- 53 -->\n",
              "<g id=\"node54\" class=\"node\">\n",
              "<title>53</title>\n",
              "<polygon fill=\"#e89152\" stroke=\"#000000\" points=\"1698.5,-261 1552.5,-261 1552.5,-193 1698.5,-193 1698.5,-261\"/>\n",
              "<text text-anchor=\"middle\" x=\"1625.5\" y=\"-245.8\" font-family=\"Times,serif\" font-size=\"14.00\" fill=\"#000000\">SkinThickness &lt;= 27.0</text>\n",
              "<text text-anchor=\"middle\" x=\"1625.5\" y=\"-230.8\" font-family=\"Times,serif\" font-size=\"14.00\" fill=\"#000000\">gini = 0.198</text>\n",
              "<text text-anchor=\"middle\" x=\"1625.5\" y=\"-215.8\" font-family=\"Times,serif\" font-size=\"14.00\" fill=\"#000000\">samples = 9</text>\n",
              "<text text-anchor=\"middle\" x=\"1625.5\" y=\"-200.8\" font-family=\"Times,serif\" font-size=\"14.00\" fill=\"#000000\">value = [8, 1]</text>\n",
              "</g>\n",
              "<!-- 51&#45;&gt;53 -->\n",
              "<g id=\"edge53\" class=\"edge\">\n",
              "<title>51&#45;&gt;53</title>\n",
              "<path fill=\"none\" stroke=\"#000000\" d=\"M1533.3589,-296.9465C1545.7778,-287.519 1559.3783,-277.1946 1572.2261,-267.4415\"/>\n",
              "<polygon fill=\"#000000\" stroke=\"#000000\" points=\"1574.6915,-269.9642 1580.5403,-261.13 1570.459,-264.3887 1574.6915,-269.9642\"/>\n",
              "</g>\n",
              "<!-- 54 -->\n",
              "<g id=\"node55\" class=\"node\">\n",
              "<title>54</title>\n",
              "<polygon fill=\"#399de5\" stroke=\"#000000\" points=\"1657.5,-149.5 1565.5,-149.5 1565.5,-96.5 1657.5,-96.5 1657.5,-149.5\"/>\n",
              "<text text-anchor=\"middle\" x=\"1611.5\" y=\"-134.3\" font-family=\"Times,serif\" font-size=\"14.00\" fill=\"#000000\">gini = 0.0</text>\n",
              "<text text-anchor=\"middle\" x=\"1611.5\" y=\"-119.3\" font-family=\"Times,serif\" font-size=\"14.00\" fill=\"#000000\">samples = 1</text>\n",
              "<text text-anchor=\"middle\" x=\"1611.5\" y=\"-104.3\" font-family=\"Times,serif\" font-size=\"14.00\" fill=\"#000000\">value = [0, 1]</text>\n",
              "</g>\n",
              "<!-- 53&#45;&gt;54 -->\n",
              "<g id=\"edge54\" class=\"edge\">\n",
              "<title>53&#45;&gt;54</title>\n",
              "<path fill=\"none\" stroke=\"#000000\" d=\"M1620.9159,-192.9465C1619.4776,-182.2621 1617.8842,-170.4254 1616.4235,-159.5742\"/>\n",
              "<polygon fill=\"#000000\" stroke=\"#000000\" points=\"1619.8759,-158.9858 1615.073,-149.5422 1612.9385,-159.9197 1619.8759,-158.9858\"/>\n",
              "</g>\n",
              "<!-- 55 -->\n",
              "<g id=\"node56\" class=\"node\">\n",
              "<title>55</title>\n",
              "<polygon fill=\"#e58139\" stroke=\"#000000\" points=\"1767.5,-149.5 1675.5,-149.5 1675.5,-96.5 1767.5,-96.5 1767.5,-149.5\"/>\n",
              "<text text-anchor=\"middle\" x=\"1721.5\" y=\"-134.3\" font-family=\"Times,serif\" font-size=\"14.00\" fill=\"#000000\">gini = 0.0</text>\n",
              "<text text-anchor=\"middle\" x=\"1721.5\" y=\"-119.3\" font-family=\"Times,serif\" font-size=\"14.00\" fill=\"#000000\">samples = 8</text>\n",
              "<text text-anchor=\"middle\" x=\"1721.5\" y=\"-104.3\" font-family=\"Times,serif\" font-size=\"14.00\" fill=\"#000000\">value = [8, 0]</text>\n",
              "</g>\n",
              "<!-- 53&#45;&gt;55 -->\n",
              "<g id=\"edge55\" class=\"edge\">\n",
              "<title>53&#45;&gt;55</title>\n",
              "<path fill=\"none\" stroke=\"#000000\" d=\"M1656.934,-192.9465C1667.61,-181.3809 1679.5322,-168.4652 1690.1978,-156.9107\"/>\n",
              "<polygon fill=\"#000000\" stroke=\"#000000\" points=\"1692.7885,-159.2642 1696.9995,-149.5422 1687.6449,-154.5162 1692.7885,-159.2642\"/>\n",
              "</g>\n",
              "<!-- 57 -->\n",
              "<g id=\"node58\" class=\"node\">\n",
              "<title>57</title>\n",
              "<polygon fill=\"#72b9ec\" stroke=\"#000000\" points=\"1589,-573 1472,-573 1472,-505 1589,-505 1589,-573\"/>\n",
              "<text text-anchor=\"middle\" x=\"1530.5\" y=\"-557.8\" font-family=\"Times,serif\" font-size=\"14.00\" fill=\"#000000\">Glucose &lt;= 1.834</text>\n",
              "<text text-anchor=\"middle\" x=\"1530.5\" y=\"-542.8\" font-family=\"Times,serif\" font-size=\"14.00\" fill=\"#000000\">gini = 0.346</text>\n",
              "<text text-anchor=\"middle\" x=\"1530.5\" y=\"-527.8\" font-family=\"Times,serif\" font-size=\"14.00\" fill=\"#000000\">samples = 9</text>\n",
              "<text text-anchor=\"middle\" x=\"1530.5\" y=\"-512.8\" font-family=\"Times,serif\" font-size=\"14.00\" fill=\"#000000\">value = [2, 7]</text>\n",
              "</g>\n",
              "<!-- 56&#45;&gt;57 -->\n",
              "<g id=\"edge57\" class=\"edge\">\n",
              "<title>56&#45;&gt;57</title>\n",
              "<path fill=\"none\" stroke=\"#000000\" d=\"M1530.5,-608.9465C1530.5,-600.776 1530.5,-591.9318 1530.5,-583.3697\"/>\n",
              "<polygon fill=\"#000000\" stroke=\"#000000\" points=\"1534.0001,-583.13 1530.5,-573.13 1527.0001,-583.13 1534.0001,-583.13\"/>\n",
              "</g>\n",
              "<!-- 62 -->\n",
              "<g id=\"node63\" class=\"node\">\n",
              "<title>62</title>\n",
              "<polygon fill=\"#e58139\" stroke=\"#000000\" points=\"1699.5,-565.5 1607.5,-565.5 1607.5,-512.5 1699.5,-512.5 1699.5,-565.5\"/>\n",
              "<text text-anchor=\"middle\" x=\"1653.5\" y=\"-550.3\" font-family=\"Times,serif\" font-size=\"14.00\" fill=\"#000000\">gini = 0.0</text>\n",
              "<text text-anchor=\"middle\" x=\"1653.5\" y=\"-535.3\" font-family=\"Times,serif\" font-size=\"14.00\" fill=\"#000000\">samples = 2</text>\n",
              "<text text-anchor=\"middle\" x=\"1653.5\" y=\"-520.3\" font-family=\"Times,serif\" font-size=\"14.00\" fill=\"#000000\">value = [2, 0]</text>\n",
              "</g>\n",
              "<!-- 56&#45;&gt;62 -->\n",
              "<g id=\"edge62\" class=\"edge\">\n",
              "<title>56&#45;&gt;62</title>\n",
              "<path fill=\"none\" stroke=\"#000000\" d=\"M1570.7748,-608.9465C1584.7139,-597.1606 1600.3112,-583.9726 1614.1732,-572.2519\"/>\n",
              "<polygon fill=\"#000000\" stroke=\"#000000\" points=\"1616.7324,-574.6715 1622.1088,-565.5422 1612.2127,-569.3262 1616.7324,-574.6715\"/>\n",
              "</g>\n",
              "<!-- 58 -->\n",
              "<g id=\"node59\" class=\"node\">\n",
              "<title>58</title>\n",
              "<polygon fill=\"#399de5\" stroke=\"#000000\" points=\"1576.5,-461.5 1484.5,-461.5 1484.5,-408.5 1576.5,-408.5 1576.5,-461.5\"/>\n",
              "<text text-anchor=\"middle\" x=\"1530.5\" y=\"-446.3\" font-family=\"Times,serif\" font-size=\"14.00\" fill=\"#000000\">gini = 0.0</text>\n",
              "<text text-anchor=\"middle\" x=\"1530.5\" y=\"-431.3\" font-family=\"Times,serif\" font-size=\"14.00\" fill=\"#000000\">samples = 6</text>\n",
              "<text text-anchor=\"middle\" x=\"1530.5\" y=\"-416.3\" font-family=\"Times,serif\" font-size=\"14.00\" fill=\"#000000\">value = [0, 6]</text>\n",
              "</g>\n",
              "<!-- 57&#45;&gt;58 -->\n",
              "<g id=\"edge58\" class=\"edge\">\n",
              "<title>57&#45;&gt;58</title>\n",
              "<path fill=\"none\" stroke=\"#000000\" d=\"M1530.5,-504.9465C1530.5,-494.2621 1530.5,-482.4254 1530.5,-471.5742\"/>\n",
              "<polygon fill=\"#000000\" stroke=\"#000000\" points=\"1534.0001,-471.5421 1530.5,-461.5422 1527.0001,-471.5422 1534.0001,-471.5421\"/>\n",
              "</g>\n",
              "<!-- 59 -->\n",
              "<g id=\"node60\" class=\"node\">\n",
              "<title>59</title>\n",
              "<polygon fill=\"#f2c09c\" stroke=\"#000000\" points=\"1713,-469 1616,-469 1616,-401 1713,-401 1713,-469\"/>\n",
              "<text text-anchor=\"middle\" x=\"1664.5\" y=\"-453.8\" font-family=\"Times,serif\" font-size=\"14.00\" fill=\"#000000\">BMI &lt;= 35.25</text>\n",
              "<text text-anchor=\"middle\" x=\"1664.5\" y=\"-438.8\" font-family=\"Times,serif\" font-size=\"14.00\" fill=\"#000000\">gini = 0.444</text>\n",
              "<text text-anchor=\"middle\" x=\"1664.5\" y=\"-423.8\" font-family=\"Times,serif\" font-size=\"14.00\" fill=\"#000000\">samples = 3</text>\n",
              "<text text-anchor=\"middle\" x=\"1664.5\" y=\"-408.8\" font-family=\"Times,serif\" font-size=\"14.00\" fill=\"#000000\">value = [2, 1]</text>\n",
              "</g>\n",
              "<!-- 57&#45;&gt;59 -->\n",
              "<g id=\"edge59\" class=\"edge\">\n",
              "<title>57&#45;&gt;59</title>\n",
              "<path fill=\"none\" stroke=\"#000000\" d=\"M1574.3766,-504.9465C1586.5235,-495.519 1599.8262,-485.1946 1612.3927,-475.4415\"/>\n",
              "<polygon fill=\"#000000\" stroke=\"#000000\" points=\"1614.7709,-478.0262 1620.5248,-469.13 1610.479,-472.4963 1614.7709,-478.0262\"/>\n",
              "</g>\n",
              "<!-- 60 -->\n",
              "<g id=\"node61\" class=\"node\">\n",
              "<title>60</title>\n",
              "<polygon fill=\"#e58139\" stroke=\"#000000\" points=\"1710.5,-357.5 1618.5,-357.5 1618.5,-304.5 1710.5,-304.5 1710.5,-357.5\"/>\n",
              "<text text-anchor=\"middle\" x=\"1664.5\" y=\"-342.3\" font-family=\"Times,serif\" font-size=\"14.00\" fill=\"#000000\">gini = 0.0</text>\n",
              "<text text-anchor=\"middle\" x=\"1664.5\" y=\"-327.3\" font-family=\"Times,serif\" font-size=\"14.00\" fill=\"#000000\">samples = 2</text>\n",
              "<text text-anchor=\"middle\" x=\"1664.5\" y=\"-312.3\" font-family=\"Times,serif\" font-size=\"14.00\" fill=\"#000000\">value = [2, 0]</text>\n",
              "</g>\n",
              "<!-- 59&#45;&gt;60 -->\n",
              "<g id=\"edge60\" class=\"edge\">\n",
              "<title>59&#45;&gt;60</title>\n",
              "<path fill=\"none\" stroke=\"#000000\" d=\"M1664.5,-400.9465C1664.5,-390.2621 1664.5,-378.4254 1664.5,-367.5742\"/>\n",
              "<polygon fill=\"#000000\" stroke=\"#000000\" points=\"1668.0001,-367.5421 1664.5,-357.5422 1661.0001,-367.5422 1668.0001,-367.5421\"/>\n",
              "</g>\n",
              "<!-- 61 -->\n",
              "<g id=\"node62\" class=\"node\">\n",
              "<title>61</title>\n",
              "<polygon fill=\"#399de5\" stroke=\"#000000\" points=\"1820.5,-357.5 1728.5,-357.5 1728.5,-304.5 1820.5,-304.5 1820.5,-357.5\"/>\n",
              "<text text-anchor=\"middle\" x=\"1774.5\" y=\"-342.3\" font-family=\"Times,serif\" font-size=\"14.00\" fill=\"#000000\">gini = 0.0</text>\n",
              "<text text-anchor=\"middle\" x=\"1774.5\" y=\"-327.3\" font-family=\"Times,serif\" font-size=\"14.00\" fill=\"#000000\">samples = 1</text>\n",
              "<text text-anchor=\"middle\" x=\"1774.5\" y=\"-312.3\" font-family=\"Times,serif\" font-size=\"14.00\" fill=\"#000000\">value = [0, 1]</text>\n",
              "</g>\n",
              "<!-- 59&#45;&gt;61 -->\n",
              "<g id=\"edge61\" class=\"edge\">\n",
              "<title>59&#45;&gt;61</title>\n",
              "<path fill=\"none\" stroke=\"#000000\" d=\"M1700.5181,-400.9465C1712.8675,-389.2707 1726.6722,-376.219 1738.9817,-364.5809\"/>\n",
              "<polygon fill=\"#000000\" stroke=\"#000000\" points=\"1741.5646,-366.9556 1746.4266,-357.5422 1736.7555,-361.869 1741.5646,-366.9556\"/>\n",
              "</g>\n",
              "<!-- 65 -->\n",
              "<g id=\"node66\" class=\"node\">\n",
              "<title>65</title>\n",
              "<polygon fill=\"#fefbf9\" stroke=\"#000000\" points=\"2534,-989 2395,-989 2395,-921 2534,-921 2534,-989\"/>\n",
              "<text text-anchor=\"middle\" x=\"2464.5\" y=\"-973.8\" font-family=\"Times,serif\" font-size=\"14.00\" fill=\"#000000\">SkinThickness &lt;= 4.0</text>\n",
              "<text text-anchor=\"middle\" x=\"2464.5\" y=\"-958.8\" font-family=\"Times,serif\" font-size=\"14.00\" fill=\"#000000\">gini = 0.5</text>\n",
              "<text text-anchor=\"middle\" x=\"2464.5\" y=\"-943.8\" font-family=\"Times,serif\" font-size=\"14.00\" fill=\"#000000\">samples = 63</text>\n",
              "<text text-anchor=\"middle\" x=\"2464.5\" y=\"-928.8\" font-family=\"Times,serif\" font-size=\"14.00\" fill=\"#000000\">value = [32, 31]</text>\n",
              "</g>\n",
              "<!-- 64&#45;&gt;65 -->\n",
              "<g id=\"edge65\" class=\"edge\">\n",
              "<title>64&#45;&gt;65</title>\n",
              "<path fill=\"none\" stroke=\"#000000\" d=\"M2464.5,-1024.9465C2464.5,-1016.776 2464.5,-1007.9318 2464.5,-999.3697\"/>\n",
              "<polygon fill=\"#000000\" stroke=\"#000000\" points=\"2468.0001,-999.13 2464.5,-989.13 2461.0001,-999.13 2468.0001,-999.13\"/>\n",
              "</g>\n",
              "<!-- 88 -->\n",
              "<g id=\"node89\" class=\"node\">\n",
              "<title>88</title>\n",
              "<polygon fill=\"#55abe9\" stroke=\"#000000\" points=\"2850,-989 2711,-989 2711,-921 2850,-921 2850,-989\"/>\n",
              "<text text-anchor=\"middle\" x=\"2780.5\" y=\"-973.8\" font-family=\"Times,serif\" font-size=\"14.00\" fill=\"#000000\">SkinThickness &lt;= 3.5</text>\n",
              "<text text-anchor=\"middle\" x=\"2780.5\" y=\"-958.8\" font-family=\"Times,serif\" font-size=\"14.00\" fill=\"#000000\">gini = 0.22</text>\n",
              "<text text-anchor=\"middle\" x=\"2780.5\" y=\"-943.8\" font-family=\"Times,serif\" font-size=\"14.00\" fill=\"#000000\">samples = 167</text>\n",
              "<text text-anchor=\"middle\" x=\"2780.5\" y=\"-928.8\" font-family=\"Times,serif\" font-size=\"14.00\" fill=\"#000000\">value = [21, 146]</text>\n",
              "</g>\n",
              "<!-- 64&#45;&gt;88 -->\n",
              "<g id=\"edge88\" class=\"edge\">\n",
              "<title>64&#45;&gt;88</title>\n",
              "<path fill=\"none\" stroke=\"#000000\" d=\"M2521.3594,-1040.2868C2571.5838,-1023.7572 2645.3305,-999.4862 2701.3224,-981.0584\"/>\n",
              "<polygon fill=\"#000000\" stroke=\"#000000\" points=\"2702.4492,-984.3724 2710.8538,-977.9215 2700.2608,-977.7232 2702.4492,-984.3724\"/>\n",
              "</g>\n",
              "<!-- 66 -->\n",
              "<g id=\"node67\" class=\"node\">\n",
              "<title>66</title>\n",
              "<polygon fill=\"#399de5\" stroke=\"#000000\" points=\"2451,-877.5 2352,-877.5 2352,-824.5 2451,-824.5 2451,-877.5\"/>\n",
              "<text text-anchor=\"middle\" x=\"2401.5\" y=\"-862.3\" font-family=\"Times,serif\" font-size=\"14.00\" fill=\"#000000\">gini = 0.0</text>\n",
              "<text text-anchor=\"middle\" x=\"2401.5\" y=\"-847.3\" font-family=\"Times,serif\" font-size=\"14.00\" fill=\"#000000\">samples = 11</text>\n",
              "<text text-anchor=\"middle\" x=\"2401.5\" y=\"-832.3\" font-family=\"Times,serif\" font-size=\"14.00\" fill=\"#000000\">value = [0, 11]</text>\n",
              "</g>\n",
              "<!-- 65&#45;&gt;66 -->\n",
              "<g id=\"edge66\" class=\"edge\">\n",
              "<title>65&#45;&gt;66</title>\n",
              "<path fill=\"none\" stroke=\"#000000\" d=\"M2443.8714,-920.9465C2437.1322,-909.8215 2429.6363,-897.4473 2422.8455,-886.237\"/>\n",
              "<polygon fill=\"#000000\" stroke=\"#000000\" points=\"2425.7533,-884.2818 2417.5784,-877.5422 2419.7661,-887.9087 2425.7533,-884.2818\"/>\n",
              "</g>\n",
              "<!-- 67 -->\n",
              "<g id=\"node68\" class=\"node\">\n",
              "<title>67</title>\n",
              "<polygon fill=\"#f5d0b5\" stroke=\"#000000\" points=\"2586,-885 2469,-885 2469,-817 2586,-817 2586,-885\"/>\n",
              "<text text-anchor=\"middle\" x=\"2527.5\" y=\"-869.8\" font-family=\"Times,serif\" font-size=\"14.00\" fill=\"#000000\">Glucose &lt;= 1.506</text>\n",
              "<text text-anchor=\"middle\" x=\"2527.5\" y=\"-854.8\" font-family=\"Times,serif\" font-size=\"14.00\" fill=\"#000000\">gini = 0.473</text>\n",
              "<text text-anchor=\"middle\" x=\"2527.5\" y=\"-839.8\" font-family=\"Times,serif\" font-size=\"14.00\" fill=\"#000000\">samples = 52</text>\n",
              "<text text-anchor=\"middle\" x=\"2527.5\" y=\"-824.8\" font-family=\"Times,serif\" font-size=\"14.00\" fill=\"#000000\">value = [32, 20]</text>\n",
              "</g>\n",
              "<!-- 65&#45;&gt;67 -->\n",
              "<g id=\"edge67\" class=\"edge\">\n",
              "<title>65&#45;&gt;67</title>\n",
              "<path fill=\"none\" stroke=\"#000000\" d=\"M2485.1286,-920.9465C2490.3499,-912.3271 2496.0255,-902.9579 2501.4755,-893.9611\"/>\n",
              "<polygon fill=\"#000000\" stroke=\"#000000\" points=\"2504.6374,-895.4965 2506.8251,-885.13 2498.6503,-891.8697 2504.6374,-895.4965\"/>\n",
              "</g>\n",
              "<!-- 68 -->\n",
              "<g id=\"node69\" class=\"node\">\n",
              "<title>68</title>\n",
              "<polygon fill=\"#efb286\" stroke=\"#000000\" points=\"2527,-781 2390,-781 2390,-713 2527,-713 2527,-781\"/>\n",
              "<text text-anchor=\"middle\" x=\"2458.5\" y=\"-765.8\" font-family=\"Times,serif\" font-size=\"14.00\" fill=\"#000000\">Insulin_nan &lt;= 208.0</text>\n",
              "<text text-anchor=\"middle\" x=\"2458.5\" y=\"-750.8\" font-family=\"Times,serif\" font-size=\"14.00\" fill=\"#000000\">gini = 0.402</text>\n",
              "<text text-anchor=\"middle\" x=\"2458.5\" y=\"-735.8\" font-family=\"Times,serif\" font-size=\"14.00\" fill=\"#000000\">samples = 43</text>\n",
              "<text text-anchor=\"middle\" x=\"2458.5\" y=\"-720.8\" font-family=\"Times,serif\" font-size=\"14.00\" fill=\"#000000\">value = [31, 12]</text>\n",
              "</g>\n",
              "<!-- 67&#45;&gt;68 -->\n",
              "<g id=\"edge68\" class=\"edge\">\n",
              "<title>67&#45;&gt;68</title>\n",
              "<path fill=\"none\" stroke=\"#000000\" d=\"M2504.9068,-816.9465C2499.1286,-808.2373 2492.8425,-798.7626 2486.8166,-789.6801\"/>\n",
              "<polygon fill=\"#000000\" stroke=\"#000000\" points=\"2489.589,-787.5278 2481.1439,-781.13 2483.756,-791.3978 2489.589,-787.5278\"/>\n",
              "</g>\n",
              "<!-- 85 -->\n",
              "<g id=\"node86\" class=\"node\">\n",
              "<title>85</title>\n",
              "<polygon fill=\"#52a9e8\" stroke=\"#000000\" points=\"2644,-781 2547,-781 2547,-713 2644,-713 2644,-781\"/>\n",
              "<text text-anchor=\"middle\" x=\"2595.5\" y=\"-765.8\" font-family=\"Times,serif\" font-size=\"14.00\" fill=\"#000000\">BMI &lt;= 28.95</text>\n",
              "<text text-anchor=\"middle\" x=\"2595.5\" y=\"-750.8\" font-family=\"Times,serif\" font-size=\"14.00\" fill=\"#000000\">gini = 0.198</text>\n",
              "<text text-anchor=\"middle\" x=\"2595.5\" y=\"-735.8\" font-family=\"Times,serif\" font-size=\"14.00\" fill=\"#000000\">samples = 9</text>\n",
              "<text text-anchor=\"middle\" x=\"2595.5\" y=\"-720.8\" font-family=\"Times,serif\" font-size=\"14.00\" fill=\"#000000\">value = [1, 8]</text>\n",
              "</g>\n",
              "<!-- 67&#45;&gt;85 -->\n",
              "<g id=\"edge85\" class=\"edge\">\n",
              "<title>67&#45;&gt;85</title>\n",
              "<path fill=\"none\" stroke=\"#000000\" d=\"M2549.7657,-816.9465C2555.4602,-808.2373 2561.6552,-798.7626 2567.5938,-789.6801\"/>\n",
              "<polygon fill=\"#000000\" stroke=\"#000000\" points=\"2570.6411,-791.4151 2573.1842,-781.13 2564.7823,-787.5843 2570.6411,-791.4151\"/>\n",
              "</g>\n",
              "<!-- 69 -->\n",
              "<g id=\"node70\" class=\"node\">\n",
              "<title>69</title>\n",
              "<polygon fill=\"#f9e4d5\" stroke=\"#000000\" points=\"2367,-677 2230,-677 2230,-609 2367,-609 2367,-677\"/>\n",
              "<text text-anchor=\"middle\" x=\"2298.5\" y=\"-661.8\" font-family=\"Times,serif\" font-size=\"14.00\" fill=\"#000000\">Insulin_nan &lt;= 189.0</text>\n",
              "<text text-anchor=\"middle\" x=\"2298.5\" y=\"-646.8\" font-family=\"Times,serif\" font-size=\"14.00\" fill=\"#000000\">gini = 0.493</text>\n",
              "<text text-anchor=\"middle\" x=\"2298.5\" y=\"-631.8\" font-family=\"Times,serif\" font-size=\"14.00\" fill=\"#000000\">samples = 25</text>\n",
              "<text text-anchor=\"middle\" x=\"2298.5\" y=\"-616.8\" font-family=\"Times,serif\" font-size=\"14.00\" fill=\"#000000\">value = [14, 11]</text>\n",
              "</g>\n",
              "<!-- 68&#45;&gt;69 -->\n",
              "<g id=\"edge69\" class=\"edge\">\n",
              "<title>68&#45;&gt;69</title>\n",
              "<path fill=\"none\" stroke=\"#000000\" d=\"M2406.11,-712.9465C2391.1918,-703.2497 2374.8136,-692.6039 2359.4338,-682.6069\"/>\n",
              "<polygon fill=\"#000000\" stroke=\"#000000\" points=\"2361.2996,-679.6454 2351.0077,-677.13 2357.4847,-685.5145 2361.2996,-679.6454\"/>\n",
              "</g>\n",
              "<!-- 80 -->\n",
              "<g id=\"node81\" class=\"node\">\n",
              "<title>80</title>\n",
              "<polygon fill=\"#e78845\" stroke=\"#000000\" points=\"2531.5,-677 2385.5,-677 2385.5,-609 2531.5,-609 2531.5,-677\"/>\n",
              "<text text-anchor=\"middle\" x=\"2458.5\" y=\"-661.8\" font-family=\"Times,serif\" font-size=\"14.00\" fill=\"#000000\">SkinThickness &lt;= 41.5</text>\n",
              "<text text-anchor=\"middle\" x=\"2458.5\" y=\"-646.8\" font-family=\"Times,serif\" font-size=\"14.00\" fill=\"#000000\">gini = 0.105</text>\n",
              "<text text-anchor=\"middle\" x=\"2458.5\" y=\"-631.8\" font-family=\"Times,serif\" font-size=\"14.00\" fill=\"#000000\">samples = 18</text>\n",
              "<text text-anchor=\"middle\" x=\"2458.5\" y=\"-616.8\" font-family=\"Times,serif\" font-size=\"14.00\" fill=\"#000000\">value = [17, 1]</text>\n",
              "</g>\n",
              "<!-- 68&#45;&gt;80 -->\n",
              "<g id=\"edge80\" class=\"edge\">\n",
              "<title>68&#45;&gt;80</title>\n",
              "<path fill=\"none\" stroke=\"#000000\" d=\"M2458.5,-712.9465C2458.5,-704.776 2458.5,-695.9318 2458.5,-687.3697\"/>\n",
              "<polygon fill=\"#000000\" stroke=\"#000000\" points=\"2462.0001,-687.13 2458.5,-677.13 2455.0001,-687.13 2462.0001,-687.13\"/>\n",
              "</g>\n",
              "<!-- 70 -->\n",
              "<g id=\"node71\" class=\"node\">\n",
              "<title>70</title>\n",
              "<polygon fill=\"#eb9e67\" stroke=\"#000000\" points=\"2182.5,-573 2072.5,-573 2072.5,-505 2182.5,-505 2182.5,-573\"/>\n",
              "<text text-anchor=\"middle\" x=\"2127.5\" y=\"-557.8\" font-family=\"Times,serif\" font-size=\"14.00\" fill=\"#000000\">Glucose &lt;= 0.52</text>\n",
              "<text text-anchor=\"middle\" x=\"2127.5\" y=\"-542.8\" font-family=\"Times,serif\" font-size=\"14.00\" fill=\"#000000\">gini = 0.305</text>\n",
              "<text text-anchor=\"middle\" x=\"2127.5\" y=\"-527.8\" font-family=\"Times,serif\" font-size=\"14.00\" fill=\"#000000\">samples = 16</text>\n",
              "<text text-anchor=\"middle\" x=\"2127.5\" y=\"-512.8\" font-family=\"Times,serif\" font-size=\"14.00\" fill=\"#000000\">value = [13, 3]</text>\n",
              "</g>\n",
              "<!-- 69&#45;&gt;70 -->\n",
              "<g id=\"edge70\" class=\"edge\">\n",
              "<title>69&#45;&gt;70</title>\n",
              "<path fill=\"none\" stroke=\"#000000\" d=\"M2242.5082,-608.9465C2226.1679,-599.0086 2208.1887,-588.0738 2191.3988,-577.8624\"/>\n",
              "<polygon fill=\"#000000\" stroke=\"#000000\" points=\"2193.1047,-574.8035 2182.7421,-572.5975 2189.4673,-580.7842 2193.1047,-574.8035\"/>\n",
              "</g>\n",
              "<!-- 77 -->\n",
              "<g id=\"node78\" class=\"node\">\n",
              "<title>77</title>\n",
              "<polygon fill=\"#52a9e8\" stroke=\"#000000\" points=\"2376.5,-573 2230.5,-573 2230.5,-505 2376.5,-505 2376.5,-573\"/>\n",
              "<text text-anchor=\"middle\" x=\"2303.5\" y=\"-557.8\" font-family=\"Times,serif\" font-size=\"14.00\" fill=\"#000000\">SkinThickness &lt;= 48.0</text>\n",
              "<text text-anchor=\"middle\" x=\"2303.5\" y=\"-542.8\" font-family=\"Times,serif\" font-size=\"14.00\" fill=\"#000000\">gini = 0.198</text>\n",
              "<text text-anchor=\"middle\" x=\"2303.5\" y=\"-527.8\" font-family=\"Times,serif\" font-size=\"14.00\" fill=\"#000000\">samples = 9</text>\n",
              "<text text-anchor=\"middle\" x=\"2303.5\" y=\"-512.8\" font-family=\"Times,serif\" font-size=\"14.00\" fill=\"#000000\">value = [1, 8]</text>\n",
              "</g>\n",
              "<!-- 69&#45;&gt;77 -->\n",
              "<g id=\"edge77\" class=\"edge\">\n",
              "<title>69&#45;&gt;77</title>\n",
              "<path fill=\"none\" stroke=\"#000000\" d=\"M2300.1372,-608.9465C2300.53,-600.776 2300.9552,-591.9318 2301.3668,-583.3697\"/>\n",
              "<polygon fill=\"#000000\" stroke=\"#000000\" points=\"2304.8748,-583.2866 2301.8591,-573.13 2297.8829,-582.9504 2304.8748,-583.2866\"/>\n",
              "</g>\n",
              "<!-- 71 -->\n",
              "<g id=\"node72\" class=\"node\">\n",
              "<title>71</title>\n",
              "<polygon fill=\"#e78c49\" stroke=\"#000000\" points=\"1998,-469 1779,-469 1779,-401 1998,-401 1998,-469\"/>\n",
              "<text text-anchor=\"middle\" x=\"1888.5\" y=\"-453.8\" font-family=\"Times,serif\" font-size=\"14.00\" fill=\"#000000\">DiabetesPedigreeFunction &lt;= 2.105</text>\n",
              "<text text-anchor=\"middle\" x=\"1888.5\" y=\"-438.8\" font-family=\"Times,serif\" font-size=\"14.00\" fill=\"#000000\">gini = 0.142</text>\n",
              "<text text-anchor=\"middle\" x=\"1888.5\" y=\"-423.8\" font-family=\"Times,serif\" font-size=\"14.00\" fill=\"#000000\">samples = 13</text>\n",
              "<text text-anchor=\"middle\" x=\"1888.5\" y=\"-408.8\" font-family=\"Times,serif\" font-size=\"14.00\" fill=\"#000000\">value = [12, 1]</text>\n",
              "</g>\n",
              "<!-- 70&#45;&gt;71 -->\n",
              "<g id=\"edge71\" class=\"edge\">\n",
              "<title>70&#45;&gt;71</title>\n",
              "<path fill=\"none\" stroke=\"#000000\" d=\"M2072.3685,-515.0097C2043.8866,-502.6159 2008.4511,-487.1963 1976.3118,-473.211\"/>\n",
              "<polygon fill=\"#000000\" stroke=\"#000000\" points=\"1977.4664,-469.8965 1966.9004,-469.1156 1974.6733,-476.3151 1977.4664,-469.8965\"/>\n",
              "</g>\n",
              "<!-- 74 -->\n",
              "<g id=\"node75\" class=\"node\">\n",
              "<title>74</title>\n",
              "<polygon fill=\"#9ccef2\" stroke=\"#000000\" points=\"2239,-469 2016,-469 2016,-401 2239,-401 2239,-469\"/>\n",
              "<text text-anchor=\"middle\" x=\"2127.5\" y=\"-453.8\" font-family=\"Times,serif\" font-size=\"14.00\" fill=\"#000000\">DiabetesPedigreeFunction &lt;= &#45;0.694</text>\n",
              "<text text-anchor=\"middle\" x=\"2127.5\" y=\"-438.8\" font-family=\"Times,serif\" font-size=\"14.00\" fill=\"#000000\">gini = 0.444</text>\n",
              "<text text-anchor=\"middle\" x=\"2127.5\" y=\"-423.8\" font-family=\"Times,serif\" font-size=\"14.00\" fill=\"#000000\">samples = 3</text>\n",
              "<text text-anchor=\"middle\" x=\"2127.5\" y=\"-408.8\" font-family=\"Times,serif\" font-size=\"14.00\" fill=\"#000000\">value = [1, 2]</text>\n",
              "</g>\n",
              "<!-- 70&#45;&gt;74 -->\n",
              "<g id=\"edge74\" class=\"edge\">\n",
              "<title>70&#45;&gt;74</title>\n",
              "<path fill=\"none\" stroke=\"#000000\" d=\"M2127.5,-504.9465C2127.5,-496.776 2127.5,-487.9318 2127.5,-479.3697\"/>\n",
              "<polygon fill=\"#000000\" stroke=\"#000000\" points=\"2131.0001,-479.13 2127.5,-469.13 2124.0001,-479.13 2131.0001,-479.13\"/>\n",
              "</g>\n",
              "<!-- 72 -->\n",
              "<g id=\"node73\" class=\"node\">\n",
              "<title>72</title>\n",
              "<polygon fill=\"#e58139\" stroke=\"#000000\" points=\"1938,-357.5 1839,-357.5 1839,-304.5 1938,-304.5 1938,-357.5\"/>\n",
              "<text text-anchor=\"middle\" x=\"1888.5\" y=\"-342.3\" font-family=\"Times,serif\" font-size=\"14.00\" fill=\"#000000\">gini = 0.0</text>\n",
              "<text text-anchor=\"middle\" x=\"1888.5\" y=\"-327.3\" font-family=\"Times,serif\" font-size=\"14.00\" fill=\"#000000\">samples = 12</text>\n",
              "<text text-anchor=\"middle\" x=\"1888.5\" y=\"-312.3\" font-family=\"Times,serif\" font-size=\"14.00\" fill=\"#000000\">value = [12, 0]</text>\n",
              "</g>\n",
              "<!-- 71&#45;&gt;72 -->\n",
              "<g id=\"edge72\" class=\"edge\">\n",
              "<title>71&#45;&gt;72</title>\n",
              "<path fill=\"none\" stroke=\"#000000\" d=\"M1888.5,-400.9465C1888.5,-390.2621 1888.5,-378.4254 1888.5,-367.5742\"/>\n",
              "<polygon fill=\"#000000\" stroke=\"#000000\" points=\"1892.0001,-367.5421 1888.5,-357.5422 1885.0001,-367.5422 1892.0001,-367.5421\"/>\n",
              "</g>\n",
              "<!-- 73 -->\n",
              "<g id=\"node74\" class=\"node\">\n",
              "<title>73</title>\n",
              "<polygon fill=\"#399de5\" stroke=\"#000000\" points=\"2048.5,-357.5 1956.5,-357.5 1956.5,-304.5 2048.5,-304.5 2048.5,-357.5\"/>\n",
              "<text text-anchor=\"middle\" x=\"2002.5\" y=\"-342.3\" font-family=\"Times,serif\" font-size=\"14.00\" fill=\"#000000\">gini = 0.0</text>\n",
              "<text text-anchor=\"middle\" x=\"2002.5\" y=\"-327.3\" font-family=\"Times,serif\" font-size=\"14.00\" fill=\"#000000\">samples = 1</text>\n",
              "<text text-anchor=\"middle\" x=\"2002.5\" y=\"-312.3\" font-family=\"Times,serif\" font-size=\"14.00\" fill=\"#000000\">value = [0, 1]</text>\n",
              "</g>\n",
              "<!-- 71&#45;&gt;73 -->\n",
              "<g id=\"edge73\" class=\"edge\">\n",
              "<title>71&#45;&gt;73</title>\n",
              "<path fill=\"none\" stroke=\"#000000\" d=\"M1925.8279,-400.9465C1938.6263,-389.2707 1952.933,-376.219 1965.6901,-364.5809\"/>\n",
              "<polygon fill=\"#000000\" stroke=\"#000000\" points=\"1968.3769,-366.8675 1973.4057,-357.5422 1963.6591,-361.6961 1968.3769,-366.8675\"/>\n",
              "</g>\n",
              "<!-- 75 -->\n",
              "<g id=\"node76\" class=\"node\">\n",
              "<title>75</title>\n",
              "<polygon fill=\"#e58139\" stroke=\"#000000\" points=\"2166.5,-357.5 2074.5,-357.5 2074.5,-304.5 2166.5,-304.5 2166.5,-357.5\"/>\n",
              "<text text-anchor=\"middle\" x=\"2120.5\" y=\"-342.3\" font-family=\"Times,serif\" font-size=\"14.00\" fill=\"#000000\">gini = 0.0</text>\n",
              "<text text-anchor=\"middle\" x=\"2120.5\" y=\"-327.3\" font-family=\"Times,serif\" font-size=\"14.00\" fill=\"#000000\">samples = 1</text>\n",
              "<text text-anchor=\"middle\" x=\"2120.5\" y=\"-312.3\" font-family=\"Times,serif\" font-size=\"14.00\" fill=\"#000000\">value = [1, 0]</text>\n",
              "</g>\n",
              "<!-- 74&#45;&gt;75 -->\n",
              "<g id=\"edge75\" class=\"edge\">\n",
              "<title>74&#45;&gt;75</title>\n",
              "<path fill=\"none\" stroke=\"#000000\" d=\"M2125.2079,-400.9465C2124.4888,-390.2621 2123.6921,-378.4254 2122.9617,-367.5742\"/>\n",
              "<polygon fill=\"#000000\" stroke=\"#000000\" points=\"2126.4502,-367.2845 2122.2865,-357.5422 2119.466,-367.7547 2126.4502,-367.2845\"/>\n",
              "</g>\n",
              "<!-- 76 -->\n",
              "<g id=\"node77\" class=\"node\">\n",
              "<title>76</title>\n",
              "<polygon fill=\"#399de5\" stroke=\"#000000\" points=\"2276.5,-357.5 2184.5,-357.5 2184.5,-304.5 2276.5,-304.5 2276.5,-357.5\"/>\n",
              "<text text-anchor=\"middle\" x=\"2230.5\" y=\"-342.3\" font-family=\"Times,serif\" font-size=\"14.00\" fill=\"#000000\">gini = 0.0</text>\n",
              "<text text-anchor=\"middle\" x=\"2230.5\" y=\"-327.3\" font-family=\"Times,serif\" font-size=\"14.00\" fill=\"#000000\">samples = 2</text>\n",
              "<text text-anchor=\"middle\" x=\"2230.5\" y=\"-312.3\" font-family=\"Times,serif\" font-size=\"14.00\" fill=\"#000000\">value = [0, 2]</text>\n",
              "</g>\n",
              "<!-- 74&#45;&gt;76 -->\n",
              "<g id=\"edge76\" class=\"edge\">\n",
              "<title>74&#45;&gt;76</title>\n",
              "<path fill=\"none\" stroke=\"#000000\" d=\"M2161.2261,-400.9465C2172.6805,-389.3809 2185.472,-376.4652 2196.9154,-364.9107\"/>\n",
              "<polygon fill=\"#000000\" stroke=\"#000000\" points=\"2199.663,-367.1102 2204.213,-357.5422 2194.6894,-362.1844 2199.663,-367.1102\"/>\n",
              "</g>\n",
              "<!-- 78 -->\n",
              "<g id=\"node79\" class=\"node\">\n",
              "<title>78</title>\n",
              "<polygon fill=\"#399de5\" stroke=\"#000000\" points=\"2349.5,-461.5 2257.5,-461.5 2257.5,-408.5 2349.5,-408.5 2349.5,-461.5\"/>\n",
              "<text text-anchor=\"middle\" x=\"2303.5\" y=\"-446.3\" font-family=\"Times,serif\" font-size=\"14.00\" fill=\"#000000\">gini = 0.0</text>\n",
              "<text text-anchor=\"middle\" x=\"2303.5\" y=\"-431.3\" font-family=\"Times,serif\" font-size=\"14.00\" fill=\"#000000\">samples = 8</text>\n",
              "<text text-anchor=\"middle\" x=\"2303.5\" y=\"-416.3\" font-family=\"Times,serif\" font-size=\"14.00\" fill=\"#000000\">value = [0, 8]</text>\n",
              "</g>\n",
              "<!-- 77&#45;&gt;78 -->\n",
              "<g id=\"edge78\" class=\"edge\">\n",
              "<title>77&#45;&gt;78</title>\n",
              "<path fill=\"none\" stroke=\"#000000\" d=\"M2303.5,-504.9465C2303.5,-494.2621 2303.5,-482.4254 2303.5,-471.5742\"/>\n",
              "<polygon fill=\"#000000\" stroke=\"#000000\" points=\"2307.0001,-471.5421 2303.5,-461.5422 2300.0001,-471.5422 2307.0001,-471.5421\"/>\n",
              "</g>\n",
              "<!-- 79 -->\n",
              "<g id=\"node80\" class=\"node\">\n",
              "<title>79</title>\n",
              "<polygon fill=\"#e58139\" stroke=\"#000000\" points=\"2459.5,-461.5 2367.5,-461.5 2367.5,-408.5 2459.5,-408.5 2459.5,-461.5\"/>\n",
              "<text text-anchor=\"middle\" x=\"2413.5\" y=\"-446.3\" font-family=\"Times,serif\" font-size=\"14.00\" fill=\"#000000\">gini = 0.0</text>\n",
              "<text text-anchor=\"middle\" x=\"2413.5\" y=\"-431.3\" font-family=\"Times,serif\" font-size=\"14.00\" fill=\"#000000\">samples = 1</text>\n",
              "<text text-anchor=\"middle\" x=\"2413.5\" y=\"-416.3\" font-family=\"Times,serif\" font-size=\"14.00\" fill=\"#000000\">value = [1, 0]</text>\n",
              "</g>\n",
              "<!-- 77&#45;&gt;79 -->\n",
              "<g id=\"edge79\" class=\"edge\">\n",
              "<title>77&#45;&gt;79</title>\n",
              "<path fill=\"none\" stroke=\"#000000\" d=\"M2339.5181,-504.9465C2351.8675,-493.2707 2365.6722,-480.219 2377.9817,-468.5809\"/>\n",
              "<polygon fill=\"#000000\" stroke=\"#000000\" points=\"2380.5646,-470.9556 2385.4266,-461.5422 2375.7555,-465.869 2380.5646,-470.9556\"/>\n",
              "</g>\n",
              "<!-- 81 -->\n",
              "<g id=\"node82\" class=\"node\">\n",
              "<title>81</title>\n",
              "<polygon fill=\"#e58139\" stroke=\"#000000\" points=\"2503,-565.5 2404,-565.5 2404,-512.5 2503,-512.5 2503,-565.5\"/>\n",
              "<text text-anchor=\"middle\" x=\"2453.5\" y=\"-550.3\" font-family=\"Times,serif\" font-size=\"14.00\" fill=\"#000000\">gini = 0.0</text>\n",
              "<text text-anchor=\"middle\" x=\"2453.5\" y=\"-535.3\" font-family=\"Times,serif\" font-size=\"14.00\" fill=\"#000000\">samples = 15</text>\n",
              "<text text-anchor=\"middle\" x=\"2453.5\" y=\"-520.3\" font-family=\"Times,serif\" font-size=\"14.00\" fill=\"#000000\">value = [15, 0]</text>\n",
              "</g>\n",
              "<!-- 80&#45;&gt;81 -->\n",
              "<g id=\"edge81\" class=\"edge\">\n",
              "<title>80&#45;&gt;81</title>\n",
              "<path fill=\"none\" stroke=\"#000000\" d=\"M2456.8628,-608.9465C2456.3491,-598.2621 2455.7801,-586.4254 2455.2584,-575.5742\"/>\n",
              "<polygon fill=\"#000000\" stroke=\"#000000\" points=\"2458.7523,-575.3625 2454.7761,-565.5422 2451.7604,-575.6987 2458.7523,-575.3625\"/>\n",
              "</g>\n",
              "<!-- 82 -->\n",
              "<g id=\"node83\" class=\"node\">\n",
              "<title>82</title>\n",
              "<polygon fill=\"#f2c09c\" stroke=\"#000000\" points=\"2658,-573 2521,-573 2521,-505 2658,-505 2658,-573\"/>\n",
              "<text text-anchor=\"middle\" x=\"2589.5\" y=\"-557.8\" font-family=\"Times,serif\" font-size=\"14.00\" fill=\"#000000\">Insulin_nan &lt;= 252.5</text>\n",
              "<text text-anchor=\"middle\" x=\"2589.5\" y=\"-542.8\" font-family=\"Times,serif\" font-size=\"14.00\" fill=\"#000000\">gini = 0.444</text>\n",
              "<text text-anchor=\"middle\" x=\"2589.5\" y=\"-527.8\" font-family=\"Times,serif\" font-size=\"14.00\" fill=\"#000000\">samples = 3</text>\n",
              "<text text-anchor=\"middle\" x=\"2589.5\" y=\"-512.8\" font-family=\"Times,serif\" font-size=\"14.00\" fill=\"#000000\">value = [2, 1]</text>\n",
              "</g>\n",
              "<!-- 80&#45;&gt;82 -->\n",
              "<g id=\"edge82\" class=\"edge\">\n",
              "<title>80&#45;&gt;82</title>\n",
              "<path fill=\"none\" stroke=\"#000000\" d=\"M2501.3943,-608.9465C2513.2693,-599.519 2526.2741,-589.1946 2538.5593,-579.4415\"/>\n",
              "<polygon fill=\"#000000\" stroke=\"#000000\" points=\"2540.8536,-582.089 2546.5093,-573.13 2536.5011,-576.6066 2540.8536,-582.089\"/>\n",
              "</g>\n",
              "<!-- 83 -->\n",
              "<g id=\"node84\" class=\"node\">\n",
              "<title>83</title>\n",
              "<polygon fill=\"#399de5\" stroke=\"#000000\" points=\"2569.5,-461.5 2477.5,-461.5 2477.5,-408.5 2569.5,-408.5 2569.5,-461.5\"/>\n",
              "<text text-anchor=\"middle\" x=\"2523.5\" y=\"-446.3\" font-family=\"Times,serif\" font-size=\"14.00\" fill=\"#000000\">gini = 0.0</text>\n",
              "<text text-anchor=\"middle\" x=\"2523.5\" y=\"-431.3\" font-family=\"Times,serif\" font-size=\"14.00\" fill=\"#000000\">samples = 1</text>\n",
              "<text text-anchor=\"middle\" x=\"2523.5\" y=\"-416.3\" font-family=\"Times,serif\" font-size=\"14.00\" fill=\"#000000\">value = [0, 1]</text>\n",
              "</g>\n",
              "<!-- 82&#45;&gt;83 -->\n",
              "<g id=\"edge83\" class=\"edge\">\n",
              "<title>82&#45;&gt;83</title>\n",
              "<path fill=\"none\" stroke=\"#000000\" d=\"M2567.8891,-504.9465C2560.829,-493.8215 2552.9761,-481.4473 2545.8619,-470.237\"/>\n",
              "<polygon fill=\"#000000\" stroke=\"#000000\" points=\"2548.6575,-468.1101 2540.3441,-461.5422 2542.7472,-471.8609 2548.6575,-468.1101\"/>\n",
              "</g>\n",
              "<!-- 84 -->\n",
              "<g id=\"node85\" class=\"node\">\n",
              "<title>84</title>\n",
              "<polygon fill=\"#e58139\" stroke=\"#000000\" points=\"2679.5,-461.5 2587.5,-461.5 2587.5,-408.5 2679.5,-408.5 2679.5,-461.5\"/>\n",
              "<text text-anchor=\"middle\" x=\"2633.5\" y=\"-446.3\" font-family=\"Times,serif\" font-size=\"14.00\" fill=\"#000000\">gini = 0.0</text>\n",
              "<text text-anchor=\"middle\" x=\"2633.5\" y=\"-431.3\" font-family=\"Times,serif\" font-size=\"14.00\" fill=\"#000000\">samples = 2</text>\n",
              "<text text-anchor=\"middle\" x=\"2633.5\" y=\"-416.3\" font-family=\"Times,serif\" font-size=\"14.00\" fill=\"#000000\">value = [2, 0]</text>\n",
              "</g>\n",
              "<!-- 82&#45;&gt;84 -->\n",
              "<g id=\"edge84\" class=\"edge\">\n",
              "<title>82&#45;&gt;84</title>\n",
              "<path fill=\"none\" stroke=\"#000000\" d=\"M2603.9072,-504.9465C2608.5208,-494.0418 2613.6421,-481.9368 2618.3097,-470.9043\"/>\n",
              "<polygon fill=\"#000000\" stroke=\"#000000\" points=\"2621.5976,-472.1156 2622.2706,-461.5422 2615.1508,-469.3881 2621.5976,-472.1156\"/>\n",
              "</g>\n",
              "<!-- 86 -->\n",
              "<g id=\"node87\" class=\"node\">\n",
              "<title>86</title>\n",
              "<polygon fill=\"#e58139\" stroke=\"#000000\" points=\"2641.5,-669.5 2549.5,-669.5 2549.5,-616.5 2641.5,-616.5 2641.5,-669.5\"/>\n",
              "<text text-anchor=\"middle\" x=\"2595.5\" y=\"-654.3\" font-family=\"Times,serif\" font-size=\"14.00\" fill=\"#000000\">gini = 0.0</text>\n",
              "<text text-anchor=\"middle\" x=\"2595.5\" y=\"-639.3\" font-family=\"Times,serif\" font-size=\"14.00\" fill=\"#000000\">samples = 1</text>\n",
              "<text text-anchor=\"middle\" x=\"2595.5\" y=\"-624.3\" font-family=\"Times,serif\" font-size=\"14.00\" fill=\"#000000\">value = [1, 0]</text>\n",
              "</g>\n",
              "<!-- 85&#45;&gt;86 -->\n",
              "<g id=\"edge86\" class=\"edge\">\n",
              "<title>85&#45;&gt;86</title>\n",
              "<path fill=\"none\" stroke=\"#000000\" d=\"M2595.5,-712.9465C2595.5,-702.2621 2595.5,-690.4254 2595.5,-679.5742\"/>\n",
              "<polygon fill=\"#000000\" stroke=\"#000000\" points=\"2599.0001,-679.5421 2595.5,-669.5422 2592.0001,-679.5422 2599.0001,-679.5421\"/>\n",
              "</g>\n",
              "<!-- 87 -->\n",
              "<g id=\"node88\" class=\"node\">\n",
              "<title>87</title>\n",
              "<polygon fill=\"#399de5\" stroke=\"#000000\" points=\"2751.5,-669.5 2659.5,-669.5 2659.5,-616.5 2751.5,-616.5 2751.5,-669.5\"/>\n",
              "<text text-anchor=\"middle\" x=\"2705.5\" y=\"-654.3\" font-family=\"Times,serif\" font-size=\"14.00\" fill=\"#000000\">gini = 0.0</text>\n",
              "<text text-anchor=\"middle\" x=\"2705.5\" y=\"-639.3\" font-family=\"Times,serif\" font-size=\"14.00\" fill=\"#000000\">samples = 8</text>\n",
              "<text text-anchor=\"middle\" x=\"2705.5\" y=\"-624.3\" font-family=\"Times,serif\" font-size=\"14.00\" fill=\"#000000\">value = [0, 8]</text>\n",
              "</g>\n",
              "<!-- 85&#45;&gt;87 -->\n",
              "<g id=\"edge87\" class=\"edge\">\n",
              "<title>85&#45;&gt;87</title>\n",
              "<path fill=\"none\" stroke=\"#000000\" d=\"M2631.5181,-712.9465C2643.8675,-701.2707 2657.6722,-688.219 2669.9817,-676.5809\"/>\n",
              "<polygon fill=\"#000000\" stroke=\"#000000\" points=\"2672.5646,-678.9556 2677.4266,-669.5422 2667.7555,-673.869 2672.5646,-678.9556\"/>\n",
              "</g>\n",
              "<!-- 89 -->\n",
              "<g id=\"node90\" class=\"node\">\n",
              "<title>89</title>\n",
              "<polygon fill=\"#399de5\" stroke=\"#000000\" points=\"2830,-877.5 2731,-877.5 2731,-824.5 2830,-824.5 2830,-877.5\"/>\n",
              "<text text-anchor=\"middle\" x=\"2780.5\" y=\"-862.3\" font-family=\"Times,serif\" font-size=\"14.00\" fill=\"#000000\">gini = 0.0</text>\n",
              "<text text-anchor=\"middle\" x=\"2780.5\" y=\"-847.3\" font-family=\"Times,serif\" font-size=\"14.00\" fill=\"#000000\">samples = 58</text>\n",
              "<text text-anchor=\"middle\" x=\"2780.5\" y=\"-832.3\" font-family=\"Times,serif\" font-size=\"14.00\" fill=\"#000000\">value = [0, 58]</text>\n",
              "</g>\n",
              "<!-- 88&#45;&gt;89 -->\n",
              "<g id=\"edge89\" class=\"edge\">\n",
              "<title>88&#45;&gt;89</title>\n",
              "<path fill=\"none\" stroke=\"#000000\" d=\"M2780.5,-920.9465C2780.5,-910.2621 2780.5,-898.4254 2780.5,-887.5742\"/>\n",
              "<polygon fill=\"#000000\" stroke=\"#000000\" points=\"2784.0001,-887.5421 2780.5,-877.5422 2777.0001,-887.5422 2784.0001,-887.5421\"/>\n",
              "</g>\n",
              "<!-- 90 -->\n",
              "<g id=\"node91\" class=\"node\">\n",
              "<title>90</title>\n",
              "<polygon fill=\"#68b4eb\" stroke=\"#000000\" points=\"3026,-885 2909,-885 2909,-817 3026,-817 3026,-885\"/>\n",
              "<text text-anchor=\"middle\" x=\"2967.5\" y=\"-869.8\" font-family=\"Times,serif\" font-size=\"14.00\" fill=\"#000000\">Glucose &lt;= 1.083</text>\n",
              "<text text-anchor=\"middle\" x=\"2967.5\" y=\"-854.8\" font-family=\"Times,serif\" font-size=\"14.00\" fill=\"#000000\">gini = 0.311</text>\n",
              "<text text-anchor=\"middle\" x=\"2967.5\" y=\"-839.8\" font-family=\"Times,serif\" font-size=\"14.00\" fill=\"#000000\">samples = 109</text>\n",
              "<text text-anchor=\"middle\" x=\"2967.5\" y=\"-824.8\" font-family=\"Times,serif\" font-size=\"14.00\" fill=\"#000000\">value = [21, 88]</text>\n",
              "</g>\n",
              "<!-- 88&#45;&gt;90 -->\n",
              "<g id=\"edge90\" class=\"edge\">\n",
              "<title>88&#45;&gt;90</title>\n",
              "<path fill=\"none\" stroke=\"#000000\" d=\"M2841.7308,-920.9465C2860.3976,-910.565 2881.0203,-899.0956 2900.0731,-888.4994\"/>\n",
              "<polygon fill=\"#000000\" stroke=\"#000000\" points=\"2901.955,-891.4578 2908.9932,-883.5385 2898.5527,-885.3402 2901.955,-891.4578\"/>\n",
              "</g>\n",
              "<!-- 91 -->\n",
              "<g id=\"node92\" class=\"node\">\n",
              "<title>91</title>\n",
              "<polygon fill=\"#82c1ef\" stroke=\"#000000\" points=\"3020.5,-781 2914.5,-781 2914.5,-713 3020.5,-713 3020.5,-781\"/>\n",
              "<text text-anchor=\"middle\" x=\"2967.5\" y=\"-765.8\" font-family=\"Times,serif\" font-size=\"14.00\" fill=\"#000000\">BMI &lt;= 38.85</text>\n",
              "<text text-anchor=\"middle\" x=\"2967.5\" y=\"-750.8\" font-family=\"Times,serif\" font-size=\"14.00\" fill=\"#000000\">gini = 0.394</text>\n",
              "<text text-anchor=\"middle\" x=\"2967.5\" y=\"-735.8\" font-family=\"Times,serif\" font-size=\"14.00\" fill=\"#000000\">samples = 74</text>\n",
              "<text text-anchor=\"middle\" x=\"2967.5\" y=\"-720.8\" font-family=\"Times,serif\" font-size=\"14.00\" fill=\"#000000\">value = [20, 54]</text>\n",
              "</g>\n",
              "<!-- 90&#45;&gt;91 -->\n",
              "<g id=\"edge91\" class=\"edge\">\n",
              "<title>90&#45;&gt;91</title>\n",
              "<path fill=\"none\" stroke=\"#000000\" d=\"M2967.5,-816.9465C2967.5,-808.776 2967.5,-799.9318 2967.5,-791.3697\"/>\n",
              "<polygon fill=\"#000000\" stroke=\"#000000\" points=\"2971.0001,-791.13 2967.5,-781.13 2964.0001,-791.13 2971.0001,-791.13\"/>\n",
              "</g>\n",
              "<!-- 118 -->\n",
              "<g id=\"node119\" class=\"node\">\n",
              "<title>118</title>\n",
              "<polygon fill=\"#3fa0e6\" stroke=\"#000000\" points=\"3169,-781 3070,-781 3070,-713 3169,-713 3169,-781\"/>\n",
              "<text text-anchor=\"middle\" x=\"3119.5\" y=\"-765.8\" font-family=\"Times,serif\" font-size=\"14.00\" fill=\"#000000\">BMI &lt;= 45.95</text>\n",
              "<text text-anchor=\"middle\" x=\"3119.5\" y=\"-750.8\" font-family=\"Times,serif\" font-size=\"14.00\" fill=\"#000000\">gini = 0.056</text>\n",
              "<text text-anchor=\"middle\" x=\"3119.5\" y=\"-735.8\" font-family=\"Times,serif\" font-size=\"14.00\" fill=\"#000000\">samples = 35</text>\n",
              "<text text-anchor=\"middle\" x=\"3119.5\" y=\"-720.8\" font-family=\"Times,serif\" font-size=\"14.00\" fill=\"#000000\">value = [1, 34]</text>\n",
              "</g>\n",
              "<!-- 90&#45;&gt;118 -->\n",
              "<g id=\"edge118\" class=\"edge\">\n",
              "<title>90&#45;&gt;118</title>\n",
              "<path fill=\"none\" stroke=\"#000000\" d=\"M3017.2705,-816.9465C3031.3839,-807.29 3046.8729,-796.6923 3061.4309,-786.7315\"/>\n",
              "<polygon fill=\"#000000\" stroke=\"#000000\" points=\"3063.6007,-789.4878 3069.8774,-780.9523 3059.6479,-783.7106 3063.6007,-789.4878\"/>\n",
              "</g>\n",
              "<!-- 92 -->\n",
              "<g id=\"node93\" class=\"node\">\n",
              "<title>92</title>\n",
              "<polygon fill=\"#a7d3f3\" stroke=\"#000000\" points=\"2935,-677 2798,-677 2798,-609 2935,-609 2935,-677\"/>\n",
              "<text text-anchor=\"middle\" x=\"2866.5\" y=\"-661.8\" font-family=\"Times,serif\" font-size=\"14.00\" fill=\"#000000\">Insulin_nan &lt;= 211.0</text>\n",
              "<text text-anchor=\"middle\" x=\"2866.5\" y=\"-646.8\" font-family=\"Times,serif\" font-size=\"14.00\" fill=\"#000000\">gini = 0.459</text>\n",
              "<text text-anchor=\"middle\" x=\"2866.5\" y=\"-631.8\" font-family=\"Times,serif\" font-size=\"14.00\" fill=\"#000000\">samples = 56</text>\n",
              "<text text-anchor=\"middle\" x=\"2866.5\" y=\"-616.8\" font-family=\"Times,serif\" font-size=\"14.00\" fill=\"#000000\">value = [20, 36]</text>\n",
              "</g>\n",
              "<!-- 91&#45;&gt;92 -->\n",
              "<g id=\"edge92\" class=\"edge\">\n",
              "<title>91&#45;&gt;92</title>\n",
              "<path fill=\"none\" stroke=\"#000000\" d=\"M2934.4288,-712.9465C2925.6221,-703.8782 2916.0093,-693.9799 2906.8597,-684.5585\"/>\n",
              "<polygon fill=\"#000000\" stroke=\"#000000\" points=\"2909.1232,-681.8654 2899.6455,-677.13 2904.1015,-686.7422 2909.1232,-681.8654\"/>\n",
              "</g>\n",
              "<!-- 117 -->\n",
              "<g id=\"node118\" class=\"node\">\n",
              "<title>117</title>\n",
              "<polygon fill=\"#399de5\" stroke=\"#000000\" points=\"3052,-669.5 2953,-669.5 2953,-616.5 3052,-616.5 3052,-669.5\"/>\n",
              "<text text-anchor=\"middle\" x=\"3002.5\" y=\"-654.3\" font-family=\"Times,serif\" font-size=\"14.00\" fill=\"#000000\">gini = 0.0</text>\n",
              "<text text-anchor=\"middle\" x=\"3002.5\" y=\"-639.3\" font-family=\"Times,serif\" font-size=\"14.00\" fill=\"#000000\">samples = 18</text>\n",
              "<text text-anchor=\"middle\" x=\"3002.5\" y=\"-624.3\" font-family=\"Times,serif\" font-size=\"14.00\" fill=\"#000000\">value = [0, 18]</text>\n",
              "</g>\n",
              "<!-- 91&#45;&gt;117 -->\n",
              "<g id=\"edge117\" class=\"edge\">\n",
              "<title>91&#45;&gt;117</title>\n",
              "<path fill=\"none\" stroke=\"#000000\" d=\"M2978.9603,-712.9465C2982.5931,-702.1519 2986.6217,-690.1813 2990.3042,-679.2389\"/>\n",
              "<polygon fill=\"#000000\" stroke=\"#000000\" points=\"2993.6951,-680.1362 2993.5675,-669.5422 2987.0607,-677.9035 2993.6951,-680.1362\"/>\n",
              "</g>\n",
              "<!-- 93 -->\n",
              "<g id=\"node94\" class=\"node\">\n",
              "<title>93</title>\n",
              "<polygon fill=\"#7bbeee\" stroke=\"#000000\" points=\"2935,-573 2798,-573 2798,-505 2935,-505 2935,-573\"/>\n",
              "<text text-anchor=\"middle\" x=\"2866.5\" y=\"-557.8\" font-family=\"Times,serif\" font-size=\"14.00\" fill=\"#000000\">Insulin_nan &lt;= 200.5</text>\n",
              "<text text-anchor=\"middle\" x=\"2866.5\" y=\"-542.8\" font-family=\"Times,serif\" font-size=\"14.00\" fill=\"#000000\">gini = 0.375</text>\n",
              "<text text-anchor=\"middle\" x=\"2866.5\" y=\"-527.8\" font-family=\"Times,serif\" font-size=\"14.00\" fill=\"#000000\">samples = 40</text>\n",
              "<text text-anchor=\"middle\" x=\"2866.5\" y=\"-512.8\" font-family=\"Times,serif\" font-size=\"14.00\" fill=\"#000000\">value = [10, 30]</text>\n",
              "</g>\n",
              "<!-- 92&#45;&gt;93 -->\n",
              "<g id=\"edge93\" class=\"edge\">\n",
              "<title>92&#45;&gt;93</title>\n",
              "<path fill=\"none\" stroke=\"#000000\" d=\"M2866.5,-608.9465C2866.5,-600.776 2866.5,-591.9318 2866.5,-583.3697\"/>\n",
              "<polygon fill=\"#000000\" stroke=\"#000000\" points=\"2870.0001,-583.13 2866.5,-573.13 2863.0001,-583.13 2870.0001,-583.13\"/>\n",
              "</g>\n",
              "<!-- 108 -->\n",
              "<g id=\"node109\" class=\"node\">\n",
              "<title>108</title>\n",
              "<polygon fill=\"#f5cdb0\" stroke=\"#000000\" points=\"3074,-573 2975,-573 2975,-505 3074,-505 3074,-573\"/>\n",
              "<text text-anchor=\"middle\" x=\"3024.5\" y=\"-557.8\" font-family=\"Times,serif\" font-size=\"14.00\" fill=\"#000000\">Age &lt;= 43.0</text>\n",
              "<text text-anchor=\"middle\" x=\"3024.5\" y=\"-542.8\" font-family=\"Times,serif\" font-size=\"14.00\" fill=\"#000000\">gini = 0.469</text>\n",
              "<text text-anchor=\"middle\" x=\"3024.5\" y=\"-527.8\" font-family=\"Times,serif\" font-size=\"14.00\" fill=\"#000000\">samples = 16</text>\n",
              "<text text-anchor=\"middle\" x=\"3024.5\" y=\"-512.8\" font-family=\"Times,serif\" font-size=\"14.00\" fill=\"#000000\">value = [10, 6]</text>\n",
              "</g>\n",
              "<!-- 92&#45;&gt;108 -->\n",
              "<g id=\"edge108\" class=\"edge\">\n",
              "<title>92&#45;&gt;108</title>\n",
              "<path fill=\"none\" stroke=\"#000000\" d=\"M2918.2351,-608.9465C2933.5743,-598.8498 2950.4766,-587.7242 2966.2016,-577.3736\"/>\n",
              "<polygon fill=\"#000000\" stroke=\"#000000\" points=\"2968.3706,-580.1361 2974.7992,-571.7145 2964.5219,-574.2891 2968.3706,-580.1361\"/>\n",
              "</g>\n",
              "<!-- 94 -->\n",
              "<g id=\"node95\" class=\"node\">\n",
              "<title>94</title>\n",
              "<polygon fill=\"#bddef6\" stroke=\"#000000\" points=\"2835,-469 2698,-469 2698,-401 2835,-401 2835,-469\"/>\n",
              "<text text-anchor=\"middle\" x=\"2766.5\" y=\"-453.8\" font-family=\"Times,serif\" font-size=\"14.00\" fill=\"#000000\">Insulin_nan &lt;= 187.0</text>\n",
              "<text text-anchor=\"middle\" x=\"2766.5\" y=\"-438.8\" font-family=\"Times,serif\" font-size=\"14.00\" fill=\"#000000\">gini = 0.48</text>\n",
              "<text text-anchor=\"middle\" x=\"2766.5\" y=\"-423.8\" font-family=\"Times,serif\" font-size=\"14.00\" fill=\"#000000\">samples = 25</text>\n",
              "<text text-anchor=\"middle\" x=\"2766.5\" y=\"-408.8\" font-family=\"Times,serif\" font-size=\"14.00\" fill=\"#000000\">value = [10, 15]</text>\n",
              "</g>\n",
              "<!-- 93&#45;&gt;94 -->\n",
              "<g id=\"edge94\" class=\"edge\">\n",
              "<title>93&#45;&gt;94</title>\n",
              "<path fill=\"none\" stroke=\"#000000\" d=\"M2833.7563,-504.9465C2825.0367,-495.8782 2815.5191,-485.9799 2806.4601,-476.5585\"/>\n",
              "<polygon fill=\"#000000\" stroke=\"#000000\" points=\"2808.7713,-473.9125 2799.3173,-469.13 2803.7255,-478.7642 2808.7713,-473.9125\"/>\n",
              "</g>\n",
              "<!-- 107 -->\n",
              "<g id=\"node108\" class=\"node\">\n",
              "<title>107</title>\n",
              "<polygon fill=\"#399de5\" stroke=\"#000000\" points=\"2952,-461.5 2853,-461.5 2853,-408.5 2952,-408.5 2952,-461.5\"/>\n",
              "<text text-anchor=\"middle\" x=\"2902.5\" y=\"-446.3\" font-family=\"Times,serif\" font-size=\"14.00\" fill=\"#000000\">gini = 0.0</text>\n",
              "<text text-anchor=\"middle\" x=\"2902.5\" y=\"-431.3\" font-family=\"Times,serif\" font-size=\"14.00\" fill=\"#000000\">samples = 15</text>\n",
              "<text text-anchor=\"middle\" x=\"2902.5\" y=\"-416.3\" font-family=\"Times,serif\" font-size=\"14.00\" fill=\"#000000\">value = [0, 15]</text>\n",
              "</g>\n",
              "<!-- 93&#45;&gt;107 -->\n",
              "<g id=\"edge107\" class=\"edge\">\n",
              "<title>93&#45;&gt;107</title>\n",
              "<path fill=\"none\" stroke=\"#000000\" d=\"M2878.2877,-504.9465C2882.0243,-494.1519 2886.168,-482.1813 2889.9558,-471.2389\"/>\n",
              "<polygon fill=\"#000000\" stroke=\"#000000\" points=\"2893.3486,-472.1369 2893.3123,-461.5422 2886.7337,-469.8471 2893.3486,-472.1369\"/>\n",
              "</g>\n",
              "<!-- 95 -->\n",
              "<g id=\"node96\" class=\"node\">\n",
              "<title>95</title>\n",
              "<polygon fill=\"#72b9ec\" stroke=\"#000000\" points=\"2671.5,-365 2525.5,-365 2525.5,-297 2671.5,-297 2671.5,-365\"/>\n",
              "<text text-anchor=\"middle\" x=\"2598.5\" y=\"-349.8\" font-family=\"Times,serif\" font-size=\"14.00\" fill=\"#000000\">SkinThickness &lt;= 21.5</text>\n",
              "<text text-anchor=\"middle\" x=\"2598.5\" y=\"-334.8\" font-family=\"Times,serif\" font-size=\"14.00\" fill=\"#000000\">gini = 0.346</text>\n",
              "<text text-anchor=\"middle\" x=\"2598.5\" y=\"-319.8\" font-family=\"Times,serif\" font-size=\"14.00\" fill=\"#000000\">samples = 18</text>\n",
              "<text text-anchor=\"middle\" x=\"2598.5\" y=\"-304.8\" font-family=\"Times,serif\" font-size=\"14.00\" fill=\"#000000\">value = [4, 14]</text>\n",
              "</g>\n",
              "<!-- 94&#45;&gt;95 -->\n",
              "<g id=\"edge95\" class=\"edge\">\n",
              "<title>94&#45;&gt;95</title>\n",
              "<path fill=\"none\" stroke=\"#000000\" d=\"M2711.4905,-400.9465C2695.8264,-391.2497 2678.6293,-380.6039 2662.4804,-370.6069\"/>\n",
              "<polygon fill=\"#000000\" stroke=\"#000000\" points=\"2663.978,-367.4177 2653.6331,-365.13 2660.2935,-373.3695 2663.978,-367.4177\"/>\n",
              "</g>\n",
              "<!-- 104 -->\n",
              "<g id=\"node105\" class=\"node\">\n",
              "<title>104</title>\n",
              "<polygon fill=\"#e9965a\" stroke=\"#000000\" points=\"2839,-365 2694,-365 2694,-297 2839,-297 2839,-365\"/>\n",
              "<text text-anchor=\"middle\" x=\"2766.5\" y=\"-349.8\" font-family=\"Times,serif\" font-size=\"14.00\" fill=\"#000000\">BloodPressure &lt;= 78.0</text>\n",
              "<text text-anchor=\"middle\" x=\"2766.5\" y=\"-334.8\" font-family=\"Times,serif\" font-size=\"14.00\" fill=\"#000000\">gini = 0.245</text>\n",
              "<text text-anchor=\"middle\" x=\"2766.5\" y=\"-319.8\" font-family=\"Times,serif\" font-size=\"14.00\" fill=\"#000000\">samples = 7</text>\n",
              "<text text-anchor=\"middle\" x=\"2766.5\" y=\"-304.8\" font-family=\"Times,serif\" font-size=\"14.00\" fill=\"#000000\">value = [6, 1]</text>\n",
              "</g>\n",
              "<!-- 94&#45;&gt;104 -->\n",
              "<g id=\"edge104\" class=\"edge\">\n",
              "<title>94&#45;&gt;104</title>\n",
              "<path fill=\"none\" stroke=\"#000000\" d=\"M2766.5,-400.9465C2766.5,-392.776 2766.5,-383.9318 2766.5,-375.3697\"/>\n",
              "<polygon fill=\"#000000\" stroke=\"#000000\" points=\"2770.0001,-375.13 2766.5,-365.13 2763.0001,-375.13 2770.0001,-375.13\"/>\n",
              "</g>\n",
              "<!-- 96 -->\n",
              "<g id=\"node97\" class=\"node\">\n",
              "<title>96</title>\n",
              "<polygon fill=\"#eeab7b\" stroke=\"#000000\" points=\"2521.5,-261 2429.5,-261 2429.5,-193 2521.5,-193 2521.5,-261\"/>\n",
              "<text text-anchor=\"middle\" x=\"2475.5\" y=\"-245.8\" font-family=\"Times,serif\" font-size=\"14.00\" fill=\"#000000\">Age &lt;= 39.0</text>\n",
              "<text text-anchor=\"middle\" x=\"2475.5\" y=\"-230.8\" font-family=\"Times,serif\" font-size=\"14.00\" fill=\"#000000\">gini = 0.375</text>\n",
              "<text text-anchor=\"middle\" x=\"2475.5\" y=\"-215.8\" font-family=\"Times,serif\" font-size=\"14.00\" fill=\"#000000\">samples = 4</text>\n",
              "<text text-anchor=\"middle\" x=\"2475.5\" y=\"-200.8\" font-family=\"Times,serif\" font-size=\"14.00\" fill=\"#000000\">value = [3, 1]</text>\n",
              "</g>\n",
              "<!-- 95&#45;&gt;96 -->\n",
              "<g id=\"edge96\" class=\"edge\">\n",
              "<title>95&#45;&gt;96</title>\n",
              "<path fill=\"none\" stroke=\"#000000\" d=\"M2558.2252,-296.9465C2547.1816,-287.6088 2535.0972,-277.3911 2523.6596,-267.7203\"/>\n",
              "<polygon fill=\"#000000\" stroke=\"#000000\" points=\"2525.7614,-264.914 2515.8653,-261.13 2521.2417,-270.2594 2525.7614,-264.914\"/>\n",
              "</g>\n",
              "<!-- 99 -->\n",
              "<g id=\"node100\" class=\"node\">\n",
              "<title>99</title>\n",
              "<polygon fill=\"#48a5e7\" stroke=\"#000000\" points=\"2648,-261 2549,-261 2549,-193 2648,-193 2648,-261\"/>\n",
              "<text text-anchor=\"middle\" x=\"2598.5\" y=\"-245.8\" font-family=\"Times,serif\" font-size=\"14.00\" fill=\"#000000\">Age &lt;= 29.0</text>\n",
              "<text text-anchor=\"middle\" x=\"2598.5\" y=\"-230.8\" font-family=\"Times,serif\" font-size=\"14.00\" fill=\"#000000\">gini = 0.133</text>\n",
              "<text text-anchor=\"middle\" x=\"2598.5\" y=\"-215.8\" font-family=\"Times,serif\" font-size=\"14.00\" fill=\"#000000\">samples = 14</text>\n",
              "<text text-anchor=\"middle\" x=\"2598.5\" y=\"-200.8\" font-family=\"Times,serif\" font-size=\"14.00\" fill=\"#000000\">value = [1, 13]</text>\n",
              "</g>\n",
              "<!-- 95&#45;&gt;99 -->\n",
              "<g id=\"edge99\" class=\"edge\">\n",
              "<title>95&#45;&gt;99</title>\n",
              "<path fill=\"none\" stroke=\"#000000\" d=\"M2598.5,-296.9465C2598.5,-288.776 2598.5,-279.9318 2598.5,-271.3697\"/>\n",
              "<polygon fill=\"#000000\" stroke=\"#000000\" points=\"2602.0001,-271.13 2598.5,-261.13 2595.0001,-271.13 2602.0001,-271.13\"/>\n",
              "</g>\n",
              "<!-- 97 -->\n",
              "<g id=\"node98\" class=\"node\">\n",
              "<title>97</title>\n",
              "<polygon fill=\"#e58139\" stroke=\"#000000\" points=\"2411.5,-149.5 2319.5,-149.5 2319.5,-96.5 2411.5,-96.5 2411.5,-149.5\"/>\n",
              "<text text-anchor=\"middle\" x=\"2365.5\" y=\"-134.3\" font-family=\"Times,serif\" font-size=\"14.00\" fill=\"#000000\">gini = 0.0</text>\n",
              "<text text-anchor=\"middle\" x=\"2365.5\" y=\"-119.3\" font-family=\"Times,serif\" font-size=\"14.00\" fill=\"#000000\">samples = 3</text>\n",
              "<text text-anchor=\"middle\" x=\"2365.5\" y=\"-104.3\" font-family=\"Times,serif\" font-size=\"14.00\" fill=\"#000000\">value = [3, 0]</text>\n",
              "</g>\n",
              "<!-- 96&#45;&gt;97 -->\n",
              "<g id=\"edge97\" class=\"edge\">\n",
              "<title>96&#45;&gt;97</title>\n",
              "<path fill=\"none\" stroke=\"#000000\" d=\"M2439.4819,-192.9465C2427.1325,-181.2707 2413.3278,-168.219 2401.0183,-156.5809\"/>\n",
              "<polygon fill=\"#000000\" stroke=\"#000000\" points=\"2403.2445,-153.869 2393.5734,-149.5422 2398.4354,-158.9556 2403.2445,-153.869\"/>\n",
              "</g>\n",
              "<!-- 98 -->\n",
              "<g id=\"node99\" class=\"node\">\n",
              "<title>98</title>\n",
              "<polygon fill=\"#399de5\" stroke=\"#000000\" points=\"2521.5,-149.5 2429.5,-149.5 2429.5,-96.5 2521.5,-96.5 2521.5,-149.5\"/>\n",
              "<text text-anchor=\"middle\" x=\"2475.5\" y=\"-134.3\" font-family=\"Times,serif\" font-size=\"14.00\" fill=\"#000000\">gini = 0.0</text>\n",
              "<text text-anchor=\"middle\" x=\"2475.5\" y=\"-119.3\" font-family=\"Times,serif\" font-size=\"14.00\" fill=\"#000000\">samples = 1</text>\n",
              "<text text-anchor=\"middle\" x=\"2475.5\" y=\"-104.3\" font-family=\"Times,serif\" font-size=\"14.00\" fill=\"#000000\">value = [0, 1]</text>\n",
              "</g>\n",
              "<!-- 96&#45;&gt;98 -->\n",
              "<g id=\"edge98\" class=\"edge\">\n",
              "<title>96&#45;&gt;98</title>\n",
              "<path fill=\"none\" stroke=\"#000000\" d=\"M2475.5,-192.9465C2475.5,-182.2621 2475.5,-170.4254 2475.5,-159.5742\"/>\n",
              "<polygon fill=\"#000000\" stroke=\"#000000\" points=\"2479.0001,-159.5421 2475.5,-149.5422 2472.0001,-159.5422 2479.0001,-159.5421\"/>\n",
              "</g>\n",
              "<!-- 100 -->\n",
              "<g id=\"node101\" class=\"node\">\n",
              "<title>100</title>\n",
              "<polygon fill=\"#ffffff\" stroke=\"#000000\" points=\"2657,-157 2540,-157 2540,-89 2657,-89 2657,-157\"/>\n",
              "<text text-anchor=\"middle\" x=\"2598.5\" y=\"-141.8\" font-family=\"Times,serif\" font-size=\"14.00\" fill=\"#000000\">Glucose &lt;= 0.082</text>\n",
              "<text text-anchor=\"middle\" x=\"2598.5\" y=\"-126.8\" font-family=\"Times,serif\" font-size=\"14.00\" fill=\"#000000\">gini = 0.5</text>\n",
              "<text text-anchor=\"middle\" x=\"2598.5\" y=\"-111.8\" font-family=\"Times,serif\" font-size=\"14.00\" fill=\"#000000\">samples = 2</text>\n",
              "<text text-anchor=\"middle\" x=\"2598.5\" y=\"-96.8\" font-family=\"Times,serif\" font-size=\"14.00\" fill=\"#000000\">value = [1, 1]</text>\n",
              "</g>\n",
              "<!-- 99&#45;&gt;100 -->\n",
              "<g id=\"edge100\" class=\"edge\">\n",
              "<title>99&#45;&gt;100</title>\n",
              "<path fill=\"none\" stroke=\"#000000\" d=\"M2598.5,-192.9465C2598.5,-184.776 2598.5,-175.9318 2598.5,-167.3697\"/>\n",
              "<polygon fill=\"#000000\" stroke=\"#000000\" points=\"2602.0001,-167.13 2598.5,-157.13 2595.0001,-167.13 2602.0001,-167.13\"/>\n",
              "</g>\n",
              "<!-- 103 -->\n",
              "<g id=\"node104\" class=\"node\">\n",
              "<title>103</title>\n",
              "<polygon fill=\"#399de5\" stroke=\"#000000\" points=\"2774,-149.5 2675,-149.5 2675,-96.5 2774,-96.5 2774,-149.5\"/>\n",
              "<text text-anchor=\"middle\" x=\"2724.5\" y=\"-134.3\" font-family=\"Times,serif\" font-size=\"14.00\" fill=\"#000000\">gini = 0.0</text>\n",
              "<text text-anchor=\"middle\" x=\"2724.5\" y=\"-119.3\" font-family=\"Times,serif\" font-size=\"14.00\" fill=\"#000000\">samples = 12</text>\n",
              "<text text-anchor=\"middle\" x=\"2724.5\" y=\"-104.3\" font-family=\"Times,serif\" font-size=\"14.00\" fill=\"#000000\">value = [0, 12]</text>\n",
              "</g>\n",
              "<!-- 99&#45;&gt;103 -->\n",
              "<g id=\"edge103\" class=\"edge\">\n",
              "<title>99&#45;&gt;103</title>\n",
              "<path fill=\"none\" stroke=\"#000000\" d=\"M2639.7571,-192.9465C2654.1697,-181.0504 2670.3127,-167.726 2684.6117,-155.9237\"/>\n",
              "<polygon fill=\"#000000\" stroke=\"#000000\" points=\"2686.8589,-158.6071 2692.3431,-149.5422 2682.4029,-153.2086 2686.8589,-158.6071\"/>\n",
              "</g>\n",
              "<!-- 101 -->\n",
              "<g id=\"node102\" class=\"node\">\n",
              "<title>101</title>\n",
              "<polygon fill=\"#e58139\" stroke=\"#000000\" points=\"2589.5,-53 2497.5,-53 2497.5,0 2589.5,0 2589.5,-53\"/>\n",
              "<text text-anchor=\"middle\" x=\"2543.5\" y=\"-37.8\" font-family=\"Times,serif\" font-size=\"14.00\" fill=\"#000000\">gini = 0.0</text>\n",
              "<text text-anchor=\"middle\" x=\"2543.5\" y=\"-22.8\" font-family=\"Times,serif\" font-size=\"14.00\" fill=\"#000000\">samples = 1</text>\n",
              "<text text-anchor=\"middle\" x=\"2543.5\" y=\"-7.8\" font-family=\"Times,serif\" font-size=\"14.00\" fill=\"#000000\">value = [1, 0]</text>\n",
              "</g>\n",
              "<!-- 100&#45;&gt;101 -->\n",
              "<g id=\"edge101\" class=\"edge\">\n",
              "<title>100&#45;&gt;101</title>\n",
              "<path fill=\"none\" stroke=\"#000000\" d=\"M2579.1091,-88.9777C2574.151,-80.2786 2568.8067,-70.9018 2563.8042,-62.1247\"/>\n",
              "<polygon fill=\"#000000\" stroke=\"#000000\" points=\"2566.7378,-60.2033 2558.7452,-53.2485 2560.6562,-63.6696 2566.7378,-60.2033\"/>\n",
              "</g>\n",
              "<!-- 102 -->\n",
              "<g id=\"node103\" class=\"node\">\n",
              "<title>102</title>\n",
              "<polygon fill=\"#399de5\" stroke=\"#000000\" points=\"2699.5,-53 2607.5,-53 2607.5,0 2699.5,0 2699.5,-53\"/>\n",
              "<text text-anchor=\"middle\" x=\"2653.5\" y=\"-37.8\" font-family=\"Times,serif\" font-size=\"14.00\" fill=\"#000000\">gini = 0.0</text>\n",
              "<text text-anchor=\"middle\" x=\"2653.5\" y=\"-22.8\" font-family=\"Times,serif\" font-size=\"14.00\" fill=\"#000000\">samples = 1</text>\n",
              "<text text-anchor=\"middle\" x=\"2653.5\" y=\"-7.8\" font-family=\"Times,serif\" font-size=\"14.00\" fill=\"#000000\">value = [0, 1]</text>\n",
              "</g>\n",
              "<!-- 100&#45;&gt;102 -->\n",
              "<g id=\"edge102\" class=\"edge\">\n",
              "<title>100&#45;&gt;102</title>\n",
              "<path fill=\"none\" stroke=\"#000000\" d=\"M2617.8909,-88.9777C2622.849,-80.2786 2628.1933,-70.9018 2633.1958,-62.1247\"/>\n",
              "<polygon fill=\"#000000\" stroke=\"#000000\" points=\"2636.3438,-63.6696 2638.2548,-53.2485 2630.2622,-60.2033 2636.3438,-63.6696\"/>\n",
              "</g>\n",
              "<!-- 105 -->\n",
              "<g id=\"node106\" class=\"node\">\n",
              "<title>105</title>\n",
              "<polygon fill=\"#e58139\" stroke=\"#000000\" points=\"2758.5,-253.5 2666.5,-253.5 2666.5,-200.5 2758.5,-200.5 2758.5,-253.5\"/>\n",
              "<text text-anchor=\"middle\" x=\"2712.5\" y=\"-238.3\" font-family=\"Times,serif\" font-size=\"14.00\" fill=\"#000000\">gini = 0.0</text>\n",
              "<text text-anchor=\"middle\" x=\"2712.5\" y=\"-223.3\" font-family=\"Times,serif\" font-size=\"14.00\" fill=\"#000000\">samples = 6</text>\n",
              "<text text-anchor=\"middle\" x=\"2712.5\" y=\"-208.3\" font-family=\"Times,serif\" font-size=\"14.00\" fill=\"#000000\">value = [6, 0]</text>\n",
              "</g>\n",
              "<!-- 104&#45;&gt;105 -->\n",
              "<g id=\"edge105\" class=\"edge\">\n",
              "<title>104&#45;&gt;105</title>\n",
              "<path fill=\"none\" stroke=\"#000000\" d=\"M2748.8184,-296.9465C2743.0991,-285.9316 2736.744,-273.6922 2730.9692,-262.5703\"/>\n",
              "<polygon fill=\"#000000\" stroke=\"#000000\" points=\"2733.996,-260.8043 2726.2815,-253.5422 2727.7835,-264.03 2733.996,-260.8043\"/>\n",
              "</g>\n",
              "<!-- 106 -->\n",
              "<g id=\"node107\" class=\"node\">\n",
              "<title>106</title>\n",
              "<polygon fill=\"#399de5\" stroke=\"#000000\" points=\"2868.5,-253.5 2776.5,-253.5 2776.5,-200.5 2868.5,-200.5 2868.5,-253.5\"/>\n",
              "<text text-anchor=\"middle\" x=\"2822.5\" y=\"-238.3\" font-family=\"Times,serif\" font-size=\"14.00\" fill=\"#000000\">gini = 0.0</text>\n",
              "<text text-anchor=\"middle\" x=\"2822.5\" y=\"-223.3\" font-family=\"Times,serif\" font-size=\"14.00\" fill=\"#000000\">samples = 1</text>\n",
              "<text text-anchor=\"middle\" x=\"2822.5\" y=\"-208.3\" font-family=\"Times,serif\" font-size=\"14.00\" fill=\"#000000\">value = [0, 1]</text>\n",
              "</g>\n",
              "<!-- 104&#45;&gt;106 -->\n",
              "<g id=\"edge106\" class=\"edge\">\n",
              "<title>104&#45;&gt;106</title>\n",
              "<path fill=\"none\" stroke=\"#000000\" d=\"M2784.8365,-296.9465C2790.7676,-285.9316 2797.3581,-273.6922 2803.3468,-262.5703\"/>\n",
              "<polygon fill=\"#000000\" stroke=\"#000000\" points=\"2806.5487,-264.0063 2808.2081,-253.5422 2800.3854,-260.6875 2806.5487,-264.0063\"/>\n",
              "</g>\n",
              "<!-- 109 -->\n",
              "<g id=\"node110\" class=\"node\">\n",
              "<title>109</title>\n",
              "<polygon fill=\"#eb9d65\" stroke=\"#000000\" points=\"3070.5,-469 2978.5,-469 2978.5,-401 3070.5,-401 3070.5,-469\"/>\n",
              "<text text-anchor=\"middle\" x=\"3024.5\" y=\"-453.8\" font-family=\"Times,serif\" font-size=\"14.00\" fill=\"#000000\">Age &lt;= 29.5</text>\n",
              "<text text-anchor=\"middle\" x=\"3024.5\" y=\"-438.8\" font-family=\"Times,serif\" font-size=\"14.00\" fill=\"#000000\">gini = 0.298</text>\n",
              "<text text-anchor=\"middle\" x=\"3024.5\" y=\"-423.8\" font-family=\"Times,serif\" font-size=\"14.00\" fill=\"#000000\">samples = 11</text>\n",
              "<text text-anchor=\"middle\" x=\"3024.5\" y=\"-408.8\" font-family=\"Times,serif\" font-size=\"14.00\" fill=\"#000000\">value = [9, 2]</text>\n",
              "</g>\n",
              "<!-- 108&#45;&gt;109 -->\n",
              "<g id=\"edge109\" class=\"edge\">\n",
              "<title>108&#45;&gt;109</title>\n",
              "<path fill=\"none\" stroke=\"#000000\" d=\"M3024.5,-504.9465C3024.5,-496.776 3024.5,-487.9318 3024.5,-479.3697\"/>\n",
              "<polygon fill=\"#000000\" stroke=\"#000000\" points=\"3028.0001,-479.13 3024.5,-469.13 3021.0001,-479.13 3028.0001,-479.13\"/>\n",
              "</g>\n",
              "<!-- 114 -->\n",
              "<g id=\"node115\" class=\"node\">\n",
              "<title>114</title>\n",
              "<polygon fill=\"#6ab6ec\" stroke=\"#000000\" points=\"3238,-469 3093,-469 3093,-401 3238,-401 3238,-469\"/>\n",
              "<text text-anchor=\"middle\" x=\"3165.5\" y=\"-453.8\" font-family=\"Times,serif\" font-size=\"14.00\" fill=\"#000000\">BloodPressure &lt;= 87.0</text>\n",
              "<text text-anchor=\"middle\" x=\"3165.5\" y=\"-438.8\" font-family=\"Times,serif\" font-size=\"14.00\" fill=\"#000000\">gini = 0.32</text>\n",
              "<text text-anchor=\"middle\" x=\"3165.5\" y=\"-423.8\" font-family=\"Times,serif\" font-size=\"14.00\" fill=\"#000000\">samples = 5</text>\n",
              "<text text-anchor=\"middle\" x=\"3165.5\" y=\"-408.8\" font-family=\"Times,serif\" font-size=\"14.00\" fill=\"#000000\">value = [1, 4]</text>\n",
              "</g>\n",
              "<!-- 108&#45;&gt;114 -->\n",
              "<g id=\"edge114\" class=\"edge\">\n",
              "<title>108&#45;&gt;114</title>\n",
              "<path fill=\"none\" stroke=\"#000000\" d=\"M3070.6687,-504.9465C3083.5719,-495.4293 3097.7145,-484.9978 3111.0483,-475.163\"/>\n",
              "<polygon fill=\"#000000\" stroke=\"#000000\" points=\"3113.2575,-477.8826 3119.2276,-469.13 3109.1023,-472.2492 3113.2575,-477.8826\"/>\n",
              "</g>\n",
              "<!-- 110 -->\n",
              "<g id=\"node111\" class=\"node\">\n",
              "<title>110</title>\n",
              "<polygon fill=\"#9ccef2\" stroke=\"#000000\" points=\"2991,-365 2874,-365 2874,-297 2991,-297 2991,-365\"/>\n",
              "<text text-anchor=\"middle\" x=\"2932.5\" y=\"-349.8\" font-family=\"Times,serif\" font-size=\"14.00\" fill=\"#000000\">Glucose &lt;= 0.144</text>\n",
              "<text text-anchor=\"middle\" x=\"2932.5\" y=\"-334.8\" font-family=\"Times,serif\" font-size=\"14.00\" fill=\"#000000\">gini = 0.444</text>\n",
              "<text text-anchor=\"middle\" x=\"2932.5\" y=\"-319.8\" font-family=\"Times,serif\" font-size=\"14.00\" fill=\"#000000\">samples = 3</text>\n",
              "<text text-anchor=\"middle\" x=\"2932.5\" y=\"-304.8\" font-family=\"Times,serif\" font-size=\"14.00\" fill=\"#000000\">value = [1, 2]</text>\n",
              "</g>\n",
              "<!-- 109&#45;&gt;110 -->\n",
              "<g id=\"edge110\" class=\"edge\">\n",
              "<title>109&#45;&gt;110</title>\n",
              "<path fill=\"none\" stroke=\"#000000\" d=\"M2994.3758,-400.9465C2986.4332,-391.968 2977.7709,-382.1758 2969.511,-372.8385\"/>\n",
              "<polygon fill=\"#000000\" stroke=\"#000000\" points=\"2971.9392,-370.301 2962.6919,-365.13 2966.6962,-374.939 2971.9392,-370.301\"/>\n",
              "</g>\n",
              "<!-- 113 -->\n",
              "<g id=\"node114\" class=\"node\">\n",
              "<title>113</title>\n",
              "<polygon fill=\"#e58139\" stroke=\"#000000\" points=\"3101.5,-357.5 3009.5,-357.5 3009.5,-304.5 3101.5,-304.5 3101.5,-357.5\"/>\n",
              "<text text-anchor=\"middle\" x=\"3055.5\" y=\"-342.3\" font-family=\"Times,serif\" font-size=\"14.00\" fill=\"#000000\">gini = 0.0</text>\n",
              "<text text-anchor=\"middle\" x=\"3055.5\" y=\"-327.3\" font-family=\"Times,serif\" font-size=\"14.00\" fill=\"#000000\">samples = 8</text>\n",
              "<text text-anchor=\"middle\" x=\"3055.5\" y=\"-312.3\" font-family=\"Times,serif\" font-size=\"14.00\" fill=\"#000000\">value = [8, 0]</text>\n",
              "</g>\n",
              "<!-- 109&#45;&gt;113 -->\n",
              "<g id=\"edge113\" class=\"edge\">\n",
              "<title>109&#45;&gt;113</title>\n",
              "<path fill=\"none\" stroke=\"#000000\" d=\"M3034.6506,-400.9465C3037.8682,-390.1519 3041.4364,-378.1813 3044.698,-367.2389\"/>\n",
              "<polygon fill=\"#000000\" stroke=\"#000000\" points=\"3048.0859,-368.1253 3047.5884,-357.5422 3041.3776,-366.1257 3048.0859,-368.1253\"/>\n",
              "</g>\n",
              "<!-- 111 -->\n",
              "<g id=\"node112\" class=\"node\">\n",
              "<title>111</title>\n",
              "<polygon fill=\"#e58139\" stroke=\"#000000\" points=\"2978.5,-253.5 2886.5,-253.5 2886.5,-200.5 2978.5,-200.5 2978.5,-253.5\"/>\n",
              "<text text-anchor=\"middle\" x=\"2932.5\" y=\"-238.3\" font-family=\"Times,serif\" font-size=\"14.00\" fill=\"#000000\">gini = 0.0</text>\n",
              "<text text-anchor=\"middle\" x=\"2932.5\" y=\"-223.3\" font-family=\"Times,serif\" font-size=\"14.00\" fill=\"#000000\">samples = 1</text>\n",
              "<text text-anchor=\"middle\" x=\"2932.5\" y=\"-208.3\" font-family=\"Times,serif\" font-size=\"14.00\" fill=\"#000000\">value = [1, 0]</text>\n",
              "</g>\n",
              "<!-- 110&#45;&gt;111 -->\n",
              "<g id=\"edge111\" class=\"edge\">\n",
              "<title>110&#45;&gt;111</title>\n",
              "<path fill=\"none\" stroke=\"#000000\" d=\"M2932.5,-296.9465C2932.5,-286.2621 2932.5,-274.4254 2932.5,-263.5742\"/>\n",
              "<polygon fill=\"#000000\" stroke=\"#000000\" points=\"2936.0001,-263.5421 2932.5,-253.5422 2929.0001,-263.5422 2936.0001,-263.5421\"/>\n",
              "</g>\n",
              "<!-- 112 -->\n",
              "<g id=\"node113\" class=\"node\">\n",
              "<title>112</title>\n",
              "<polygon fill=\"#399de5\" stroke=\"#000000\" points=\"3088.5,-253.5 2996.5,-253.5 2996.5,-200.5 3088.5,-200.5 3088.5,-253.5\"/>\n",
              "<text text-anchor=\"middle\" x=\"3042.5\" y=\"-238.3\" font-family=\"Times,serif\" font-size=\"14.00\" fill=\"#000000\">gini = 0.0</text>\n",
              "<text text-anchor=\"middle\" x=\"3042.5\" y=\"-223.3\" font-family=\"Times,serif\" font-size=\"14.00\" fill=\"#000000\">samples = 2</text>\n",
              "<text text-anchor=\"middle\" x=\"3042.5\" y=\"-208.3\" font-family=\"Times,serif\" font-size=\"14.00\" fill=\"#000000\">value = [0, 2]</text>\n",
              "</g>\n",
              "<!-- 110&#45;&gt;112 -->\n",
              "<g id=\"edge112\" class=\"edge\">\n",
              "<title>110&#45;&gt;112</title>\n",
              "<path fill=\"none\" stroke=\"#000000\" d=\"M2968.5181,-296.9465C2980.8675,-285.2707 2994.6722,-272.219 3006.9817,-260.5809\"/>\n",
              "<polygon fill=\"#000000\" stroke=\"#000000\" points=\"3009.5646,-262.9556 3014.4266,-253.5422 3004.7555,-257.869 3009.5646,-262.9556\"/>\n",
              "</g>\n",
              "<!-- 115 -->\n",
              "<g id=\"node116\" class=\"node\">\n",
              "<title>115</title>\n",
              "<polygon fill=\"#399de5\" stroke=\"#000000\" points=\"3211.5,-357.5 3119.5,-357.5 3119.5,-304.5 3211.5,-304.5 3211.5,-357.5\"/>\n",
              "<text text-anchor=\"middle\" x=\"3165.5\" y=\"-342.3\" font-family=\"Times,serif\" font-size=\"14.00\" fill=\"#000000\">gini = 0.0</text>\n",
              "<text text-anchor=\"middle\" x=\"3165.5\" y=\"-327.3\" font-family=\"Times,serif\" font-size=\"14.00\" fill=\"#000000\">samples = 4</text>\n",
              "<text text-anchor=\"middle\" x=\"3165.5\" y=\"-312.3\" font-family=\"Times,serif\" font-size=\"14.00\" fill=\"#000000\">value = [0, 4]</text>\n",
              "</g>\n",
              "<!-- 114&#45;&gt;115 -->\n",
              "<g id=\"edge115\" class=\"edge\">\n",
              "<title>114&#45;&gt;115</title>\n",
              "<path fill=\"none\" stroke=\"#000000\" d=\"M3165.5,-400.9465C3165.5,-390.2621 3165.5,-378.4254 3165.5,-367.5742\"/>\n",
              "<polygon fill=\"#000000\" stroke=\"#000000\" points=\"3169.0001,-367.5421 3165.5,-357.5422 3162.0001,-367.5422 3169.0001,-367.5421\"/>\n",
              "</g>\n",
              "<!-- 116 -->\n",
              "<g id=\"node117\" class=\"node\">\n",
              "<title>116</title>\n",
              "<polygon fill=\"#e58139\" stroke=\"#000000\" points=\"3321.5,-357.5 3229.5,-357.5 3229.5,-304.5 3321.5,-304.5 3321.5,-357.5\"/>\n",
              "<text text-anchor=\"middle\" x=\"3275.5\" y=\"-342.3\" font-family=\"Times,serif\" font-size=\"14.00\" fill=\"#000000\">gini = 0.0</text>\n",
              "<text text-anchor=\"middle\" x=\"3275.5\" y=\"-327.3\" font-family=\"Times,serif\" font-size=\"14.00\" fill=\"#000000\">samples = 1</text>\n",
              "<text text-anchor=\"middle\" x=\"3275.5\" y=\"-312.3\" font-family=\"Times,serif\" font-size=\"14.00\" fill=\"#000000\">value = [1, 0]</text>\n",
              "</g>\n",
              "<!-- 114&#45;&gt;116 -->\n",
              "<g id=\"edge116\" class=\"edge\">\n",
              "<title>114&#45;&gt;116</title>\n",
              "<path fill=\"none\" stroke=\"#000000\" d=\"M3201.5181,-400.9465C3213.8675,-389.2707 3227.6722,-376.219 3239.9817,-364.5809\"/>\n",
              "<polygon fill=\"#000000\" stroke=\"#000000\" points=\"3242.5646,-366.9556 3247.4266,-357.5422 3237.7555,-361.869 3242.5646,-366.9556\"/>\n",
              "</g>\n",
              "<!-- 119 -->\n",
              "<g id=\"node120\" class=\"node\">\n",
              "<title>119</title>\n",
              "<polygon fill=\"#399de5\" stroke=\"#000000\" points=\"3169,-669.5 3070,-669.5 3070,-616.5 3169,-616.5 3169,-669.5\"/>\n",
              "<text text-anchor=\"middle\" x=\"3119.5\" y=\"-654.3\" font-family=\"Times,serif\" font-size=\"14.00\" fill=\"#000000\">gini = 0.0</text>\n",
              "<text text-anchor=\"middle\" x=\"3119.5\" y=\"-639.3\" font-family=\"Times,serif\" font-size=\"14.00\" fill=\"#000000\">samples = 34</text>\n",
              "<text text-anchor=\"middle\" x=\"3119.5\" y=\"-624.3\" font-family=\"Times,serif\" font-size=\"14.00\" fill=\"#000000\">value = [0, 34]</text>\n",
              "</g>\n",
              "<!-- 118&#45;&gt;119 -->\n",
              "<g id=\"edge119\" class=\"edge\">\n",
              "<title>118&#45;&gt;119</title>\n",
              "<path fill=\"none\" stroke=\"#000000\" d=\"M3119.5,-712.9465C3119.5,-702.2621 3119.5,-690.4254 3119.5,-679.5742\"/>\n",
              "<polygon fill=\"#000000\" stroke=\"#000000\" points=\"3123.0001,-679.5421 3119.5,-669.5422 3116.0001,-679.5422 3123.0001,-679.5421\"/>\n",
              "</g>\n",
              "<!-- 120 -->\n",
              "<g id=\"node121\" class=\"node\">\n",
              "<title>120</title>\n",
              "<polygon fill=\"#e58139\" stroke=\"#000000\" points=\"3279.5,-669.5 3187.5,-669.5 3187.5,-616.5 3279.5,-616.5 3279.5,-669.5\"/>\n",
              "<text text-anchor=\"middle\" x=\"3233.5\" y=\"-654.3\" font-family=\"Times,serif\" font-size=\"14.00\" fill=\"#000000\">gini = 0.0</text>\n",
              "<text text-anchor=\"middle\" x=\"3233.5\" y=\"-639.3\" font-family=\"Times,serif\" font-size=\"14.00\" fill=\"#000000\">samples = 1</text>\n",
              "<text text-anchor=\"middle\" x=\"3233.5\" y=\"-624.3\" font-family=\"Times,serif\" font-size=\"14.00\" fill=\"#000000\">value = [1, 0]</text>\n",
              "</g>\n",
              "<!-- 118&#45;&gt;120 -->\n",
              "<g id=\"edge120\" class=\"edge\">\n",
              "<title>118&#45;&gt;120</title>\n",
              "<path fill=\"none\" stroke=\"#000000\" d=\"M3156.8279,-712.9465C3169.6263,-701.2707 3183.933,-688.219 3196.6901,-676.5809\"/>\n",
              "<polygon fill=\"#000000\" stroke=\"#000000\" points=\"3199.3769,-678.8675 3204.4057,-669.5422 3194.6591,-673.6961 3199.3769,-678.8675\"/>\n",
              "</g>\n",
              "</g>\n",
              "</svg>\n"
            ],
            "text/plain": [
              "<graphviz.sources.Source at 0x7fd5f88a3490>"
            ]
          },
          "execution_count": 329,
          "metadata": {},
          "output_type": "execute_result"
        }
      ],
      "source": [
        "# graphviz 를 통해 시각화하기\n",
        "# graphviz 와 파이썬에서 graphviz 를 사용할 수 있게 해주는 도구 2가지를 설치해주어야함.\n",
        "\n",
        "import graphviz\n",
        "from sklearn.tree import export_graphviz\n",
        "\n",
        "dot_tree = export_graphviz(model,\n",
        "                           feature_names = feature_names,\n",
        "                           filled=True)\n",
        "graphviz.Source(dot_tree)"
      ]
    },
    {
      "cell_type": "code",
      "execution_count": null,
      "id": "0dbdfe44",
      "metadata": {
        "id": "0dbdfe44",
        "outputId": "be981a29-46d0-4762-f8a1-61cb120c8ec2"
      },
      "outputs": [
        {
          "data": {
            "text/plain": [
              "array([0.08429577, 0.0174412 , 0.09525366, 0.09044522, 0.04648602,\n",
              "       0.08718957, 0.        , 0.57888857, 0.        ])"
            ]
          },
          "execution_count": 330,
          "metadata": {},
          "output_type": "execute_result"
        }
      ],
      "source": [
        "# feature의 중요도를 추출하기\n",
        "\n",
        "model.feature_importances_"
      ]
    },
    {
      "cell_type": "code",
      "execution_count": null,
      "id": "d5fdcc42",
      "metadata": {
        "id": "d5fdcc42",
        "outputId": "892ba390-e35d-4b49-e096-f634cc42e565"
      },
      "outputs": [
        {
          "data": {
            "text/plain": [
              "<AxesSubplot:>"
            ]
          },
          "execution_count": 331,
          "metadata": {},
          "output_type": "execute_result"
        },
        {
          "data": {
            "image/png": "[encoded data removed]",
            "text/plain": [
              "<Figure size 432x288 with 1 Axes>"
            ]
          },
          "metadata": {
            "needs_background": "light"
          },
          "output_type": "display_data"
        }
      ],
      "source": [
        "# feature의 중요도 시각화 하기\n",
        "\n",
        "sns.barplot(x=model.feature_importances_, y=feature_names)"
      ]
    },
    {
      "cell_type": "markdown",
      "id": "02c1ffee",
      "metadata": {
        "id": "02c1ffee"
      },
      "source": [
        "## 정확도 측정하기"
      ]
    },
    {
      "cell_type": "code",
      "execution_count": null,
      "id": "c0e111bf",
      "metadata": {
        "id": "c0e111bf",
        "outputId": "7ad647f1-cbf8-4760-8b9b-e710ac5e01dd"
      },
      "outputs": [
        {
          "data": {
            "text/plain": [
              "614    0\n",
              "615    0\n",
              "616    0\n",
              "617    0\n",
              "618    0\n",
              "      ..\n",
              "763    1\n",
              "764    0\n",
              "765    0\n",
              "766    0\n",
              "767    0\n",
              "Name: Outcome, Length: 154, dtype: int64"
            ]
          },
          "execution_count": 332,
          "metadata": {},
          "output_type": "execute_result"
        }
      ],
      "source": [
        "# 실제값 - 예측값 해보기\n",
        "# 만약 0이 나온다면 실제값 = 예측값 인 것\n",
        "\n",
        "abs(y_test - y_predict)"
      ]
    },
    {
      "cell_type": "code",
      "execution_count": null,
      "id": "f9675b8d",
      "metadata": {
        "id": "f9675b8d",
        "outputId": "34faac13-ff0c-4a55-dd2e-d41e46e30dc0"
      },
      "outputs": [
        {
          "data": {
            "text/plain": [
              "0.13636363636363635"
            ]
          },
          "execution_count": 333,
          "metadata": {},
          "output_type": "execute_result"
        }
      ],
      "source": [
        "abs(y_test - y_predict).sum() / len(y_test)"
      ]
    },
    {
      "cell_type": "markdown",
      "id": "8bd745be",
      "metadata": {
        "id": "8bd745be"
      },
      "source": [
        "` ex) 0.28 정도를 잘못 예측했다고 볼 수 있다.(위의 코드 결과에서 0.**) `"
      ]
    },
    {
      "cell_type": "markdown",
      "id": "0418e96a",
      "metadata": {
        "id": "0418e96a"
      },
      "source": [
        "* 범주형 데이터로 바꾸면서의 틀린 개수 변화\n",
        "\n",
        "    - 1주차 -> \"Pregnancies\"범주화 -> \"Age\"원핫인코딩 -> 인슐린 결측치 채우기\n",
        "    \n",
        "          : 43 -> 37 -> 51(나이 25세 기준)\n",
        "                          -> 55(나이 30세 기준)  -> 24"
      ]
    },
    {
      "cell_type": "code",
      "execution_count": null,
      "id": "6a9bdf67",
      "metadata": {
        "id": "6a9bdf67",
        "outputId": "c3f904db-3824-487b-8806-782c2488d2fa"
      },
      "outputs": [
        {
          "data": {
            "text/plain": [
              "21"
            ]
          },
          "execution_count": 334,
          "metadata": {},
          "output_type": "execute_result"
        }
      ],
      "source": [
        "diff_count = abs(y_test - y_predict).sum()\n",
        "diff_count"
      ]
    },
    {
      "cell_type": "code",
      "execution_count": null,
      "id": "8550157f",
      "metadata": {
        "id": "8550157f",
        "outputId": "c3049add-3773-425c-bf93-0de3188e63ad"
      },
      "outputs": [
        {
          "data": {
            "text/plain": [
              "86.36363636363636"
            ]
          },
          "execution_count": 335,
          "metadata": {},
          "output_type": "execute_result"
        }
      ],
      "source": [
        "# 예측의 정확도 구하기. 100점 만점 중에 몇 점을 맞았는가?\n",
        "\n",
        "(len(y_test) - diff_count) / len(y_test) * 100"
      ]
    },
    {
      "cell_type": "code",
      "execution_count": null,
      "id": "47f6ef43",
      "metadata": {
        "id": "47f6ef43",
        "outputId": "027ad5fc-c95c-440c-b23a-78c13f3f2997"
      },
      "outputs": [
        {
          "data": {
            "text/plain": [
              "86.36363636363636"
            ]
          },
          "execution_count": 336,
          "metadata": {},
          "output_type": "execute_result"
        }
      ],
      "source": [
        "# 위의 방법말고 알고리즘 사용해보기\n",
        "\n",
        "from sklearn.metrics import accuracy_score\n",
        "\n",
        "accuracy_score(y_test, y_predict) * 100"
      ]
    },
    {
      "cell_type": "code",
      "execution_count": null,
      "id": "96c3c186",
      "metadata": {
        "id": "96c3c186",
        "outputId": "05bd9530-3499-424a-fa7a-bbde44838e6e"
      },
      "outputs": [
        {
          "data": {
            "text/plain": [
              "86.36363636363636"
            ]
          },
          "execution_count": 337,
          "metadata": {},
          "output_type": "execute_result"
        }
      ],
      "source": [
        "# model의 score로 점수 계산\n",
        "\n",
        "model.score(X_test,y_test) * 100"
      ]
    },
    {
      "cell_type": "code",
      "execution_count": null,
      "id": "3ce6d0b0",
      "metadata": {
        "id": "3ce6d0b0"
      },
      "outputs": [],
      "source": []
    }
  ],
  "metadata": {
    "kernelspec": {
      "display_name": "Python 3",
      "language": "python",
      "name": "python3"
    },
    "language_info": {
      "codemirror_mode": {
        "name": "ipython",
        "version": 3
      },
      "file_extension": ".py",
      "mimetype": "text/x-python",
      "name": "python",
      "nbconvert_exporter": "python",
      "pygments_lexer": "ipython3",
      "version": "3.8.2"
    },
    "toc": {
      "base_numbering": 1,
      "nav_menu": {},
      "number_sections": true,
      "sideBar": true,
      "skip_h1_title": false,
      "title_cell": "Table of Contents",
      "title_sidebar": "Contents",
      "toc_cell": false,
      "toc_position": {},
      "toc_section_display": true,
      "toc_window_display": true
    },
    "colab": {
      "provenance": []
    }
  },
  "nbformat": 4,
  "nbformat_minor": 5
}